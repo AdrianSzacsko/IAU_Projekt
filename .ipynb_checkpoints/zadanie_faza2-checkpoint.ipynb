{
 "cells": [
  {
   "cell_type": "code",
   "execution_count": 566,
   "metadata": {
    "pycharm": {
     "name": "#%%\n"
    }
   },
   "outputs": [],
   "source": [
    "import numpy as np\n",
    "import math as math\n",
    "import scipy as sc\n",
    "import pandas as pd\n",
    "import matplotlib as mt\n",
    "import matplotlib.pyplot as plt\n",
    "import seaborn as sns\n",
    "#import sklearn as sk\n",
    "from sklearn.impute import SimpleImputer, KNNImputer"
   ]
  },
  {
   "cell_type": "markdown",
   "metadata": {},
   "source": [
    "# Fáza 2\n",
    "\n",
    "Z fázy 1 sme presunuli odstránenie a výmenu vychýlených hodnôt do fázy 2."
   ]
  },
  {
   "cell_type": "code",
   "execution_count": 567,
   "metadata": {
    "pycharm": {
     "name": "#%%\n"
    }
   },
   "outputs": [],
   "source": [
    "dataset = pd.read_csv(\"faza1/labor.csv\", delimiter=\",\")\n",
    "dataprofiles = pd.read_csv(\"faza1/profiles.csv\", delimiter=\",\")\n",
    "\n",
    "dataset.drop(dataset.columns[0], axis=1, inplace=True)\n",
    "dataprofiles.drop(dataprofiles.columns[0], axis=1, inplace=True)"
   ]
  },
  {
   "cell_type": "markdown",
   "metadata": {},
   "source": [
    "## 1. Integrácia a čistenie dát"
   ]
  },
  {
   "cell_type": "markdown",
   "metadata": {},
   "source": [
    "### Skúšanie rôznych stratégií pre vyriešenie problému chýbajúcich hodnôt\n",
    "\n",
    "#### Odstránenie pozorovaní s chýbajúcimi údajmi"
   ]
  },
  {
   "cell_type": "markdown",
   "metadata": {},
   "source": [
    "Teraz pristúpime k odstráneniu chýbajúcich hodnôt."
   ]
  },
  {
   "cell_type": "code",
   "execution_count": 568,
   "metadata": {
    "pycharm": {
     "name": "#%%\n"
    }
   },
   "outputs": [
    {
     "name": "stdout",
     "output_type": "stream",
     "text": [
      "<class 'pandas.core.frame.DataFrame'>\n",
      "RangeIndex: 10039 entries, 0 to 10038\n",
      "Data columns (total 17 columns):\n",
      " #   Column        Non-Null Count  Dtype  \n",
      "---  ------        --------------  -----  \n",
      " 0   name          10039 non-null  object \n",
      " 1   hematokrit    10008 non-null  float64\n",
      " 2   smoker        10039 non-null  int64  \n",
      " 3   leukocyty     10009 non-null  float64\n",
      " 4   relationship  10039 non-null  object \n",
      " 5   ssn           10039 non-null  object \n",
      " 6   alt           10009 non-null  float64\n",
      " 7   weight        10039 non-null  float64\n",
      " 8   erytrocyty    10009 non-null  float64\n",
      " 9   alp           10008 non-null  float64\n",
      " 10  ast           10009 non-null  float64\n",
      " 11  er-cv         10009 non-null  float64\n",
      " 12  etytr         10008 non-null  float64\n",
      " 13  hemoglobin    10009 non-null  float64\n",
      " 14  trombocyty    10009 non-null  float64\n",
      " 15  indicator     10039 non-null  float64\n",
      " 16  hbver         10009 non-null  float64\n",
      "dtypes: float64(13), int64(1), object(3)\n",
      "memory usage: 1.3+ MB\n"
     ]
    }
   ],
   "source": [
    "dataset.info()"
   ]
  },
  {
   "cell_type": "code",
   "execution_count": 569,
   "metadata": {
    "pycharm": {
     "name": "#%%\n"
    }
   },
   "outputs": [
    {
     "name": "stdout",
     "output_type": "stream",
     "text": [
      "<class 'pandas.core.frame.DataFrame'>\n",
      "Int64Index: 9713 entries, 0 to 10038\n",
      "Data columns (total 17 columns):\n",
      " #   Column        Non-Null Count  Dtype  \n",
      "---  ------        --------------  -----  \n",
      " 0   name          9713 non-null   object \n",
      " 1   hematokrit    9713 non-null   float64\n",
      " 2   smoker        9713 non-null   int64  \n",
      " 3   leukocyty     9713 non-null   float64\n",
      " 4   relationship  9713 non-null   object \n",
      " 5   ssn           9713 non-null   object \n",
      " 6   alt           9713 non-null   float64\n",
      " 7   weight        9713 non-null   float64\n",
      " 8   erytrocyty    9713 non-null   float64\n",
      " 9   alp           9713 non-null   float64\n",
      " 10  ast           9713 non-null   float64\n",
      " 11  er-cv         9713 non-null   float64\n",
      " 12  etytr         9713 non-null   float64\n",
      " 13  hemoglobin    9713 non-null   float64\n",
      " 14  trombocyty    9713 non-null   float64\n",
      " 15  indicator     9713 non-null   float64\n",
      " 16  hbver         9713 non-null   float64\n",
      "dtypes: float64(13), int64(1), object(3)\n",
      "memory usage: 1.3+ MB\n"
     ]
    }
   ],
   "source": [
    "dataset_dropped = dataset.dropna()\n",
    "dataset_dropped.info()"
   ]
  },
  {
   "cell_type": "markdown",
   "metadata": {},
   "source": [
    "Po použití funkcie **dropna()** vidíme, že počet záznamov v každom stĺpci je jednotný."
   ]
  },
  {
   "cell_type": "markdown",
   "metadata": {},
   "source": [
    "#### Nahradenie chýbajúcich hodnôt"
   ]
  },
  {
   "cell_type": "markdown",
   "metadata": {
    "pycharm": {
     "name": "#%% md\n"
    }
   },
   "source": [
    "Táto funkcia slúži na zobrazenie rozdielu v zmenených dátach pomocou grafov."
   ]
  },
  {
   "cell_type": "code",
   "execution_count": 570,
   "metadata": {
    "pycharm": {
     "name": "#%%\n"
    }
   },
   "outputs": [],
   "source": [
    "def difference_graphs(changed_dataset):\n",
    "    fig, ax=mt.pyplot.subplots(3,2, figsize=(12,6))\n",
    "    fig.tight_layout()\n",
    "    ax[0, 0].set_title('Pôvodné', fontsize=16)\n",
    "    ax[0, 1].set_title('Zmenené', fontsize=16)\n",
    "    sns.histplot(data=dataset[\"hematokrit\"],ax=ax[0, 0], bins=25, kde=True)\n",
    "    sns.histplot(data=changed_dataset[\"hematokrit\"], ax=ax[0,1], bins=25, kde=True)\n",
    "    sns.histplot(data=dataset[\"erytrocyty\"],ax=ax[1,0], bins=25, kde=True)\n",
    "    sns.histplot(data=changed_dataset[\"erytrocyty\"], ax=ax[1,1], bins=25, kde=True)\n",
    "    sns.histplot(data=dataset[\"alt\"],ax=ax[2,0], bins=25, kde=True)\n",
    "    sns.histplot(data=changed_dataset[\"alt\"], ax=ax[2,1], bins=25, kde=True)"
   ]
  },
  {
   "cell_type": "markdown",
   "metadata": {},
   "source": [
    "Pozrime sa najprv na hodnoty datasetu pred vykonanými zmenami."
   ]
  },
  {
   "cell_type": "code",
   "execution_count": 571,
   "metadata": {
    "pycharm": {
     "name": "#%%\n"
    }
   },
   "outputs": [
    {
     "data": {
      "text/html": [
       "<style type=\"text/css\">\n",
       "</style>\n",
       "<table id=\"T_63020_\">\n",
       "  <thead>\n",
       "    <tr>\n",
       "      <th class=\"blank level0\" >&nbsp;</th>\n",
       "      <th class=\"col_heading level0 col0\" >hematokrit</th>\n",
       "      <th class=\"col_heading level0 col1\" >smoker</th>\n",
       "      <th class=\"col_heading level0 col2\" >leukocyty</th>\n",
       "      <th class=\"col_heading level0 col3\" >alt</th>\n",
       "      <th class=\"col_heading level0 col4\" >weight</th>\n",
       "      <th class=\"col_heading level0 col5\" >erytrocyty</th>\n",
       "      <th class=\"col_heading level0 col6\" >alp</th>\n",
       "      <th class=\"col_heading level0 col7\" >ast</th>\n",
       "      <th class=\"col_heading level0 col8\" >er-cv</th>\n",
       "      <th class=\"col_heading level0 col9\" >etytr</th>\n",
       "      <th class=\"col_heading level0 col10\" >hemoglobin</th>\n",
       "      <th class=\"col_heading level0 col11\" >trombocyty</th>\n",
       "      <th class=\"col_heading level0 col12\" >indicator</th>\n",
       "      <th class=\"col_heading level0 col13\" >hbver</th>\n",
       "    </tr>\n",
       "  </thead>\n",
       "  <tbody>\n",
       "    <tr>\n",
       "      <th id=\"T_63020_level0_row0\" class=\"row_heading level0 row0\" >count</th>\n",
       "      <td id=\"T_63020_row0_col0\" class=\"data row0 col0\" >10008.000000</td>\n",
       "      <td id=\"T_63020_row0_col1\" class=\"data row0 col1\" >10039.000000</td>\n",
       "      <td id=\"T_63020_row0_col2\" class=\"data row0 col2\" >10009.000000</td>\n",
       "      <td id=\"T_63020_row0_col3\" class=\"data row0 col3\" >10009.000000</td>\n",
       "      <td id=\"T_63020_row0_col4\" class=\"data row0 col4\" >10039.000000</td>\n",
       "      <td id=\"T_63020_row0_col5\" class=\"data row0 col5\" >10009.000000</td>\n",
       "      <td id=\"T_63020_row0_col6\" class=\"data row0 col6\" >10008.000000</td>\n",
       "      <td id=\"T_63020_row0_col7\" class=\"data row0 col7\" >10009.000000</td>\n",
       "      <td id=\"T_63020_row0_col8\" class=\"data row0 col8\" >10009.000000</td>\n",
       "      <td id=\"T_63020_row0_col9\" class=\"data row0 col9\" >10008.000000</td>\n",
       "      <td id=\"T_63020_row0_col10\" class=\"data row0 col10\" >10009.000000</td>\n",
       "      <td id=\"T_63020_row0_col11\" class=\"data row0 col11\" >10009.000000</td>\n",
       "      <td id=\"T_63020_row0_col12\" class=\"data row0 col12\" >10039.000000</td>\n",
       "      <td id=\"T_63020_row0_col13\" class=\"data row0 col13\" >10009.000000</td>\n",
       "    </tr>\n",
       "    <tr>\n",
       "      <th id=\"T_63020_level0_row1\" class=\"row_heading level0 row1\" >mean</th>\n",
       "      <td id=\"T_63020_row1_col0\" class=\"data row1 col0\" >6.453032</td>\n",
       "      <td id=\"T_63020_row1_col1\" class=\"data row1 col1\" >0.397151</td>\n",
       "      <td id=\"T_63020_row1_col2\" class=\"data row1 col2\" >6.450274</td>\n",
       "      <td id=\"T_63020_row1_col3\" class=\"data row1 col3\" >1.306090</td>\n",
       "      <td id=\"T_63020_row1_col4\" class=\"data row1 col4\" >69.805192</td>\n",
       "      <td id=\"T_63020_row1_col5\" class=\"data row1 col5\" >6.898802</td>\n",
       "      <td id=\"T_63020_row1_col6\" class=\"data row1 col6\" >71.949719</td>\n",
       "      <td id=\"T_63020_row1_col7\" class=\"data row1 col7\" >52.343359</td>\n",
       "      <td id=\"T_63020_row1_col8\" class=\"data row1 col8\" >49.060376</td>\n",
       "      <td id=\"T_63020_row1_col9\" class=\"data row1 col9\" >6.476717</td>\n",
       "      <td id=\"T_63020_row1_col10\" class=\"data row1 col10\" >6.464414</td>\n",
       "      <td id=\"T_63020_row1_col11\" class=\"data row1 col11\" >6.828460</td>\n",
       "      <td id=\"T_63020_row1_col12\" class=\"data row1 col12\" >0.642295</td>\n",
       "      <td id=\"T_63020_row1_col13\" class=\"data row1 col13\" >6.475601</td>\n",
       "    </tr>\n",
       "    <tr>\n",
       "      <th id=\"T_63020_level0_row2\" class=\"row_heading level0 row2\" >std</th>\n",
       "      <td id=\"T_63020_row2_col0\" class=\"data row2 col0\" >1.665991</td>\n",
       "      <td id=\"T_63020_row2_col1\" class=\"data row2 col1\" >0.489332</td>\n",
       "      <td id=\"T_63020_row2_col2\" class=\"data row2 col2\" >1.700428</td>\n",
       "      <td id=\"T_63020_row2_col3\" class=\"data row2 col3\" >2.080683</td>\n",
       "      <td id=\"T_63020_row2_col4\" class=\"data row2 col4\" >35.581044</td>\n",
       "      <td id=\"T_63020_row2_col5\" class=\"data row2 col5\" >1.605785</td>\n",
       "      <td id=\"T_63020_row2_col6\" class=\"data row2 col6\" >18.109229</td>\n",
       "      <td id=\"T_63020_row2_col7\" class=\"data row2 col7\" >11.880597</td>\n",
       "      <td id=\"T_63020_row2_col8\" class=\"data row2 col8\" >13.084279</td>\n",
       "      <td id=\"T_63020_row2_col9\" class=\"data row2 col9\" >0.994156</td>\n",
       "      <td id=\"T_63020_row2_col10\" class=\"data row2 col10\" >1.006072</td>\n",
       "      <td id=\"T_63020_row2_col11\" class=\"data row2 col11\" >1.734330</td>\n",
       "      <td id=\"T_63020_row2_col12\" class=\"data row2 col12\" >0.479349</td>\n",
       "      <td id=\"T_63020_row2_col13\" class=\"data row2 col13\" >1.004527</td>\n",
       "    </tr>\n",
       "    <tr>\n",
       "      <th id=\"T_63020_level0_row3\" class=\"row_heading level0 row3\" >min</th>\n",
       "      <td id=\"T_63020_row3_col0\" class=\"data row3 col0\" >0.683890</td>\n",
       "      <td id=\"T_63020_row3_col1\" class=\"data row3 col1\" >0.000000</td>\n",
       "      <td id=\"T_63020_row3_col2\" class=\"data row3 col2\" >0.979140</td>\n",
       "      <td id=\"T_63020_row3_col3\" class=\"data row3 col3\" >0.000000</td>\n",
       "      <td id=\"T_63020_row3_col4\" class=\"data row3 col4\" >-59.892790</td>\n",
       "      <td id=\"T_63020_row3_col5\" class=\"data row3 col5\" >1.811270</td>\n",
       "      <td id=\"T_63020_row3_col6\" class=\"data row3 col6\" >0.000000</td>\n",
       "      <td id=\"T_63020_row3_col7\" class=\"data row3 col7\" >0.000000</td>\n",
       "      <td id=\"T_63020_row3_col8\" class=\"data row3 col8\" >0.000000</td>\n",
       "      <td id=\"T_63020_row3_col9\" class=\"data row3 col9\" >2.678710</td>\n",
       "      <td id=\"T_63020_row3_col10\" class=\"data row3 col10\" >3.054200</td>\n",
       "      <td id=\"T_63020_row3_col11\" class=\"data row3 col11\" >0.000000</td>\n",
       "      <td id=\"T_63020_row3_col12\" class=\"data row3 col12\" >0.000000</td>\n",
       "      <td id=\"T_63020_row3_col13\" class=\"data row3 col13\" >2.738210</td>\n",
       "    </tr>\n",
       "    <tr>\n",
       "      <th id=\"T_63020_level0_row4\" class=\"row_heading level0 row4\" >25%</th>\n",
       "      <td id=\"T_63020_row4_col0\" class=\"data row4 col0\" >5.197180</td>\n",
       "      <td id=\"T_63020_row4_col1\" class=\"data row4 col1\" >0.000000</td>\n",
       "      <td id=\"T_63020_row4_col2\" class=\"data row4 col2\" >5.177990</td>\n",
       "      <td id=\"T_63020_row4_col3\" class=\"data row4 col3\" >0.521560</td>\n",
       "      <td id=\"T_63020_row4_col4\" class=\"data row4 col4\" >46.183730</td>\n",
       "      <td id=\"T_63020_row4_col5\" class=\"data row4 col5\" >5.748830</td>\n",
       "      <td id=\"T_63020_row4_col6\" class=\"data row4 col6\" >63.818647</td>\n",
       "      <td id=\"T_63020_row4_col7\" class=\"data row4 col7\" >44.490180</td>\n",
       "      <td id=\"T_63020_row4_col8\" class=\"data row4 col8\" >40.393810</td>\n",
       "      <td id=\"T_63020_row4_col9\" class=\"data row4 col9\" >5.802672</td>\n",
       "      <td id=\"T_63020_row4_col10\" class=\"data row4 col10\" >5.786020</td>\n",
       "      <td id=\"T_63020_row4_col11\" class=\"data row4 col11\" >5.665190</td>\n",
       "      <td id=\"T_63020_row4_col12\" class=\"data row4 col12\" >0.000000</td>\n",
       "      <td id=\"T_63020_row4_col13\" class=\"data row4 col13\" >5.806840</td>\n",
       "    </tr>\n",
       "    <tr>\n",
       "      <th id=\"T_63020_level0_row5\" class=\"row_heading level0 row5\" >50%</th>\n",
       "      <td id=\"T_63020_row5_col0\" class=\"data row5 col0\" >6.227605</td>\n",
       "      <td id=\"T_63020_row5_col1\" class=\"data row5 col1\" >0.000000</td>\n",
       "      <td id=\"T_63020_row5_col2\" class=\"data row5 col2\" >6.352150</td>\n",
       "      <td id=\"T_63020_row5_col3\" class=\"data row5 col3\" >0.773820</td>\n",
       "      <td id=\"T_63020_row5_col4\" class=\"data row5 col4\" >70.018130</td>\n",
       "      <td id=\"T_63020_row5_col5\" class=\"data row5 col5\" >7.036180</td>\n",
       "      <td id=\"T_63020_row5_col6\" class=\"data row5 col6\" >78.203065</td>\n",
       "      <td id=\"T_63020_row5_col7\" class=\"data row5 col7\" >52.376590</td>\n",
       "      <td id=\"T_63020_row5_col8\" class=\"data row5 col8\" >48.923340</td>\n",
       "      <td id=\"T_63020_row5_col9\" class=\"data row5 col9\" >6.480035</td>\n",
       "      <td id=\"T_63020_row5_col10\" class=\"data row5 col10\" >6.476210</td>\n",
       "      <td id=\"T_63020_row5_col11\" class=\"data row5 col11\" >7.002890</td>\n",
       "      <td id=\"T_63020_row5_col12\" class=\"data row5 col12\" >1.000000</td>\n",
       "      <td id=\"T_63020_row5_col13\" class=\"data row5 col13\" >6.478430</td>\n",
       "    </tr>\n",
       "    <tr>\n",
       "      <th id=\"T_63020_level0_row6\" class=\"row_heading level0 row6\" >75%</th>\n",
       "      <td id=\"T_63020_row6_col0\" class=\"data row6 col0\" >7.669982</td>\n",
       "      <td id=\"T_63020_row6_col1\" class=\"data row6 col1\" >1.000000</td>\n",
       "      <td id=\"T_63020_row6_col2\" class=\"data row6 col2\" >7.693890</td>\n",
       "      <td id=\"T_63020_row6_col3\" class=\"data row6 col3\" >1.344220</td>\n",
       "      <td id=\"T_63020_row6_col4\" class=\"data row6 col4\" >93.175640</td>\n",
       "      <td id=\"T_63020_row6_col5\" class=\"data row6 col5\" >8.052080</td>\n",
       "      <td id=\"T_63020_row6_col6\" class=\"data row6 col6\" >84.986902</td>\n",
       "      <td id=\"T_63020_row6_col7\" class=\"data row6 col7\" >60.275100</td>\n",
       "      <td id=\"T_63020_row6_col8\" class=\"data row6 col8\" >57.766910</td>\n",
       "      <td id=\"T_63020_row6_col9\" class=\"data row6 col9\" >7.147997</td>\n",
       "      <td id=\"T_63020_row6_col10\" class=\"data row6 col10\" >7.140870</td>\n",
       "      <td id=\"T_63020_row6_col11\" class=\"data row6 col11\" >8.078720</td>\n",
       "      <td id=\"T_63020_row6_col12\" class=\"data row6 col12\" >1.000000</td>\n",
       "      <td id=\"T_63020_row6_col13\" class=\"data row6 col13\" >7.147590</td>\n",
       "    </tr>\n",
       "    <tr>\n",
       "      <th id=\"T_63020_level0_row7\" class=\"row_heading level0 row7\" >max</th>\n",
       "      <td id=\"T_63020_row7_col0\" class=\"data row7 col0\" >13.633550</td>\n",
       "      <td id=\"T_63020_row7_col1\" class=\"data row7 col1\" >1.000000</td>\n",
       "      <td id=\"T_63020_row7_col2\" class=\"data row7 col2\" >12.694630</td>\n",
       "      <td id=\"T_63020_row7_col3\" class=\"data row7 col3\" >100.000000</td>\n",
       "      <td id=\"T_63020_row7_col4\" class=\"data row7 col4\" >188.436090</td>\n",
       "      <td id=\"T_63020_row7_col5\" class=\"data row7 col5\" >12.733320</td>\n",
       "      <td id=\"T_63020_row7_col6\" class=\"data row7 col6\" >100.000000</td>\n",
       "      <td id=\"T_63020_row7_col7\" class=\"data row7 col7\" >100.000000</td>\n",
       "      <td id=\"T_63020_row7_col8\" class=\"data row7 col8\" >100.000000</td>\n",
       "      <td id=\"T_63020_row7_col9\" class=\"data row7 col9\" >11.426920</td>\n",
       "      <td id=\"T_63020_row7_col10\" class=\"data row7 col10\" >10.112330</td>\n",
       "      <td id=\"T_63020_row7_col11\" class=\"data row7 col11\" >12.595220</td>\n",
       "      <td id=\"T_63020_row7_col12\" class=\"data row7 col12\" >1.000000</td>\n",
       "      <td id=\"T_63020_row7_col13\" class=\"data row7 col13\" >10.361820</td>\n",
       "    </tr>\n",
       "  </tbody>\n",
       "</table>\n"
      ],
      "text/plain": [
       "<pandas.io.formats.style.Styler at 0x7fe514e6ee20>"
      ]
     },
     "execution_count": 571,
     "metadata": {},
     "output_type": "execute_result"
    }
   ],
   "source": [
    "desc_stat_table = dataset.select_dtypes(include=[np.float64])\n",
    "desc_stat = dataset.describe()\n",
    "# modus nie je mozne urobit, su unikátne\n",
    "desc_stat.style"
   ]
  },
  {
   "cell_type": "markdown",
   "metadata": {},
   "source": [
    "#### Nahradenie chýbajúcej hodnoty mediánom"
   ]
  },
  {
   "cell_type": "code",
   "execution_count": 572,
   "metadata": {
    "pycharm": {
     "name": "#%%\n"
    }
   },
   "outputs": [
    {
     "name": "stdout",
     "output_type": "stream",
     "text": [
      "<class 'pandas.core.frame.DataFrame'>\n",
      "RangeIndex: 10039 entries, 0 to 10038\n",
      "Data columns (total 17 columns):\n",
      " #   Column        Non-Null Count  Dtype  \n",
      "---  ------        --------------  -----  \n",
      " 0   name          10039 non-null  object \n",
      " 1   hematokrit    10008 non-null  float64\n",
      " 2   smoker        10039 non-null  int64  \n",
      " 3   leukocyty     10009 non-null  float64\n",
      " 4   relationship  10039 non-null  object \n",
      " 5   ssn           10039 non-null  object \n",
      " 6   alt           10009 non-null  float64\n",
      " 7   weight        10039 non-null  float64\n",
      " 8   erytrocyty    10009 non-null  float64\n",
      " 9   alp           10008 non-null  float64\n",
      " 10  ast           10009 non-null  float64\n",
      " 11  er-cv         10009 non-null  float64\n",
      " 12  etytr         10008 non-null  float64\n",
      " 13  hemoglobin    10009 non-null  float64\n",
      " 14  trombocyty    10009 non-null  float64\n",
      " 15  indicator     10039 non-null  float64\n",
      " 16  hbver         10009 non-null  float64\n",
      "dtypes: float64(13), int64(1), object(3)\n",
      "memory usage: 1.3+ MB\n"
     ]
    }
   ],
   "source": [
    "dataset.info()"
   ]
  },
  {
   "cell_type": "code",
   "execution_count": 573,
   "metadata": {
    "pycharm": {
     "name": "#%%\n"
    }
   },
   "outputs": [],
   "source": [
    "temp_dataset = dataset[dataset.describe().columns]\n",
    "imp=SimpleImputer(missing_values=np.NaN, strategy='median')\n",
    "dataset_median=pd.DataFrame(imp.fit_transform(temp_dataset))\n",
    "dataset_median.columns=temp_dataset.columns\n",
    "dataset_median.index=temp_dataset.index"
   ]
  },
  {
   "cell_type": "code",
   "execution_count": 574,
   "metadata": {
    "pycharm": {
     "name": "#%%\n"
    }
   },
   "outputs": [
    {
     "name": "stdout",
     "output_type": "stream",
     "text": [
      "<class 'pandas.core.frame.DataFrame'>\n",
      "RangeIndex: 10039 entries, 0 to 10038\n",
      "Data columns (total 14 columns):\n",
      " #   Column      Non-Null Count  Dtype  \n",
      "---  ------      --------------  -----  \n",
      " 0   hematokrit  10039 non-null  float64\n",
      " 1   smoker      10039 non-null  float64\n",
      " 2   leukocyty   10039 non-null  float64\n",
      " 3   alt         10039 non-null  float64\n",
      " 4   weight      10039 non-null  float64\n",
      " 5   erytrocyty  10039 non-null  float64\n",
      " 6   alp         10039 non-null  float64\n",
      " 7   ast         10039 non-null  float64\n",
      " 8   er-cv       10039 non-null  float64\n",
      " 9   etytr       10039 non-null  float64\n",
      " 10  hemoglobin  10039 non-null  float64\n",
      " 11  trombocyty  10039 non-null  float64\n",
      " 12  indicator   10039 non-null  float64\n",
      " 13  hbver       10039 non-null  float64\n",
      "dtypes: float64(14)\n",
      "memory usage: 1.1 MB\n"
     ]
    }
   ],
   "source": [
    "dataset_median.info()"
   ]
  },
  {
   "cell_type": "code",
   "execution_count": 575,
   "metadata": {
    "pycharm": {
     "name": "#%%\n"
    }
   },
   "outputs": [
    {
     "data": {
      "text/html": [
       "<style type=\"text/css\">\n",
       "</style>\n",
       "<table id=\"T_e368f_\">\n",
       "  <thead>\n",
       "    <tr>\n",
       "      <th class=\"blank level0\" >&nbsp;</th>\n",
       "      <th class=\"col_heading level0 col0\" >hematokrit</th>\n",
       "      <th class=\"col_heading level0 col1\" >smoker</th>\n",
       "      <th class=\"col_heading level0 col2\" >leukocyty</th>\n",
       "      <th class=\"col_heading level0 col3\" >alt</th>\n",
       "      <th class=\"col_heading level0 col4\" >weight</th>\n",
       "      <th class=\"col_heading level0 col5\" >erytrocyty</th>\n",
       "      <th class=\"col_heading level0 col6\" >alp</th>\n",
       "      <th class=\"col_heading level0 col7\" >ast</th>\n",
       "      <th class=\"col_heading level0 col8\" >er-cv</th>\n",
       "      <th class=\"col_heading level0 col9\" >etytr</th>\n",
       "      <th class=\"col_heading level0 col10\" >hemoglobin</th>\n",
       "      <th class=\"col_heading level0 col11\" >trombocyty</th>\n",
       "      <th class=\"col_heading level0 col12\" >indicator</th>\n",
       "      <th class=\"col_heading level0 col13\" >hbver</th>\n",
       "    </tr>\n",
       "  </thead>\n",
       "  <tbody>\n",
       "    <tr>\n",
       "      <th id=\"T_e368f_level0_row0\" class=\"row_heading level0 row0\" >count</th>\n",
       "      <td id=\"T_e368f_row0_col0\" class=\"data row0 col0\" >10039.000000</td>\n",
       "      <td id=\"T_e368f_row0_col1\" class=\"data row0 col1\" >10039.000000</td>\n",
       "      <td id=\"T_e368f_row0_col2\" class=\"data row0 col2\" >10039.000000</td>\n",
       "      <td id=\"T_e368f_row0_col3\" class=\"data row0 col3\" >10039.000000</td>\n",
       "      <td id=\"T_e368f_row0_col4\" class=\"data row0 col4\" >10039.000000</td>\n",
       "      <td id=\"T_e368f_row0_col5\" class=\"data row0 col5\" >10039.000000</td>\n",
       "      <td id=\"T_e368f_row0_col6\" class=\"data row0 col6\" >10039.000000</td>\n",
       "      <td id=\"T_e368f_row0_col7\" class=\"data row0 col7\" >10039.000000</td>\n",
       "      <td id=\"T_e368f_row0_col8\" class=\"data row0 col8\" >10039.000000</td>\n",
       "      <td id=\"T_e368f_row0_col9\" class=\"data row0 col9\" >10039.000000</td>\n",
       "      <td id=\"T_e368f_row0_col10\" class=\"data row0 col10\" >10039.000000</td>\n",
       "      <td id=\"T_e368f_row0_col11\" class=\"data row0 col11\" >10039.000000</td>\n",
       "      <td id=\"T_e368f_row0_col12\" class=\"data row0 col12\" >10039.000000</td>\n",
       "      <td id=\"T_e368f_row0_col13\" class=\"data row0 col13\" >10039.000000</td>\n",
       "    </tr>\n",
       "    <tr>\n",
       "      <th id=\"T_e368f_level0_row1\" class=\"row_heading level0 row1\" >mean</th>\n",
       "      <td id=\"T_e368f_row1_col0\" class=\"data row1 col0\" >6.452336</td>\n",
       "      <td id=\"T_e368f_row1_col1\" class=\"data row1 col1\" >0.397151</td>\n",
       "      <td id=\"T_e368f_row1_col2\" class=\"data row1 col2\" >6.449981</td>\n",
       "      <td id=\"T_e368f_row1_col3\" class=\"data row1 col3\" >1.304500</td>\n",
       "      <td id=\"T_e368f_row1_col4\" class=\"data row1 col4\" >69.805192</td>\n",
       "      <td id=\"T_e368f_row1_col5\" class=\"data row1 col5\" >6.899213</td>\n",
       "      <td id=\"T_e368f_row1_col6\" class=\"data row1 col6\" >71.969029</td>\n",
       "      <td id=\"T_e368f_row1_col7\" class=\"data row1 col7\" >52.343459</td>\n",
       "      <td id=\"T_e368f_row1_col8\" class=\"data row1 col8\" >49.059966</td>\n",
       "      <td id=\"T_e368f_row1_col9\" class=\"data row1 col9\" >6.476727</td>\n",
       "      <td id=\"T_e368f_row1_col10\" class=\"data row1 col10\" >6.464450</td>\n",
       "      <td id=\"T_e368f_row1_col11\" class=\"data row1 col11\" >6.828981</td>\n",
       "      <td id=\"T_e368f_row1_col12\" class=\"data row1 col12\" >0.642295</td>\n",
       "      <td id=\"T_e368f_row1_col13\" class=\"data row1 col13\" >6.475610</td>\n",
       "    </tr>\n",
       "    <tr>\n",
       "      <th id=\"T_e368f_level0_row2\" class=\"row_heading level0 row2\" >std</th>\n",
       "      <td id=\"T_e368f_row2_col0\" class=\"data row2 col0\" >1.663464</td>\n",
       "      <td id=\"T_e368f_row2_col1\" class=\"data row2 col1\" >0.489332</td>\n",
       "      <td id=\"T_e368f_row2_col2\" class=\"data row2 col2\" >1.697894</td>\n",
       "      <td id=\"T_e368f_row2_col3\" class=\"data row2 col3\" >2.077775</td>\n",
       "      <td id=\"T_e368f_row2_col4\" class=\"data row2 col4\" >35.581044</td>\n",
       "      <td id=\"T_e368f_row2_col5\" class=\"data row2 col5\" >1.603402</td>\n",
       "      <td id=\"T_e368f_row2_col6\" class=\"data row2 col6\" >18.084573</td>\n",
       "      <td id=\"T_e368f_row2_col7\" class=\"data row2 col7\" >11.862831</td>\n",
       "      <td id=\"T_e368f_row2_col8\" class=\"data row2 col8\" >13.064714</td>\n",
       "      <td id=\"T_e368f_row2_col9\" class=\"data row2 col9\" >0.992620</td>\n",
       "      <td id=\"T_e368f_row2_col10\" class=\"data row2 col10\" >1.004568</td>\n",
       "      <td id=\"T_e368f_row2_col11\" class=\"data row2 col11\" >1.731762</td>\n",
       "      <td id=\"T_e368f_row2_col12\" class=\"data row2 col12\" >0.479349</td>\n",
       "      <td id=\"T_e368f_row2_col13\" class=\"data row2 col13\" >1.003025</td>\n",
       "    </tr>\n",
       "    <tr>\n",
       "      <th id=\"T_e368f_level0_row3\" class=\"row_heading level0 row3\" >min</th>\n",
       "      <td id=\"T_e368f_row3_col0\" class=\"data row3 col0\" >0.683890</td>\n",
       "      <td id=\"T_e368f_row3_col1\" class=\"data row3 col1\" >0.000000</td>\n",
       "      <td id=\"T_e368f_row3_col2\" class=\"data row3 col2\" >0.979140</td>\n",
       "      <td id=\"T_e368f_row3_col3\" class=\"data row3 col3\" >0.000000</td>\n",
       "      <td id=\"T_e368f_row3_col4\" class=\"data row3 col4\" >-59.892790</td>\n",
       "      <td id=\"T_e368f_row3_col5\" class=\"data row3 col5\" >1.811270</td>\n",
       "      <td id=\"T_e368f_row3_col6\" class=\"data row3 col6\" >0.000000</td>\n",
       "      <td id=\"T_e368f_row3_col7\" class=\"data row3 col7\" >0.000000</td>\n",
       "      <td id=\"T_e368f_row3_col8\" class=\"data row3 col8\" >0.000000</td>\n",
       "      <td id=\"T_e368f_row3_col9\" class=\"data row3 col9\" >2.678710</td>\n",
       "      <td id=\"T_e368f_row3_col10\" class=\"data row3 col10\" >3.054200</td>\n",
       "      <td id=\"T_e368f_row3_col11\" class=\"data row3 col11\" >0.000000</td>\n",
       "      <td id=\"T_e368f_row3_col12\" class=\"data row3 col12\" >0.000000</td>\n",
       "      <td id=\"T_e368f_row3_col13\" class=\"data row3 col13\" >2.738210</td>\n",
       "    </tr>\n",
       "    <tr>\n",
       "      <th id=\"T_e368f_level0_row4\" class=\"row_heading level0 row4\" >25%</th>\n",
       "      <td id=\"T_e368f_row4_col0\" class=\"data row4 col0\" >5.201395</td>\n",
       "      <td id=\"T_e368f_row4_col1\" class=\"data row4 col1\" >0.000000</td>\n",
       "      <td id=\"T_e368f_row4_col2\" class=\"data row4 col2\" >5.182615</td>\n",
       "      <td id=\"T_e368f_row4_col3\" class=\"data row4 col3\" >0.521930</td>\n",
       "      <td id=\"T_e368f_row4_col4\" class=\"data row4 col4\" >46.183730</td>\n",
       "      <td id=\"T_e368f_row4_col5\" class=\"data row4 col5\" >5.755025</td>\n",
       "      <td id=\"T_e368f_row4_col6\" class=\"data row4 col6\" >63.896465</td>\n",
       "      <td id=\"T_e368f_row4_col7\" class=\"data row4 col7\" >44.512470</td>\n",
       "      <td id=\"T_e368f_row4_col8\" class=\"data row4 col8\" >40.436145</td>\n",
       "      <td id=\"T_e368f_row4_col9\" class=\"data row4 col9\" >5.805255</td>\n",
       "      <td id=\"T_e368f_row4_col10\" class=\"data row4 col10\" >5.788715</td>\n",
       "      <td id=\"T_e368f_row4_col11\" class=\"data row4 col11\" >5.669255</td>\n",
       "      <td id=\"T_e368f_row4_col12\" class=\"data row4 col12\" >0.000000</td>\n",
       "      <td id=\"T_e368f_row4_col13\" class=\"data row4 col13\" >5.808145</td>\n",
       "    </tr>\n",
       "    <tr>\n",
       "      <th id=\"T_e368f_level0_row5\" class=\"row_heading level0 row5\" >50%</th>\n",
       "      <td id=\"T_e368f_row5_col0\" class=\"data row5 col0\" >6.227605</td>\n",
       "      <td id=\"T_e368f_row5_col1\" class=\"data row5 col1\" >0.000000</td>\n",
       "      <td id=\"T_e368f_row5_col2\" class=\"data row5 col2\" >6.352150</td>\n",
       "      <td id=\"T_e368f_row5_col3\" class=\"data row5 col3\" >0.773820</td>\n",
       "      <td id=\"T_e368f_row5_col4\" class=\"data row5 col4\" >70.018130</td>\n",
       "      <td id=\"T_e368f_row5_col5\" class=\"data row5 col5\" >7.036180</td>\n",
       "      <td id=\"T_e368f_row5_col6\" class=\"data row5 col6\" >78.203065</td>\n",
       "      <td id=\"T_e368f_row5_col7\" class=\"data row5 col7\" >52.376590</td>\n",
       "      <td id=\"T_e368f_row5_col8\" class=\"data row5 col8\" >48.923340</td>\n",
       "      <td id=\"T_e368f_row5_col9\" class=\"data row5 col9\" >6.480035</td>\n",
       "      <td id=\"T_e368f_row5_col10\" class=\"data row5 col10\" >6.476210</td>\n",
       "      <td id=\"T_e368f_row5_col11\" class=\"data row5 col11\" >7.002890</td>\n",
       "      <td id=\"T_e368f_row5_col12\" class=\"data row5 col12\" >1.000000</td>\n",
       "      <td id=\"T_e368f_row5_col13\" class=\"data row5 col13\" >6.478430</td>\n",
       "    </tr>\n",
       "    <tr>\n",
       "      <th id=\"T_e368f_level0_row6\" class=\"row_heading level0 row6\" >75%</th>\n",
       "      <td id=\"T_e368f_row6_col0\" class=\"data row6 col0\" >7.664480</td>\n",
       "      <td id=\"T_e368f_row6_col1\" class=\"data row6 col1\" >1.000000</td>\n",
       "      <td id=\"T_e368f_row6_col2\" class=\"data row6 col2\" >7.689935</td>\n",
       "      <td id=\"T_e368f_row6_col3\" class=\"data row6 col3\" >1.342655</td>\n",
       "      <td id=\"T_e368f_row6_col4\" class=\"data row6 col4\" >93.175640</td>\n",
       "      <td id=\"T_e368f_row6_col5\" class=\"data row6 col5\" >8.048735</td>\n",
       "      <td id=\"T_e368f_row6_col6\" class=\"data row6 col6\" >84.964250</td>\n",
       "      <td id=\"T_e368f_row6_col7\" class=\"data row6 col7\" >60.248820</td>\n",
       "      <td id=\"T_e368f_row6_col8\" class=\"data row6 col8\" >57.741575</td>\n",
       "      <td id=\"T_e368f_row6_col9\" class=\"data row6 col9\" >7.145290</td>\n",
       "      <td id=\"T_e368f_row6_col10\" class=\"data row6 col10\" >7.139405</td>\n",
       "      <td id=\"T_e368f_row6_col11\" class=\"data row6 col11\" >8.075065</td>\n",
       "      <td id=\"T_e368f_row6_col12\" class=\"data row6 col12\" >1.000000</td>\n",
       "      <td id=\"T_e368f_row6_col13\" class=\"data row6 col13\" >7.144690</td>\n",
       "    </tr>\n",
       "    <tr>\n",
       "      <th id=\"T_e368f_level0_row7\" class=\"row_heading level0 row7\" >max</th>\n",
       "      <td id=\"T_e368f_row7_col0\" class=\"data row7 col0\" >13.633550</td>\n",
       "      <td id=\"T_e368f_row7_col1\" class=\"data row7 col1\" >1.000000</td>\n",
       "      <td id=\"T_e368f_row7_col2\" class=\"data row7 col2\" >12.694630</td>\n",
       "      <td id=\"T_e368f_row7_col3\" class=\"data row7 col3\" >100.000000</td>\n",
       "      <td id=\"T_e368f_row7_col4\" class=\"data row7 col4\" >188.436090</td>\n",
       "      <td id=\"T_e368f_row7_col5\" class=\"data row7 col5\" >12.733320</td>\n",
       "      <td id=\"T_e368f_row7_col6\" class=\"data row7 col6\" >100.000000</td>\n",
       "      <td id=\"T_e368f_row7_col7\" class=\"data row7 col7\" >100.000000</td>\n",
       "      <td id=\"T_e368f_row7_col8\" class=\"data row7 col8\" >100.000000</td>\n",
       "      <td id=\"T_e368f_row7_col9\" class=\"data row7 col9\" >11.426920</td>\n",
       "      <td id=\"T_e368f_row7_col10\" class=\"data row7 col10\" >10.112330</td>\n",
       "      <td id=\"T_e368f_row7_col11\" class=\"data row7 col11\" >12.595220</td>\n",
       "      <td id=\"T_e368f_row7_col12\" class=\"data row7 col12\" >1.000000</td>\n",
       "      <td id=\"T_e368f_row7_col13\" class=\"data row7 col13\" >10.361820</td>\n",
       "    </tr>\n",
       "  </tbody>\n",
       "</table>\n"
      ],
      "text/plain": [
       "<pandas.io.formats.style.Styler at 0x7fe516f14cd0>"
      ]
     },
     "execution_count": 575,
     "metadata": {},
     "output_type": "execute_result"
    }
   ],
   "source": [
    "desc_stat_table = dataset_median.select_dtypes(include=[np.float64])\n",
    "desc_stat = dataset_median.describe()\n",
    "desc_stat.style"
   ]
  },
  {
   "cell_type": "markdown",
   "metadata": {},
   "source": [
    "Pri náhrade chýbajúcich hodnôt mediánom sa nám zmenila iba smerodajná odchýlka (std = standard deviation). Medián sa nám v tomto prípade nezmení, pretože stredná hodnota bude stále rovnaká."
   ]
  },
  {
   "cell_type": "code",
   "execution_count": 576,
   "metadata": {
    "pycharm": {
     "name": "#%%\n"
    }
   },
   "outputs": [
    {
     "data": {
      "image/png": "[encoded data removed]",
      "text/plain": [
       "<Figure size 864x432 with 6 Axes>"
      ]
     },
     "metadata": {
      "needs_background": "light"
     },
     "output_type": "display_data"
    }
   ],
   "source": [
    "difference_graphs(dataset_median)"
   ]
  },
  {
   "cell_type": "markdown",
   "metadata": {},
   "source": [
    "#### Nahradenie chýbajúcej hodnoty priemerom"
   ]
  },
  {
   "cell_type": "code",
   "execution_count": 577,
   "metadata": {
    "pycharm": {
     "name": "#%%\n"
    }
   },
   "outputs": [
    {
     "name": "stdout",
     "output_type": "stream",
     "text": [
      "<class 'pandas.core.frame.DataFrame'>\n",
      "RangeIndex: 10039 entries, 0 to 10038\n",
      "Data columns (total 17 columns):\n",
      " #   Column        Non-Null Count  Dtype  \n",
      "---  ------        --------------  -----  \n",
      " 0   name          10039 non-null  object \n",
      " 1   hematokrit    10008 non-null  float64\n",
      " 2   smoker        10039 non-null  int64  \n",
      " 3   leukocyty     10009 non-null  float64\n",
      " 4   relationship  10039 non-null  object \n",
      " 5   ssn           10039 non-null  object \n",
      " 6   alt           10009 non-null  float64\n",
      " 7   weight        10039 non-null  float64\n",
      " 8   erytrocyty    10009 non-null  float64\n",
      " 9   alp           10008 non-null  float64\n",
      " 10  ast           10009 non-null  float64\n",
      " 11  er-cv         10009 non-null  float64\n",
      " 12  etytr         10008 non-null  float64\n",
      " 13  hemoglobin    10009 non-null  float64\n",
      " 14  trombocyty    10009 non-null  float64\n",
      " 15  indicator     10039 non-null  float64\n",
      " 16  hbver         10009 non-null  float64\n",
      "dtypes: float64(13), int64(1), object(3)\n",
      "memory usage: 1.3+ MB\n"
     ]
    }
   ],
   "source": [
    "dataset.info()"
   ]
  },
  {
   "cell_type": "code",
   "execution_count": 578,
   "metadata": {
    "pycharm": {
     "name": "#%%\n"
    }
   },
   "outputs": [],
   "source": [
    "temp_dataset = dataset[dataset.describe().columns]\n",
    "imp=SimpleImputer(missing_values=np.NaN, strategy='mean')\n",
    "dataset_mean=pd.DataFrame(imp.fit_transform(temp_dataset))\n",
    "dataset_mean.columns=temp_dataset.columns\n",
    "dataset_mean.index=temp_dataset.index"
   ]
  },
  {
   "cell_type": "code",
   "execution_count": 579,
   "metadata": {
    "pycharm": {
     "name": "#%%\n"
    }
   },
   "outputs": [
    {
     "name": "stdout",
     "output_type": "stream",
     "text": [
      "<class 'pandas.core.frame.DataFrame'>\n",
      "RangeIndex: 10039 entries, 0 to 10038\n",
      "Data columns (total 14 columns):\n",
      " #   Column      Non-Null Count  Dtype  \n",
      "---  ------      --------------  -----  \n",
      " 0   hematokrit  10039 non-null  float64\n",
      " 1   smoker      10039 non-null  float64\n",
      " 2   leukocyty   10039 non-null  float64\n",
      " 3   alt         10039 non-null  float64\n",
      " 4   weight      10039 non-null  float64\n",
      " 5   erytrocyty  10039 non-null  float64\n",
      " 6   alp         10039 non-null  float64\n",
      " 7   ast         10039 non-null  float64\n",
      " 8   er-cv       10039 non-null  float64\n",
      " 9   etytr       10039 non-null  float64\n",
      " 10  hemoglobin  10039 non-null  float64\n",
      " 11  trombocyty  10039 non-null  float64\n",
      " 12  indicator   10039 non-null  float64\n",
      " 13  hbver       10039 non-null  float64\n",
      "dtypes: float64(14)\n",
      "memory usage: 1.1 MB\n"
     ]
    }
   ],
   "source": [
    "dataset_mean.info()"
   ]
  },
  {
   "cell_type": "code",
   "execution_count": 580,
   "metadata": {
    "pycharm": {
     "name": "#%%\n"
    }
   },
   "outputs": [
    {
     "data": {
      "text/html": [
       "<style type=\"text/css\">\n",
       "</style>\n",
       "<table id=\"T_288eb_\">\n",
       "  <thead>\n",
       "    <tr>\n",
       "      <th class=\"blank level0\" >&nbsp;</th>\n",
       "      <th class=\"col_heading level0 col0\" >hematokrit</th>\n",
       "      <th class=\"col_heading level0 col1\" >smoker</th>\n",
       "      <th class=\"col_heading level0 col2\" >leukocyty</th>\n",
       "      <th class=\"col_heading level0 col3\" >alt</th>\n",
       "      <th class=\"col_heading level0 col4\" >weight</th>\n",
       "      <th class=\"col_heading level0 col5\" >erytrocyty</th>\n",
       "      <th class=\"col_heading level0 col6\" >alp</th>\n",
       "      <th class=\"col_heading level0 col7\" >ast</th>\n",
       "      <th class=\"col_heading level0 col8\" >er-cv</th>\n",
       "      <th class=\"col_heading level0 col9\" >etytr</th>\n",
       "      <th class=\"col_heading level0 col10\" >hemoglobin</th>\n",
       "      <th class=\"col_heading level0 col11\" >trombocyty</th>\n",
       "      <th class=\"col_heading level0 col12\" >indicator</th>\n",
       "      <th class=\"col_heading level0 col13\" >hbver</th>\n",
       "    </tr>\n",
       "  </thead>\n",
       "  <tbody>\n",
       "    <tr>\n",
       "      <th id=\"T_288eb_level0_row0\" class=\"row_heading level0 row0\" >count</th>\n",
       "      <td id=\"T_288eb_row0_col0\" class=\"data row0 col0\" >10039.000000</td>\n",
       "      <td id=\"T_288eb_row0_col1\" class=\"data row0 col1\" >10039.000000</td>\n",
       "      <td id=\"T_288eb_row0_col2\" class=\"data row0 col2\" >10039.000000</td>\n",
       "      <td id=\"T_288eb_row0_col3\" class=\"data row0 col3\" >10039.000000</td>\n",
       "      <td id=\"T_288eb_row0_col4\" class=\"data row0 col4\" >10039.000000</td>\n",
       "      <td id=\"T_288eb_row0_col5\" class=\"data row0 col5\" >10039.000000</td>\n",
       "      <td id=\"T_288eb_row0_col6\" class=\"data row0 col6\" >10039.000000</td>\n",
       "      <td id=\"T_288eb_row0_col7\" class=\"data row0 col7\" >10039.000000</td>\n",
       "      <td id=\"T_288eb_row0_col8\" class=\"data row0 col8\" >10039.000000</td>\n",
       "      <td id=\"T_288eb_row0_col9\" class=\"data row0 col9\" >10039.000000</td>\n",
       "      <td id=\"T_288eb_row0_col10\" class=\"data row0 col10\" >10039.000000</td>\n",
       "      <td id=\"T_288eb_row0_col11\" class=\"data row0 col11\" >10039.000000</td>\n",
       "      <td id=\"T_288eb_row0_col12\" class=\"data row0 col12\" >10039.000000</td>\n",
       "      <td id=\"T_288eb_row0_col13\" class=\"data row0 col13\" >10039.000000</td>\n",
       "    </tr>\n",
       "    <tr>\n",
       "      <th id=\"T_288eb_level0_row1\" class=\"row_heading level0 row1\" >mean</th>\n",
       "      <td id=\"T_288eb_row1_col0\" class=\"data row1 col0\" >6.453032</td>\n",
       "      <td id=\"T_288eb_row1_col1\" class=\"data row1 col1\" >0.397151</td>\n",
       "      <td id=\"T_288eb_row1_col2\" class=\"data row1 col2\" >6.450274</td>\n",
       "      <td id=\"T_288eb_row1_col3\" class=\"data row1 col3\" >1.306090</td>\n",
       "      <td id=\"T_288eb_row1_col4\" class=\"data row1 col4\" >69.805192</td>\n",
       "      <td id=\"T_288eb_row1_col5\" class=\"data row1 col5\" >6.898802</td>\n",
       "      <td id=\"T_288eb_row1_col6\" class=\"data row1 col6\" >71.949719</td>\n",
       "      <td id=\"T_288eb_row1_col7\" class=\"data row1 col7\" >52.343359</td>\n",
       "      <td id=\"T_288eb_row1_col8\" class=\"data row1 col8\" >49.060376</td>\n",
       "      <td id=\"T_288eb_row1_col9\" class=\"data row1 col9\" >6.476717</td>\n",
       "      <td id=\"T_288eb_row1_col10\" class=\"data row1 col10\" >6.464414</td>\n",
       "      <td id=\"T_288eb_row1_col11\" class=\"data row1 col11\" >6.828460</td>\n",
       "      <td id=\"T_288eb_row1_col12\" class=\"data row1 col12\" >0.642295</td>\n",
       "      <td id=\"T_288eb_row1_col13\" class=\"data row1 col13\" >6.475601</td>\n",
       "    </tr>\n",
       "    <tr>\n",
       "      <th id=\"T_288eb_level0_row2\" class=\"row_heading level0 row2\" >std</th>\n",
       "      <td id=\"T_288eb_row2_col0\" class=\"data row2 col0\" >1.663417</td>\n",
       "      <td id=\"T_288eb_row2_col1\" class=\"data row2 col1\" >0.489332</td>\n",
       "      <td id=\"T_288eb_row2_col2\" class=\"data row2 col2\" >1.697886</td>\n",
       "      <td id=\"T_288eb_row2_col3\" class=\"data row2 col3\" >2.077572</td>\n",
       "      <td id=\"T_288eb_row2_col4\" class=\"data row2 col4\" >35.581044</td>\n",
       "      <td id=\"T_288eb_row2_col5\" class=\"data row2 col5\" >1.603384</td>\n",
       "      <td id=\"T_288eb_row2_col6\" class=\"data row2 col6\" >18.081245</td>\n",
       "      <td id=\"T_288eb_row2_col7\" class=\"data row2 col7\" >11.862831</td>\n",
       "      <td id=\"T_288eb_row2_col8\" class=\"data row2 col8\" >13.064712</td>\n",
       "      <td id=\"T_288eb_row2_col9\" class=\"data row2 col9\" >0.992620</td>\n",
       "      <td id=\"T_288eb_row2_col10\" class=\"data row2 col10\" >1.004567</td>\n",
       "      <td id=\"T_288eb_row2_col11\" class=\"data row2 col11\" >1.731736</td>\n",
       "      <td id=\"T_288eb_row2_col12\" class=\"data row2 col12\" >0.479349</td>\n",
       "      <td id=\"T_288eb_row2_col13\" class=\"data row2 col13\" >1.003025</td>\n",
       "    </tr>\n",
       "    <tr>\n",
       "      <th id=\"T_288eb_level0_row3\" class=\"row_heading level0 row3\" >min</th>\n",
       "      <td id=\"T_288eb_row3_col0\" class=\"data row3 col0\" >0.683890</td>\n",
       "      <td id=\"T_288eb_row3_col1\" class=\"data row3 col1\" >0.000000</td>\n",
       "      <td id=\"T_288eb_row3_col2\" class=\"data row3 col2\" >0.979140</td>\n",
       "      <td id=\"T_288eb_row3_col3\" class=\"data row3 col3\" >0.000000</td>\n",
       "      <td id=\"T_288eb_row3_col4\" class=\"data row3 col4\" >-59.892790</td>\n",
       "      <td id=\"T_288eb_row3_col5\" class=\"data row3 col5\" >1.811270</td>\n",
       "      <td id=\"T_288eb_row3_col6\" class=\"data row3 col6\" >0.000000</td>\n",
       "      <td id=\"T_288eb_row3_col7\" class=\"data row3 col7\" >0.000000</td>\n",
       "      <td id=\"T_288eb_row3_col8\" class=\"data row3 col8\" >0.000000</td>\n",
       "      <td id=\"T_288eb_row3_col9\" class=\"data row3 col9\" >2.678710</td>\n",
       "      <td id=\"T_288eb_row3_col10\" class=\"data row3 col10\" >3.054200</td>\n",
       "      <td id=\"T_288eb_row3_col11\" class=\"data row3 col11\" >0.000000</td>\n",
       "      <td id=\"T_288eb_row3_col12\" class=\"data row3 col12\" >0.000000</td>\n",
       "      <td id=\"T_288eb_row3_col13\" class=\"data row3 col13\" >2.738210</td>\n",
       "    </tr>\n",
       "    <tr>\n",
       "      <th id=\"T_288eb_level0_row4\" class=\"row_heading level0 row4\" >25%</th>\n",
       "      <td id=\"T_288eb_row4_col0\" class=\"data row4 col0\" >5.201395</td>\n",
       "      <td id=\"T_288eb_row4_col1\" class=\"data row4 col1\" >0.000000</td>\n",
       "      <td id=\"T_288eb_row4_col2\" class=\"data row4 col2\" >5.182615</td>\n",
       "      <td id=\"T_288eb_row4_col3\" class=\"data row4 col3\" >0.521930</td>\n",
       "      <td id=\"T_288eb_row4_col4\" class=\"data row4 col4\" >46.183730</td>\n",
       "      <td id=\"T_288eb_row4_col5\" class=\"data row4 col5\" >5.755025</td>\n",
       "      <td id=\"T_288eb_row4_col6\" class=\"data row4 col6\" >63.896465</td>\n",
       "      <td id=\"T_288eb_row4_col7\" class=\"data row4 col7\" >44.512470</td>\n",
       "      <td id=\"T_288eb_row4_col8\" class=\"data row4 col8\" >40.436145</td>\n",
       "      <td id=\"T_288eb_row4_col9\" class=\"data row4 col9\" >5.805255</td>\n",
       "      <td id=\"T_288eb_row4_col10\" class=\"data row4 col10\" >5.788715</td>\n",
       "      <td id=\"T_288eb_row4_col11\" class=\"data row4 col11\" >5.669255</td>\n",
       "      <td id=\"T_288eb_row4_col12\" class=\"data row4 col12\" >0.000000</td>\n",
       "      <td id=\"T_288eb_row4_col13\" class=\"data row4 col13\" >5.808145</td>\n",
       "    </tr>\n",
       "    <tr>\n",
       "      <th id=\"T_288eb_level0_row5\" class=\"row_heading level0 row5\" >50%</th>\n",
       "      <td id=\"T_288eb_row5_col0\" class=\"data row5 col0\" >6.237880</td>\n",
       "      <td id=\"T_288eb_row5_col1\" class=\"data row5 col1\" >0.000000</td>\n",
       "      <td id=\"T_288eb_row5_col2\" class=\"data row5 col2\" >6.363060</td>\n",
       "      <td id=\"T_288eb_row5_col3\" class=\"data row5 col3\" >0.776160</td>\n",
       "      <td id=\"T_288eb_row5_col4\" class=\"data row5 col4\" >70.018130</td>\n",
       "      <td id=\"T_288eb_row5_col5\" class=\"data row5 col5\" >7.028140</td>\n",
       "      <td id=\"T_288eb_row5_col6\" class=\"data row5 col6\" >78.169260</td>\n",
       "      <td id=\"T_288eb_row5_col7\" class=\"data row5 col7\" >52.343359</td>\n",
       "      <td id=\"T_288eb_row5_col8\" class=\"data row5 col8\" >48.987710</td>\n",
       "      <td id=\"T_288eb_row5_col9\" class=\"data row5 col9\" >6.477380</td>\n",
       "      <td id=\"T_288eb_row5_col10\" class=\"data row5 col10\" >6.472280</td>\n",
       "      <td id=\"T_288eb_row5_col11\" class=\"data row5 col11\" >6.996890</td>\n",
       "      <td id=\"T_288eb_row5_col12\" class=\"data row5 col12\" >1.000000</td>\n",
       "      <td id=\"T_288eb_row5_col13\" class=\"data row5 col13\" >6.475601</td>\n",
       "    </tr>\n",
       "    <tr>\n",
       "      <th id=\"T_288eb_level0_row6\" class=\"row_heading level0 row6\" >75%</th>\n",
       "      <td id=\"T_288eb_row6_col0\" class=\"data row6 col0\" >7.664480</td>\n",
       "      <td id=\"T_288eb_row6_col1\" class=\"data row6 col1\" >1.000000</td>\n",
       "      <td id=\"T_288eb_row6_col2\" class=\"data row6 col2\" >7.689935</td>\n",
       "      <td id=\"T_288eb_row6_col3\" class=\"data row6 col3\" >1.342655</td>\n",
       "      <td id=\"T_288eb_row6_col4\" class=\"data row6 col4\" >93.175640</td>\n",
       "      <td id=\"T_288eb_row6_col5\" class=\"data row6 col5\" >8.048735</td>\n",
       "      <td id=\"T_288eb_row6_col6\" class=\"data row6 col6\" >84.964250</td>\n",
       "      <td id=\"T_288eb_row6_col7\" class=\"data row6 col7\" >60.248820</td>\n",
       "      <td id=\"T_288eb_row6_col8\" class=\"data row6 col8\" >57.741575</td>\n",
       "      <td id=\"T_288eb_row6_col9\" class=\"data row6 col9\" >7.145290</td>\n",
       "      <td id=\"T_288eb_row6_col10\" class=\"data row6 col10\" >7.139405</td>\n",
       "      <td id=\"T_288eb_row6_col11\" class=\"data row6 col11\" >8.075065</td>\n",
       "      <td id=\"T_288eb_row6_col12\" class=\"data row6 col12\" >1.000000</td>\n",
       "      <td id=\"T_288eb_row6_col13\" class=\"data row6 col13\" >7.144690</td>\n",
       "    </tr>\n",
       "    <tr>\n",
       "      <th id=\"T_288eb_level0_row7\" class=\"row_heading level0 row7\" >max</th>\n",
       "      <td id=\"T_288eb_row7_col0\" class=\"data row7 col0\" >13.633550</td>\n",
       "      <td id=\"T_288eb_row7_col1\" class=\"data row7 col1\" >1.000000</td>\n",
       "      <td id=\"T_288eb_row7_col2\" class=\"data row7 col2\" >12.694630</td>\n",
       "      <td id=\"T_288eb_row7_col3\" class=\"data row7 col3\" >100.000000</td>\n",
       "      <td id=\"T_288eb_row7_col4\" class=\"data row7 col4\" >188.436090</td>\n",
       "      <td id=\"T_288eb_row7_col5\" class=\"data row7 col5\" >12.733320</td>\n",
       "      <td id=\"T_288eb_row7_col6\" class=\"data row7 col6\" >100.000000</td>\n",
       "      <td id=\"T_288eb_row7_col7\" class=\"data row7 col7\" >100.000000</td>\n",
       "      <td id=\"T_288eb_row7_col8\" class=\"data row7 col8\" >100.000000</td>\n",
       "      <td id=\"T_288eb_row7_col9\" class=\"data row7 col9\" >11.426920</td>\n",
       "      <td id=\"T_288eb_row7_col10\" class=\"data row7 col10\" >10.112330</td>\n",
       "      <td id=\"T_288eb_row7_col11\" class=\"data row7 col11\" >12.595220</td>\n",
       "      <td id=\"T_288eb_row7_col12\" class=\"data row7 col12\" >1.000000</td>\n",
       "      <td id=\"T_288eb_row7_col13\" class=\"data row7 col13\" >10.361820</td>\n",
       "    </tr>\n",
       "  </tbody>\n",
       "</table>\n"
      ],
      "text/plain": [
       "<pandas.io.formats.style.Styler at 0x7fe501d73a30>"
      ]
     },
     "execution_count": 580,
     "metadata": {},
     "output_type": "execute_result"
    }
   ],
   "source": [
    "desc_stat_table = dataset_mean.select_dtypes(include=[np.float64])\n",
    "desc_stat = dataset_mean.describe()\n",
    "desc_stat.style"
   ]
  },
  {
   "cell_type": "markdown",
   "metadata": {
    "pycharm": {
     "name": "#%% md\n"
    }
   },
   "source": []
  },
  {
   "cell_type": "code",
   "execution_count": 581,
   "metadata": {
    "pycharm": {
     "name": "#%%\n"
    }
   },
   "outputs": [
    {
     "data": {
      "image/png": "[encoded data removed]",
      "text/plain": [
       "<Figure size 864x432 with 6 Axes>"
      ]
     },
     "metadata": {
      "needs_background": "light"
     },
     "output_type": "display_data"
    }
   ],
   "source": [
    "difference_graphs(dataset_mean)"
   ]
  },
  {
   "cell_type": "markdown",
   "metadata": {},
   "source": [
    "#### Nahradenie chýbajúcej hodnoty pomocou lineárnej regresie"
   ]
  },
  {
   "cell_type": "code",
   "execution_count": 582,
   "metadata": {
    "pycharm": {
     "name": "#%%\n"
    }
   },
   "outputs": [
    {
     "name": "stdout",
     "output_type": "stream",
     "text": [
      "<class 'pandas.core.frame.DataFrame'>\n",
      "RangeIndex: 10039 entries, 0 to 10038\n",
      "Data columns (total 17 columns):\n",
      " #   Column        Non-Null Count  Dtype  \n",
      "---  ------        --------------  -----  \n",
      " 0   name          10039 non-null  object \n",
      " 1   hematokrit    10008 non-null  float64\n",
      " 2   smoker        10039 non-null  int64  \n",
      " 3   leukocyty     10009 non-null  float64\n",
      " 4   relationship  10039 non-null  object \n",
      " 5   ssn           10039 non-null  object \n",
      " 6   alt           10009 non-null  float64\n",
      " 7   weight        10039 non-null  float64\n",
      " 8   erytrocyty    10009 non-null  float64\n",
      " 9   alp           10008 non-null  float64\n",
      " 10  ast           10009 non-null  float64\n",
      " 11  er-cv         10009 non-null  float64\n",
      " 12  etytr         10008 non-null  float64\n",
      " 13  hemoglobin    10009 non-null  float64\n",
      " 14  trombocyty    10009 non-null  float64\n",
      " 15  indicator     10039 non-null  float64\n",
      " 16  hbver         10009 non-null  float64\n",
      "dtypes: float64(13), int64(1), object(3)\n",
      "memory usage: 1.3+ MB\n"
     ]
    }
   ],
   "source": [
    "dataset.info()"
   ]
  },
  {
   "cell_type": "code",
   "execution_count": 583,
   "metadata": {
    "pycharm": {
     "name": "#%%\n"
    }
   },
   "outputs": [],
   "source": [
    "temp_dataset = dataset[dataset.describe().columns]\n",
    "imp=KNNImputer()\n",
    "dataset_knn=pd.DataFrame(imp.fit_transform(temp_dataset))\n",
    "dataset_knn.columns=temp_dataset.columns\n",
    "dataset_knn.index=temp_dataset.index"
   ]
  },
  {
   "cell_type": "code",
   "execution_count": 584,
   "metadata": {
    "pycharm": {
     "name": "#%%\n"
    }
   },
   "outputs": [
    {
     "name": "stdout",
     "output_type": "stream",
     "text": [
      "<class 'pandas.core.frame.DataFrame'>\n",
      "RangeIndex: 10039 entries, 0 to 10038\n",
      "Data columns (total 14 columns):\n",
      " #   Column      Non-Null Count  Dtype  \n",
      "---  ------      --------------  -----  \n",
      " 0   hematokrit  10039 non-null  float64\n",
      " 1   smoker      10039 non-null  float64\n",
      " 2   leukocyty   10039 non-null  float64\n",
      " 3   alt         10039 non-null  float64\n",
      " 4   weight      10039 non-null  float64\n",
      " 5   erytrocyty  10039 non-null  float64\n",
      " 6   alp         10039 non-null  float64\n",
      " 7   ast         10039 non-null  float64\n",
      " 8   er-cv       10039 non-null  float64\n",
      " 9   etytr       10039 non-null  float64\n",
      " 10  hemoglobin  10039 non-null  float64\n",
      " 11  trombocyty  10039 non-null  float64\n",
      " 12  indicator   10039 non-null  float64\n",
      " 13  hbver       10039 non-null  float64\n",
      "dtypes: float64(14)\n",
      "memory usage: 1.1 MB\n"
     ]
    }
   ],
   "source": [
    "dataset_knn.info()"
   ]
  },
  {
   "cell_type": "code",
   "execution_count": 585,
   "metadata": {
    "pycharm": {
     "name": "#%%\n"
    }
   },
   "outputs": [
    {
     "data": {
      "text/html": [
       "<style type=\"text/css\">\n",
       "</style>\n",
       "<table id=\"T_91c14_\">\n",
       "  <thead>\n",
       "    <tr>\n",
       "      <th class=\"blank level0\" >&nbsp;</th>\n",
       "      <th class=\"col_heading level0 col0\" >hematokrit</th>\n",
       "      <th class=\"col_heading level0 col1\" >smoker</th>\n",
       "      <th class=\"col_heading level0 col2\" >leukocyty</th>\n",
       "      <th class=\"col_heading level0 col3\" >alt</th>\n",
       "      <th class=\"col_heading level0 col4\" >weight</th>\n",
       "      <th class=\"col_heading level0 col5\" >erytrocyty</th>\n",
       "      <th class=\"col_heading level0 col6\" >alp</th>\n",
       "      <th class=\"col_heading level0 col7\" >ast</th>\n",
       "      <th class=\"col_heading level0 col8\" >er-cv</th>\n",
       "      <th class=\"col_heading level0 col9\" >etytr</th>\n",
       "      <th class=\"col_heading level0 col10\" >hemoglobin</th>\n",
       "      <th class=\"col_heading level0 col11\" >trombocyty</th>\n",
       "      <th class=\"col_heading level0 col12\" >indicator</th>\n",
       "      <th class=\"col_heading level0 col13\" >hbver</th>\n",
       "    </tr>\n",
       "  </thead>\n",
       "  <tbody>\n",
       "    <tr>\n",
       "      <th id=\"T_91c14_level0_row0\" class=\"row_heading level0 row0\" >count</th>\n",
       "      <td id=\"T_91c14_row0_col0\" class=\"data row0 col0\" >10039.000000</td>\n",
       "      <td id=\"T_91c14_row0_col1\" class=\"data row0 col1\" >10039.000000</td>\n",
       "      <td id=\"T_91c14_row0_col2\" class=\"data row0 col2\" >10039.000000</td>\n",
       "      <td id=\"T_91c14_row0_col3\" class=\"data row0 col3\" >10039.000000</td>\n",
       "      <td id=\"T_91c14_row0_col4\" class=\"data row0 col4\" >10039.000000</td>\n",
       "      <td id=\"T_91c14_row0_col5\" class=\"data row0 col5\" >10039.000000</td>\n",
       "      <td id=\"T_91c14_row0_col6\" class=\"data row0 col6\" >10039.000000</td>\n",
       "      <td id=\"T_91c14_row0_col7\" class=\"data row0 col7\" >10039.000000</td>\n",
       "      <td id=\"T_91c14_row0_col8\" class=\"data row0 col8\" >10039.000000</td>\n",
       "      <td id=\"T_91c14_row0_col9\" class=\"data row0 col9\" >10039.000000</td>\n",
       "      <td id=\"T_91c14_row0_col10\" class=\"data row0 col10\" >10039.000000</td>\n",
       "      <td id=\"T_91c14_row0_col11\" class=\"data row0 col11\" >10039.000000</td>\n",
       "      <td id=\"T_91c14_row0_col12\" class=\"data row0 col12\" >10039.000000</td>\n",
       "      <td id=\"T_91c14_row0_col13\" class=\"data row0 col13\" >10039.000000</td>\n",
       "    </tr>\n",
       "    <tr>\n",
       "      <th id=\"T_91c14_level0_row1\" class=\"row_heading level0 row1\" >mean</th>\n",
       "      <td id=\"T_91c14_row1_col0\" class=\"data row1 col0\" >6.453299</td>\n",
       "      <td id=\"T_91c14_row1_col1\" class=\"data row1 col1\" >0.397151</td>\n",
       "      <td id=\"T_91c14_row1_col2\" class=\"data row1 col2\" >6.450335</td>\n",
       "      <td id=\"T_91c14_row1_col3\" class=\"data row1 col3\" >1.305379</td>\n",
       "      <td id=\"T_91c14_row1_col4\" class=\"data row1 col4\" >69.805192</td>\n",
       "      <td id=\"T_91c14_row1_col5\" class=\"data row1 col5\" >6.899219</td>\n",
       "      <td id=\"T_91c14_row1_col6\" class=\"data row1 col6\" >71.951744</td>\n",
       "      <td id=\"T_91c14_row1_col7\" class=\"data row1 col7\" >52.344764</td>\n",
       "      <td id=\"T_91c14_row1_col8\" class=\"data row1 col8\" >49.057808</td>\n",
       "      <td id=\"T_91c14_row1_col9\" class=\"data row1 col9\" >6.476673</td>\n",
       "      <td id=\"T_91c14_row1_col10\" class=\"data row1 col10\" >6.464171</td>\n",
       "      <td id=\"T_91c14_row1_col11\" class=\"data row1 col11\" >6.828220</td>\n",
       "      <td id=\"T_91c14_row1_col12\" class=\"data row1 col12\" >0.642295</td>\n",
       "      <td id=\"T_91c14_row1_col13\" class=\"data row1 col13\" >6.475636</td>\n",
       "    </tr>\n",
       "    <tr>\n",
       "      <th id=\"T_91c14_level0_row2\" class=\"row_heading level0 row2\" >std</th>\n",
       "      <td id=\"T_91c14_row2_col0\" class=\"data row2 col0\" >1.663900</td>\n",
       "      <td id=\"T_91c14_row2_col1\" class=\"data row2 col1\" >0.489332</td>\n",
       "      <td id=\"T_91c14_row2_col2\" class=\"data row2 col2\" >1.698423</td>\n",
       "      <td id=\"T_91c14_row2_col3\" class=\"data row2 col3\" >2.077883</td>\n",
       "      <td id=\"T_91c14_row2_col4\" class=\"data row2 col4\" >35.581044</td>\n",
       "      <td id=\"T_91c14_row2_col5\" class=\"data row2 col5\" >1.604007</td>\n",
       "      <td id=\"T_91c14_row2_col6\" class=\"data row2 col6\" >18.085580</td>\n",
       "      <td id=\"T_91c14_row2_col7\" class=\"data row2 col7\" >11.867875</td>\n",
       "      <td id=\"T_91c14_row2_col8\" class=\"data row2 col8\" >13.069799</td>\n",
       "      <td id=\"T_91c14_row2_col9\" class=\"data row2 col9\" >0.992852</td>\n",
       "      <td id=\"T_91c14_row2_col10\" class=\"data row2 col10\" >1.004901</td>\n",
       "      <td id=\"T_91c14_row2_col11\" class=\"data row2 col11\" >1.732407</td>\n",
       "      <td id=\"T_91c14_row2_col12\" class=\"data row2 col12\" >0.479349</td>\n",
       "      <td id=\"T_91c14_row2_col13\" class=\"data row2 col13\" >1.003313</td>\n",
       "    </tr>\n",
       "    <tr>\n",
       "      <th id=\"T_91c14_level0_row3\" class=\"row_heading level0 row3\" >min</th>\n",
       "      <td id=\"T_91c14_row3_col0\" class=\"data row3 col0\" >0.683890</td>\n",
       "      <td id=\"T_91c14_row3_col1\" class=\"data row3 col1\" >0.000000</td>\n",
       "      <td id=\"T_91c14_row3_col2\" class=\"data row3 col2\" >0.979140</td>\n",
       "      <td id=\"T_91c14_row3_col3\" class=\"data row3 col3\" >0.000000</td>\n",
       "      <td id=\"T_91c14_row3_col4\" class=\"data row3 col4\" >-59.892790</td>\n",
       "      <td id=\"T_91c14_row3_col5\" class=\"data row3 col5\" >1.811270</td>\n",
       "      <td id=\"T_91c14_row3_col6\" class=\"data row3 col6\" >0.000000</td>\n",
       "      <td id=\"T_91c14_row3_col7\" class=\"data row3 col7\" >0.000000</td>\n",
       "      <td id=\"T_91c14_row3_col8\" class=\"data row3 col8\" >0.000000</td>\n",
       "      <td id=\"T_91c14_row3_col9\" class=\"data row3 col9\" >2.678710</td>\n",
       "      <td id=\"T_91c14_row3_col10\" class=\"data row3 col10\" >3.054200</td>\n",
       "      <td id=\"T_91c14_row3_col11\" class=\"data row3 col11\" >0.000000</td>\n",
       "      <td id=\"T_91c14_row3_col12\" class=\"data row3 col12\" >0.000000</td>\n",
       "      <td id=\"T_91c14_row3_col13\" class=\"data row3 col13\" >2.738210</td>\n",
       "    </tr>\n",
       "    <tr>\n",
       "      <th id=\"T_91c14_level0_row4\" class=\"row_heading level0 row4\" >25%</th>\n",
       "      <td id=\"T_91c14_row4_col0\" class=\"data row4 col0\" >5.200780</td>\n",
       "      <td id=\"T_91c14_row4_col1\" class=\"data row4 col1\" >0.000000</td>\n",
       "      <td id=\"T_91c14_row4_col2\" class=\"data row4 col2\" >5.182090</td>\n",
       "      <td id=\"T_91c14_row4_col3\" class=\"data row4 col3\" >0.521925</td>\n",
       "      <td id=\"T_91c14_row4_col4\" class=\"data row4 col4\" >46.183730</td>\n",
       "      <td id=\"T_91c14_row4_col5\" class=\"data row4 col5\" >5.754635</td>\n",
       "      <td id=\"T_91c14_row4_col6\" class=\"data row4 col6\" >63.858900</td>\n",
       "      <td id=\"T_91c14_row4_col7\" class=\"data row4 col7\" >44.508395</td>\n",
       "      <td id=\"T_91c14_row4_col8\" class=\"data row4 col8\" >40.422950</td>\n",
       "      <td id=\"T_91c14_row4_col9\" class=\"data row4 col9\" >5.804560</td>\n",
       "      <td id=\"T_91c14_row4_col10\" class=\"data row4 col10\" >5.788555</td>\n",
       "      <td id=\"T_91c14_row4_col11\" class=\"data row4 col11\" >5.667885</td>\n",
       "      <td id=\"T_91c14_row4_col12\" class=\"data row4 col12\" >0.000000</td>\n",
       "      <td id=\"T_91c14_row4_col13\" class=\"data row4 col13\" >5.808030</td>\n",
       "    </tr>\n",
       "    <tr>\n",
       "      <th id=\"T_91c14_level0_row5\" class=\"row_heading level0 row5\" >50%</th>\n",
       "      <td id=\"T_91c14_row5_col0\" class=\"data row5 col0\" >6.228380</td>\n",
       "      <td id=\"T_91c14_row5_col1\" class=\"data row5 col1\" >0.000000</td>\n",
       "      <td id=\"T_91c14_row5_col2\" class=\"data row5 col2\" >6.352150</td>\n",
       "      <td id=\"T_91c14_row5_col3\" class=\"data row5 col3\" >0.774260</td>\n",
       "      <td id=\"T_91c14_row5_col4\" class=\"data row5 col4\" >70.018130</td>\n",
       "      <td id=\"T_91c14_row5_col5\" class=\"data row5 col5\" >7.036380</td>\n",
       "      <td id=\"T_91c14_row5_col6\" class=\"data row5 col6\" >78.182920</td>\n",
       "      <td id=\"T_91c14_row5_col7\" class=\"data row5 col7\" >52.376500</td>\n",
       "      <td id=\"T_91c14_row5_col8\" class=\"data row5 col8\" >48.922860</td>\n",
       "      <td id=\"T_91c14_row5_col9\" class=\"data row5 col9\" >6.480240</td>\n",
       "      <td id=\"T_91c14_row5_col10\" class=\"data row5 col10\" >6.474590</td>\n",
       "      <td id=\"T_91c14_row5_col11\" class=\"data row5 col11\" >7.000970</td>\n",
       "      <td id=\"T_91c14_row5_col12\" class=\"data row5 col12\" >1.000000</td>\n",
       "      <td id=\"T_91c14_row5_col13\" class=\"data row5 col13\" >6.478430</td>\n",
       "    </tr>\n",
       "    <tr>\n",
       "      <th id=\"T_91c14_level0_row6\" class=\"row_heading level0 row6\" >75%</th>\n",
       "      <td id=\"T_91c14_row6_col0\" class=\"data row6 col0\" >7.664870</td>\n",
       "      <td id=\"T_91c14_row6_col1\" class=\"data row6 col1\" >1.000000</td>\n",
       "      <td id=\"T_91c14_row6_col2\" class=\"data row6 col2\" >7.690450</td>\n",
       "      <td id=\"T_91c14_row6_col3\" class=\"data row6 col3\" >1.343930</td>\n",
       "      <td id=\"T_91c14_row6_col4\" class=\"data row6 col4\" >93.175640</td>\n",
       "      <td id=\"T_91c14_row6_col5\" class=\"data row6 col5\" >8.050015</td>\n",
       "      <td id=\"T_91c14_row6_col6\" class=\"data row6 col6\" >84.964250</td>\n",
       "      <td id=\"T_91c14_row6_col7\" class=\"data row6 col7\" >60.274460</td>\n",
       "      <td id=\"T_91c14_row6_col8\" class=\"data row6 col8\" >57.753990</td>\n",
       "      <td id=\"T_91c14_row6_col9\" class=\"data row6 col9\" >7.145585</td>\n",
       "      <td id=\"T_91c14_row6_col10\" class=\"data row6 col10\" >7.139715</td>\n",
       "      <td id=\"T_91c14_row6_col11\" class=\"data row6 col11\" >8.077000</td>\n",
       "      <td id=\"T_91c14_row6_col12\" class=\"data row6 col12\" >1.000000</td>\n",
       "      <td id=\"T_91c14_row6_col13\" class=\"data row6 col13\" >7.145240</td>\n",
       "    </tr>\n",
       "    <tr>\n",
       "      <th id=\"T_91c14_level0_row7\" class=\"row_heading level0 row7\" >max</th>\n",
       "      <td id=\"T_91c14_row7_col0\" class=\"data row7 col0\" >13.633550</td>\n",
       "      <td id=\"T_91c14_row7_col1\" class=\"data row7 col1\" >1.000000</td>\n",
       "      <td id=\"T_91c14_row7_col2\" class=\"data row7 col2\" >12.694630</td>\n",
       "      <td id=\"T_91c14_row7_col3\" class=\"data row7 col3\" >100.000000</td>\n",
       "      <td id=\"T_91c14_row7_col4\" class=\"data row7 col4\" >188.436090</td>\n",
       "      <td id=\"T_91c14_row7_col5\" class=\"data row7 col5\" >12.733320</td>\n",
       "      <td id=\"T_91c14_row7_col6\" class=\"data row7 col6\" >100.000000</td>\n",
       "      <td id=\"T_91c14_row7_col7\" class=\"data row7 col7\" >100.000000</td>\n",
       "      <td id=\"T_91c14_row7_col8\" class=\"data row7 col8\" >100.000000</td>\n",
       "      <td id=\"T_91c14_row7_col9\" class=\"data row7 col9\" >11.426920</td>\n",
       "      <td id=\"T_91c14_row7_col10\" class=\"data row7 col10\" >10.112330</td>\n",
       "      <td id=\"T_91c14_row7_col11\" class=\"data row7 col11\" >12.595220</td>\n",
       "      <td id=\"T_91c14_row7_col12\" class=\"data row7 col12\" >1.000000</td>\n",
       "      <td id=\"T_91c14_row7_col13\" class=\"data row7 col13\" >10.361820</td>\n",
       "    </tr>\n",
       "  </tbody>\n",
       "</table>\n"
      ],
      "text/plain": [
       "<pandas.io.formats.style.Styler at 0x7fe515c6af10>"
      ]
     },
     "execution_count": 585,
     "metadata": {},
     "output_type": "execute_result"
    }
   ],
   "source": [
    "desc_stat_table = dataset_knn.select_dtypes(include=[np.float64])\n",
    "desc_stat = dataset_knn.describe()\n",
    "desc_stat.style"
   ]
  },
  {
   "cell_type": "markdown",
   "metadata": {},
   "source": [
    "Nahradením chýbajúcich hodnotu lineárnou regresiou sa nám zmenil priemer, medián, ale aj smerodajná odchylka."
   ]
  },
  {
   "cell_type": "code",
   "execution_count": 586,
   "metadata": {
    "pycharm": {
     "name": "#%%\n"
    }
   },
   "outputs": [
    {
     "data": {
      "image/png": "[encoded data removed]",
      "text/plain": [
       "<Figure size 864x432 with 6 Axes>"
      ]
     },
     "metadata": {
      "needs_background": "light"
     },
     "output_type": "display_data"
    }
   ],
   "source": [
    "difference_graphs(dataset_knn)"
   ]
  },
  {
   "cell_type": "markdown",
   "metadata": {},
   "source": [
    "### Nahradenie a odstránenie vychýlených hodnôt"
   ]
  },
  {
   "cell_type": "markdown",
   "metadata": {},
   "source": [
    "#### Odstránenie vychýlených hodnôt pomocou smerodajnej odchýlky"
   ]
  },
  {
   "cell_type": "markdown",
   "metadata": {},
   "source": [
    "Vo funkcii del_outliers() si v premennej outliers uchovávame všetky vychýlené hodnoty. Naopak v premennej outliers_removed si uchovávame dobré hodnoty (tie, ktoré nie sú vychýlené). Funkcia nám vypíše počet vychýlených hodnôt pre každý stĺpec a následne vráti premennú outliers_removed."
   ]
  },
  {
   "cell_type": "code",
   "execution_count": 587,
   "metadata": {
    "pycharm": {
     "name": "#%%\n"
    }
   },
   "outputs": [],
   "source": [
    "def del_outliers(data, column):\n",
    "    data_mean, data_std = np.mean(data), np.std(data)\n",
    "\n",
    "    # define outliers\n",
    "    cut_off = data_std * 3\n",
    "    lower, upper = data_mean - cut_off, data_mean + cut_off\n",
    "\n",
    "    # identify outliers\n",
    "    outliers = [x for x in data if x < lower or x > upper]\n",
    "    print('Počet vychýlených hodnôt v stĺpci ' + column + ': %d' % len(outliers))\n",
    "\n",
    "    outliers_removed = []\n",
    "    for x in data:\n",
    "        if x >= lower and x <= upper:\n",
    "            outliers_removed.append(x)\n",
    "        else:\n",
    "            outliers_removed.append(np.nan)\n",
    "    # remove outliers\n",
    "    #outliers_removed = [x for x in data if x >= lower and x <= upper else np.nan]\n",
    "    return outliers_removed\n",
    "    #print('Non-outlier observations: %d' % len(outliers_removed))"
   ]
  },
  {
   "cell_type": "markdown",
   "metadata": {},
   "source": [
    "Dataset s odstránenými vychýlenými hodnotami si uložíme do premennej deleted_outliers."
   ]
  },
  {
   "cell_type": "code",
   "execution_count": 588,
   "metadata": {
    "pycharm": {
     "name": "#%%\n"
    }
   },
   "outputs": [
    {
     "name": "stdout",
     "output_type": "stream",
     "text": [
      "Počet vychýlených hodnôt v stĺpci hematokrit: 14\n",
      "Počet vychýlených hodnôt v stĺpci leukocyty: 5\n",
      "Počet vychýlených hodnôt v stĺpci alt: 123\n",
      "Počet vychýlených hodnôt v stĺpci erytrocyty: 3\n",
      "Počet vychýlených hodnôt v stĺpci alp: 150\n",
      "Počet vychýlených hodnôt v stĺpci ast: 29\n",
      "Počet vychýlených hodnôt v stĺpci er-cv: 27\n",
      "Počet vychýlených hodnôt v stĺpci etytr: 35\n",
      "Počet vychýlených hodnôt v stĺpci hemoglobin: 31\n",
      "Počet vychýlených hodnôt v stĺpci trombocyty: 21\n",
      "Počet vychýlených hodnôt v stĺpci indicator: 0\n",
      "Počet vychýlených hodnôt v stĺpci hbver: 37\n"
     ]
    }
   ],
   "source": [
    "temp_data = dataset.describe()\n",
    "deleted_outliers = dataset.copy()\n",
    "for col in temp_data.columns:\n",
    "    if col != 'smoker' and col != 'weight':\n",
    "        deleted_outliers[col] = del_outliers(deleted_outliers[col], col)\n",
    "# deleted_outliers.dropna(inplace=True)"
   ]
  },
  {
   "cell_type": "markdown",
   "metadata": {},
   "source": [
    "#### Úprava vychýlených hodnôt pomocou funkcie Winsorize"
   ]
  },
  {
   "cell_type": "markdown",
   "metadata": {},
   "source": [
    "Teraz vyskúšame vychýlené hodnoty nie odstrániť, ale upraviť. To spravíme pomocou funkcie winsorize."
   ]
  },
  {
   "cell_type": "markdown",
   "metadata": {},
   "source": [
    "#### Ako funguje Winsorize:\n",
    "\n",
    "Funkcia winsorize nám nahradí vychýlené hodnoty maximálnými a minimálnymi hodnotami z distribúcie.\n",
    "Najprv sa rozhodnime, koľko údajov chceme zmeniť. Toto je uvedené ako percento nedotknutých údajov.\n",
    "\n",
    "Napríklad, ak chceme chceme zmeniť horných 5% a dolných 5% údajov,\n",
    "rovná sa to 100% – 5% – 5% = 90%. 80% winsorizácia znamená, že 10% údajov je\n",
    "upravených z hornej aj dolnej časti distribúcie.\n",
    "\n",
    "\n",
    "Napríklad:\n",
    "Nasledujúci súbor údajov má niekoľko (tučným písmom) extrémov:\n",
    "\n",
    "{**0.1, 1**, 12, 14, 16, 18, 19, 21, 24, 26, 29, 32, 33, 35, 39, 40, 41, 44, **99, 125**}\n",
    "\n",
    "Priemer = 33,405.\n",
    "\n",
    "Po úprave horných a spodných 10 % (tieto hodnoty som priradil k najbližšiemu extrému):\n",
    "\n",
    "{**12, 12**,12, 14, 16, 18, 19, 21, 24, 26, 29, 32, 33, 35, 39, 40, 41, 44, **44, 44**}\n",
    "\n",
    "80 %-ná winsorizácia:\n",
    "\n",
    "Priemer = 24,95.\n"
   ]
  },
  {
   "cell_type": "markdown",
   "metadata": {},
   "source": [
    "Pre každý stĺpec, ktoré obsahujú číselné hodnoty (okrem smoker a weight) sa vykoná funkcia winsorize."
   ]
  },
  {
   "cell_type": "code",
   "execution_count": 589,
   "metadata": {
    "pycharm": {
     "name": "#%%\n"
    }
   },
   "outputs": [],
   "source": [
    "winsorized = dataset.copy()\n",
    "temp_data = dataset.describe()\n",
    "for col in temp_data.columns:\n",
    "    if col != 'smoker' and col != 'weight':\n",
    "        winsorized[col] = sc.stats.mstats.winsorize(winsorized[col], limits=[0.05,0.05])"
   ]
  },
  {
   "cell_type": "markdown",
   "metadata": {},
   "source": [
    "Porovnajme pôvodoný dataset, dataset s odstráneými hodnotami a dataset s upravenými hodnotami:"
   ]
  },
  {
   "cell_type": "code",
   "execution_count": 590,
   "metadata": {
    "pycharm": {
     "name": "#%%\n"
    }
   },
   "outputs": [
    {
     "name": "stdout",
     "output_type": "stream",
     "text": [
      "--------------------------------------Pôvodný dataset-------------------------------------------\n"
     ]
    },
    {
     "data": {
      "text/html": [
       "<div>\n",
       "<style scoped>\n",
       "    .dataframe tbody tr th:only-of-type {\n",
       "        vertical-align: middle;\n",
       "    }\n",
       "\n",
       "    .dataframe tbody tr th {\n",
       "        vertical-align: top;\n",
       "    }\n",
       "\n",
       "    .dataframe thead th {\n",
       "        text-align: right;\n",
       "    }\n",
       "</style>\n",
       "<table border=\"1\" class=\"dataframe\">\n",
       "  <thead>\n",
       "    <tr style=\"text-align: right;\">\n",
       "      <th></th>\n",
       "      <th>hematokrit</th>\n",
       "      <th>smoker</th>\n",
       "      <th>leukocyty</th>\n",
       "      <th>alt</th>\n",
       "      <th>weight</th>\n",
       "      <th>erytrocyty</th>\n",
       "      <th>alp</th>\n",
       "      <th>ast</th>\n",
       "      <th>er-cv</th>\n",
       "      <th>etytr</th>\n",
       "      <th>hemoglobin</th>\n",
       "      <th>trombocyty</th>\n",
       "      <th>indicator</th>\n",
       "      <th>hbver</th>\n",
       "    </tr>\n",
       "  </thead>\n",
       "  <tbody>\n",
       "    <tr>\n",
       "      <th>count</th>\n",
       "      <td>10008.000000</td>\n",
       "      <td>10039.000000</td>\n",
       "      <td>10009.000000</td>\n",
       "      <td>10009.000000</td>\n",
       "      <td>10039.000000</td>\n",
       "      <td>10009.000000</td>\n",
       "      <td>10008.000000</td>\n",
       "      <td>10009.000000</td>\n",
       "      <td>10009.000000</td>\n",
       "      <td>10008.000000</td>\n",
       "      <td>10009.000000</td>\n",
       "      <td>10009.00000</td>\n",
       "      <td>10039.000000</td>\n",
       "      <td>10009.000000</td>\n",
       "    </tr>\n",
       "    <tr>\n",
       "      <th>mean</th>\n",
       "      <td>6.453032</td>\n",
       "      <td>0.397151</td>\n",
       "      <td>6.450274</td>\n",
       "      <td>1.306090</td>\n",
       "      <td>69.805192</td>\n",
       "      <td>6.898802</td>\n",
       "      <td>71.949719</td>\n",
       "      <td>52.343359</td>\n",
       "      <td>49.060376</td>\n",
       "      <td>6.476717</td>\n",
       "      <td>6.464414</td>\n",
       "      <td>6.82846</td>\n",
       "      <td>0.642295</td>\n",
       "      <td>6.475601</td>\n",
       "    </tr>\n",
       "    <tr>\n",
       "      <th>std</th>\n",
       "      <td>1.665991</td>\n",
       "      <td>0.489332</td>\n",
       "      <td>1.700428</td>\n",
       "      <td>2.080683</td>\n",
       "      <td>35.581044</td>\n",
       "      <td>1.605785</td>\n",
       "      <td>18.109229</td>\n",
       "      <td>11.880597</td>\n",
       "      <td>13.084279</td>\n",
       "      <td>0.994156</td>\n",
       "      <td>1.006072</td>\n",
       "      <td>1.73433</td>\n",
       "      <td>0.479349</td>\n",
       "      <td>1.004527</td>\n",
       "    </tr>\n",
       "    <tr>\n",
       "      <th>min</th>\n",
       "      <td>0.683890</td>\n",
       "      <td>0.000000</td>\n",
       "      <td>0.979140</td>\n",
       "      <td>0.000000</td>\n",
       "      <td>-59.892790</td>\n",
       "      <td>1.811270</td>\n",
       "      <td>0.000000</td>\n",
       "      <td>0.000000</td>\n",
       "      <td>0.000000</td>\n",
       "      <td>2.678710</td>\n",
       "      <td>3.054200</td>\n",
       "      <td>0.00000</td>\n",
       "      <td>0.000000</td>\n",
       "      <td>2.738210</td>\n",
       "    </tr>\n",
       "    <tr>\n",
       "      <th>25%</th>\n",
       "      <td>5.197180</td>\n",
       "      <td>0.000000</td>\n",
       "      <td>5.177990</td>\n",
       "      <td>0.521560</td>\n",
       "      <td>46.183730</td>\n",
       "      <td>5.748830</td>\n",
       "      <td>63.818647</td>\n",
       "      <td>44.490180</td>\n",
       "      <td>40.393810</td>\n",
       "      <td>5.802672</td>\n",
       "      <td>5.786020</td>\n",
       "      <td>5.66519</td>\n",
       "      <td>0.000000</td>\n",
       "      <td>5.806840</td>\n",
       "    </tr>\n",
       "    <tr>\n",
       "      <th>50%</th>\n",
       "      <td>6.227605</td>\n",
       "      <td>0.000000</td>\n",
       "      <td>6.352150</td>\n",
       "      <td>0.773820</td>\n",
       "      <td>70.018130</td>\n",
       "      <td>7.036180</td>\n",
       "      <td>78.203065</td>\n",
       "      <td>52.376590</td>\n",
       "      <td>48.923340</td>\n",
       "      <td>6.480035</td>\n",
       "      <td>6.476210</td>\n",
       "      <td>7.00289</td>\n",
       "      <td>1.000000</td>\n",
       "      <td>6.478430</td>\n",
       "    </tr>\n",
       "    <tr>\n",
       "      <th>75%</th>\n",
       "      <td>7.669982</td>\n",
       "      <td>1.000000</td>\n",
       "      <td>7.693890</td>\n",
       "      <td>1.344220</td>\n",
       "      <td>93.175640</td>\n",
       "      <td>8.052080</td>\n",
       "      <td>84.986902</td>\n",
       "      <td>60.275100</td>\n",
       "      <td>57.766910</td>\n",
       "      <td>7.147997</td>\n",
       "      <td>7.140870</td>\n",
       "      <td>8.07872</td>\n",
       "      <td>1.000000</td>\n",
       "      <td>7.147590</td>\n",
       "    </tr>\n",
       "    <tr>\n",
       "      <th>max</th>\n",
       "      <td>13.633550</td>\n",
       "      <td>1.000000</td>\n",
       "      <td>12.694630</td>\n",
       "      <td>100.000000</td>\n",
       "      <td>188.436090</td>\n",
       "      <td>12.733320</td>\n",
       "      <td>100.000000</td>\n",
       "      <td>100.000000</td>\n",
       "      <td>100.000000</td>\n",
       "      <td>11.426920</td>\n",
       "      <td>10.112330</td>\n",
       "      <td>12.59522</td>\n",
       "      <td>1.000000</td>\n",
       "      <td>10.361820</td>\n",
       "    </tr>\n",
       "  </tbody>\n",
       "</table>\n",
       "</div>"
      ],
      "text/plain": [
       "         hematokrit        smoker     leukocyty           alt        weight  \\\n",
       "count  10008.000000  10039.000000  10009.000000  10009.000000  10039.000000   \n",
       "mean       6.453032      0.397151      6.450274      1.306090     69.805192   \n",
       "std        1.665991      0.489332      1.700428      2.080683     35.581044   \n",
       "min        0.683890      0.000000      0.979140      0.000000    -59.892790   \n",
       "25%        5.197180      0.000000      5.177990      0.521560     46.183730   \n",
       "50%        6.227605      0.000000      6.352150      0.773820     70.018130   \n",
       "75%        7.669982      1.000000      7.693890      1.344220     93.175640   \n",
       "max       13.633550      1.000000     12.694630    100.000000    188.436090   \n",
       "\n",
       "         erytrocyty           alp           ast         er-cv         etytr  \\\n",
       "count  10009.000000  10008.000000  10009.000000  10009.000000  10008.000000   \n",
       "mean       6.898802     71.949719     52.343359     49.060376      6.476717   \n",
       "std        1.605785     18.109229     11.880597     13.084279      0.994156   \n",
       "min        1.811270      0.000000      0.000000      0.000000      2.678710   \n",
       "25%        5.748830     63.818647     44.490180     40.393810      5.802672   \n",
       "50%        7.036180     78.203065     52.376590     48.923340      6.480035   \n",
       "75%        8.052080     84.986902     60.275100     57.766910      7.147997   \n",
       "max       12.733320    100.000000    100.000000    100.000000     11.426920   \n",
       "\n",
       "         hemoglobin   trombocyty     indicator         hbver  \n",
       "count  10009.000000  10009.00000  10039.000000  10009.000000  \n",
       "mean       6.464414      6.82846      0.642295      6.475601  \n",
       "std        1.006072      1.73433      0.479349      1.004527  \n",
       "min        3.054200      0.00000      0.000000      2.738210  \n",
       "25%        5.786020      5.66519      0.000000      5.806840  \n",
       "50%        6.476210      7.00289      1.000000      6.478430  \n",
       "75%        7.140870      8.07872      1.000000      7.147590  \n",
       "max       10.112330     12.59522      1.000000     10.361820  "
      ]
     },
     "execution_count": 590,
     "metadata": {},
     "output_type": "execute_result"
    }
   ],
   "source": [
    "print(\"--------------------------------------Pôvodný dataset-------------------------------------------\")\n",
    "dataset.describe()"
   ]
  },
  {
   "cell_type": "code",
   "execution_count": 591,
   "metadata": {
    "pycharm": {
     "name": "#%%\n"
    }
   },
   "outputs": [
    {
     "name": "stdout",
     "output_type": "stream",
     "text": [
      "--------------------------------------Dataset s upravenými hodnotami-------------------------------------------\n"
     ]
    },
    {
     "data": {
      "text/html": [
       "<div>\n",
       "<style scoped>\n",
       "    .dataframe tbody tr th:only-of-type {\n",
       "        vertical-align: middle;\n",
       "    }\n",
       "\n",
       "    .dataframe tbody tr th {\n",
       "        vertical-align: top;\n",
       "    }\n",
       "\n",
       "    .dataframe thead th {\n",
       "        text-align: right;\n",
       "    }\n",
       "</style>\n",
       "<table border=\"1\" class=\"dataframe\">\n",
       "  <thead>\n",
       "    <tr style=\"text-align: right;\">\n",
       "      <th></th>\n",
       "      <th>hematokrit</th>\n",
       "      <th>smoker</th>\n",
       "      <th>leukocyty</th>\n",
       "      <th>alt</th>\n",
       "      <th>weight</th>\n",
       "      <th>erytrocyty</th>\n",
       "      <th>alp</th>\n",
       "      <th>ast</th>\n",
       "      <th>er-cv</th>\n",
       "      <th>etytr</th>\n",
       "      <th>hemoglobin</th>\n",
       "      <th>trombocyty</th>\n",
       "      <th>indicator</th>\n",
       "      <th>hbver</th>\n",
       "    </tr>\n",
       "  </thead>\n",
       "  <tbody>\n",
       "    <tr>\n",
       "      <th>count</th>\n",
       "      <td>10039.000000</td>\n",
       "      <td>10039.000000</td>\n",
       "      <td>10039.000000</td>\n",
       "      <td>10039.000000</td>\n",
       "      <td>10039.000000</td>\n",
       "      <td>10039.000000</td>\n",
       "      <td>10039.000000</td>\n",
       "      <td>10039.000000</td>\n",
       "      <td>10039.000000</td>\n",
       "      <td>10039.000000</td>\n",
       "      <td>10039.000000</td>\n",
       "      <td>10039.000000</td>\n",
       "      <td>10039.000000</td>\n",
       "      <td>10039.000000</td>\n",
       "    </tr>\n",
       "    <tr>\n",
       "      <th>mean</th>\n",
       "      <td>6.459320</td>\n",
       "      <td>0.397151</td>\n",
       "      <td>6.456612</td>\n",
       "      <td>1.153148</td>\n",
       "      <td>69.805192</td>\n",
       "      <td>6.911384</td>\n",
       "      <td>72.433079</td>\n",
       "      <td>52.399636</td>\n",
       "      <td>49.155455</td>\n",
       "      <td>6.484363</td>\n",
       "      <td>6.470261</td>\n",
       "      <td>6.848030</td>\n",
       "      <td>0.642295</td>\n",
       "      <td>6.480217</td>\n",
       "    </tr>\n",
       "    <tr>\n",
       "      <th>std</th>\n",
       "      <td>1.559986</td>\n",
       "      <td>0.489332</td>\n",
       "      <td>1.600537</td>\n",
       "      <td>0.974817</td>\n",
       "      <td>35.581044</td>\n",
       "      <td>1.500056</td>\n",
       "      <td>16.568441</td>\n",
       "      <td>10.832049</td>\n",
       "      <td>11.946261</td>\n",
       "      <td>0.907813</td>\n",
       "      <td>0.923820</td>\n",
       "      <td>1.606626</td>\n",
       "      <td>0.479349</td>\n",
       "      <td>0.917054</td>\n",
       "    </tr>\n",
       "    <tr>\n",
       "      <th>min</th>\n",
       "      <td>4.052670</td>\n",
       "      <td>0.000000</td>\n",
       "      <td>3.799520</td>\n",
       "      <td>0.314460</td>\n",
       "      <td>-59.892790</td>\n",
       "      <td>4.156950</td>\n",
       "      <td>32.524120</td>\n",
       "      <td>32.984730</td>\n",
       "      <td>27.585170</td>\n",
       "      <td>4.862680</td>\n",
       "      <td>4.799480</td>\n",
       "      <td>3.779150</td>\n",
       "      <td>0.000000</td>\n",
       "      <td>4.827710</td>\n",
       "    </tr>\n",
       "    <tr>\n",
       "      <th>25%</th>\n",
       "      <td>5.201395</td>\n",
       "      <td>0.000000</td>\n",
       "      <td>5.182615</td>\n",
       "      <td>0.521930</td>\n",
       "      <td>46.183730</td>\n",
       "      <td>5.755025</td>\n",
       "      <td>63.896465</td>\n",
       "      <td>44.512470</td>\n",
       "      <td>40.436145</td>\n",
       "      <td>5.805255</td>\n",
       "      <td>5.788715</td>\n",
       "      <td>5.669255</td>\n",
       "      <td>0.000000</td>\n",
       "      <td>5.808145</td>\n",
       "    </tr>\n",
       "    <tr>\n",
       "      <th>50%</th>\n",
       "      <td>6.237880</td>\n",
       "      <td>0.000000</td>\n",
       "      <td>6.363060</td>\n",
       "      <td>0.776160</td>\n",
       "      <td>70.018130</td>\n",
       "      <td>7.039000</td>\n",
       "      <td>78.258680</td>\n",
       "      <td>52.430130</td>\n",
       "      <td>48.987710</td>\n",
       "      <td>6.483450</td>\n",
       "      <td>6.478570</td>\n",
       "      <td>7.010380</td>\n",
       "      <td>1.000000</td>\n",
       "      <td>6.481790</td>\n",
       "    </tr>\n",
       "    <tr>\n",
       "      <th>75%</th>\n",
       "      <td>7.684080</td>\n",
       "      <td>1.000000</td>\n",
       "      <td>7.716355</td>\n",
       "      <td>1.354475</td>\n",
       "      <td>93.175640</td>\n",
       "      <td>8.062485</td>\n",
       "      <td>85.046975</td>\n",
       "      <td>60.368165</td>\n",
       "      <td>57.864150</td>\n",
       "      <td>7.155765</td>\n",
       "      <td>7.146075</td>\n",
       "      <td>8.085900</td>\n",
       "      <td>1.000000</td>\n",
       "      <td>7.156050</td>\n",
       "    </tr>\n",
       "    <tr>\n",
       "      <th>max</th>\n",
       "      <td>9.399770</td>\n",
       "      <td>1.000000</td>\n",
       "      <td>9.338690</td>\n",
       "      <td>4.053250</td>\n",
       "      <td>188.436090</td>\n",
       "      <td>9.417820</td>\n",
       "      <td>90.882980</td>\n",
       "      <td>72.119550</td>\n",
       "      <td>70.899590</td>\n",
       "      <td>8.133510</td>\n",
       "      <td>8.148320</td>\n",
       "      <td>9.471360</td>\n",
       "      <td>1.000000</td>\n",
       "      <td>8.122320</td>\n",
       "    </tr>\n",
       "  </tbody>\n",
       "</table>\n",
       "</div>"
      ],
      "text/plain": [
       "         hematokrit        smoker     leukocyty           alt        weight  \\\n",
       "count  10039.000000  10039.000000  10039.000000  10039.000000  10039.000000   \n",
       "mean       6.459320      0.397151      6.456612      1.153148     69.805192   \n",
       "std        1.559986      0.489332      1.600537      0.974817     35.581044   \n",
       "min        4.052670      0.000000      3.799520      0.314460    -59.892790   \n",
       "25%        5.201395      0.000000      5.182615      0.521930     46.183730   \n",
       "50%        6.237880      0.000000      6.363060      0.776160     70.018130   \n",
       "75%        7.684080      1.000000      7.716355      1.354475     93.175640   \n",
       "max        9.399770      1.000000      9.338690      4.053250    188.436090   \n",
       "\n",
       "         erytrocyty           alp           ast         er-cv         etytr  \\\n",
       "count  10039.000000  10039.000000  10039.000000  10039.000000  10039.000000   \n",
       "mean       6.911384     72.433079     52.399636     49.155455      6.484363   \n",
       "std        1.500056     16.568441     10.832049     11.946261      0.907813   \n",
       "min        4.156950     32.524120     32.984730     27.585170      4.862680   \n",
       "25%        5.755025     63.896465     44.512470     40.436145      5.805255   \n",
       "50%        7.039000     78.258680     52.430130     48.987710      6.483450   \n",
       "75%        8.062485     85.046975     60.368165     57.864150      7.155765   \n",
       "max        9.417820     90.882980     72.119550     70.899590      8.133510   \n",
       "\n",
       "         hemoglobin    trombocyty     indicator         hbver  \n",
       "count  10039.000000  10039.000000  10039.000000  10039.000000  \n",
       "mean       6.470261      6.848030      0.642295      6.480217  \n",
       "std        0.923820      1.606626      0.479349      0.917054  \n",
       "min        4.799480      3.779150      0.000000      4.827710  \n",
       "25%        5.788715      5.669255      0.000000      5.808145  \n",
       "50%        6.478570      7.010380      1.000000      6.481790  \n",
       "75%        7.146075      8.085900      1.000000      7.156050  \n",
       "max        8.148320      9.471360      1.000000      8.122320  "
      ]
     },
     "execution_count": 591,
     "metadata": {},
     "output_type": "execute_result"
    }
   ],
   "source": [
    "print(\"--------------------------------------Dataset s upravenými hodnotami-------------------------------------------\")\n",
    "winsorized.describe()"
   ]
  },
  {
   "cell_type": "markdown",
   "metadata": {},
   "source": [
    "Môžeme vidieť, že sa nám zmenili maximálne a minimálne hodnoty. Pred úpravou mali dáta väčší rozsah (v stĺpci hematokrit bolo minimum 0,68 a maximum 13,63). Po úprave majú dáta menší rozsah (v stĺpci hematokrit je teraz minimum 4,05 a maximum 9,39). Zatiaľ čo sa nám zmenil rozsah (minimum a maximum), táto zmena nijak signifikantne neovplyvnila priemer dát."
   ]
  },
  {
   "cell_type": "code",
   "execution_count": 592,
   "metadata": {
    "pycharm": {
     "name": "#%%\n"
    }
   },
   "outputs": [
    {
     "name": "stdout",
     "output_type": "stream",
     "text": [
      "--------------------------------------Dataset s odstránenými hodnotami-------------------------------------------\n"
     ]
    },
    {
     "data": {
      "text/html": [
       "<div>\n",
       "<style scoped>\n",
       "    .dataframe tbody tr th:only-of-type {\n",
       "        vertical-align: middle;\n",
       "    }\n",
       "\n",
       "    .dataframe tbody tr th {\n",
       "        vertical-align: top;\n",
       "    }\n",
       "\n",
       "    .dataframe thead th {\n",
       "        text-align: right;\n",
       "    }\n",
       "</style>\n",
       "<table border=\"1\" class=\"dataframe\">\n",
       "  <thead>\n",
       "    <tr style=\"text-align: right;\">\n",
       "      <th></th>\n",
       "      <th>hematokrit</th>\n",
       "      <th>smoker</th>\n",
       "      <th>leukocyty</th>\n",
       "      <th>alt</th>\n",
       "      <th>weight</th>\n",
       "      <th>erytrocyty</th>\n",
       "      <th>alp</th>\n",
       "      <th>ast</th>\n",
       "      <th>er-cv</th>\n",
       "      <th>etytr</th>\n",
       "      <th>hemoglobin</th>\n",
       "      <th>trombocyty</th>\n",
       "      <th>indicator</th>\n",
       "      <th>hbver</th>\n",
       "    </tr>\n",
       "  </thead>\n",
       "  <tbody>\n",
       "    <tr>\n",
       "      <th>count</th>\n",
       "      <td>9994.000000</td>\n",
       "      <td>10039.000000</td>\n",
       "      <td>10004.000000</td>\n",
       "      <td>9886.000000</td>\n",
       "      <td>10039.000000</td>\n",
       "      <td>10006.000000</td>\n",
       "      <td>9858.000000</td>\n",
       "      <td>9980.000000</td>\n",
       "      <td>9982.000000</td>\n",
       "      <td>9973.000000</td>\n",
       "      <td>9978.000000</td>\n",
       "      <td>9988.000000</td>\n",
       "      <td>10039.000000</td>\n",
       "      <td>9972.000000</td>\n",
       "    </tr>\n",
       "    <tr>\n",
       "      <th>mean</th>\n",
       "      <td>6.446566</td>\n",
       "      <td>0.397151</td>\n",
       "      <td>6.448513</td>\n",
       "      <td>1.150476</td>\n",
       "      <td>69.805192</td>\n",
       "      <td>6.898246</td>\n",
       "      <td>72.848180</td>\n",
       "      <td>52.336281</td>\n",
       "      <td>49.072998</td>\n",
       "      <td>6.476806</td>\n",
       "      <td>6.461917</td>\n",
       "      <td>6.838517</td>\n",
       "      <td>0.642295</td>\n",
       "      <td>6.470150</td>\n",
       "    </tr>\n",
       "    <tr>\n",
       "      <th>std</th>\n",
       "      <td>1.654542</td>\n",
       "      <td>0.489332</td>\n",
       "      <td>1.696028</td>\n",
       "      <td>1.096122</td>\n",
       "      <td>35.581044</td>\n",
       "      <td>1.603436</td>\n",
       "      <td>16.699842</td>\n",
       "      <td>11.693404</td>\n",
       "      <td>12.905859</td>\n",
       "      <td>0.976426</td>\n",
       "      <td>0.991161</td>\n",
       "      <td>1.715132</td>\n",
       "      <td>0.479349</td>\n",
       "      <td>0.986517</td>\n",
       "    </tr>\n",
       "    <tr>\n",
       "      <th>min</th>\n",
       "      <td>1.638490</td>\n",
       "      <td>0.000000</td>\n",
       "      <td>1.734990</td>\n",
       "      <td>0.000000</td>\n",
       "      <td>-59.892790</td>\n",
       "      <td>2.099090</td>\n",
       "      <td>17.667380</td>\n",
       "      <td>16.939980</td>\n",
       "      <td>10.041910</td>\n",
       "      <td>3.496260</td>\n",
       "      <td>3.448960</td>\n",
       "      <td>1.639550</td>\n",
       "      <td>0.000000</td>\n",
       "      <td>3.463950</td>\n",
       "    </tr>\n",
       "    <tr>\n",
       "      <th>25%</th>\n",
       "      <td>5.196603</td>\n",
       "      <td>0.000000</td>\n",
       "      <td>5.177907</td>\n",
       "      <td>0.518940</td>\n",
       "      <td>46.183730</td>\n",
       "      <td>5.749650</td>\n",
       "      <td>64.805808</td>\n",
       "      <td>44.510150</td>\n",
       "      <td>40.438273</td>\n",
       "      <td>5.806230</td>\n",
       "      <td>5.787620</td>\n",
       "      <td>5.671335</td>\n",
       "      <td>0.000000</td>\n",
       "      <td>5.806870</td>\n",
       "    </tr>\n",
       "    <tr>\n",
       "      <th>50%</th>\n",
       "      <td>6.224495</td>\n",
       "      <td>0.000000</td>\n",
       "      <td>6.351070</td>\n",
       "      <td>0.764770</td>\n",
       "      <td>70.018130</td>\n",
       "      <td>7.036000</td>\n",
       "      <td>78.471375</td>\n",
       "      <td>52.376545</td>\n",
       "      <td>48.927910</td>\n",
       "      <td>6.480160</td>\n",
       "      <td>6.475440</td>\n",
       "      <td>7.005975</td>\n",
       "      <td>1.000000</td>\n",
       "      <td>6.476170</td>\n",
       "    </tr>\n",
       "    <tr>\n",
       "      <th>75%</th>\n",
       "      <td>7.664022</td>\n",
       "      <td>1.000000</td>\n",
       "      <td>7.691565</td>\n",
       "      <td>1.307713</td>\n",
       "      <td>93.175640</td>\n",
       "      <td>8.051857</td>\n",
       "      <td>85.076815</td>\n",
       "      <td>60.248820</td>\n",
       "      <td>57.754070</td>\n",
       "      <td>7.145170</td>\n",
       "      <td>7.136963</td>\n",
       "      <td>8.079702</td>\n",
       "      <td>1.000000</td>\n",
       "      <td>7.141455</td>\n",
       "    </tr>\n",
       "    <tr>\n",
       "      <th>max</th>\n",
       "      <td>11.436690</td>\n",
       "      <td>1.000000</td>\n",
       "      <td>11.525610</td>\n",
       "      <td>7.504680</td>\n",
       "      <td>188.436090</td>\n",
       "      <td>11.700850</td>\n",
       "      <td>100.000000</td>\n",
       "      <td>87.866390</td>\n",
       "      <td>88.105970</td>\n",
       "      <td>9.418950</td>\n",
       "      <td>9.452070</td>\n",
       "      <td>11.821450</td>\n",
       "      <td>1.000000</td>\n",
       "      <td>9.485140</td>\n",
       "    </tr>\n",
       "  </tbody>\n",
       "</table>\n",
       "</div>"
      ],
      "text/plain": [
       "        hematokrit        smoker     leukocyty          alt        weight  \\\n",
       "count  9994.000000  10039.000000  10004.000000  9886.000000  10039.000000   \n",
       "mean      6.446566      0.397151      6.448513     1.150476     69.805192   \n",
       "std       1.654542      0.489332      1.696028     1.096122     35.581044   \n",
       "min       1.638490      0.000000      1.734990     0.000000    -59.892790   \n",
       "25%       5.196603      0.000000      5.177907     0.518940     46.183730   \n",
       "50%       6.224495      0.000000      6.351070     0.764770     70.018130   \n",
       "75%       7.664022      1.000000      7.691565     1.307713     93.175640   \n",
       "max      11.436690      1.000000     11.525610     7.504680    188.436090   \n",
       "\n",
       "         erytrocyty          alp          ast        er-cv        etytr  \\\n",
       "count  10006.000000  9858.000000  9980.000000  9982.000000  9973.000000   \n",
       "mean       6.898246    72.848180    52.336281    49.072998     6.476806   \n",
       "std        1.603436    16.699842    11.693404    12.905859     0.976426   \n",
       "min        2.099090    17.667380    16.939980    10.041910     3.496260   \n",
       "25%        5.749650    64.805808    44.510150    40.438273     5.806230   \n",
       "50%        7.036000    78.471375    52.376545    48.927910     6.480160   \n",
       "75%        8.051857    85.076815    60.248820    57.754070     7.145170   \n",
       "max       11.700850   100.000000    87.866390    88.105970     9.418950   \n",
       "\n",
       "        hemoglobin   trombocyty     indicator        hbver  \n",
       "count  9978.000000  9988.000000  10039.000000  9972.000000  \n",
       "mean      6.461917     6.838517      0.642295     6.470150  \n",
       "std       0.991161     1.715132      0.479349     0.986517  \n",
       "min       3.448960     1.639550      0.000000     3.463950  \n",
       "25%       5.787620     5.671335      0.000000     5.806870  \n",
       "50%       6.475440     7.005975      1.000000     6.476170  \n",
       "75%       7.136963     8.079702      1.000000     7.141455  \n",
       "max       9.452070    11.821450      1.000000     9.485140  "
      ]
     },
     "execution_count": 592,
     "metadata": {},
     "output_type": "execute_result"
    }
   ],
   "source": [
    "print(\"--------------------------------------Dataset s odstránenými hodnotami-------------------------------------------\")\n",
    "deleted_outliers.describe()"
   ]
  },
  {
   "cell_type": "markdown",
   "metadata": {},
   "source": [
    "Tu môžeme vidieť, že sa nám taktiež zmenili minimálne a maximálne hodnoty. Dôvodom je, že sme odstránili vychýlené hodnoty, ktoré boli buď príliš veľké alebo príliš malé. Ostatné hodnoty sa nijak signifikantne nezmenili."
   ]
  },
  {
   "cell_type": "markdown",
   "metadata": {},
   "source": [
    "Porovnajme hodnoty v stĺpci **Hematokrit** z pôvodného datasetu, datasetu s upravenými hodnotami a datasetu s odstranenými hodnotami:"
   ]
  },
  {
   "cell_type": "code",
   "execution_count": 593,
   "metadata": {
    "pycharm": {
     "name": "#%%\n"
    }
   },
   "outputs": [
    {
     "data": {
      "text/plain": [
       "(2.0, 12.0, 0.0, 620.0)"
      ]
     },
     "execution_count": 593,
     "metadata": {},
     "output_type": "execute_result"
    },
    {
     "data": {
      "image/png": "[encoded data removed]",
      "text/plain": [
       "<Figure size 864x432 with 3 Axes>"
      ]
     },
     "metadata": {
      "needs_background": "light"
     },
     "output_type": "display_data"
    }
   ],
   "source": [
    "fig, ax=mt.pyplot.subplots(1,3, figsize=(12,6))\n",
    "ax[0].set_title('Pôvodné', fontsize=16)\n",
    "ax[1].set_title('Winsorize', fontsize=16)\n",
    "ax[2].set_title('Odstránenie', fontsize=16)\n",
    "sns.histplot(data=dataset[\"hematokrit\"],ax=ax[0], kde=True)\n",
    "sns.histplot(data=winsorized[\"hematokrit\"], ax=ax[1], kde=True)\n",
    "sns.histplot(data=deleted_outliers[\"hematokrit\"], ax=ax[2], kde=True)\n",
    "plt.axis([2,12,0,620])"
   ]
  },
  {
   "cell_type": "markdown",
   "metadata": {},
   "source": [
    "Ako bolo spomenuté vyššie, priemer dát sa nijak signifikantne nezmenil. Jediné čo sa zmenilo je rozsah dát."
   ]
  },
  {
   "cell_type": "markdown",
   "metadata": {},
   "source": [
    "Porovnajme hodnoty v stĺpci **Leukocyty** z pôvodného datasetu, datasetu s upravenými hodnotami a datasetu s odstranenými hodnotami:"
   ]
  },
  {
   "cell_type": "code",
   "execution_count": 594,
   "metadata": {
    "pycharm": {
     "name": "#%%\n"
    }
   },
   "outputs": [
    {
     "data": {
      "text/plain": [
       "(2.0, 12.0, 0.0, 620.0)"
      ]
     },
     "execution_count": 594,
     "metadata": {},
     "output_type": "execute_result"
    },
    {
     "data": {
      "image/png": "[encoded data removed]",
      "text/plain": [
       "<Figure size 864x432 with 3 Axes>"
      ]
     },
     "metadata": {
      "needs_background": "light"
     },
     "output_type": "display_data"
    }
   ],
   "source": [
    "fig, ax=mt.pyplot.subplots(1,3, figsize=(12,6))\n",
    "ax[0].set_title('Pôvodné', fontsize=16)\n",
    "ax[1].set_title('Winsorize', fontsize=16)\n",
    "ax[2].set_title('Odstránenie', fontsize=16)\n",
    "sns.histplot(data=dataset[\"leukocyty\"],ax=ax[0], kde=True)\n",
    "sns.histplot(data=winsorized[\"leukocyty\"], ax=ax[1], kde=True)\n",
    "sns.histplot(data=deleted_outliers[\"leukocyty\"], ax=ax[2], kde=True)\n",
    "plt.axis([2,12,0,620])"
   ]
  },
  {
   "cell_type": "markdown",
   "metadata": {},
   "source": [
    "Porovnajme hodnoty v stĺpci **Alt** z pôvodného datasetu, datasetu s upravenými hodnotami a datasetu s odstranenými hodnotami:"
   ]
  },
  {
   "cell_type": "code",
   "execution_count": 595,
   "metadata": {
    "pycharm": {
     "name": "#%%\n"
    }
   },
   "outputs": [
    {
     "data": {
      "text/plain": [
       "<AxesSubplot:title={'center':'Odstránenie'}, xlabel='alt', ylabel='Count'>"
      ]
     },
     "execution_count": 595,
     "metadata": {},
     "output_type": "execute_result"
    },
    {
     "data": {
      "image/png": "[encoded data removed]",
      "text/plain": [
       "<Figure size 864x432 with 3 Axes>"
      ]
     },
     "metadata": {
      "needs_background": "light"
     },
     "output_type": "display_data"
    }
   ],
   "source": [
    "fig, ax=mt.pyplot.subplots(1,3, figsize=(12,6))\n",
    "ax[0].set_title('Pôvodné', fontsize=16)\n",
    "ax[1].set_title('Winsorize', fontsize=16)\n",
    "ax[2].set_title('Odstránenie', fontsize=16)\n",
    "sns.histplot(data=dataset[\"alt\"],ax=ax[0], kde=True)\n",
    "sns.histplot(data=winsorized[\"alt\"], ax=ax[1], kde=True)\n",
    "sns.histplot(data=deleted_outliers[\"alt\"], ax=ax[2], kde=True)\n",
    "#plt.axis([2,12,0,620])"
   ]
  },
  {
   "cell_type": "markdown",
   "metadata": {},
   "source": [
    "Ako môžeme vidieť funkcia winsorize znovu upravila rozsah dát. Atribút **alt** mal predtým rozsah od 0 po 100, zatiaľčo pri hodnote 0 až 4 bolo týchto záznamov najviac.\n",
    "\n",
    "Po odstranení sa v datasete taktiež zmenil rozsah dát."
   ]
  },
  {
   "cell_type": "markdown",
   "metadata": {},
   "source": [
    "Porovnajme hodnoty v stĺpci **Erytrocyty** z pôvodného datasetu, datasetu s upravenými hodnotami a datasetu s odstranenými hodnotami:"
   ]
  },
  {
   "cell_type": "code",
   "execution_count": 596,
   "metadata": {
    "pycharm": {
     "name": "#%%\n"
    }
   },
   "outputs": [
    {
     "data": {
      "text/plain": [
       "(2.0, 12.0, 0.0, 620.0)"
      ]
     },
     "execution_count": 596,
     "metadata": {},
     "output_type": "execute_result"
    },
    {
     "data": {
      "image/png": "[encoded data removed]",
      "text/plain": [
       "<Figure size 864x432 with 3 Axes>"
      ]
     },
     "metadata": {
      "needs_background": "light"
     },
     "output_type": "display_data"
    }
   ],
   "source": [
    "fig, ax=mt.pyplot.subplots(1,3, figsize=(12,6))\n",
    "ax[0].set_title('Pôvodné', fontsize=16)\n",
    "ax[1].set_title('Winsorize', fontsize=16)\n",
    "ax[2].set_title('Odstránenie', fontsize=16)\n",
    "sns.histplot(data=dataset[\"erytrocyty\"],ax=ax[0], bins=50, kde=True)\n",
    "sns.histplot(data=winsorized[\"erytrocyty\"], ax=ax[1], bins=50, kde=True)\n",
    "sns.histplot(data=deleted_outliers[\"erytrocyty\"], ax=ax[2], bins=50, kde=True)\n",
    "plt.axis([2,12,0,620])"
   ]
  },
  {
   "cell_type": "markdown",
   "metadata": {},
   "source": [
    "Porovnajme hodnoty v stĺpci **Alp** z pôvodného datasetu, datasetu s upravenými hodnotami a datasetu s odstranenými hodnotami:"
   ]
  },
  {
   "cell_type": "code",
   "execution_count": 597,
   "metadata": {
    "pycharm": {
     "name": "#%%\n"
    }
   },
   "outputs": [
    {
     "data": {
      "text/plain": [
       "<AxesSubplot:title={'center':'Odstránenie'}, xlabel='alp', ylabel='Count'>"
      ]
     },
     "execution_count": 597,
     "metadata": {},
     "output_type": "execute_result"
    },
    {
     "data": {
      "image/png": "[encoded data removed]",
      "text/plain": [
       "<Figure size 864x432 with 3 Axes>"
      ]
     },
     "metadata": {
      "needs_background": "light"
     },
     "output_type": "display_data"
    }
   ],
   "source": [
    "fig, ax=mt.pyplot.subplots(1,3, figsize=(12,6))\n",
    "ax[0].set_title('Pôvodné', fontsize=16)\n",
    "ax[1].set_title('Winsorize', fontsize=16)\n",
    "ax[2].set_title('Odstránenie', fontsize=16)\n",
    "sns.histplot(data=dataset[\"alp\"],ax=ax[0], bins=50, kde=True)\n",
    "sns.histplot(data=winsorized[\"alp\"], ax=ax[1], bins=50, kde=True)\n",
    "sns.histplot(data=deleted_outliers[\"alp\"], ax=ax[2], bins=50, kde=True)\n",
    "#plt.axis([2,12,0,620])"
   ]
  },
  {
   "cell_type": "markdown",
   "metadata": {},
   "source": [
    "Porovnajme hodnoty v stĺpci **Ast** z pôvodného datasetu, datasetu s upravenými hodnotami a datasetu s odstranenými hodnotami:"
   ]
  },
  {
   "cell_type": "code",
   "execution_count": 598,
   "metadata": {
    "pycharm": {
     "name": "#%%\n"
    }
   },
   "outputs": [
    {
     "data": {
      "text/plain": [
       "<AxesSubplot:title={'center':'Odstránenie'}, xlabel='ast', ylabel='Count'>"
      ]
     },
     "execution_count": 598,
     "metadata": {},
     "output_type": "execute_result"
    },
    {
     "data": {
      "image/png": "[encoded data removed]",
      "text/plain": [
       "<Figure size 864x432 with 3 Axes>"
      ]
     },
     "metadata": {
      "needs_background": "light"
     },
     "output_type": "display_data"
    }
   ],
   "source": [
    "fig, ax=mt.pyplot.subplots(1,3, figsize=(12,6))\n",
    "ax[0].set_title('Pôvodné', fontsize=16)\n",
    "ax[1].set_title('Winsorize', fontsize=16)\n",
    "ax[2].set_title('Odstránenie', fontsize=16)\n",
    "sns.histplot(data=dataset[\"ast\"],ax=ax[0], bins=50, kde=True)\n",
    "sns.histplot(data=winsorized[\"ast\"], ax=ax[1], bins=50, kde=True)\n",
    "sns.histplot(data=deleted_outliers[\"ast\"], ax=ax[2], bins=50, kde=True)\n",
    "#plt.axis([2,12,0,620])"
   ]
  },
  {
   "cell_type": "markdown",
   "metadata": {},
   "source": [
    "Porovnajme hodnoty v stĺpci **Er-cv** z pôvodného datasetu, datasetu s upravenými hodnotami a datasetu s odstranenými hodnotami:"
   ]
  },
  {
   "cell_type": "code",
   "execution_count": 599,
   "metadata": {
    "pycharm": {
     "name": "#%%\n"
    }
   },
   "outputs": [
    {
     "data": {
      "text/plain": [
       "<AxesSubplot:title={'center':'Odstránenie'}, xlabel='er-cv', ylabel='Count'>"
      ]
     },
     "execution_count": 599,
     "metadata": {},
     "output_type": "execute_result"
    },
    {
     "data": {
      "image/png": "[encoded data removed]",
      "text/plain": [
       "<Figure size 864x432 with 3 Axes>"
      ]
     },
     "metadata": {
      "needs_background": "light"
     },
     "output_type": "display_data"
    }
   ],
   "source": [
    "fig, ax=mt.pyplot.subplots(1,3, figsize=(12,6))\n",
    "ax[0].set_title('Pôvodné', fontsize=16)\n",
    "ax[1].set_title('Winsorize', fontsize=16)\n",
    "ax[2].set_title('Odstránenie', fontsize=16)\n",
    "sns.histplot(data=dataset[\"er-cv\"],ax=ax[0], bins=50, kde=True)\n",
    "sns.histplot(data=winsorized[\"er-cv\"], ax=ax[1], bins=50, kde=True)\n",
    "sns.histplot(data=deleted_outliers[\"er-cv\"], ax=ax[2], bins=50, kde=True)\n",
    "#plt.axis([2,12,0,620])"
   ]
  },
  {
   "cell_type": "markdown",
   "metadata": {},
   "source": [
    "Porovnajme hodnoty v stĺpci **Etytr** z pôvodného datasetu, datasetu s upravenými hodnotami a datasetu s odstranenými hodnotami:"
   ]
  },
  {
   "cell_type": "code",
   "execution_count": 600,
   "metadata": {
    "pycharm": {
     "name": "#%%\n"
    }
   },
   "outputs": [
    {
     "data": {
      "text/plain": [
       "(2.0, 12.0, 0.0, 620.0)"
      ]
     },
     "execution_count": 600,
     "metadata": {},
     "output_type": "execute_result"
    },
    {
     "data": {
      "image/png": "[encoded data removed]",
      "text/plain": [
       "<Figure size 864x432 with 3 Axes>"
      ]
     },
     "metadata": {
      "needs_background": "light"
     },
     "output_type": "display_data"
    }
   ],
   "source": [
    "fig, ax=mt.pyplot.subplots(1,3, figsize=(12,6))\n",
    "ax[0].set_title('Pôvodné', fontsize=16)\n",
    "ax[1].set_title('Winsorize', fontsize=16)\n",
    "ax[2].set_title('Odstránenie', fontsize=16)\n",
    "sns.histplot(data=dataset[\"etytr\"],ax=ax[0], bins=50, kde=True)\n",
    "sns.histplot(data=winsorized[\"etytr\"], ax=ax[1], bins=50, kde=True)\n",
    "sns.histplot(data=deleted_outliers[\"etytr\"], ax=ax[2], bins=50, kde=True)\n",
    "plt.axis([2,12,0,620])"
   ]
  },
  {
   "cell_type": "markdown",
   "metadata": {},
   "source": [
    "Porovnajme hodnoty v stĺpci **Hemoglobin** z pôvodného datasetu, datasetu s upravenými hodnotami a datasetu s odstranenými hodnotami:"
   ]
  },
  {
   "cell_type": "code",
   "execution_count": 601,
   "metadata": {
    "pycharm": {
     "name": "#%%\n"
    }
   },
   "outputs": [
    {
     "data": {
      "text/plain": [
       "(2.0, 12.0, 0.0, 620.0)"
      ]
     },
     "execution_count": 601,
     "metadata": {},
     "output_type": "execute_result"
    },
    {
     "data": {
      "image/png": "[encoded data removed]",
      "text/plain": [
       "<Figure size 864x432 with 3 Axes>"
      ]
     },
     "metadata": {
      "needs_background": "light"
     },
     "output_type": "display_data"
    }
   ],
   "source": [
    "fig, ax=mt.pyplot.subplots(1,3, figsize=(12,6))\n",
    "ax[0].set_title('Pôvodné', fontsize=16)\n",
    "ax[1].set_title('Winsorize', fontsize=16)\n",
    "ax[2].set_title('Odstránenie', fontsize=16)\n",
    "sns.histplot(data=dataset[\"hemoglobin\"],ax=ax[0], bins=50, kde=True)\n",
    "sns.histplot(data=winsorized[\"hemoglobin\"], ax=ax[1], bins=50, kde=True)\n",
    "sns.histplot(data=deleted_outliers[\"hemoglobin\"], ax=ax[2], bins=50, kde=True)\n",
    "plt.axis([2,12,0,620])"
   ]
  },
  {
   "cell_type": "markdown",
   "metadata": {},
   "source": [
    "Porovnajme hodnoty v stĺpci **Trombocyty** z pôvodného datasetu, datasetu s upravenými hodnotami a datasetu s odstranenými hodnotami:"
   ]
  },
  {
   "cell_type": "code",
   "execution_count": 602,
   "metadata": {
    "pycharm": {
     "name": "#%%\n"
    }
   },
   "outputs": [
    {
     "data": {
      "text/plain": [
       "(2.0, 12.0, 0.0, 620.0)"
      ]
     },
     "execution_count": 602,
     "metadata": {},
     "output_type": "execute_result"
    },
    {
     "data": {
      "image/png": "[encoded data removed]",
      "text/plain": [
       "<Figure size 864x432 with 3 Axes>"
      ]
     },
     "metadata": {
      "needs_background": "light"
     },
     "output_type": "display_data"
    }
   ],
   "source": [
    "fig, ax=mt.pyplot.subplots(1,3, figsize=(12,6))\n",
    "ax[0].set_title('Pôvodné', fontsize=16)\n",
    "ax[1].set_title('Winsorize', fontsize=16)\n",
    "ax[2].set_title('Odstránenie', fontsize=16)\n",
    "sns.histplot(data=dataset[\"trombocyty\"],ax=ax[0], bins=50, kde=True)\n",
    "sns.histplot(data=winsorized[\"trombocyty\"], ax=ax[1], bins=50, kde=True)\n",
    "sns.histplot(data=deleted_outliers[\"trombocyty\"], ax=ax[2], bins=50, kde=True)\n",
    "plt.axis([2,12,0,620])\n"
   ]
  },
  {
   "cell_type": "markdown",
   "metadata": {},
   "source": [
    "Porovnajme hodnoty v stĺpci **Hbver** z pôvodného datasetu, datasetu s upravenými hodnotami a datasetu s odstranenými hodnotami:"
   ]
  },
  {
   "cell_type": "code",
   "execution_count": 603,
   "metadata": {
    "pycharm": {
     "name": "#%%\n"
    }
   },
   "outputs": [
    {
     "data": {
      "text/plain": [
       "(2.0, 12.0, 0.0, 620.0)"
      ]
     },
     "execution_count": 603,
     "metadata": {},
     "output_type": "execute_result"
    },
    {
     "data": {
      "image/png": "[encoded data removed]",
      "text/plain": [
       "<Figure size 864x432 with 3 Axes>"
      ]
     },
     "metadata": {
      "needs_background": "light"
     },
     "output_type": "display_data"
    }
   ],
   "source": [
    "fig, ax=mt.pyplot.subplots(1,3, figsize=(12,6))\n",
    "ax[0].set_title('Pôvodné', fontsize=16)\n",
    "ax[1].set_title('Winsorize', fontsize=16)\n",
    "ax[2].set_title('Odstránenie', fontsize=16)\n",
    "sns.histplot(data=dataset[\"hbver\"],ax=ax[0], bins=50, kde=True)\n",
    "sns.histplot(data=winsorized[\"hbver\"], ax=ax[1], bins=50, kde=True)\n",
    "sns.histplot(data=deleted_outliers[\"hbver\"], ax=ax[2], bins=50, kde=True)\n",
    "plt.axis([2,12,0,620])"
   ]
  },
  {
   "cell_type": "markdown",
   "metadata": {},
   "source": [
    "### Naša implementácia"
   ]
  },
  {
   "cell_type": "markdown",
   "metadata": {},
   "source": [
    "Z datasetu sme odstránili záznamy, ktoré nemajú všetky atribúty (nachádza sa tam NaN).\n",
    "Vymenili sme chybné dáta (tam kde boli nejaké preklepy) a resetovali sme indexy celého datasetu.\n",
    "Následne odstránime vychýlené hodnoty z jednotlivých stĺpcov."
   ]
  },
  {
   "cell_type": "code",
   "execution_count": 604,
   "metadata": {
    "pycharm": {
     "name": "#%%\n"
    }
   },
   "outputs": [
    {
     "data": {
      "text/html": [
       "<div>\n",
       "<style scoped>\n",
       "    .dataframe tbody tr th:only-of-type {\n",
       "        vertical-align: middle;\n",
       "    }\n",
       "\n",
       "    .dataframe tbody tr th {\n",
       "        vertical-align: top;\n",
       "    }\n",
       "\n",
       "    .dataframe thead th {\n",
       "        text-align: right;\n",
       "    }\n",
       "</style>\n",
       "<table border=\"1\" class=\"dataframe\">\n",
       "  <thead>\n",
       "    <tr style=\"text-align: right;\">\n",
       "      <th></th>\n",
       "      <th>name</th>\n",
       "      <th>hematokrit</th>\n",
       "      <th>smoker</th>\n",
       "      <th>leukocyty</th>\n",
       "      <th>relationship</th>\n",
       "      <th>ssn</th>\n",
       "      <th>alt</th>\n",
       "      <th>weight</th>\n",
       "      <th>erytrocyty</th>\n",
       "      <th>alp</th>\n",
       "      <th>ast</th>\n",
       "      <th>er-cv</th>\n",
       "      <th>etytr</th>\n",
       "      <th>hemoglobin</th>\n",
       "      <th>trombocyty</th>\n",
       "      <th>indicator</th>\n",
       "      <th>hbver</th>\n",
       "    </tr>\n",
       "  </thead>\n",
       "  <tbody>\n",
       "    <tr>\n",
       "      <th>0</th>\n",
       "      <td>Courtney Sparks</td>\n",
       "      <td>5.10789</td>\n",
       "      <td>0</td>\n",
       "      <td>3.79699</td>\n",
       "      <td>married</td>\n",
       "      <td>211-15-5030</td>\n",
       "      <td>1.36076</td>\n",
       "      <td>65.50748</td>\n",
       "      <td>7.92270</td>\n",
       "      <td>80.65839</td>\n",
       "      <td>40.27331</td>\n",
       "      <td>46.67907</td>\n",
       "      <td>6.93084</td>\n",
       "      <td>7.07385</td>\n",
       "      <td>3.77915</td>\n",
       "      <td>0.0</td>\n",
       "      <td>6.73439</td>\n",
       "    </tr>\n",
       "    <tr>\n",
       "      <th>1</th>\n",
       "      <td>David Cook</td>\n",
       "      <td>6.06717</td>\n",
       "      <td>0</td>\n",
       "      <td>6.61722</td>\n",
       "      <td>divorced</td>\n",
       "      <td>134-25-6459</td>\n",
       "      <td>1.10335</td>\n",
       "      <td>80.56053</td>\n",
       "      <td>7.13748</td>\n",
       "      <td>90.67608</td>\n",
       "      <td>51.14865</td>\n",
       "      <td>27.63148</td>\n",
       "      <td>6.17378</td>\n",
       "      <td>6.30636</td>\n",
       "      <td>3.77915</td>\n",
       "      <td>0.0</td>\n",
       "      <td>6.69188</td>\n",
       "    </tr>\n",
       "    <tr>\n",
       "      <th>2</th>\n",
       "      <td>Debra Cameron</td>\n",
       "      <td>8.52161</td>\n",
       "      <td>1</td>\n",
       "      <td>8.76540</td>\n",
       "      <td>married</td>\n",
       "      <td>327-02-6401</td>\n",
       "      <td>3.08378</td>\n",
       "      <td>56.12232</td>\n",
       "      <td>9.11128</td>\n",
       "      <td>57.21363</td>\n",
       "      <td>57.61393</td>\n",
       "      <td>67.05110</td>\n",
       "      <td>7.25101</td>\n",
       "      <td>7.74219</td>\n",
       "      <td>5.54453</td>\n",
       "      <td>0.0</td>\n",
       "      <td>6.08754</td>\n",
       "    </tr>\n",
       "    <tr>\n",
       "      <th>3</th>\n",
       "      <td>Vincent Mccullough</td>\n",
       "      <td>4.35962</td>\n",
       "      <td>0</td>\n",
       "      <td>6.61320</td>\n",
       "      <td>divorced</td>\n",
       "      <td>469-50-8029</td>\n",
       "      <td>3.91503</td>\n",
       "      <td>93.52107</td>\n",
       "      <td>9.37966</td>\n",
       "      <td>82.12788</td>\n",
       "      <td>71.76488</td>\n",
       "      <td>53.04260</td>\n",
       "      <td>6.18335</td>\n",
       "      <td>5.69975</td>\n",
       "      <td>5.34519</td>\n",
       "      <td>0.0</td>\n",
       "      <td>6.34100</td>\n",
       "    </tr>\n",
       "    <tr>\n",
       "      <th>4</th>\n",
       "      <td>Lauren Harris</td>\n",
       "      <td>5.32524</td>\n",
       "      <td>1</td>\n",
       "      <td>6.52586</td>\n",
       "      <td>divorced</td>\n",
       "      <td>755-50-6094</td>\n",
       "      <td>0.89996</td>\n",
       "      <td>57.01768</td>\n",
       "      <td>7.78640</td>\n",
       "      <td>80.50126</td>\n",
       "      <td>44.08776</td>\n",
       "      <td>60.41555</td>\n",
       "      <td>5.33112</td>\n",
       "      <td>6.68497</td>\n",
       "      <td>7.49621</td>\n",
       "      <td>1.0</td>\n",
       "      <td>6.88636</td>\n",
       "    </tr>\n",
       "    <tr>\n",
       "      <th>...</th>\n",
       "      <td>...</td>\n",
       "      <td>...</td>\n",
       "      <td>...</td>\n",
       "      <td>...</td>\n",
       "      <td>...</td>\n",
       "      <td>...</td>\n",
       "      <td>...</td>\n",
       "      <td>...</td>\n",
       "      <td>...</td>\n",
       "      <td>...</td>\n",
       "      <td>...</td>\n",
       "      <td>...</td>\n",
       "      <td>...</td>\n",
       "      <td>...</td>\n",
       "      <td>...</td>\n",
       "      <td>...</td>\n",
       "      <td>...</td>\n",
       "    </tr>\n",
       "    <tr>\n",
       "      <th>9708</th>\n",
       "      <td>Kenneth Sanchez</td>\n",
       "      <td>4.67432</td>\n",
       "      <td>0</td>\n",
       "      <td>5.22478</td>\n",
       "      <td>married</td>\n",
       "      <td>035-07-2574</td>\n",
       "      <td>0.75385</td>\n",
       "      <td>4.79395</td>\n",
       "      <td>7.40597</td>\n",
       "      <td>80.98445</td>\n",
       "      <td>42.89142</td>\n",
       "      <td>47.93544</td>\n",
       "      <td>5.69357</td>\n",
       "      <td>6.46889</td>\n",
       "      <td>4.59180</td>\n",
       "      <td>0.0</td>\n",
       "      <td>6.23398</td>\n",
       "    </tr>\n",
       "    <tr>\n",
       "      <th>9709</th>\n",
       "      <td>Jennifer Franklin</td>\n",
       "      <td>5.38144</td>\n",
       "      <td>1</td>\n",
       "      <td>6.77403</td>\n",
       "      <td>widowed</td>\n",
       "      <td>369-05-1763</td>\n",
       "      <td>0.68170</td>\n",
       "      <td>72.43763</td>\n",
       "      <td>7.38835</td>\n",
       "      <td>88.27656</td>\n",
       "      <td>55.07674</td>\n",
       "      <td>43.86325</td>\n",
       "      <td>5.33810</td>\n",
       "      <td>6.04664</td>\n",
       "      <td>8.02259</td>\n",
       "      <td>1.0</td>\n",
       "      <td>7.56910</td>\n",
       "    </tr>\n",
       "    <tr>\n",
       "      <th>9710</th>\n",
       "      <td>Valerie Carter</td>\n",
       "      <td>4.05369</td>\n",
       "      <td>1</td>\n",
       "      <td>6.30583</td>\n",
       "      <td>married</td>\n",
       "      <td>546-10-0083</td>\n",
       "      <td>0.49297</td>\n",
       "      <td>26.26844</td>\n",
       "      <td>6.22727</td>\n",
       "      <td>49.46443</td>\n",
       "      <td>56.32268</td>\n",
       "      <td>59.28561</td>\n",
       "      <td>8.10294</td>\n",
       "      <td>4.80315</td>\n",
       "      <td>9.44110</td>\n",
       "      <td>1.0</td>\n",
       "      <td>7.53199</td>\n",
       "    </tr>\n",
       "    <tr>\n",
       "      <th>9711</th>\n",
       "      <td>Julie Newman</td>\n",
       "      <td>4.80303</td>\n",
       "      <td>1</td>\n",
       "      <td>6.78358</td>\n",
       "      <td>widowed</td>\n",
       "      <td>556-01-2815</td>\n",
       "      <td>1.92676</td>\n",
       "      <td>57.92751</td>\n",
       "      <td>8.64693</td>\n",
       "      <td>44.97615</td>\n",
       "      <td>53.85140</td>\n",
       "      <td>56.17723</td>\n",
       "      <td>7.25014</td>\n",
       "      <td>8.11485</td>\n",
       "      <td>6.77935</td>\n",
       "      <td>1.0</td>\n",
       "      <td>4.97849</td>\n",
       "    </tr>\n",
       "    <tr>\n",
       "      <th>9712</th>\n",
       "      <td>Jennifer Mcintyre</td>\n",
       "      <td>7.04535</td>\n",
       "      <td>1</td>\n",
       "      <td>5.89654</td>\n",
       "      <td>single</td>\n",
       "      <td>078-25-7938</td>\n",
       "      <td>0.33727</td>\n",
       "      <td>67.46315</td>\n",
       "      <td>4.40982</td>\n",
       "      <td>59.33639</td>\n",
       "      <td>60.44024</td>\n",
       "      <td>70.53065</td>\n",
       "      <td>6.32660</td>\n",
       "      <td>7.43364</td>\n",
       "      <td>7.86389</td>\n",
       "      <td>1.0</td>\n",
       "      <td>6.90337</td>\n",
       "    </tr>\n",
       "  </tbody>\n",
       "</table>\n",
       "<p>9713 rows × 17 columns</p>\n",
       "</div>"
      ],
      "text/plain": [
       "                    name  hematokrit  smoker  leukocyty relationship  \\\n",
       "0        Courtney Sparks     5.10789       0    3.79699      married   \n",
       "1             David Cook     6.06717       0    6.61722     divorced   \n",
       "2          Debra Cameron     8.52161       1    8.76540      married   \n",
       "3     Vincent Mccullough     4.35962       0    6.61320     divorced   \n",
       "4          Lauren Harris     5.32524       1    6.52586     divorced   \n",
       "...                  ...         ...     ...        ...          ...   \n",
       "9708     Kenneth Sanchez     4.67432       0    5.22478      married   \n",
       "9709   Jennifer Franklin     5.38144       1    6.77403      widowed   \n",
       "9710      Valerie Carter     4.05369       1    6.30583      married   \n",
       "9711        Julie Newman     4.80303       1    6.78358      widowed   \n",
       "9712   Jennifer Mcintyre     7.04535       1    5.89654       single   \n",
       "\n",
       "              ssn      alt    weight  erytrocyty       alp       ast  \\\n",
       "0     211-15-5030  1.36076  65.50748     7.92270  80.65839  40.27331   \n",
       "1     134-25-6459  1.10335  80.56053     7.13748  90.67608  51.14865   \n",
       "2     327-02-6401  3.08378  56.12232     9.11128  57.21363  57.61393   \n",
       "3     469-50-8029  3.91503  93.52107     9.37966  82.12788  71.76488   \n",
       "4     755-50-6094  0.89996  57.01768     7.78640  80.50126  44.08776   \n",
       "...           ...      ...       ...         ...       ...       ...   \n",
       "9708  035-07-2574  0.75385   4.79395     7.40597  80.98445  42.89142   \n",
       "9709  369-05-1763  0.68170  72.43763     7.38835  88.27656  55.07674   \n",
       "9710  546-10-0083  0.49297  26.26844     6.22727  49.46443  56.32268   \n",
       "9711  556-01-2815  1.92676  57.92751     8.64693  44.97615  53.85140   \n",
       "9712  078-25-7938  0.33727  67.46315     4.40982  59.33639  60.44024   \n",
       "\n",
       "         er-cv    etytr  hemoglobin  trombocyty  indicator    hbver  \n",
       "0     46.67907  6.93084     7.07385     3.77915        0.0  6.73439  \n",
       "1     27.63148  6.17378     6.30636     3.77915        0.0  6.69188  \n",
       "2     67.05110  7.25101     7.74219     5.54453        0.0  6.08754  \n",
       "3     53.04260  6.18335     5.69975     5.34519        0.0  6.34100  \n",
       "4     60.41555  5.33112     6.68497     7.49621        1.0  6.88636  \n",
       "...        ...      ...         ...         ...        ...      ...  \n",
       "9708  47.93544  5.69357     6.46889     4.59180        0.0  6.23398  \n",
       "9709  43.86325  5.33810     6.04664     8.02259        1.0  7.56910  \n",
       "9710  59.28561  8.10294     4.80315     9.44110        1.0  7.53199  \n",
       "9711  56.17723  7.25014     8.11485     6.77935        1.0  4.97849  \n",
       "9712  70.53065  6.32660     7.43364     7.86389        1.0  6.90337  \n",
       "\n",
       "[9713 rows x 17 columns]"
      ]
     },
     "execution_count": 604,
     "metadata": {},
     "output_type": "execute_result"
    }
   ],
   "source": [
    "dataset.dropna(inplace=True)\n",
    "\n",
    "temp_data = dataset.describe()\n",
    "for col in temp_data.columns:\n",
    "    if col != 'smoker' and col != 'weight':\n",
    "        dataset[col] = sc.stats.mstats.winsorize(dataset[col], limits=[0.05,0.05])\n",
    "\n",
    "dataset[\"relationship\"].replace(\"divoced\",\"divorced\",inplace=True)\n",
    "dataset.reset_index(drop=True, inplace=True)\n",
    "dataset[\"relationship\"].replace(\"nop\",\"not specified\",inplace=True)\n",
    "dataset"
   ]
  },
  {
   "cell_type": "code",
   "execution_count": 605,
   "metadata": {
    "pycharm": {
     "name": "#%%\n"
    }
   },
   "outputs": [
    {
     "name": "stdout",
     "output_type": "stream",
     "text": [
      "<class 'pandas.core.frame.DataFrame'>\n",
      "RangeIndex: 9713 entries, 0 to 9712\n",
      "Data columns (total 17 columns):\n",
      " #   Column        Non-Null Count  Dtype  \n",
      "---  ------        --------------  -----  \n",
      " 0   name          9713 non-null   object \n",
      " 1   hematokrit    9713 non-null   float64\n",
      " 2   smoker        9713 non-null   int64  \n",
      " 3   leukocyty     9713 non-null   float64\n",
      " 4   relationship  9713 non-null   object \n",
      " 5   ssn           9713 non-null   object \n",
      " 6   alt           9713 non-null   float64\n",
      " 7   weight        9713 non-null   float64\n",
      " 8   erytrocyty    9713 non-null   float64\n",
      " 9   alp           9713 non-null   float64\n",
      " 10  ast           9713 non-null   float64\n",
      " 11  er-cv         9713 non-null   float64\n",
      " 12  etytr         9713 non-null   float64\n",
      " 13  hemoglobin    9713 non-null   float64\n",
      " 14  trombocyty    9713 non-null   float64\n",
      " 15  indicator     9713 non-null   float64\n",
      " 16  hbver         9713 non-null   float64\n",
      "dtypes: float64(13), int64(1), object(3)\n",
      "memory usage: 1.3+ MB\n"
     ]
    }
   ],
   "source": [
    "dataset.info()"
   ]
  },
  {
   "cell_type": "markdown",
   "metadata": {},
   "source": [
    "Teraz môžeme vidieť, že v každom stĺpci je jednotný počet záznamov."
   ]
  },
  {
   "cell_type": "markdown",
   "metadata": {},
   "source": [
    "Začíname pracovať aj s druhým datasetom, v ktorom máme profily jednotlivých pacientov. Aj tu urobíme menšie úpravy preto, aby sme s dátami vedeli pracovať lepšie.\n",
    "\n",
    "Z tohto datasetu sme odstránili duplikáty. Okrem duplikátov sme odstránili aj také záznamy, v ktorých neboli všetky informácie. Vymenili sme chybné stringy a zmazali prvý stĺpec, kde sme mali indexy záznamov, nakoľko nám to pandas sám pridá."
   ]
  },
  {
   "cell_type": "code",
   "execution_count": 606,
   "metadata": {
    "pycharm": {
     "name": "#%%\n"
    }
   },
   "outputs": [],
   "source": [
    "# Second dataset\n",
    "\n",
    "dataprofiles = pd.read_csv(\"042/profiles.csv\", delimiter=\"\\t\")\n",
    "dataprofiles.drop(dataprofiles.columns[0], axis=1, inplace=True)\n",
    "dataprofiles.drop_duplicates(subset=\"ssn\", inplace=True)\n",
    "dataprofiles['birthdate'] = pd.to_datetime(dataprofiles['birthdate'])\n",
    "dataprofiles.dropna(inplace=True)\n",
    "dataprofiles.replace({\"black\":\"Black\",\"blsck\":\"Black\",\"white\":\"White\"}, inplace=True)"
   ]
  },
  {
   "cell_type": "markdown",
   "metadata": {},
   "source": [
    "Vypíšeme si unikátne záznamy zo stĺpca **blood_group** na overenie:"
   ]
  },
  {
   "cell_type": "code",
   "execution_count": 607,
   "metadata": {
    "pycharm": {
     "name": "#%%\n"
    }
   },
   "outputs": [
    {
     "name": "stdout",
     "output_type": "stream",
     "text": [
      "['A-' 'O-' 'O+' 'A+' 'AB+' 'B-' 'AB-' 'B+']\n"
     ]
    }
   ],
   "source": [
    "print(dataprofiles['blood_group'].unique())"
   ]
  },
  {
   "cell_type": "markdown",
   "metadata": {},
   "source": [
    "Ako si môžeme všimnúť tak informácie o váhe sú niekedy veľmi chybné. Preto je potrebné ich upraviť."
   ]
  },
  {
   "cell_type": "code",
   "execution_count": 608,
   "metadata": {
    "pycharm": {
     "name": "#%%\n"
    }
   },
   "outputs": [
    {
     "data": {
      "text/plain": [
       "count    9713.000000\n",
       "mean       69.800152\n",
       "std        35.583137\n",
       "min       -59.892790\n",
       "25%        46.192270\n",
       "50%        70.065660\n",
       "75%        93.195840\n",
       "max       188.436090\n",
       "Name: weight, dtype: float64"
      ]
     },
     "execution_count": 608,
     "metadata": {},
     "output_type": "execute_result"
    }
   ],
   "source": [
    "dataset[\"weight\"].describe()"
   ]
  },
  {
   "cell_type": "markdown",
   "metadata": {},
   "source": [
    "Zistíme približný počet koľko je v datasete v stĺpci \"weight\" vychýlených hodnôt."
   ]
  },
  {
   "cell_type": "code",
   "execution_count": 609,
   "metadata": {
    "pycharm": {
     "name": "#%%\n"
    }
   },
   "outputs": [
    {
     "name": "stdout",
     "output_type": "stream",
     "text": [
      "Počet vychýlených hodnôt: 1572\n"
     ]
    }
   ],
   "source": [
    "dataset['weight'].describe()\n",
    "counter=0\n",
    "for i in dataset['weight']:\n",
    "    if i<=35:\n",
    "        counter+=1\n",
    "        #print(i, end=\" \")\n",
    "\n",
    "print(\"Počet vychýlených hodnôt:\", counter)"
   ]
  },
  {
   "cell_type": "markdown",
   "metadata": {},
   "source": [
    "Zostrojme si graf, ktorý nám povie viac o hodnotách v stĺpci \"weight\"."
   ]
  },
  {
   "cell_type": "code",
   "execution_count": 610,
   "metadata": {
    "pycharm": {
     "name": "#%%\n"
    }
   },
   "outputs": [
    {
     "data": {
      "text/plain": [
       "<AxesSubplot:xlabel='weight', ylabel='Density'>"
      ]
     },
     "execution_count": 610,
     "metadata": {},
     "output_type": "execute_result"
    },
    {
     "data": {
      "image/png": "[encoded data removed]",
      "text/plain": [
       "<Figure size 432x288 with 1 Axes>"
      ]
     },
     "metadata": {
      "needs_background": "light"
     },
     "output_type": "display_data"
    }
   ],
   "source": [
    "sns.kdeplot(data=dataset['weight'])"
   ]
  },
  {
   "cell_type": "markdown",
   "metadata": {},
   "source": [
    "Skúsme aplikovať funkciu winsorize na vychýlené hodnoty v stĺpci \"weight\"."
   ]
  },
  {
   "cell_type": "code",
   "execution_count": 611,
   "metadata": {
    "pycharm": {
     "name": "#%%\n"
    }
   },
   "outputs": [
    {
     "data": {
      "text/plain": [
       "<AxesSubplot:ylabel='Density'>"
      ]
     },
     "execution_count": 611,
     "metadata": {},
     "output_type": "execute_result"
    },
    {
     "data": {
      "image/png": "[encoded data removed]",
      "text/plain": [
       "<Figure size 432x288 with 1 Axes>"
      ]
     },
     "metadata": {
      "needs_background": "light"
     },
     "output_type": "display_data"
    }
   ],
   "source": [
    "sns.kdeplot(data=sc.stats.mstats.winsorize(dataset['weight'], limits=[0.1,0.1]))"
   ]
  },
  {
   "cell_type": "markdown",
   "metadata": {},
   "source": [
    "Ako z grafu vidíme, winsorize nám kvôli negatívnym a vychýleným hodnotám nepomôže.\n",
    "\n",
    "Čo teda môžeme spraviť je, že odstraníme všetky vychýlené hodnoty v stĺpci weight a nahradíme ich priemernými hodnotami váhy pre mužov a ženy.\n",
    "\n",
    "Pohlavie daného pacienta môžeme získať z profiles.csv.\n",
    "\n",
    "Napíšeme algoritmus, ktorý vymení všetky vychýlené hodnoty za náhodné hodnoty z intervalu, ktorý je určená podľa pohlavia daného pacienta.\n",
    "\n",
    "Pomocou funkcie random.normal z knižnice NumPy si vygenerujeme náhodnú normálovu distribúciu hodnôt od Male_min po Male_max resp. Female_min po Female_max. Následne nájdeme vychýlené hodnoty, ktoré vymeníme za náhodne vybranú hodnotu z poľa male_normal resp. female_normal."
   ]
  },
  {
   "cell_type": "code",
   "execution_count": 612,
   "metadata": {
    "pycharm": {
     "name": "#%%\n"
    }
   },
   "outputs": [],
   "source": [
    "weight_dict = {\n",
    "    \"Male_min\": 43,\n",
    "    \"Male_max\": 100,\n",
    "    \"Female_min\": 41,\n",
    "    \"Female_max\": 90\n",
    "}\n",
    "# zdroj pre tieto hodnoty: https://www.healthifyme.com/blog/height-weight-chart-ideal-weight-for-men-and-women/"
   ]
  },
  {
   "cell_type": "code",
   "execution_count": 613,
   "metadata": {
    "pycharm": {
     "name": "#%%\n"
    }
   },
   "outputs": [
    {
     "name": "stderr",
     "output_type": "stream",
     "text": [
      "/var/folders/v6/r_9ghkcj35gcws4jzhv5g__00000gn/T/ipykernel_13802/1568763017.py:15: SettingWithCopyWarning: \n",
      "A value is trying to be set on a copy of a slice from a DataFrame\n",
      "\n",
      "See the caveats in the documentation: https://pandas.pydata.org/pandas-docs/stable/user_guide/indexing.html#returning-a-view-versus-a-copy\n",
      "  dataset[\"weight\"][i] = weight\n",
      "/var/folders/v6/r_9ghkcj35gcws4jzhv5g__00000gn/T/ipykernel_13802/1568763017.py:19: SettingWithCopyWarning: \n",
      "A value is trying to be set on a copy of a slice from a DataFrame\n",
      "\n",
      "See the caveats in the documentation: https://pandas.pydata.org/pandas-docs/stable/user_guide/indexing.html#returning-a-view-versus-a-copy\n",
      "  dataset[\"weight\"][i] = weight\n"
     ]
    }
   ],
   "source": [
    "male_array = [weight_dict[\"Male_min\"], weight_dict[\"Male_max\"]]\n",
    "female_array = [weight_dict[\"Female_min\"], weight_dict[\"Female_max\"]]\n",
    "\n",
    "male_normal = np.random.normal(np.mean(male_array), np.std(male_array)/3.4, 1000)\n",
    "female_normal = np.random.normal(np.mean(female_array), np.std(female_array)/3.4, 1000)\n",
    "\n",
    "for i in range(len(dataset[\"weight\"])):\n",
    "    index_in_profiles = pd.Index(dataprofiles[\"ssn\"]).get_loc(dataset[\"ssn\"][i])\n",
    "\n",
    "    get_sex = dataprofiles[\"sex\"][index_in_profiles]\n",
    "\n",
    "    if get_sex == 'M':\n",
    "        if not (weight_dict[\"Male_min\"] < dataset[\"weight\"][i] < weight_dict[\"Male_max\"] ):\n",
    "            weight = male_normal[np.random.randint(1000)]\n",
    "            dataset[\"weight\"][i] = weight\n",
    "    else:\n",
    "        if not (weight_dict[\"Female_min\"] < dataset[\"weight\"][i] < weight_dict[\"Female_max\"] ):\n",
    "            weight = female_normal[np.random.randint(1000)]\n",
    "            dataset[\"weight\"][i] = weight\n"
   ]
  },
  {
   "cell_type": "markdown",
   "metadata": {},
   "source": [
    "Vykreslíme graf, kde už sú jednotlivé hodnoty vymenené.\n",
    "\n",
    "Podľa grafu môžeme vidieť, že váhy pacientov sú už reálne hodnoty. Všetky negatívne a\n",
    "príliš malé alebo prílíš veľké hodnoty boli odstránené."
   ]
  },
  {
   "cell_type": "code",
   "execution_count": 614,
   "metadata": {
    "pycharm": {
     "name": "#%%\n"
    }
   },
   "outputs": [
    {
     "data": {
      "text/plain": [
       "<AxesSubplot:xlabel='weight', ylabel='Count'>"
      ]
     },
     "execution_count": 614,
     "metadata": {},
     "output_type": "execute_result"
    },
    {
     "data": {
      "image/png": "[encoded data removed]",
      "text/plain": [
       "<Figure size 432x288 with 1 Axes>"
      ]
     },
     "metadata": {
      "needs_background": "light"
     },
     "output_type": "display_data"
    }
   ],
   "source": [
    "# sns.kdeplot(data=dataset['weight'])\n",
    "sns.histplot(data=dataset[\"weight\"], kde=True)"
   ]
  },
  {
   "cell_type": "markdown",
   "metadata": {},
   "source": [
    "### Spojenie datasetu labor.csv a datasetu profiles.csv"
   ]
  },
  {
   "cell_type": "markdown",
   "metadata": {},
   "source": [
    "V tejto sekcii sme spojili dáta z labor.csv a dáta z profiles.csv na základe SSN. Odstránili sme nadbytočné záznamy t.j. name_y a index z druhého datasetu (stĺpec Unnamed)."
   ]
  },
  {
   "cell_type": "code",
   "execution_count": 615,
   "metadata": {
    "pycharm": {
     "name": "#%%\n"
    }
   },
   "outputs": [
    {
     "data": {
      "text/html": [
       "<div>\n",
       "<style scoped>\n",
       "    .dataframe tbody tr th:only-of-type {\n",
       "        vertical-align: middle;\n",
       "    }\n",
       "\n",
       "    .dataframe tbody tr th {\n",
       "        vertical-align: top;\n",
       "    }\n",
       "\n",
       "    .dataframe thead th {\n",
       "        text-align: right;\n",
       "    }\n",
       "</style>\n",
       "<table border=\"1\" class=\"dataframe\">\n",
       "  <thead>\n",
       "    <tr style=\"text-align: right;\">\n",
       "      <th></th>\n",
       "      <th>name_x</th>\n",
       "      <th>hematokrit</th>\n",
       "      <th>smoker</th>\n",
       "      <th>leukocyty</th>\n",
       "      <th>relationship</th>\n",
       "      <th>ssn</th>\n",
       "      <th>alt</th>\n",
       "      <th>weight</th>\n",
       "      <th>erytrocyty</th>\n",
       "      <th>alp</th>\n",
       "      <th>...</th>\n",
       "      <th>indicator</th>\n",
       "      <th>hbver</th>\n",
       "      <th>blood_group</th>\n",
       "      <th>company</th>\n",
       "      <th>job</th>\n",
       "      <th>sex</th>\n",
       "      <th>birthdate</th>\n",
       "      <th>race</th>\n",
       "      <th>name_y</th>\n",
       "      <th>address</th>\n",
       "    </tr>\n",
       "  </thead>\n",
       "  <tbody>\n",
       "    <tr>\n",
       "      <th>0</th>\n",
       "      <td>Courtney Sparks</td>\n",
       "      <td>5.10789</td>\n",
       "      <td>0</td>\n",
       "      <td>3.79699</td>\n",
       "      <td>married</td>\n",
       "      <td>211-15-5030</td>\n",
       "      <td>1.36076</td>\n",
       "      <td>65.507480</td>\n",
       "      <td>7.92270</td>\n",
       "      <td>80.65839</td>\n",
       "      <td>...</td>\n",
       "      <td>0.0</td>\n",
       "      <td>6.73439</td>\n",
       "      <td>AB+</td>\n",
       "      <td>Mendez Inc</td>\n",
       "      <td>Printmaker</td>\n",
       "      <td>F</td>\n",
       "      <td>1915-03-29</td>\n",
       "      <td>Black</td>\n",
       "      <td>Courtney Sparks</td>\n",
       "      <td>7181 Williams Lane\\nEast Richardport, MO 70889</td>\n",
       "    </tr>\n",
       "    <tr>\n",
       "      <th>1</th>\n",
       "      <td>David Cook</td>\n",
       "      <td>6.06717</td>\n",
       "      <td>0</td>\n",
       "      <td>6.61722</td>\n",
       "      <td>divorced</td>\n",
       "      <td>134-25-6459</td>\n",
       "      <td>1.10335</td>\n",
       "      <td>80.560530</td>\n",
       "      <td>7.13748</td>\n",
       "      <td>90.67608</td>\n",
       "      <td>...</td>\n",
       "      <td>0.0</td>\n",
       "      <td>6.69188</td>\n",
       "      <td>A-</td>\n",
       "      <td>Morgan, Wilson and Miller</td>\n",
       "      <td>Surveyor, planning and development</td>\n",
       "      <td>M</td>\n",
       "      <td>1958-12-15</td>\n",
       "      <td>Black</td>\n",
       "      <td>David Cook</td>\n",
       "      <td>12545 Derek Shore Apt. 068\\nLake Jennifer, UT ...</td>\n",
       "    </tr>\n",
       "    <tr>\n",
       "      <th>2</th>\n",
       "      <td>Debra Cameron</td>\n",
       "      <td>8.52161</td>\n",
       "      <td>1</td>\n",
       "      <td>8.76540</td>\n",
       "      <td>married</td>\n",
       "      <td>327-02-6401</td>\n",
       "      <td>3.08378</td>\n",
       "      <td>56.122320</td>\n",
       "      <td>9.11128</td>\n",
       "      <td>57.21363</td>\n",
       "      <td>...</td>\n",
       "      <td>0.0</td>\n",
       "      <td>6.08754</td>\n",
       "      <td>B+</td>\n",
       "      <td>Erickson Inc</td>\n",
       "      <td>Press photographer</td>\n",
       "      <td>F</td>\n",
       "      <td>1906-02-09</td>\n",
       "      <td>Black</td>\n",
       "      <td>Debra Cameron</td>\n",
       "      <td>815 Sanders Pass Apt. 285\\nNancychester, AR 70658</td>\n",
       "    </tr>\n",
       "    <tr>\n",
       "      <th>3</th>\n",
       "      <td>Vincent Mccullough</td>\n",
       "      <td>4.35962</td>\n",
       "      <td>0</td>\n",
       "      <td>6.61320</td>\n",
       "      <td>divorced</td>\n",
       "      <td>469-50-8029</td>\n",
       "      <td>3.91503</td>\n",
       "      <td>93.521070</td>\n",
       "      <td>9.37966</td>\n",
       "      <td>82.12788</td>\n",
       "      <td>...</td>\n",
       "      <td>0.0</td>\n",
       "      <td>6.34100</td>\n",
       "      <td>A-</td>\n",
       "      <td>Sweeney and Sons</td>\n",
       "      <td>Engineer, manufacturing</td>\n",
       "      <td>M</td>\n",
       "      <td>1908-03-08</td>\n",
       "      <td>White</td>\n",
       "      <td>Vincent Mccullough</td>\n",
       "      <td>928 Griffin Canyon Apt. 851\\nCareyborough, CA ...</td>\n",
       "    </tr>\n",
       "    <tr>\n",
       "      <th>4</th>\n",
       "      <td>Lauren Harris</td>\n",
       "      <td>5.32524</td>\n",
       "      <td>1</td>\n",
       "      <td>6.52586</td>\n",
       "      <td>divorced</td>\n",
       "      <td>755-50-6094</td>\n",
       "      <td>0.89996</td>\n",
       "      <td>57.017680</td>\n",
       "      <td>7.78640</td>\n",
       "      <td>80.50126</td>\n",
       "      <td>...</td>\n",
       "      <td>1.0</td>\n",
       "      <td>6.88636</td>\n",
       "      <td>O-</td>\n",
       "      <td>Luna Group</td>\n",
       "      <td>Surveyor, mining</td>\n",
       "      <td>F</td>\n",
       "      <td>1927-04-13</td>\n",
       "      <td>Asian</td>\n",
       "      <td>Lauren Harris</td>\n",
       "      <td>9378 Pierce Crescent Suite 407\\nEast Jacquelin...</td>\n",
       "    </tr>\n",
       "    <tr>\n",
       "      <th>...</th>\n",
       "      <td>...</td>\n",
       "      <td>...</td>\n",
       "      <td>...</td>\n",
       "      <td>...</td>\n",
       "      <td>...</td>\n",
       "      <td>...</td>\n",
       "      <td>...</td>\n",
       "      <td>...</td>\n",
       "      <td>...</td>\n",
       "      <td>...</td>\n",
       "      <td>...</td>\n",
       "      <td>...</td>\n",
       "      <td>...</td>\n",
       "      <td>...</td>\n",
       "      <td>...</td>\n",
       "      <td>...</td>\n",
       "      <td>...</td>\n",
       "      <td>...</td>\n",
       "      <td>...</td>\n",
       "      <td>...</td>\n",
       "      <td>...</td>\n",
       "    </tr>\n",
       "    <tr>\n",
       "      <th>9708</th>\n",
       "      <td>Kenneth Sanchez</td>\n",
       "      <td>4.67432</td>\n",
       "      <td>0</td>\n",
       "      <td>5.22478</td>\n",
       "      <td>married</td>\n",
       "      <td>035-07-2574</td>\n",
       "      <td>0.75385</td>\n",
       "      <td>77.806063</td>\n",
       "      <td>7.40597</td>\n",
       "      <td>80.98445</td>\n",
       "      <td>...</td>\n",
       "      <td>0.0</td>\n",
       "      <td>6.23398</td>\n",
       "      <td>AB-</td>\n",
       "      <td>Herman Inc</td>\n",
       "      <td>Mechanical engineer</td>\n",
       "      <td>M</td>\n",
       "      <td>2008-04-16</td>\n",
       "      <td>Black</td>\n",
       "      <td>Kenneth Sanchez</td>\n",
       "      <td>831 Brandy Plains\\nWilsonmouth, WY 02172</td>\n",
       "    </tr>\n",
       "    <tr>\n",
       "      <th>9709</th>\n",
       "      <td>Jennifer Franklin</td>\n",
       "      <td>5.38144</td>\n",
       "      <td>1</td>\n",
       "      <td>6.77403</td>\n",
       "      <td>widowed</td>\n",
       "      <td>369-05-1763</td>\n",
       "      <td>0.68170</td>\n",
       "      <td>72.437630</td>\n",
       "      <td>7.38835</td>\n",
       "      <td>88.27656</td>\n",
       "      <td>...</td>\n",
       "      <td>1.0</td>\n",
       "      <td>7.56910</td>\n",
       "      <td>AB-</td>\n",
       "      <td>Wilkins and Sons</td>\n",
       "      <td>Catering manager</td>\n",
       "      <td>F</td>\n",
       "      <td>1906-09-12</td>\n",
       "      <td>Black</td>\n",
       "      <td>Jennifer Franklin</td>\n",
       "      <td>PSC 3172, Box 9852\\nAPO AP 12679</td>\n",
       "    </tr>\n",
       "    <tr>\n",
       "      <th>9710</th>\n",
       "      <td>Valerie Carter</td>\n",
       "      <td>4.05369</td>\n",
       "      <td>1</td>\n",
       "      <td>6.30583</td>\n",
       "      <td>married</td>\n",
       "      <td>546-10-0083</td>\n",
       "      <td>0.49297</td>\n",
       "      <td>60.326823</td>\n",
       "      <td>6.22727</td>\n",
       "      <td>49.46443</td>\n",
       "      <td>...</td>\n",
       "      <td>1.0</td>\n",
       "      <td>7.53199</td>\n",
       "      <td>B+</td>\n",
       "      <td>Suarez-Cohen</td>\n",
       "      <td>Therapist, art</td>\n",
       "      <td>F</td>\n",
       "      <td>1922-01-05</td>\n",
       "      <td>Black</td>\n",
       "      <td>Valerie Carter</td>\n",
       "      <td>PSC 1199, Box 5372\\nAPO AP 19298</td>\n",
       "    </tr>\n",
       "    <tr>\n",
       "      <th>9711</th>\n",
       "      <td>Julie Newman</td>\n",
       "      <td>4.80303</td>\n",
       "      <td>1</td>\n",
       "      <td>6.78358</td>\n",
       "      <td>widowed</td>\n",
       "      <td>556-01-2815</td>\n",
       "      <td>1.92676</td>\n",
       "      <td>57.927510</td>\n",
       "      <td>8.64693</td>\n",
       "      <td>44.97615</td>\n",
       "      <td>...</td>\n",
       "      <td>1.0</td>\n",
       "      <td>4.97849</td>\n",
       "      <td>AB+</td>\n",
       "      <td>Davila, Ramirez and Jones</td>\n",
       "      <td>Public relations officer</td>\n",
       "      <td>F</td>\n",
       "      <td>1993-09-29</td>\n",
       "      <td>White</td>\n",
       "      <td>Julie Newman</td>\n",
       "      <td>PSC 6981, Box 6784\\nAPO AP 13561</td>\n",
       "    </tr>\n",
       "    <tr>\n",
       "      <th>9712</th>\n",
       "      <td>Jennifer Mcintyre</td>\n",
       "      <td>7.04535</td>\n",
       "      <td>1</td>\n",
       "      <td>5.89654</td>\n",
       "      <td>single</td>\n",
       "      <td>078-25-7938</td>\n",
       "      <td>0.33727</td>\n",
       "      <td>67.463150</td>\n",
       "      <td>4.40982</td>\n",
       "      <td>59.33639</td>\n",
       "      <td>...</td>\n",
       "      <td>1.0</td>\n",
       "      <td>6.90337</td>\n",
       "      <td>AB-</td>\n",
       "      <td>Jacobson, Spencer and George</td>\n",
       "      <td>Best boy</td>\n",
       "      <td>F</td>\n",
       "      <td>1953-04-01</td>\n",
       "      <td>Asian</td>\n",
       "      <td>Jennifer Mcintyre</td>\n",
       "      <td>80527 Megan Lodge Suite 046\\nRebeccaton, OR 60665</td>\n",
       "    </tr>\n",
       "  </tbody>\n",
       "</table>\n",
       "<p>9713 rows × 25 columns</p>\n",
       "</div>"
      ],
      "text/plain": [
       "                  name_x  hematokrit  smoker  leukocyty relationship  \\\n",
       "0        Courtney Sparks     5.10789       0    3.79699      married   \n",
       "1             David Cook     6.06717       0    6.61722     divorced   \n",
       "2          Debra Cameron     8.52161       1    8.76540      married   \n",
       "3     Vincent Mccullough     4.35962       0    6.61320     divorced   \n",
       "4          Lauren Harris     5.32524       1    6.52586     divorced   \n",
       "...                  ...         ...     ...        ...          ...   \n",
       "9708     Kenneth Sanchez     4.67432       0    5.22478      married   \n",
       "9709   Jennifer Franklin     5.38144       1    6.77403      widowed   \n",
       "9710      Valerie Carter     4.05369       1    6.30583      married   \n",
       "9711        Julie Newman     4.80303       1    6.78358      widowed   \n",
       "9712   Jennifer Mcintyre     7.04535       1    5.89654       single   \n",
       "\n",
       "              ssn      alt     weight  erytrocyty       alp  ...  indicator  \\\n",
       "0     211-15-5030  1.36076  65.507480     7.92270  80.65839  ...        0.0   \n",
       "1     134-25-6459  1.10335  80.560530     7.13748  90.67608  ...        0.0   \n",
       "2     327-02-6401  3.08378  56.122320     9.11128  57.21363  ...        0.0   \n",
       "3     469-50-8029  3.91503  93.521070     9.37966  82.12788  ...        0.0   \n",
       "4     755-50-6094  0.89996  57.017680     7.78640  80.50126  ...        1.0   \n",
       "...           ...      ...        ...         ...       ...  ...        ...   \n",
       "9708  035-07-2574  0.75385  77.806063     7.40597  80.98445  ...        0.0   \n",
       "9709  369-05-1763  0.68170  72.437630     7.38835  88.27656  ...        1.0   \n",
       "9710  546-10-0083  0.49297  60.326823     6.22727  49.46443  ...        1.0   \n",
       "9711  556-01-2815  1.92676  57.927510     8.64693  44.97615  ...        1.0   \n",
       "9712  078-25-7938  0.33727  67.463150     4.40982  59.33639  ...        1.0   \n",
       "\n",
       "        hbver  blood_group                       company  \\\n",
       "0     6.73439          AB+                    Mendez Inc   \n",
       "1     6.69188           A-     Morgan, Wilson and Miller   \n",
       "2     6.08754           B+                  Erickson Inc   \n",
       "3     6.34100           A-              Sweeney and Sons   \n",
       "4     6.88636           O-                    Luna Group   \n",
       "...       ...          ...                           ...   \n",
       "9708  6.23398          AB-                    Herman Inc   \n",
       "9709  7.56910          AB-              Wilkins and Sons   \n",
       "9710  7.53199           B+                  Suarez-Cohen   \n",
       "9711  4.97849          AB+     Davila, Ramirez and Jones   \n",
       "9712  6.90337          AB-  Jacobson, Spencer and George   \n",
       "\n",
       "                                     job  sex  birthdate   race  \\\n",
       "0                             Printmaker    F 1915-03-29  Black   \n",
       "1     Surveyor, planning and development    M 1958-12-15  Black   \n",
       "2                     Press photographer    F 1906-02-09  Black   \n",
       "3                Engineer, manufacturing    M 1908-03-08  White   \n",
       "4                       Surveyor, mining    F 1927-04-13  Asian   \n",
       "...                                  ...  ...        ...    ...   \n",
       "9708                 Mechanical engineer    M 2008-04-16  Black   \n",
       "9709                    Catering manager    F 1906-09-12  Black   \n",
       "9710                      Therapist, art    F 1922-01-05  Black   \n",
       "9711            Public relations officer    F 1993-09-29  White   \n",
       "9712                            Best boy    F 1953-04-01  Asian   \n",
       "\n",
       "                  name_y                                            address  \n",
       "0        Courtney Sparks     7181 Williams Lane\\nEast Richardport, MO 70889  \n",
       "1             David Cook  12545 Derek Shore Apt. 068\\nLake Jennifer, UT ...  \n",
       "2          Debra Cameron  815 Sanders Pass Apt. 285\\nNancychester, AR 70658  \n",
       "3     Vincent Mccullough  928 Griffin Canyon Apt. 851\\nCareyborough, CA ...  \n",
       "4          Lauren Harris  9378 Pierce Crescent Suite 407\\nEast Jacquelin...  \n",
       "...                  ...                                                ...  \n",
       "9708     Kenneth Sanchez           831 Brandy Plains\\nWilsonmouth, WY 02172  \n",
       "9709   Jennifer Franklin                   PSC 3172, Box 9852\\nAPO AP 12679  \n",
       "9710      Valerie Carter                   PSC 1199, Box 5372\\nAPO AP 19298  \n",
       "9711        Julie Newman                   PSC 6981, Box 6784\\nAPO AP 13561  \n",
       "9712   Jennifer Mcintyre  80527 Megan Lodge Suite 046\\nRebeccaton, OR 60665  \n",
       "\n",
       "[9713 rows x 25 columns]"
      ]
     },
     "execution_count": 615,
     "metadata": {},
     "output_type": "execute_result"
    }
   ],
   "source": [
    "dataset_final = dataset.merge(dataprofiles, on=\"ssn\", how = 'left')\n",
    "dataset_final"
   ]
  },
  {
   "cell_type": "code",
   "execution_count": 616,
   "metadata": {
    "pycharm": {
     "name": "#%%\n"
    }
   },
   "outputs": [
    {
     "data": {
      "text/html": [
       "<div>\n",
       "<style scoped>\n",
       "    .dataframe tbody tr th:only-of-type {\n",
       "        vertical-align: middle;\n",
       "    }\n",
       "\n",
       "    .dataframe tbody tr th {\n",
       "        vertical-align: top;\n",
       "    }\n",
       "\n",
       "    .dataframe thead th {\n",
       "        text-align: right;\n",
       "    }\n",
       "</style>\n",
       "<table border=\"1\" class=\"dataframe\">\n",
       "  <thead>\n",
       "    <tr style=\"text-align: right;\">\n",
       "      <th></th>\n",
       "      <th>name</th>\n",
       "      <th>hematokrit</th>\n",
       "      <th>smoker</th>\n",
       "      <th>leukocyty</th>\n",
       "      <th>relationship</th>\n",
       "      <th>ssn</th>\n",
       "      <th>alt</th>\n",
       "      <th>weight</th>\n",
       "      <th>erytrocyty</th>\n",
       "      <th>alp</th>\n",
       "      <th>...</th>\n",
       "      <th>trombocyty</th>\n",
       "      <th>indicator</th>\n",
       "      <th>hbver</th>\n",
       "      <th>blood_group</th>\n",
       "      <th>company</th>\n",
       "      <th>job</th>\n",
       "      <th>sex</th>\n",
       "      <th>birthdate</th>\n",
       "      <th>race</th>\n",
       "      <th>address</th>\n",
       "    </tr>\n",
       "  </thead>\n",
       "  <tbody>\n",
       "    <tr>\n",
       "      <th>0</th>\n",
       "      <td>Courtney Sparks</td>\n",
       "      <td>5.10789</td>\n",
       "      <td>0</td>\n",
       "      <td>3.79699</td>\n",
       "      <td>married</td>\n",
       "      <td>211-15-5030</td>\n",
       "      <td>1.36076</td>\n",
       "      <td>65.507480</td>\n",
       "      <td>7.92270</td>\n",
       "      <td>80.65839</td>\n",
       "      <td>...</td>\n",
       "      <td>3.77915</td>\n",
       "      <td>0.0</td>\n",
       "      <td>6.73439</td>\n",
       "      <td>AB+</td>\n",
       "      <td>Mendez Inc</td>\n",
       "      <td>Printmaker</td>\n",
       "      <td>F</td>\n",
       "      <td>1915-03-29</td>\n",
       "      <td>Black</td>\n",
       "      <td>7181 Williams Lane\\nEast Richardport, MO 70889</td>\n",
       "    </tr>\n",
       "    <tr>\n",
       "      <th>1</th>\n",
       "      <td>David Cook</td>\n",
       "      <td>6.06717</td>\n",
       "      <td>0</td>\n",
       "      <td>6.61722</td>\n",
       "      <td>divorced</td>\n",
       "      <td>134-25-6459</td>\n",
       "      <td>1.10335</td>\n",
       "      <td>80.560530</td>\n",
       "      <td>7.13748</td>\n",
       "      <td>90.67608</td>\n",
       "      <td>...</td>\n",
       "      <td>3.77915</td>\n",
       "      <td>0.0</td>\n",
       "      <td>6.69188</td>\n",
       "      <td>A-</td>\n",
       "      <td>Morgan, Wilson and Miller</td>\n",
       "      <td>Surveyor, planning and development</td>\n",
       "      <td>M</td>\n",
       "      <td>1958-12-15</td>\n",
       "      <td>Black</td>\n",
       "      <td>12545 Derek Shore Apt. 068\\nLake Jennifer, UT ...</td>\n",
       "    </tr>\n",
       "    <tr>\n",
       "      <th>2</th>\n",
       "      <td>Debra Cameron</td>\n",
       "      <td>8.52161</td>\n",
       "      <td>1</td>\n",
       "      <td>8.76540</td>\n",
       "      <td>married</td>\n",
       "      <td>327-02-6401</td>\n",
       "      <td>3.08378</td>\n",
       "      <td>56.122320</td>\n",
       "      <td>9.11128</td>\n",
       "      <td>57.21363</td>\n",
       "      <td>...</td>\n",
       "      <td>5.54453</td>\n",
       "      <td>0.0</td>\n",
       "      <td>6.08754</td>\n",
       "      <td>B+</td>\n",
       "      <td>Erickson Inc</td>\n",
       "      <td>Press photographer</td>\n",
       "      <td>F</td>\n",
       "      <td>1906-02-09</td>\n",
       "      <td>Black</td>\n",
       "      <td>815 Sanders Pass Apt. 285\\nNancychester, AR 70658</td>\n",
       "    </tr>\n",
       "    <tr>\n",
       "      <th>3</th>\n",
       "      <td>Vincent Mccullough</td>\n",
       "      <td>4.35962</td>\n",
       "      <td>0</td>\n",
       "      <td>6.61320</td>\n",
       "      <td>divorced</td>\n",
       "      <td>469-50-8029</td>\n",
       "      <td>3.91503</td>\n",
       "      <td>93.521070</td>\n",
       "      <td>9.37966</td>\n",
       "      <td>82.12788</td>\n",
       "      <td>...</td>\n",
       "      <td>5.34519</td>\n",
       "      <td>0.0</td>\n",
       "      <td>6.34100</td>\n",
       "      <td>A-</td>\n",
       "      <td>Sweeney and Sons</td>\n",
       "      <td>Engineer, manufacturing</td>\n",
       "      <td>M</td>\n",
       "      <td>1908-03-08</td>\n",
       "      <td>White</td>\n",
       "      <td>928 Griffin Canyon Apt. 851\\nCareyborough, CA ...</td>\n",
       "    </tr>\n",
       "    <tr>\n",
       "      <th>4</th>\n",
       "      <td>Lauren Harris</td>\n",
       "      <td>5.32524</td>\n",
       "      <td>1</td>\n",
       "      <td>6.52586</td>\n",
       "      <td>divorced</td>\n",
       "      <td>755-50-6094</td>\n",
       "      <td>0.89996</td>\n",
       "      <td>57.017680</td>\n",
       "      <td>7.78640</td>\n",
       "      <td>80.50126</td>\n",
       "      <td>...</td>\n",
       "      <td>7.49621</td>\n",
       "      <td>1.0</td>\n",
       "      <td>6.88636</td>\n",
       "      <td>O-</td>\n",
       "      <td>Luna Group</td>\n",
       "      <td>Surveyor, mining</td>\n",
       "      <td>F</td>\n",
       "      <td>1927-04-13</td>\n",
       "      <td>Asian</td>\n",
       "      <td>9378 Pierce Crescent Suite 407\\nEast Jacquelin...</td>\n",
       "    </tr>\n",
       "    <tr>\n",
       "      <th>...</th>\n",
       "      <td>...</td>\n",
       "      <td>...</td>\n",
       "      <td>...</td>\n",
       "      <td>...</td>\n",
       "      <td>...</td>\n",
       "      <td>...</td>\n",
       "      <td>...</td>\n",
       "      <td>...</td>\n",
       "      <td>...</td>\n",
       "      <td>...</td>\n",
       "      <td>...</td>\n",
       "      <td>...</td>\n",
       "      <td>...</td>\n",
       "      <td>...</td>\n",
       "      <td>...</td>\n",
       "      <td>...</td>\n",
       "      <td>...</td>\n",
       "      <td>...</td>\n",
       "      <td>...</td>\n",
       "      <td>...</td>\n",
       "      <td>...</td>\n",
       "    </tr>\n",
       "    <tr>\n",
       "      <th>9708</th>\n",
       "      <td>Kenneth Sanchez</td>\n",
       "      <td>4.67432</td>\n",
       "      <td>0</td>\n",
       "      <td>5.22478</td>\n",
       "      <td>married</td>\n",
       "      <td>035-07-2574</td>\n",
       "      <td>0.75385</td>\n",
       "      <td>77.806063</td>\n",
       "      <td>7.40597</td>\n",
       "      <td>80.98445</td>\n",
       "      <td>...</td>\n",
       "      <td>4.59180</td>\n",
       "      <td>0.0</td>\n",
       "      <td>6.23398</td>\n",
       "      <td>AB-</td>\n",
       "      <td>Herman Inc</td>\n",
       "      <td>Mechanical engineer</td>\n",
       "      <td>M</td>\n",
       "      <td>2008-04-16</td>\n",
       "      <td>Black</td>\n",
       "      <td>831 Brandy Plains\\nWilsonmouth, WY 02172</td>\n",
       "    </tr>\n",
       "    <tr>\n",
       "      <th>9709</th>\n",
       "      <td>Jennifer Franklin</td>\n",
       "      <td>5.38144</td>\n",
       "      <td>1</td>\n",
       "      <td>6.77403</td>\n",
       "      <td>widowed</td>\n",
       "      <td>369-05-1763</td>\n",
       "      <td>0.68170</td>\n",
       "      <td>72.437630</td>\n",
       "      <td>7.38835</td>\n",
       "      <td>88.27656</td>\n",
       "      <td>...</td>\n",
       "      <td>8.02259</td>\n",
       "      <td>1.0</td>\n",
       "      <td>7.56910</td>\n",
       "      <td>AB-</td>\n",
       "      <td>Wilkins and Sons</td>\n",
       "      <td>Catering manager</td>\n",
       "      <td>F</td>\n",
       "      <td>1906-09-12</td>\n",
       "      <td>Black</td>\n",
       "      <td>PSC 3172, Box 9852\\nAPO AP 12679</td>\n",
       "    </tr>\n",
       "    <tr>\n",
       "      <th>9710</th>\n",
       "      <td>Valerie Carter</td>\n",
       "      <td>4.05369</td>\n",
       "      <td>1</td>\n",
       "      <td>6.30583</td>\n",
       "      <td>married</td>\n",
       "      <td>546-10-0083</td>\n",
       "      <td>0.49297</td>\n",
       "      <td>60.326823</td>\n",
       "      <td>6.22727</td>\n",
       "      <td>49.46443</td>\n",
       "      <td>...</td>\n",
       "      <td>9.44110</td>\n",
       "      <td>1.0</td>\n",
       "      <td>7.53199</td>\n",
       "      <td>B+</td>\n",
       "      <td>Suarez-Cohen</td>\n",
       "      <td>Therapist, art</td>\n",
       "      <td>F</td>\n",
       "      <td>1922-01-05</td>\n",
       "      <td>Black</td>\n",
       "      <td>PSC 1199, Box 5372\\nAPO AP 19298</td>\n",
       "    </tr>\n",
       "    <tr>\n",
       "      <th>9711</th>\n",
       "      <td>Julie Newman</td>\n",
       "      <td>4.80303</td>\n",
       "      <td>1</td>\n",
       "      <td>6.78358</td>\n",
       "      <td>widowed</td>\n",
       "      <td>556-01-2815</td>\n",
       "      <td>1.92676</td>\n",
       "      <td>57.927510</td>\n",
       "      <td>8.64693</td>\n",
       "      <td>44.97615</td>\n",
       "      <td>...</td>\n",
       "      <td>6.77935</td>\n",
       "      <td>1.0</td>\n",
       "      <td>4.97849</td>\n",
       "      <td>AB+</td>\n",
       "      <td>Davila, Ramirez and Jones</td>\n",
       "      <td>Public relations officer</td>\n",
       "      <td>F</td>\n",
       "      <td>1993-09-29</td>\n",
       "      <td>White</td>\n",
       "      <td>PSC 6981, Box 6784\\nAPO AP 13561</td>\n",
       "    </tr>\n",
       "    <tr>\n",
       "      <th>9712</th>\n",
       "      <td>Jennifer Mcintyre</td>\n",
       "      <td>7.04535</td>\n",
       "      <td>1</td>\n",
       "      <td>5.89654</td>\n",
       "      <td>single</td>\n",
       "      <td>078-25-7938</td>\n",
       "      <td>0.33727</td>\n",
       "      <td>67.463150</td>\n",
       "      <td>4.40982</td>\n",
       "      <td>59.33639</td>\n",
       "      <td>...</td>\n",
       "      <td>7.86389</td>\n",
       "      <td>1.0</td>\n",
       "      <td>6.90337</td>\n",
       "      <td>AB-</td>\n",
       "      <td>Jacobson, Spencer and George</td>\n",
       "      <td>Best boy</td>\n",
       "      <td>F</td>\n",
       "      <td>1953-04-01</td>\n",
       "      <td>Asian</td>\n",
       "      <td>80527 Megan Lodge Suite 046\\nRebeccaton, OR 60665</td>\n",
       "    </tr>\n",
       "  </tbody>\n",
       "</table>\n",
       "<p>9713 rows × 24 columns</p>\n",
       "</div>"
      ],
      "text/plain": [
       "                    name  hematokrit  smoker  leukocyty relationship  \\\n",
       "0        Courtney Sparks     5.10789       0    3.79699      married   \n",
       "1             David Cook     6.06717       0    6.61722     divorced   \n",
       "2          Debra Cameron     8.52161       1    8.76540      married   \n",
       "3     Vincent Mccullough     4.35962       0    6.61320     divorced   \n",
       "4          Lauren Harris     5.32524       1    6.52586     divorced   \n",
       "...                  ...         ...     ...        ...          ...   \n",
       "9708     Kenneth Sanchez     4.67432       0    5.22478      married   \n",
       "9709   Jennifer Franklin     5.38144       1    6.77403      widowed   \n",
       "9710      Valerie Carter     4.05369       1    6.30583      married   \n",
       "9711        Julie Newman     4.80303       1    6.78358      widowed   \n",
       "9712   Jennifer Mcintyre     7.04535       1    5.89654       single   \n",
       "\n",
       "              ssn      alt     weight  erytrocyty       alp  ...  trombocyty  \\\n",
       "0     211-15-5030  1.36076  65.507480     7.92270  80.65839  ...     3.77915   \n",
       "1     134-25-6459  1.10335  80.560530     7.13748  90.67608  ...     3.77915   \n",
       "2     327-02-6401  3.08378  56.122320     9.11128  57.21363  ...     5.54453   \n",
       "3     469-50-8029  3.91503  93.521070     9.37966  82.12788  ...     5.34519   \n",
       "4     755-50-6094  0.89996  57.017680     7.78640  80.50126  ...     7.49621   \n",
       "...           ...      ...        ...         ...       ...  ...         ...   \n",
       "9708  035-07-2574  0.75385  77.806063     7.40597  80.98445  ...     4.59180   \n",
       "9709  369-05-1763  0.68170  72.437630     7.38835  88.27656  ...     8.02259   \n",
       "9710  546-10-0083  0.49297  60.326823     6.22727  49.46443  ...     9.44110   \n",
       "9711  556-01-2815  1.92676  57.927510     8.64693  44.97615  ...     6.77935   \n",
       "9712  078-25-7938  0.33727  67.463150     4.40982  59.33639  ...     7.86389   \n",
       "\n",
       "      indicator    hbver  blood_group                       company  \\\n",
       "0           0.0  6.73439          AB+                    Mendez Inc   \n",
       "1           0.0  6.69188           A-     Morgan, Wilson and Miller   \n",
       "2           0.0  6.08754           B+                  Erickson Inc   \n",
       "3           0.0  6.34100           A-              Sweeney and Sons   \n",
       "4           1.0  6.88636           O-                    Luna Group   \n",
       "...         ...      ...          ...                           ...   \n",
       "9708        0.0  6.23398          AB-                    Herman Inc   \n",
       "9709        1.0  7.56910          AB-              Wilkins and Sons   \n",
       "9710        1.0  7.53199           B+                  Suarez-Cohen   \n",
       "9711        1.0  4.97849          AB+     Davila, Ramirez and Jones   \n",
       "9712        1.0  6.90337          AB-  Jacobson, Spencer and George   \n",
       "\n",
       "                                     job  sex  birthdate   race  \\\n",
       "0                             Printmaker    F 1915-03-29  Black   \n",
       "1     Surveyor, planning and development    M 1958-12-15  Black   \n",
       "2                     Press photographer    F 1906-02-09  Black   \n",
       "3                Engineer, manufacturing    M 1908-03-08  White   \n",
       "4                       Surveyor, mining    F 1927-04-13  Asian   \n",
       "...                                  ...  ...        ...    ...   \n",
       "9708                 Mechanical engineer    M 2008-04-16  Black   \n",
       "9709                    Catering manager    F 1906-09-12  Black   \n",
       "9710                      Therapist, art    F 1922-01-05  Black   \n",
       "9711            Public relations officer    F 1993-09-29  White   \n",
       "9712                            Best boy    F 1953-04-01  Asian   \n",
       "\n",
       "                                                address  \n",
       "0        7181 Williams Lane\\nEast Richardport, MO 70889  \n",
       "1     12545 Derek Shore Apt. 068\\nLake Jennifer, UT ...  \n",
       "2     815 Sanders Pass Apt. 285\\nNancychester, AR 70658  \n",
       "3     928 Griffin Canyon Apt. 851\\nCareyborough, CA ...  \n",
       "4     9378 Pierce Crescent Suite 407\\nEast Jacquelin...  \n",
       "...                                                 ...  \n",
       "9708           831 Brandy Plains\\nWilsonmouth, WY 02172  \n",
       "9709                   PSC 3172, Box 9852\\nAPO AP 12679  \n",
       "9710                   PSC 1199, Box 5372\\nAPO AP 19298  \n",
       "9711                   PSC 6981, Box 6784\\nAPO AP 13561  \n",
       "9712  80527 Megan Lodge Suite 046\\nRebeccaton, OR 60665  \n",
       "\n",
       "[9713 rows x 24 columns]"
      ]
     },
     "execution_count": 616,
     "metadata": {},
     "output_type": "execute_result"
    }
   ],
   "source": [
    "dataset_final.drop(columns=[\"name_y\"], inplace=True)\n",
    "dataset_final.rename(columns={'name_x': 'name'}, inplace=True)\n",
    "dataset_final"
   ]
  },
  {
   "cell_type": "markdown",
   "metadata": {},
   "source": [
    "#### Prepísanie dát do numerického formátu"
   ]
  },
  {
   "cell_type": "markdown",
   "metadata": {},
   "source": [
    "Stĺpec smoker bol už predošle prerobený na numerický formát, lebo sme s tým stĺpcom pracovali. Ostatné stĺpce,\n",
    "ktoré nemajú numerický fomrát uložíme do iného tabuľky, a z pôvodného tabuľky odstránime tie stĺpce."
   ]
  },
  {
   "cell_type": "code",
   "execution_count": 617,
   "metadata": {
    "pycharm": {
     "name": "#%%\n"
    }
   },
   "outputs": [
    {
     "data": {
      "text/html": [
       "<div>\n",
       "<style scoped>\n",
       "    .dataframe tbody tr th:only-of-type {\n",
       "        vertical-align: middle;\n",
       "    }\n",
       "\n",
       "    .dataframe tbody tr th {\n",
       "        vertical-align: top;\n",
       "    }\n",
       "\n",
       "    .dataframe thead th {\n",
       "        text-align: right;\n",
       "    }\n",
       "</style>\n",
       "<table border=\"1\" class=\"dataframe\">\n",
       "  <thead>\n",
       "    <tr style=\"text-align: right;\">\n",
       "      <th></th>\n",
       "      <th>name</th>\n",
       "      <th>hematokrit</th>\n",
       "      <th>smoker</th>\n",
       "      <th>leukocyty</th>\n",
       "      <th>relationship</th>\n",
       "      <th>ssn</th>\n",
       "      <th>alt</th>\n",
       "      <th>weight</th>\n",
       "      <th>erytrocyty</th>\n",
       "      <th>alp</th>\n",
       "      <th>...</th>\n",
       "      <th>trombocyty</th>\n",
       "      <th>indicator</th>\n",
       "      <th>hbver</th>\n",
       "      <th>blood_group</th>\n",
       "      <th>company</th>\n",
       "      <th>job</th>\n",
       "      <th>sex</th>\n",
       "      <th>birthdate</th>\n",
       "      <th>race</th>\n",
       "      <th>address</th>\n",
       "    </tr>\n",
       "  </thead>\n",
       "  <tbody>\n",
       "    <tr>\n",
       "      <th>0</th>\n",
       "      <td>Courtney Sparks</td>\n",
       "      <td>5.10789</td>\n",
       "      <td>0</td>\n",
       "      <td>3.79699</td>\n",
       "      <td>0</td>\n",
       "      <td>211-15-5030</td>\n",
       "      <td>1.36076</td>\n",
       "      <td>65.507480</td>\n",
       "      <td>7.92270</td>\n",
       "      <td>80.65839</td>\n",
       "      <td>...</td>\n",
       "      <td>3.77915</td>\n",
       "      <td>0.0</td>\n",
       "      <td>6.73439</td>\n",
       "      <td>0</td>\n",
       "      <td>Mendez Inc</td>\n",
       "      <td>Printmaker</td>\n",
       "      <td>0</td>\n",
       "      <td>1915-03-29</td>\n",
       "      <td>0</td>\n",
       "      <td>7181 Williams Lane\\nEast Richardport, MO 70889</td>\n",
       "    </tr>\n",
       "    <tr>\n",
       "      <th>1</th>\n",
       "      <td>David Cook</td>\n",
       "      <td>6.06717</td>\n",
       "      <td>0</td>\n",
       "      <td>6.61722</td>\n",
       "      <td>1</td>\n",
       "      <td>134-25-6459</td>\n",
       "      <td>1.10335</td>\n",
       "      <td>80.560530</td>\n",
       "      <td>7.13748</td>\n",
       "      <td>90.67608</td>\n",
       "      <td>...</td>\n",
       "      <td>3.77915</td>\n",
       "      <td>0.0</td>\n",
       "      <td>6.69188</td>\n",
       "      <td>1</td>\n",
       "      <td>Morgan, Wilson and Miller</td>\n",
       "      <td>Surveyor, planning and development</td>\n",
       "      <td>1</td>\n",
       "      <td>1958-12-15</td>\n",
       "      <td>0</td>\n",
       "      <td>12545 Derek Shore Apt. 068\\nLake Jennifer, UT ...</td>\n",
       "    </tr>\n",
       "    <tr>\n",
       "      <th>2</th>\n",
       "      <td>Debra Cameron</td>\n",
       "      <td>8.52161</td>\n",
       "      <td>1</td>\n",
       "      <td>8.76540</td>\n",
       "      <td>0</td>\n",
       "      <td>327-02-6401</td>\n",
       "      <td>3.08378</td>\n",
       "      <td>56.122320</td>\n",
       "      <td>9.11128</td>\n",
       "      <td>57.21363</td>\n",
       "      <td>...</td>\n",
       "      <td>5.54453</td>\n",
       "      <td>0.0</td>\n",
       "      <td>6.08754</td>\n",
       "      <td>2</td>\n",
       "      <td>Erickson Inc</td>\n",
       "      <td>Press photographer</td>\n",
       "      <td>0</td>\n",
       "      <td>1906-02-09</td>\n",
       "      <td>0</td>\n",
       "      <td>815 Sanders Pass Apt. 285\\nNancychester, AR 70658</td>\n",
       "    </tr>\n",
       "    <tr>\n",
       "      <th>3</th>\n",
       "      <td>Vincent Mccullough</td>\n",
       "      <td>4.35962</td>\n",
       "      <td>0</td>\n",
       "      <td>6.61320</td>\n",
       "      <td>1</td>\n",
       "      <td>469-50-8029</td>\n",
       "      <td>3.91503</td>\n",
       "      <td>93.521070</td>\n",
       "      <td>9.37966</td>\n",
       "      <td>82.12788</td>\n",
       "      <td>...</td>\n",
       "      <td>5.34519</td>\n",
       "      <td>0.0</td>\n",
       "      <td>6.34100</td>\n",
       "      <td>1</td>\n",
       "      <td>Sweeney and Sons</td>\n",
       "      <td>Engineer, manufacturing</td>\n",
       "      <td>1</td>\n",
       "      <td>1908-03-08</td>\n",
       "      <td>1</td>\n",
       "      <td>928 Griffin Canyon Apt. 851\\nCareyborough, CA ...</td>\n",
       "    </tr>\n",
       "    <tr>\n",
       "      <th>4</th>\n",
       "      <td>Lauren Harris</td>\n",
       "      <td>5.32524</td>\n",
       "      <td>1</td>\n",
       "      <td>6.52586</td>\n",
       "      <td>1</td>\n",
       "      <td>755-50-6094</td>\n",
       "      <td>0.89996</td>\n",
       "      <td>57.017680</td>\n",
       "      <td>7.78640</td>\n",
       "      <td>80.50126</td>\n",
       "      <td>...</td>\n",
       "      <td>7.49621</td>\n",
       "      <td>1.0</td>\n",
       "      <td>6.88636</td>\n",
       "      <td>3</td>\n",
       "      <td>Luna Group</td>\n",
       "      <td>Surveyor, mining</td>\n",
       "      <td>0</td>\n",
       "      <td>1927-04-13</td>\n",
       "      <td>2</td>\n",
       "      <td>9378 Pierce Crescent Suite 407\\nEast Jacquelin...</td>\n",
       "    </tr>\n",
       "    <tr>\n",
       "      <th>...</th>\n",
       "      <td>...</td>\n",
       "      <td>...</td>\n",
       "      <td>...</td>\n",
       "      <td>...</td>\n",
       "      <td>...</td>\n",
       "      <td>...</td>\n",
       "      <td>...</td>\n",
       "      <td>...</td>\n",
       "      <td>...</td>\n",
       "      <td>...</td>\n",
       "      <td>...</td>\n",
       "      <td>...</td>\n",
       "      <td>...</td>\n",
       "      <td>...</td>\n",
       "      <td>...</td>\n",
       "      <td>...</td>\n",
       "      <td>...</td>\n",
       "      <td>...</td>\n",
       "      <td>...</td>\n",
       "      <td>...</td>\n",
       "      <td>...</td>\n",
       "    </tr>\n",
       "    <tr>\n",
       "      <th>9708</th>\n",
       "      <td>Kenneth Sanchez</td>\n",
       "      <td>4.67432</td>\n",
       "      <td>0</td>\n",
       "      <td>5.22478</td>\n",
       "      <td>0</td>\n",
       "      <td>035-07-2574</td>\n",
       "      <td>0.75385</td>\n",
       "      <td>77.806063</td>\n",
       "      <td>7.40597</td>\n",
       "      <td>80.98445</td>\n",
       "      <td>...</td>\n",
       "      <td>4.59180</td>\n",
       "      <td>0.0</td>\n",
       "      <td>6.23398</td>\n",
       "      <td>5</td>\n",
       "      <td>Herman Inc</td>\n",
       "      <td>Mechanical engineer</td>\n",
       "      <td>1</td>\n",
       "      <td>2008-04-16</td>\n",
       "      <td>0</td>\n",
       "      <td>831 Brandy Plains\\nWilsonmouth, WY 02172</td>\n",
       "    </tr>\n",
       "    <tr>\n",
       "      <th>9709</th>\n",
       "      <td>Jennifer Franklin</td>\n",
       "      <td>5.38144</td>\n",
       "      <td>1</td>\n",
       "      <td>6.77403</td>\n",
       "      <td>5</td>\n",
       "      <td>369-05-1763</td>\n",
       "      <td>0.68170</td>\n",
       "      <td>72.437630</td>\n",
       "      <td>7.38835</td>\n",
       "      <td>88.27656</td>\n",
       "      <td>...</td>\n",
       "      <td>8.02259</td>\n",
       "      <td>1.0</td>\n",
       "      <td>7.56910</td>\n",
       "      <td>5</td>\n",
       "      <td>Wilkins and Sons</td>\n",
       "      <td>Catering manager</td>\n",
       "      <td>0</td>\n",
       "      <td>1906-09-12</td>\n",
       "      <td>0</td>\n",
       "      <td>PSC 3172, Box 9852\\nAPO AP 12679</td>\n",
       "    </tr>\n",
       "    <tr>\n",
       "      <th>9710</th>\n",
       "      <td>Valerie Carter</td>\n",
       "      <td>4.05369</td>\n",
       "      <td>1</td>\n",
       "      <td>6.30583</td>\n",
       "      <td>0</td>\n",
       "      <td>546-10-0083</td>\n",
       "      <td>0.49297</td>\n",
       "      <td>60.326823</td>\n",
       "      <td>6.22727</td>\n",
       "      <td>49.46443</td>\n",
       "      <td>...</td>\n",
       "      <td>9.44110</td>\n",
       "      <td>1.0</td>\n",
       "      <td>7.53199</td>\n",
       "      <td>2</td>\n",
       "      <td>Suarez-Cohen</td>\n",
       "      <td>Therapist, art</td>\n",
       "      <td>0</td>\n",
       "      <td>1922-01-05</td>\n",
       "      <td>0</td>\n",
       "      <td>PSC 1199, Box 5372\\nAPO AP 19298</td>\n",
       "    </tr>\n",
       "    <tr>\n",
       "      <th>9711</th>\n",
       "      <td>Julie Newman</td>\n",
       "      <td>4.80303</td>\n",
       "      <td>1</td>\n",
       "      <td>6.78358</td>\n",
       "      <td>5</td>\n",
       "      <td>556-01-2815</td>\n",
       "      <td>1.92676</td>\n",
       "      <td>57.927510</td>\n",
       "      <td>8.64693</td>\n",
       "      <td>44.97615</td>\n",
       "      <td>...</td>\n",
       "      <td>6.77935</td>\n",
       "      <td>1.0</td>\n",
       "      <td>4.97849</td>\n",
       "      <td>0</td>\n",
       "      <td>Davila, Ramirez and Jones</td>\n",
       "      <td>Public relations officer</td>\n",
       "      <td>0</td>\n",
       "      <td>1993-09-29</td>\n",
       "      <td>1</td>\n",
       "      <td>PSC 6981, Box 6784\\nAPO AP 13561</td>\n",
       "    </tr>\n",
       "    <tr>\n",
       "      <th>9712</th>\n",
       "      <td>Jennifer Mcintyre</td>\n",
       "      <td>7.04535</td>\n",
       "      <td>1</td>\n",
       "      <td>5.89654</td>\n",
       "      <td>4</td>\n",
       "      <td>078-25-7938</td>\n",
       "      <td>0.33727</td>\n",
       "      <td>67.463150</td>\n",
       "      <td>4.40982</td>\n",
       "      <td>59.33639</td>\n",
       "      <td>...</td>\n",
       "      <td>7.86389</td>\n",
       "      <td>1.0</td>\n",
       "      <td>6.90337</td>\n",
       "      <td>5</td>\n",
       "      <td>Jacobson, Spencer and George</td>\n",
       "      <td>Best boy</td>\n",
       "      <td>0</td>\n",
       "      <td>1953-04-01</td>\n",
       "      <td>2</td>\n",
       "      <td>80527 Megan Lodge Suite 046\\nRebeccaton, OR 60665</td>\n",
       "    </tr>\n",
       "  </tbody>\n",
       "</table>\n",
       "<p>9713 rows × 24 columns</p>\n",
       "</div>"
      ],
      "text/plain": [
       "                    name  hematokrit  smoker  leukocyty  relationship  \\\n",
       "0        Courtney Sparks     5.10789       0    3.79699             0   \n",
       "1             David Cook     6.06717       0    6.61722             1   \n",
       "2          Debra Cameron     8.52161       1    8.76540             0   \n",
       "3     Vincent Mccullough     4.35962       0    6.61320             1   \n",
       "4          Lauren Harris     5.32524       1    6.52586             1   \n",
       "...                  ...         ...     ...        ...           ...   \n",
       "9708     Kenneth Sanchez     4.67432       0    5.22478             0   \n",
       "9709   Jennifer Franklin     5.38144       1    6.77403             5   \n",
       "9710      Valerie Carter     4.05369       1    6.30583             0   \n",
       "9711        Julie Newman     4.80303       1    6.78358             5   \n",
       "9712   Jennifer Mcintyre     7.04535       1    5.89654             4   \n",
       "\n",
       "              ssn      alt     weight  erytrocyty       alp  ...  trombocyty  \\\n",
       "0     211-15-5030  1.36076  65.507480     7.92270  80.65839  ...     3.77915   \n",
       "1     134-25-6459  1.10335  80.560530     7.13748  90.67608  ...     3.77915   \n",
       "2     327-02-6401  3.08378  56.122320     9.11128  57.21363  ...     5.54453   \n",
       "3     469-50-8029  3.91503  93.521070     9.37966  82.12788  ...     5.34519   \n",
       "4     755-50-6094  0.89996  57.017680     7.78640  80.50126  ...     7.49621   \n",
       "...           ...      ...        ...         ...       ...  ...         ...   \n",
       "9708  035-07-2574  0.75385  77.806063     7.40597  80.98445  ...     4.59180   \n",
       "9709  369-05-1763  0.68170  72.437630     7.38835  88.27656  ...     8.02259   \n",
       "9710  546-10-0083  0.49297  60.326823     6.22727  49.46443  ...     9.44110   \n",
       "9711  556-01-2815  1.92676  57.927510     8.64693  44.97615  ...     6.77935   \n",
       "9712  078-25-7938  0.33727  67.463150     4.40982  59.33639  ...     7.86389   \n",
       "\n",
       "      indicator    hbver  blood_group                       company  \\\n",
       "0           0.0  6.73439            0                    Mendez Inc   \n",
       "1           0.0  6.69188            1     Morgan, Wilson and Miller   \n",
       "2           0.0  6.08754            2                  Erickson Inc   \n",
       "3           0.0  6.34100            1              Sweeney and Sons   \n",
       "4           1.0  6.88636            3                    Luna Group   \n",
       "...         ...      ...          ...                           ...   \n",
       "9708        0.0  6.23398            5                    Herman Inc   \n",
       "9709        1.0  7.56910            5              Wilkins and Sons   \n",
       "9710        1.0  7.53199            2                  Suarez-Cohen   \n",
       "9711        1.0  4.97849            0     Davila, Ramirez and Jones   \n",
       "9712        1.0  6.90337            5  Jacobson, Spencer and George   \n",
       "\n",
       "                                     job  sex  birthdate race  \\\n",
       "0                             Printmaker    0 1915-03-29    0   \n",
       "1     Surveyor, planning and development    1 1958-12-15    0   \n",
       "2                     Press photographer    0 1906-02-09    0   \n",
       "3                Engineer, manufacturing    1 1908-03-08    1   \n",
       "4                       Surveyor, mining    0 1927-04-13    2   \n",
       "...                                  ...  ...        ...  ...   \n",
       "9708                 Mechanical engineer    1 2008-04-16    0   \n",
       "9709                    Catering manager    0 1906-09-12    0   \n",
       "9710                      Therapist, art    0 1922-01-05    0   \n",
       "9711            Public relations officer    0 1993-09-29    1   \n",
       "9712                            Best boy    0 1953-04-01    2   \n",
       "\n",
       "                                                address  \n",
       "0        7181 Williams Lane\\nEast Richardport, MO 70889  \n",
       "1     12545 Derek Shore Apt. 068\\nLake Jennifer, UT ...  \n",
       "2     815 Sanders Pass Apt. 285\\nNancychester, AR 70658  \n",
       "3     928 Griffin Canyon Apt. 851\\nCareyborough, CA ...  \n",
       "4     9378 Pierce Crescent Suite 407\\nEast Jacquelin...  \n",
       "...                                                 ...  \n",
       "9708           831 Brandy Plains\\nWilsonmouth, WY 02172  \n",
       "9709                   PSC 3172, Box 9852\\nAPO AP 12679  \n",
       "9710                   PSC 1199, Box 5372\\nAPO AP 19298  \n",
       "9711                   PSC 6981, Box 6784\\nAPO AP 13561  \n",
       "9712  80527 Megan Lodge Suite 046\\nRebeccaton, OR 60665  \n",
       "\n",
       "[9713 rows x 24 columns]"
      ]
     },
     "execution_count": 617,
     "metadata": {},
     "output_type": "execute_result"
    }
   ],
   "source": [
    "def create_dicts(column_name):\n",
    "    dictionary = {}\n",
    "    counter = 0\n",
    "    for column_name in dataset_final[column_name].unique():\n",
    "        dictionary[column_name] = counter\n",
    "        counter += 1\n",
    "\n",
    "    return dictionary\n",
    "\n",
    "def change_values(dictionary, column_name):\n",
    "     dataset_final[column_name].replace(dictionary, inplace=True)\n",
    "\n",
    "relationship_dict = create_dicts(\"relationship\")\n",
    "change_values(relationship_dict,\"relationship\")\n",
    "\n",
    "blood_group_dict = create_dicts(\"blood_group\")\n",
    "change_values(blood_group_dict,\"blood_group\")\n",
    "\n",
    "sex_dict = create_dicts(\"sex\")\n",
    "change_values(sex_dict, \"sex\")\n",
    "\n",
    "race_dict = create_dicts(\"race\")\n",
    "change_values(race_dict,\"race\")\n",
    "\n",
    "dataset_final\n",
    "#dataset = dataset_final.copy()"
   ]
  },
  {
   "cell_type": "code",
   "execution_count": 618,
   "metadata": {
    "pycharm": {
     "name": "#%%\n"
    }
   },
   "outputs": [],
   "source": [
    "dataset_identifiers = dataset_final[['name','ssn','job','company','address','birthdate']].copy()"
   ]
  },
  {
   "cell_type": "code",
   "execution_count": 619,
   "metadata": {
    "pycharm": {
     "name": "#%%\n"
    }
   },
   "outputs": [
    {
     "data": {
      "text/html": [
       "<div>\n",
       "<style scoped>\n",
       "    .dataframe tbody tr th:only-of-type {\n",
       "        vertical-align: middle;\n",
       "    }\n",
       "\n",
       "    .dataframe tbody tr th {\n",
       "        vertical-align: top;\n",
       "    }\n",
       "\n",
       "    .dataframe thead th {\n",
       "        text-align: right;\n",
       "    }\n",
       "</style>\n",
       "<table border=\"1\" class=\"dataframe\">\n",
       "  <thead>\n",
       "    <tr style=\"text-align: right;\">\n",
       "      <th></th>\n",
       "      <th>name</th>\n",
       "      <th>ssn</th>\n",
       "      <th>job</th>\n",
       "      <th>company</th>\n",
       "      <th>address</th>\n",
       "      <th>birthdate</th>\n",
       "    </tr>\n",
       "  </thead>\n",
       "  <tbody>\n",
       "    <tr>\n",
       "      <th>0</th>\n",
       "      <td>Courtney Sparks</td>\n",
       "      <td>211-15-5030</td>\n",
       "      <td>Printmaker</td>\n",
       "      <td>Mendez Inc</td>\n",
       "      <td>7181 Williams Lane\\nEast Richardport, MO 70889</td>\n",
       "      <td>1915-03-29</td>\n",
       "    </tr>\n",
       "    <tr>\n",
       "      <th>1</th>\n",
       "      <td>David Cook</td>\n",
       "      <td>134-25-6459</td>\n",
       "      <td>Surveyor, planning and development</td>\n",
       "      <td>Morgan, Wilson and Miller</td>\n",
       "      <td>12545 Derek Shore Apt. 068\\nLake Jennifer, UT ...</td>\n",
       "      <td>1958-12-15</td>\n",
       "    </tr>\n",
       "    <tr>\n",
       "      <th>2</th>\n",
       "      <td>Debra Cameron</td>\n",
       "      <td>327-02-6401</td>\n",
       "      <td>Press photographer</td>\n",
       "      <td>Erickson Inc</td>\n",
       "      <td>815 Sanders Pass Apt. 285\\nNancychester, AR 70658</td>\n",
       "      <td>1906-02-09</td>\n",
       "    </tr>\n",
       "    <tr>\n",
       "      <th>3</th>\n",
       "      <td>Vincent Mccullough</td>\n",
       "      <td>469-50-8029</td>\n",
       "      <td>Engineer, manufacturing</td>\n",
       "      <td>Sweeney and Sons</td>\n",
       "      <td>928 Griffin Canyon Apt. 851\\nCareyborough, CA ...</td>\n",
       "      <td>1908-03-08</td>\n",
       "    </tr>\n",
       "    <tr>\n",
       "      <th>4</th>\n",
       "      <td>Lauren Harris</td>\n",
       "      <td>755-50-6094</td>\n",
       "      <td>Surveyor, mining</td>\n",
       "      <td>Luna Group</td>\n",
       "      <td>9378 Pierce Crescent Suite 407\\nEast Jacquelin...</td>\n",
       "      <td>1927-04-13</td>\n",
       "    </tr>\n",
       "    <tr>\n",
       "      <th>...</th>\n",
       "      <td>...</td>\n",
       "      <td>...</td>\n",
       "      <td>...</td>\n",
       "      <td>...</td>\n",
       "      <td>...</td>\n",
       "      <td>...</td>\n",
       "    </tr>\n",
       "    <tr>\n",
       "      <th>9708</th>\n",
       "      <td>Kenneth Sanchez</td>\n",
       "      <td>035-07-2574</td>\n",
       "      <td>Mechanical engineer</td>\n",
       "      <td>Herman Inc</td>\n",
       "      <td>831 Brandy Plains\\nWilsonmouth, WY 02172</td>\n",
       "      <td>2008-04-16</td>\n",
       "    </tr>\n",
       "    <tr>\n",
       "      <th>9709</th>\n",
       "      <td>Jennifer Franklin</td>\n",
       "      <td>369-05-1763</td>\n",
       "      <td>Catering manager</td>\n",
       "      <td>Wilkins and Sons</td>\n",
       "      <td>PSC 3172, Box 9852\\nAPO AP 12679</td>\n",
       "      <td>1906-09-12</td>\n",
       "    </tr>\n",
       "    <tr>\n",
       "      <th>9710</th>\n",
       "      <td>Valerie Carter</td>\n",
       "      <td>546-10-0083</td>\n",
       "      <td>Therapist, art</td>\n",
       "      <td>Suarez-Cohen</td>\n",
       "      <td>PSC 1199, Box 5372\\nAPO AP 19298</td>\n",
       "      <td>1922-01-05</td>\n",
       "    </tr>\n",
       "    <tr>\n",
       "      <th>9711</th>\n",
       "      <td>Julie Newman</td>\n",
       "      <td>556-01-2815</td>\n",
       "      <td>Public relations officer</td>\n",
       "      <td>Davila, Ramirez and Jones</td>\n",
       "      <td>PSC 6981, Box 6784\\nAPO AP 13561</td>\n",
       "      <td>1993-09-29</td>\n",
       "    </tr>\n",
       "    <tr>\n",
       "      <th>9712</th>\n",
       "      <td>Jennifer Mcintyre</td>\n",
       "      <td>078-25-7938</td>\n",
       "      <td>Best boy</td>\n",
       "      <td>Jacobson, Spencer and George</td>\n",
       "      <td>80527 Megan Lodge Suite 046\\nRebeccaton, OR 60665</td>\n",
       "      <td>1953-04-01</td>\n",
       "    </tr>\n",
       "  </tbody>\n",
       "</table>\n",
       "<p>9713 rows × 6 columns</p>\n",
       "</div>"
      ],
      "text/plain": [
       "                    name          ssn                                 job  \\\n",
       "0        Courtney Sparks  211-15-5030                          Printmaker   \n",
       "1             David Cook  134-25-6459  Surveyor, planning and development   \n",
       "2          Debra Cameron  327-02-6401                  Press photographer   \n",
       "3     Vincent Mccullough  469-50-8029             Engineer, manufacturing   \n",
       "4          Lauren Harris  755-50-6094                    Surveyor, mining   \n",
       "...                  ...          ...                                 ...   \n",
       "9708     Kenneth Sanchez  035-07-2574                 Mechanical engineer   \n",
       "9709   Jennifer Franklin  369-05-1763                    Catering manager   \n",
       "9710      Valerie Carter  546-10-0083                      Therapist, art   \n",
       "9711        Julie Newman  556-01-2815            Public relations officer   \n",
       "9712   Jennifer Mcintyre  078-25-7938                            Best boy   \n",
       "\n",
       "                           company  \\\n",
       "0                       Mendez Inc   \n",
       "1        Morgan, Wilson and Miller   \n",
       "2                     Erickson Inc   \n",
       "3                 Sweeney and Sons   \n",
       "4                       Luna Group   \n",
       "...                            ...   \n",
       "9708                    Herman Inc   \n",
       "9709              Wilkins and Sons   \n",
       "9710                  Suarez-Cohen   \n",
       "9711     Davila, Ramirez and Jones   \n",
       "9712  Jacobson, Spencer and George   \n",
       "\n",
       "                                                address  birthdate  \n",
       "0        7181 Williams Lane\\nEast Richardport, MO 70889 1915-03-29  \n",
       "1     12545 Derek Shore Apt. 068\\nLake Jennifer, UT ... 1958-12-15  \n",
       "2     815 Sanders Pass Apt. 285\\nNancychester, AR 70658 1906-02-09  \n",
       "3     928 Griffin Canyon Apt. 851\\nCareyborough, CA ... 1908-03-08  \n",
       "4     9378 Pierce Crescent Suite 407\\nEast Jacquelin... 1927-04-13  \n",
       "...                                                 ...        ...  \n",
       "9708           831 Brandy Plains\\nWilsonmouth, WY 02172 2008-04-16  \n",
       "9709                   PSC 3172, Box 9852\\nAPO AP 12679 1906-09-12  \n",
       "9710                   PSC 1199, Box 5372\\nAPO AP 19298 1922-01-05  \n",
       "9711                   PSC 6981, Box 6784\\nAPO AP 13561 1993-09-29  \n",
       "9712  80527 Megan Lodge Suite 046\\nRebeccaton, OR 60665 1953-04-01  \n",
       "\n",
       "[9713 rows x 6 columns]"
      ]
     },
     "execution_count": 619,
     "metadata": {},
     "output_type": "execute_result"
    }
   ],
   "source": [
    "dataset_identifiers"
   ]
  },
  {
   "cell_type": "code",
   "execution_count": 620,
   "metadata": {
    "pycharm": {
     "name": "#%%\n"
    }
   },
   "outputs": [
    {
     "data": {
      "text/html": [
       "<div>\n",
       "<style scoped>\n",
       "    .dataframe tbody tr th:only-of-type {\n",
       "        vertical-align: middle;\n",
       "    }\n",
       "\n",
       "    .dataframe tbody tr th {\n",
       "        vertical-align: top;\n",
       "    }\n",
       "\n",
       "    .dataframe thead th {\n",
       "        text-align: right;\n",
       "    }\n",
       "</style>\n",
       "<table border=\"1\" class=\"dataframe\">\n",
       "  <thead>\n",
       "    <tr style=\"text-align: right;\">\n",
       "      <th></th>\n",
       "      <th>hematokrit</th>\n",
       "      <th>smoker</th>\n",
       "      <th>leukocyty</th>\n",
       "      <th>relationship</th>\n",
       "      <th>alt</th>\n",
       "      <th>weight</th>\n",
       "      <th>erytrocyty</th>\n",
       "      <th>alp</th>\n",
       "      <th>ast</th>\n",
       "      <th>er-cv</th>\n",
       "      <th>etytr</th>\n",
       "      <th>hemoglobin</th>\n",
       "      <th>trombocyty</th>\n",
       "      <th>indicator</th>\n",
       "      <th>hbver</th>\n",
       "      <th>blood_group</th>\n",
       "      <th>sex</th>\n",
       "      <th>race</th>\n",
       "    </tr>\n",
       "  </thead>\n",
       "  <tbody>\n",
       "    <tr>\n",
       "      <th>0</th>\n",
       "      <td>5.10789</td>\n",
       "      <td>0</td>\n",
       "      <td>3.79699</td>\n",
       "      <td>0</td>\n",
       "      <td>1.36076</td>\n",
       "      <td>65.50748</td>\n",
       "      <td>7.92270</td>\n",
       "      <td>80.65839</td>\n",
       "      <td>40.27331</td>\n",
       "      <td>46.67907</td>\n",
       "      <td>6.93084</td>\n",
       "      <td>7.07385</td>\n",
       "      <td>3.77915</td>\n",
       "      <td>0.0</td>\n",
       "      <td>6.73439</td>\n",
       "      <td>0</td>\n",
       "      <td>0</td>\n",
       "      <td>0</td>\n",
       "    </tr>\n",
       "    <tr>\n",
       "      <th>1</th>\n",
       "      <td>6.06717</td>\n",
       "      <td>0</td>\n",
       "      <td>6.61722</td>\n",
       "      <td>1</td>\n",
       "      <td>1.10335</td>\n",
       "      <td>80.56053</td>\n",
       "      <td>7.13748</td>\n",
       "      <td>90.67608</td>\n",
       "      <td>51.14865</td>\n",
       "      <td>27.63148</td>\n",
       "      <td>6.17378</td>\n",
       "      <td>6.30636</td>\n",
       "      <td>3.77915</td>\n",
       "      <td>0.0</td>\n",
       "      <td>6.69188</td>\n",
       "      <td>1</td>\n",
       "      <td>1</td>\n",
       "      <td>0</td>\n",
       "    </tr>\n",
       "    <tr>\n",
       "      <th>2</th>\n",
       "      <td>8.52161</td>\n",
       "      <td>1</td>\n",
       "      <td>8.76540</td>\n",
       "      <td>0</td>\n",
       "      <td>3.08378</td>\n",
       "      <td>56.12232</td>\n",
       "      <td>9.11128</td>\n",
       "      <td>57.21363</td>\n",
       "      <td>57.61393</td>\n",
       "      <td>67.05110</td>\n",
       "      <td>7.25101</td>\n",
       "      <td>7.74219</td>\n",
       "      <td>5.54453</td>\n",
       "      <td>0.0</td>\n",
       "      <td>6.08754</td>\n",
       "      <td>2</td>\n",
       "      <td>0</td>\n",
       "      <td>0</td>\n",
       "    </tr>\n",
       "    <tr>\n",
       "      <th>3</th>\n",
       "      <td>4.35962</td>\n",
       "      <td>0</td>\n",
       "      <td>6.61320</td>\n",
       "      <td>1</td>\n",
       "      <td>3.91503</td>\n",
       "      <td>93.52107</td>\n",
       "      <td>9.37966</td>\n",
       "      <td>82.12788</td>\n",
       "      <td>71.76488</td>\n",
       "      <td>53.04260</td>\n",
       "      <td>6.18335</td>\n",
       "      <td>5.69975</td>\n",
       "      <td>5.34519</td>\n",
       "      <td>0.0</td>\n",
       "      <td>6.34100</td>\n",
       "      <td>1</td>\n",
       "      <td>1</td>\n",
       "      <td>1</td>\n",
       "    </tr>\n",
       "    <tr>\n",
       "      <th>4</th>\n",
       "      <td>5.32524</td>\n",
       "      <td>1</td>\n",
       "      <td>6.52586</td>\n",
       "      <td>1</td>\n",
       "      <td>0.89996</td>\n",
       "      <td>57.01768</td>\n",
       "      <td>7.78640</td>\n",
       "      <td>80.50126</td>\n",
       "      <td>44.08776</td>\n",
       "      <td>60.41555</td>\n",
       "      <td>5.33112</td>\n",
       "      <td>6.68497</td>\n",
       "      <td>7.49621</td>\n",
       "      <td>1.0</td>\n",
       "      <td>6.88636</td>\n",
       "      <td>3</td>\n",
       "      <td>0</td>\n",
       "      <td>2</td>\n",
       "    </tr>\n",
       "  </tbody>\n",
       "</table>\n",
       "</div>"
      ],
      "text/plain": [
       "   hematokrit  smoker  leukocyty  relationship      alt    weight  erytrocyty  \\\n",
       "0     5.10789       0    3.79699             0  1.36076  65.50748     7.92270   \n",
       "1     6.06717       0    6.61722             1  1.10335  80.56053     7.13748   \n",
       "2     8.52161       1    8.76540             0  3.08378  56.12232     9.11128   \n",
       "3     4.35962       0    6.61320             1  3.91503  93.52107     9.37966   \n",
       "4     5.32524       1    6.52586             1  0.89996  57.01768     7.78640   \n",
       "\n",
       "        alp       ast     er-cv    etytr  hemoglobin  trombocyty  indicator  \\\n",
       "0  80.65839  40.27331  46.67907  6.93084     7.07385     3.77915        0.0   \n",
       "1  90.67608  51.14865  27.63148  6.17378     6.30636     3.77915        0.0   \n",
       "2  57.21363  57.61393  67.05110  7.25101     7.74219     5.54453        0.0   \n",
       "3  82.12788  71.76488  53.04260  6.18335     5.69975     5.34519        0.0   \n",
       "4  80.50126  44.08776  60.41555  5.33112     6.68497     7.49621        1.0   \n",
       "\n",
       "     hbver  blood_group  sex  race  \n",
       "0  6.73439            0    0     0  \n",
       "1  6.69188            1    1     0  \n",
       "2  6.08754            2    0     0  \n",
       "3  6.34100            1    1     1  \n",
       "4  6.88636            3    0     2  "
      ]
     },
     "execution_count": 620,
     "metadata": {},
     "output_type": "execute_result"
    }
   ],
   "source": [
    "dataset_final.drop(columns=['name','ssn','job','company','address','birthdate'], inplace=True)\n",
    "\n",
    "dataset_final.head()"
   ]
  },
  {
   "cell_type": "markdown",
   "metadata": {},
   "source": [
    "## 2. Realizácia predspracovania dát\n",
    "\n",
    "Dataset sme rozdelili na trénovaciu a testovaciu sadu s pomerom 4:1. Jednotlivé záznamy sa vybrali náhodne."
   ]
  },
  {
   "cell_type": "code",
   "execution_count": 621,
   "metadata": {
    "pycharm": {
     "name": "#%%\n"
    }
   },
   "outputs": [],
   "source": [
    "from sklearn.model_selection import train_test_split\n",
    "\n",
    "\n",
    "train, test =train_test_split(dataset_final, test_size=0.2, shuffle=True)"
   ]
  },
  {
   "cell_type": "code",
   "execution_count": 622,
   "metadata": {
    "pycharm": {
     "name": "#%%\n"
    }
   },
   "outputs": [
    {
     "data": {
      "text/html": [
       "<div>\n",
       "<style scoped>\n",
       "    .dataframe tbody tr th:only-of-type {\n",
       "        vertical-align: middle;\n",
       "    }\n",
       "\n",
       "    .dataframe tbody tr th {\n",
       "        vertical-align: top;\n",
       "    }\n",
       "\n",
       "    .dataframe thead th {\n",
       "        text-align: right;\n",
       "    }\n",
       "</style>\n",
       "<table border=\"1\" class=\"dataframe\">\n",
       "  <thead>\n",
       "    <tr style=\"text-align: right;\">\n",
       "      <th></th>\n",
       "      <th>hematokrit</th>\n",
       "      <th>smoker</th>\n",
       "      <th>leukocyty</th>\n",
       "      <th>relationship</th>\n",
       "      <th>alt</th>\n",
       "      <th>weight</th>\n",
       "      <th>erytrocyty</th>\n",
       "      <th>alp</th>\n",
       "      <th>ast</th>\n",
       "      <th>er-cv</th>\n",
       "      <th>etytr</th>\n",
       "      <th>hemoglobin</th>\n",
       "      <th>trombocyty</th>\n",
       "      <th>indicator</th>\n",
       "      <th>hbver</th>\n",
       "      <th>blood_group</th>\n",
       "      <th>sex</th>\n",
       "      <th>race</th>\n",
       "    </tr>\n",
       "  </thead>\n",
       "  <tbody>\n",
       "    <tr>\n",
       "      <th>1182</th>\n",
       "      <td>5.34064</td>\n",
       "      <td>0</td>\n",
       "      <td>7.17552</td>\n",
       "      <td>0</td>\n",
       "      <td>2.90493</td>\n",
       "      <td>64.097690</td>\n",
       "      <td>8.96365</td>\n",
       "      <td>83.92973</td>\n",
       "      <td>35.89559</td>\n",
       "      <td>45.18711</td>\n",
       "      <td>7.36263</td>\n",
       "      <td>5.96403</td>\n",
       "      <td>5.42182</td>\n",
       "      <td>0.0</td>\n",
       "      <td>6.22305</td>\n",
       "      <td>4</td>\n",
       "      <td>0</td>\n",
       "      <td>0</td>\n",
       "    </tr>\n",
       "    <tr>\n",
       "      <th>7720</th>\n",
       "      <td>5.53047</td>\n",
       "      <td>0</td>\n",
       "      <td>3.79699</td>\n",
       "      <td>1</td>\n",
       "      <td>0.80922</td>\n",
       "      <td>54.967521</td>\n",
       "      <td>6.41742</td>\n",
       "      <td>82.34188</td>\n",
       "      <td>57.18334</td>\n",
       "      <td>55.85402</td>\n",
       "      <td>8.10294</td>\n",
       "      <td>5.64010</td>\n",
       "      <td>3.77915</td>\n",
       "      <td>0.0</td>\n",
       "      <td>5.32507</td>\n",
       "      <td>5</td>\n",
       "      <td>1</td>\n",
       "      <td>0</td>\n",
       "    </tr>\n",
       "    <tr>\n",
       "      <th>6889</th>\n",
       "      <td>4.94192</td>\n",
       "      <td>1</td>\n",
       "      <td>6.90381</td>\n",
       "      <td>5</td>\n",
       "      <td>0.85367</td>\n",
       "      <td>73.724920</td>\n",
       "      <td>7.07264</td>\n",
       "      <td>87.27384</td>\n",
       "      <td>68.35439</td>\n",
       "      <td>52.54021</td>\n",
       "      <td>5.63346</td>\n",
       "      <td>5.78436</td>\n",
       "      <td>9.44110</td>\n",
       "      <td>1.0</td>\n",
       "      <td>7.23360</td>\n",
       "      <td>7</td>\n",
       "      <td>0</td>\n",
       "      <td>0</td>\n",
       "    </tr>\n",
       "    <tr>\n",
       "      <th>8105</th>\n",
       "      <td>5.99502</td>\n",
       "      <td>0</td>\n",
       "      <td>6.11161</td>\n",
       "      <td>4</td>\n",
       "      <td>0.79822</td>\n",
       "      <td>63.182120</td>\n",
       "      <td>4.39469</td>\n",
       "      <td>77.33990</td>\n",
       "      <td>51.19823</td>\n",
       "      <td>40.87077</td>\n",
       "      <td>6.77275</td>\n",
       "      <td>7.11190</td>\n",
       "      <td>8.40973</td>\n",
       "      <td>1.0</td>\n",
       "      <td>7.51265</td>\n",
       "      <td>4</td>\n",
       "      <td>1</td>\n",
       "      <td>1</td>\n",
       "    </tr>\n",
       "    <tr>\n",
       "      <th>3525</th>\n",
       "      <td>5.01159</td>\n",
       "      <td>0</td>\n",
       "      <td>6.17480</td>\n",
       "      <td>3</td>\n",
       "      <td>2.57174</td>\n",
       "      <td>66.469862</td>\n",
       "      <td>8.90273</td>\n",
       "      <td>84.13689</td>\n",
       "      <td>64.42067</td>\n",
       "      <td>39.34031</td>\n",
       "      <td>6.39714</td>\n",
       "      <td>5.92199</td>\n",
       "      <td>4.25749</td>\n",
       "      <td>0.0</td>\n",
       "      <td>7.27293</td>\n",
       "      <td>7</td>\n",
       "      <td>0</td>\n",
       "      <td>1</td>\n",
       "    </tr>\n",
       "    <tr>\n",
       "      <th>...</th>\n",
       "      <td>...</td>\n",
       "      <td>...</td>\n",
       "      <td>...</td>\n",
       "      <td>...</td>\n",
       "      <td>...</td>\n",
       "      <td>...</td>\n",
       "      <td>...</td>\n",
       "      <td>...</td>\n",
       "      <td>...</td>\n",
       "      <td>...</td>\n",
       "      <td>...</td>\n",
       "      <td>...</td>\n",
       "      <td>...</td>\n",
       "      <td>...</td>\n",
       "      <td>...</td>\n",
       "      <td>...</td>\n",
       "      <td>...</td>\n",
       "      <td>...</td>\n",
       "    </tr>\n",
       "    <tr>\n",
       "      <th>9258</th>\n",
       "      <td>4.21758</td>\n",
       "      <td>1</td>\n",
       "      <td>3.79699</td>\n",
       "      <td>1</td>\n",
       "      <td>3.07297</td>\n",
       "      <td>72.507620</td>\n",
       "      <td>9.20085</td>\n",
       "      <td>81.12023</td>\n",
       "      <td>52.37636</td>\n",
       "      <td>63.50727</td>\n",
       "      <td>8.10294</td>\n",
       "      <td>5.80629</td>\n",
       "      <td>4.84748</td>\n",
       "      <td>0.0</td>\n",
       "      <td>5.16807</td>\n",
       "      <td>1</td>\n",
       "      <td>1</td>\n",
       "      <td>1</td>\n",
       "    </tr>\n",
       "    <tr>\n",
       "      <th>8043</th>\n",
       "      <td>5.58409</td>\n",
       "      <td>0</td>\n",
       "      <td>8.14397</td>\n",
       "      <td>2</td>\n",
       "      <td>0.56590</td>\n",
       "      <td>80.766680</td>\n",
       "      <td>6.63216</td>\n",
       "      <td>77.31420</td>\n",
       "      <td>61.60461</td>\n",
       "      <td>44.74743</td>\n",
       "      <td>6.34091</td>\n",
       "      <td>7.09687</td>\n",
       "      <td>8.65544</td>\n",
       "      <td>1.0</td>\n",
       "      <td>7.10311</td>\n",
       "      <td>4</td>\n",
       "      <td>0</td>\n",
       "      <td>1</td>\n",
       "    </tr>\n",
       "    <tr>\n",
       "      <th>339</th>\n",
       "      <td>8.40622</td>\n",
       "      <td>1</td>\n",
       "      <td>4.13257</td>\n",
       "      <td>4</td>\n",
       "      <td>0.48889</td>\n",
       "      <td>45.179910</td>\n",
       "      <td>4.59517</td>\n",
       "      <td>51.07780</td>\n",
       "      <td>71.01361</td>\n",
       "      <td>35.41595</td>\n",
       "      <td>5.89036</td>\n",
       "      <td>7.93820</td>\n",
       "      <td>6.03059</td>\n",
       "      <td>1.0</td>\n",
       "      <td>8.09142</td>\n",
       "      <td>5</td>\n",
       "      <td>0</td>\n",
       "      <td>1</td>\n",
       "    </tr>\n",
       "    <tr>\n",
       "      <th>555</th>\n",
       "      <td>8.99182</td>\n",
       "      <td>0</td>\n",
       "      <td>7.59552</td>\n",
       "      <td>1</td>\n",
       "      <td>0.56903</td>\n",
       "      <td>76.372270</td>\n",
       "      <td>6.22573</td>\n",
       "      <td>79.94134</td>\n",
       "      <td>71.76488</td>\n",
       "      <td>40.17138</td>\n",
       "      <td>6.17380</td>\n",
       "      <td>6.10357</td>\n",
       "      <td>8.07760</td>\n",
       "      <td>0.0</td>\n",
       "      <td>5.46109</td>\n",
       "      <td>3</td>\n",
       "      <td>1</td>\n",
       "      <td>1</td>\n",
       "    </tr>\n",
       "    <tr>\n",
       "      <th>8547</th>\n",
       "      <td>6.12738</td>\n",
       "      <td>1</td>\n",
       "      <td>5.88256</td>\n",
       "      <td>1</td>\n",
       "      <td>0.49953</td>\n",
       "      <td>65.461190</td>\n",
       "      <td>4.71003</td>\n",
       "      <td>73.95766</td>\n",
       "      <td>55.45749</td>\n",
       "      <td>27.63148</td>\n",
       "      <td>7.59868</td>\n",
       "      <td>7.07236</td>\n",
       "      <td>8.33964</td>\n",
       "      <td>1.0</td>\n",
       "      <td>5.89021</td>\n",
       "      <td>1</td>\n",
       "      <td>1</td>\n",
       "      <td>1</td>\n",
       "    </tr>\n",
       "  </tbody>\n",
       "</table>\n",
       "<p>7770 rows × 18 columns</p>\n",
       "</div>"
      ],
      "text/plain": [
       "      hematokrit  smoker  leukocyty  relationship      alt     weight  \\\n",
       "1182     5.34064       0    7.17552             0  2.90493  64.097690   \n",
       "7720     5.53047       0    3.79699             1  0.80922  54.967521   \n",
       "6889     4.94192       1    6.90381             5  0.85367  73.724920   \n",
       "8105     5.99502       0    6.11161             4  0.79822  63.182120   \n",
       "3525     5.01159       0    6.17480             3  2.57174  66.469862   \n",
       "...          ...     ...        ...           ...      ...        ...   \n",
       "9258     4.21758       1    3.79699             1  3.07297  72.507620   \n",
       "8043     5.58409       0    8.14397             2  0.56590  80.766680   \n",
       "339      8.40622       1    4.13257             4  0.48889  45.179910   \n",
       "555      8.99182       0    7.59552             1  0.56903  76.372270   \n",
       "8547     6.12738       1    5.88256             1  0.49953  65.461190   \n",
       "\n",
       "      erytrocyty       alp       ast     er-cv    etytr  hemoglobin  \\\n",
       "1182     8.96365  83.92973  35.89559  45.18711  7.36263     5.96403   \n",
       "7720     6.41742  82.34188  57.18334  55.85402  8.10294     5.64010   \n",
       "6889     7.07264  87.27384  68.35439  52.54021  5.63346     5.78436   \n",
       "8105     4.39469  77.33990  51.19823  40.87077  6.77275     7.11190   \n",
       "3525     8.90273  84.13689  64.42067  39.34031  6.39714     5.92199   \n",
       "...          ...       ...       ...       ...      ...         ...   \n",
       "9258     9.20085  81.12023  52.37636  63.50727  8.10294     5.80629   \n",
       "8043     6.63216  77.31420  61.60461  44.74743  6.34091     7.09687   \n",
       "339      4.59517  51.07780  71.01361  35.41595  5.89036     7.93820   \n",
       "555      6.22573  79.94134  71.76488  40.17138  6.17380     6.10357   \n",
       "8547     4.71003  73.95766  55.45749  27.63148  7.59868     7.07236   \n",
       "\n",
       "      trombocyty  indicator    hbver  blood_group  sex  race  \n",
       "1182     5.42182        0.0  6.22305            4    0     0  \n",
       "7720     3.77915        0.0  5.32507            5    1     0  \n",
       "6889     9.44110        1.0  7.23360            7    0     0  \n",
       "8105     8.40973        1.0  7.51265            4    1     1  \n",
       "3525     4.25749        0.0  7.27293            7    0     1  \n",
       "...          ...        ...      ...          ...  ...   ...  \n",
       "9258     4.84748        0.0  5.16807            1    1     1  \n",
       "8043     8.65544        1.0  7.10311            4    0     1  \n",
       "339      6.03059        1.0  8.09142            5    0     1  \n",
       "555      8.07760        0.0  5.46109            3    1     1  \n",
       "8547     8.33964        1.0  5.89021            1    1     1  \n",
       "\n",
       "[7770 rows x 18 columns]"
      ]
     },
     "execution_count": 622,
     "metadata": {},
     "output_type": "execute_result"
    }
   ],
   "source": [
    "train"
   ]
  },
  {
   "cell_type": "code",
   "execution_count": 623,
   "metadata": {
    "pycharm": {
     "name": "#%%\n"
    }
   },
   "outputs": [
    {
     "data": {
      "text/html": [
       "<div>\n",
       "<style scoped>\n",
       "    .dataframe tbody tr th:only-of-type {\n",
       "        vertical-align: middle;\n",
       "    }\n",
       "\n",
       "    .dataframe tbody tr th {\n",
       "        vertical-align: top;\n",
       "    }\n",
       "\n",
       "    .dataframe thead th {\n",
       "        text-align: right;\n",
       "    }\n",
       "</style>\n",
       "<table border=\"1\" class=\"dataframe\">\n",
       "  <thead>\n",
       "    <tr style=\"text-align: right;\">\n",
       "      <th></th>\n",
       "      <th>hematokrit</th>\n",
       "      <th>smoker</th>\n",
       "      <th>leukocyty</th>\n",
       "      <th>relationship</th>\n",
       "      <th>alt</th>\n",
       "      <th>weight</th>\n",
       "      <th>erytrocyty</th>\n",
       "      <th>alp</th>\n",
       "      <th>ast</th>\n",
       "      <th>er-cv</th>\n",
       "      <th>etytr</th>\n",
       "      <th>hemoglobin</th>\n",
       "      <th>trombocyty</th>\n",
       "      <th>indicator</th>\n",
       "      <th>hbver</th>\n",
       "      <th>blood_group</th>\n",
       "      <th>sex</th>\n",
       "      <th>race</th>\n",
       "    </tr>\n",
       "  </thead>\n",
       "  <tbody>\n",
       "    <tr>\n",
       "      <th>4013</th>\n",
       "      <td>9.35182</td>\n",
       "      <td>0</td>\n",
       "      <td>7.83673</td>\n",
       "      <td>4</td>\n",
       "      <td>1.56152</td>\n",
       "      <td>68.864575</td>\n",
       "      <td>8.15673</td>\n",
       "      <td>90.67608</td>\n",
       "      <td>32.96870</td>\n",
       "      <td>45.55424</td>\n",
       "      <td>6.33078</td>\n",
       "      <td>6.27811</td>\n",
       "      <td>7.91687</td>\n",
       "      <td>0.0</td>\n",
       "      <td>7.38663</td>\n",
       "      <td>7</td>\n",
       "      <td>1</td>\n",
       "      <td>0</td>\n",
       "    </tr>\n",
       "    <tr>\n",
       "      <th>8429</th>\n",
       "      <td>5.02989</td>\n",
       "      <td>1</td>\n",
       "      <td>9.30017</td>\n",
       "      <td>4</td>\n",
       "      <td>0.48782</td>\n",
       "      <td>52.085246</td>\n",
       "      <td>6.10439</td>\n",
       "      <td>55.80888</td>\n",
       "      <td>56.09810</td>\n",
       "      <td>54.91066</td>\n",
       "      <td>5.29641</td>\n",
       "      <td>7.55974</td>\n",
       "      <td>9.26757</td>\n",
       "      <td>1.0</td>\n",
       "      <td>6.51730</td>\n",
       "      <td>0</td>\n",
       "      <td>1</td>\n",
       "      <td>4</td>\n",
       "    </tr>\n",
       "    <tr>\n",
       "      <th>6072</th>\n",
       "      <td>8.78793</td>\n",
       "      <td>1</td>\n",
       "      <td>9.05508</td>\n",
       "      <td>3</td>\n",
       "      <td>2.67398</td>\n",
       "      <td>75.351506</td>\n",
       "      <td>8.94808</td>\n",
       "      <td>88.14324</td>\n",
       "      <td>71.76488</td>\n",
       "      <td>42.63338</td>\n",
       "      <td>5.04049</td>\n",
       "      <td>5.94461</td>\n",
       "      <td>6.29193</td>\n",
       "      <td>0.0</td>\n",
       "      <td>6.97197</td>\n",
       "      <td>6</td>\n",
       "      <td>1</td>\n",
       "      <td>1</td>\n",
       "    </tr>\n",
       "    <tr>\n",
       "      <th>5389</th>\n",
       "      <td>5.54743</td>\n",
       "      <td>1</td>\n",
       "      <td>9.12466</td>\n",
       "      <td>2</td>\n",
       "      <td>1.40374</td>\n",
       "      <td>80.048010</td>\n",
       "      <td>8.22778</td>\n",
       "      <td>59.60051</td>\n",
       "      <td>43.70995</td>\n",
       "      <td>52.63140</td>\n",
       "      <td>6.16992</td>\n",
       "      <td>7.45018</td>\n",
       "      <td>7.07480</td>\n",
       "      <td>1.0</td>\n",
       "      <td>7.66756</td>\n",
       "      <td>3</td>\n",
       "      <td>0</td>\n",
       "      <td>2</td>\n",
       "    </tr>\n",
       "    <tr>\n",
       "      <th>3767</th>\n",
       "      <td>6.33800</td>\n",
       "      <td>0</td>\n",
       "      <td>8.91128</td>\n",
       "      <td>0</td>\n",
       "      <td>3.91503</td>\n",
       "      <td>87.383870</td>\n",
       "      <td>9.37966</td>\n",
       "      <td>64.22129</td>\n",
       "      <td>48.37031</td>\n",
       "      <td>27.63148</td>\n",
       "      <td>4.86868</td>\n",
       "      <td>4.99662</td>\n",
       "      <td>5.26665</td>\n",
       "      <td>1.0</td>\n",
       "      <td>6.63086</td>\n",
       "      <td>0</td>\n",
       "      <td>0</td>\n",
       "      <td>1</td>\n",
       "    </tr>\n",
       "    <tr>\n",
       "      <th>...</th>\n",
       "      <td>...</td>\n",
       "      <td>...</td>\n",
       "      <td>...</td>\n",
       "      <td>...</td>\n",
       "      <td>...</td>\n",
       "      <td>...</td>\n",
       "      <td>...</td>\n",
       "      <td>...</td>\n",
       "      <td>...</td>\n",
       "      <td>...</td>\n",
       "      <td>...</td>\n",
       "      <td>...</td>\n",
       "      <td>...</td>\n",
       "      <td>...</td>\n",
       "      <td>...</td>\n",
       "      <td>...</td>\n",
       "      <td>...</td>\n",
       "      <td>...</td>\n",
       "    </tr>\n",
       "    <tr>\n",
       "      <th>6936</th>\n",
       "      <td>5.64565</td>\n",
       "      <td>0</td>\n",
       "      <td>8.92599</td>\n",
       "      <td>1</td>\n",
       "      <td>1.50142</td>\n",
       "      <td>66.760473</td>\n",
       "      <td>8.12244</td>\n",
       "      <td>81.31723</td>\n",
       "      <td>64.24720</td>\n",
       "      <td>70.53065</td>\n",
       "      <td>7.66608</td>\n",
       "      <td>6.57394</td>\n",
       "      <td>7.10457</td>\n",
       "      <td>1.0</td>\n",
       "      <td>5.69266</td>\n",
       "      <td>4</td>\n",
       "      <td>1</td>\n",
       "      <td>2</td>\n",
       "    </tr>\n",
       "    <tr>\n",
       "      <th>3571</th>\n",
       "      <td>4.43994</td>\n",
       "      <td>0</td>\n",
       "      <td>8.17196</td>\n",
       "      <td>4</td>\n",
       "      <td>1.03625</td>\n",
       "      <td>68.335814</td>\n",
       "      <td>7.98917</td>\n",
       "      <td>60.43197</td>\n",
       "      <td>41.71232</td>\n",
       "      <td>48.64465</td>\n",
       "      <td>5.96340</td>\n",
       "      <td>7.42556</td>\n",
       "      <td>7.48932</td>\n",
       "      <td>1.0</td>\n",
       "      <td>6.96661</td>\n",
       "      <td>1</td>\n",
       "      <td>0</td>\n",
       "      <td>0</td>\n",
       "    </tr>\n",
       "    <tr>\n",
       "      <th>64</th>\n",
       "      <td>4.87382</td>\n",
       "      <td>1</td>\n",
       "      <td>6.92898</td>\n",
       "      <td>2</td>\n",
       "      <td>0.44308</td>\n",
       "      <td>46.487010</td>\n",
       "      <td>4.86251</td>\n",
       "      <td>78.31927</td>\n",
       "      <td>49.72197</td>\n",
       "      <td>48.11620</td>\n",
       "      <td>6.44388</td>\n",
       "      <td>5.75511</td>\n",
       "      <td>9.44110</td>\n",
       "      <td>1.0</td>\n",
       "      <td>5.63226</td>\n",
       "      <td>5</td>\n",
       "      <td>1</td>\n",
       "      <td>3</td>\n",
       "    </tr>\n",
       "    <tr>\n",
       "      <th>4603</th>\n",
       "      <td>6.86217</td>\n",
       "      <td>0</td>\n",
       "      <td>6.64008</td>\n",
       "      <td>4</td>\n",
       "      <td>0.65985</td>\n",
       "      <td>65.555880</td>\n",
       "      <td>5.17409</td>\n",
       "      <td>89.99242</td>\n",
       "      <td>68.31509</td>\n",
       "      <td>55.63726</td>\n",
       "      <td>5.22556</td>\n",
       "      <td>5.75052</td>\n",
       "      <td>8.98239</td>\n",
       "      <td>1.0</td>\n",
       "      <td>5.36597</td>\n",
       "      <td>6</td>\n",
       "      <td>1</td>\n",
       "      <td>0</td>\n",
       "    </tr>\n",
       "    <tr>\n",
       "      <th>4859</th>\n",
       "      <td>9.12541</td>\n",
       "      <td>0</td>\n",
       "      <td>5.35553</td>\n",
       "      <td>1</td>\n",
       "      <td>0.47866</td>\n",
       "      <td>67.386345</td>\n",
       "      <td>4.15971</td>\n",
       "      <td>90.67608</td>\n",
       "      <td>57.34286</td>\n",
       "      <td>66.31083</td>\n",
       "      <td>6.18862</td>\n",
       "      <td>5.99414</td>\n",
       "      <td>6.55153</td>\n",
       "      <td>1.0</td>\n",
       "      <td>6.76291</td>\n",
       "      <td>3</td>\n",
       "      <td>0</td>\n",
       "      <td>1</td>\n",
       "    </tr>\n",
       "  </tbody>\n",
       "</table>\n",
       "<p>1943 rows × 18 columns</p>\n",
       "</div>"
      ],
      "text/plain": [
       "      hematokrit  smoker  leukocyty  relationship      alt     weight  \\\n",
       "4013     9.35182       0    7.83673             4  1.56152  68.864575   \n",
       "8429     5.02989       1    9.30017             4  0.48782  52.085246   \n",
       "6072     8.78793       1    9.05508             3  2.67398  75.351506   \n",
       "5389     5.54743       1    9.12466             2  1.40374  80.048010   \n",
       "3767     6.33800       0    8.91128             0  3.91503  87.383870   \n",
       "...          ...     ...        ...           ...      ...        ...   \n",
       "6936     5.64565       0    8.92599             1  1.50142  66.760473   \n",
       "3571     4.43994       0    8.17196             4  1.03625  68.335814   \n",
       "64       4.87382       1    6.92898             2  0.44308  46.487010   \n",
       "4603     6.86217       0    6.64008             4  0.65985  65.555880   \n",
       "4859     9.12541       0    5.35553             1  0.47866  67.386345   \n",
       "\n",
       "      erytrocyty       alp       ast     er-cv    etytr  hemoglobin  \\\n",
       "4013     8.15673  90.67608  32.96870  45.55424  6.33078     6.27811   \n",
       "8429     6.10439  55.80888  56.09810  54.91066  5.29641     7.55974   \n",
       "6072     8.94808  88.14324  71.76488  42.63338  5.04049     5.94461   \n",
       "5389     8.22778  59.60051  43.70995  52.63140  6.16992     7.45018   \n",
       "3767     9.37966  64.22129  48.37031  27.63148  4.86868     4.99662   \n",
       "...          ...       ...       ...       ...      ...         ...   \n",
       "6936     8.12244  81.31723  64.24720  70.53065  7.66608     6.57394   \n",
       "3571     7.98917  60.43197  41.71232  48.64465  5.96340     7.42556   \n",
       "64       4.86251  78.31927  49.72197  48.11620  6.44388     5.75511   \n",
       "4603     5.17409  89.99242  68.31509  55.63726  5.22556     5.75052   \n",
       "4859     4.15971  90.67608  57.34286  66.31083  6.18862     5.99414   \n",
       "\n",
       "      trombocyty  indicator    hbver  blood_group  sex  race  \n",
       "4013     7.91687        0.0  7.38663            7    1     0  \n",
       "8429     9.26757        1.0  6.51730            0    1     4  \n",
       "6072     6.29193        0.0  6.97197            6    1     1  \n",
       "5389     7.07480        1.0  7.66756            3    0     2  \n",
       "3767     5.26665        1.0  6.63086            0    0     1  \n",
       "...          ...        ...      ...          ...  ...   ...  \n",
       "6936     7.10457        1.0  5.69266            4    1     2  \n",
       "3571     7.48932        1.0  6.96661            1    0     0  \n",
       "64       9.44110        1.0  5.63226            5    1     3  \n",
       "4603     8.98239        1.0  5.36597            6    1     0  \n",
       "4859     6.55153        1.0  6.76291            3    0     1  \n",
       "\n",
       "[1943 rows x 18 columns]"
      ]
     },
     "execution_count": 623,
     "metadata": {},
     "output_type": "execute_result"
    }
   ],
   "source": [
    "test"
   ]
  },
  {
   "cell_type": "markdown",
   "metadata": {},
   "source": [
    "### Transformovanie atribútov dát pre strojové učenie\n",
    "\n",
    "Pozrime sa na stĺpec **alp** pred tranformáciou. Vidíme, že táto distribúcia je neparametrická."
   ]
  },
  {
   "cell_type": "code",
   "execution_count": 624,
   "metadata": {
    "pycharm": {
     "name": "#%%\n"
    }
   },
   "outputs": [
    {
     "data": {
      "text/plain": [
       "((array([-3.74777764, -3.51907419, -3.39334597, ...,  3.39334597,\n",
       "          3.51907419,  3.74777764]),\n",
       "  array([32.52412, 32.52412, 32.52412, ..., 90.67608, 90.67608, 90.67608])),\n",
       " (15.413127298850446, 72.43593040926642, 0.9307463753459889))"
      ]
     },
     "execution_count": 624,
     "metadata": {},
     "output_type": "execute_result"
    },
    {
     "data": {
      "image/png": "[encoded data removed]",
      "text/plain": [
       "<Figure size 432x288 with 1 Axes>"
      ]
     },
     "metadata": {
      "needs_background": "light"
     },
     "output_type": "display_data"
    }
   ],
   "source": [
    "sc.stats.probplot(train[\"alp\"], plot=sns.mpl.pyplot, fit=True)"
   ]
  },
  {
   "cell_type": "markdown",
   "metadata": {},
   "source": [
    "### Transformovanie atribútov pomocou techniky Power Transformer\n",
    "\n",
    "Technika power transformer nám z neparametrickej distribúcie spraví parametrickú distribúciu. Dozvedeli sme sa, že\n",
    "väčšina ML algoritmov pracuje lepšie s Gaussovou distribúciou.\n",
    "\n",
    "Zdroj: https://machinelearningmastery.com/power-transforms-with-scikit-learn/"
   ]
  },
  {
   "cell_type": "code",
   "execution_count": 625,
   "metadata": {
    "pycharm": {
     "name": "#%%\n"
    }
   },
   "outputs": [
    {
     "data": {
      "text/plain": [
       "((array([-3.74777764, -3.51907419, -3.39334597, ...,  3.39334597,\n",
       "          3.51907419,  3.74777764]),\n",
       "  array([ 14003.06203213,  14003.06203213,  14003.06203213, ...,\n",
       "         296403.04358092, 296403.04358092, 296403.04358092])),\n",
       " (83580.7246586013, 172958.30044747965, 0.9673889247908584))"
      ]
     },
     "execution_count": 625,
     "metadata": {},
     "output_type": "execute_result"
    },
    {
     "data": {
      "image/png": "[encoded data removed]",
      "text/plain": [
       "<Figure size 432x288 with 1 Axes>"
      ]
     },
     "metadata": {
      "needs_background": "light"
     },
     "output_type": "display_data"
    }
   ],
   "source": [
    "from sklearn.preprocessing import PowerTransformer\n",
    "\n",
    "power = PowerTransformer(method='yeo-johnson', standardize=False,)\n",
    "trans = power.fit_transform(train)\n",
    "trans_train = pd.DataFrame(trans)\n",
    "trans_train.columns = train.columns.copy()\n",
    "trans_train.describe()\n",
    "sc.stats.probplot(trans_train[\"alp\"], plot=sns.mpl.pyplot)"
   ]
  },
  {
   "cell_type": "markdown",
   "metadata": {},
   "source": [
    "### Transformovanie atribútov pomocou techniky Scaling Normalization.\n",
    "\n",
    "Scaling Normalalization nám zmení rozsah hodnôt od 0 po 1. Z daného zdroju https://towardsdatascience.com/beginner-explanation-for-data-transformation-9add3102f3bf\n",
    "sme sa dozvedeli, že umelá inteligencia pracuje lepšie pri rozsahu dát od 0 po 1."
   ]
  },
  {
   "cell_type": "code",
   "execution_count": 626,
   "metadata": {
    "pycharm": {
     "name": "#%%\n"
    }
   },
   "outputs": [
    {
     "data": {
      "text/plain": [
       "((array([-3.74777764, -3.51907419, -3.39334597, ...,  3.39334597,\n",
       "          3.51907419,  3.74777764]),\n",
       "  array([0., 0., 0., ..., 1., 1., 1.])),\n",
       " (0.2959657582136254, 0.5628726940546409, 0.9673889247908584))"
      ]
     },
     "execution_count": 626,
     "metadata": {},
     "output_type": "execute_result"
    },
    {
     "data": {
      "image/png": "[encoded data removed]",
      "text/plain": [
       "<Figure size 432x288 with 1 Axes>"
      ]
     },
     "metadata": {
      "needs_background": "light"
     },
     "output_type": "display_data"
    }
   ],
   "source": [
    "from sklearn.preprocessing import MinMaxScaler\n",
    "\n",
    "scaler = MinMaxScaler()\n",
    "# transform data\n",
    "scaled = scaler.fit_transform(trans_train)\n",
    "scaled_train = pd.DataFrame(scaled)\n",
    "scaled_train.columns = train.columns.copy()\n",
    "scaled_train.describe()\n",
    "sc.stats.probplot(scaled_train[\"alp\"], plot=sns.mpl.pyplot)"
   ]
  },
  {
   "cell_type": "markdown",
   "metadata": {},
   "source": [
    "## 3. Výber atribútov pre strojové učenie\n",
    "\n",
    "Najprv sme vypísali náš dataset po transformovaní"
   ]
  },
  {
   "cell_type": "code",
   "execution_count": 627,
   "metadata": {
    "pycharm": {
     "name": "#%%\n"
    }
   },
   "outputs": [
    {
     "data": {
      "text/html": [
       "<div>\n",
       "<style scoped>\n",
       "    .dataframe tbody tr th:only-of-type {\n",
       "        vertical-align: middle;\n",
       "    }\n",
       "\n",
       "    .dataframe tbody tr th {\n",
       "        vertical-align: top;\n",
       "    }\n",
       "\n",
       "    .dataframe thead th {\n",
       "        text-align: right;\n",
       "    }\n",
       "</style>\n",
       "<table border=\"1\" class=\"dataframe\">\n",
       "  <thead>\n",
       "    <tr style=\"text-align: right;\">\n",
       "      <th></th>\n",
       "      <th>hematokrit</th>\n",
       "      <th>smoker</th>\n",
       "      <th>leukocyty</th>\n",
       "      <th>relationship</th>\n",
       "      <th>alt</th>\n",
       "      <th>weight</th>\n",
       "      <th>erytrocyty</th>\n",
       "      <th>alp</th>\n",
       "      <th>ast</th>\n",
       "      <th>er-cv</th>\n",
       "      <th>etytr</th>\n",
       "      <th>hemoglobin</th>\n",
       "      <th>trombocyty</th>\n",
       "      <th>indicator</th>\n",
       "      <th>hbver</th>\n",
       "      <th>blood_group</th>\n",
       "      <th>sex</th>\n",
       "      <th>race</th>\n",
       "    </tr>\n",
       "  </thead>\n",
       "  <tbody>\n",
       "    <tr>\n",
       "      <th>0</th>\n",
       "      <td>0.313210</td>\n",
       "      <td>0.0</td>\n",
       "      <td>0.655287</td>\n",
       "      <td>0.000000</td>\n",
       "      <td>0.940312</td>\n",
       "      <td>0.419410</td>\n",
       "      <td>0.913069</td>\n",
       "      <td>0.782739</td>\n",
       "      <td>0.079786</td>\n",
       "      <td>0.423983</td>\n",
       "      <td>0.777542</td>\n",
       "      <td>0.354910</td>\n",
       "      <td>0.253735</td>\n",
       "      <td>0.0</td>\n",
       "      <td>0.430084</td>\n",
       "      <td>0.635643</td>\n",
       "      <td>0.0</td>\n",
       "      <td>0.000000</td>\n",
       "    </tr>\n",
       "    <tr>\n",
       "      <th>1</th>\n",
       "      <td>0.354152</td>\n",
       "      <td>0.0</td>\n",
       "      <td>0.000000</td>\n",
       "      <td>0.338006</td>\n",
       "      <td>0.460835</td>\n",
       "      <td>0.259175</td>\n",
       "      <td>0.406501</td>\n",
       "      <td>0.736415</td>\n",
       "      <td>0.636477</td>\n",
       "      <td>0.670545</td>\n",
       "      <td>1.000000</td>\n",
       "      <td>0.256413</td>\n",
       "      <td>0.000000</td>\n",
       "      <td>0.0</td>\n",
       "      <td>0.153933</td>\n",
       "      <td>0.763077</td>\n",
       "      <td>1.0</td>\n",
       "      <td>0.000000</td>\n",
       "    </tr>\n",
       "    <tr>\n",
       "      <th>2</th>\n",
       "      <td>0.223244</td>\n",
       "      <td>1.0</td>\n",
       "      <td>0.608200</td>\n",
       "      <td>1.000000</td>\n",
       "      <td>0.486901</td>\n",
       "      <td>0.582011</td>\n",
       "      <td>0.532411</td>\n",
       "      <td>0.886216</td>\n",
       "      <td>0.916013</td>\n",
       "      <td>0.594668</td>\n",
       "      <td>0.243676</td>\n",
       "      <td>0.300327</td>\n",
       "      <td>1.000000</td>\n",
       "      <td>1.0</td>\n",
       "      <td>0.739051</td>\n",
       "      <td>1.000000</td>\n",
       "      <td>0.0</td>\n",
       "      <td>0.000000</td>\n",
       "    </tr>\n",
       "    <tr>\n",
       "      <th>3</th>\n",
       "      <td>0.449720</td>\n",
       "      <td>0.0</td>\n",
       "      <td>0.466229</td>\n",
       "      <td>0.878013</td>\n",
       "      <td>0.454121</td>\n",
       "      <td>0.403625</td>\n",
       "      <td>0.040134</td>\n",
       "      <td>0.601835</td>\n",
       "      <td>0.483539</td>\n",
       "      <td>0.322120</td>\n",
       "      <td>0.597815</td>\n",
       "      <td>0.700984</td>\n",
       "      <td>0.793336</td>\n",
       "      <td>1.0</td>\n",
       "      <td>0.824064</td>\n",
       "      <td>0.635643</td>\n",
       "      <td>1.0</td>\n",
       "      <td>0.464777</td>\n",
       "    </tr>\n",
       "    <tr>\n",
       "      <th>4</th>\n",
       "      <td>0.239374</td>\n",
       "      <td>0.0</td>\n",
       "      <td>0.477827</td>\n",
       "      <td>0.735635</td>\n",
       "      <td>0.910421</td>\n",
       "      <td>0.460037</td>\n",
       "      <td>0.900431</td>\n",
       "      <td>0.788914</td>\n",
       "      <td>0.818387</td>\n",
       "      <td>0.285671</td>\n",
       "      <td>0.482133</td>\n",
       "      <td>0.342149</td>\n",
       "      <td>0.070356</td>\n",
       "      <td>0.0</td>\n",
       "      <td>0.751040</td>\n",
       "      <td>1.000000</td>\n",
       "      <td>0.0</td>\n",
       "      <td>0.464777</td>\n",
       "    </tr>\n",
       "    <tr>\n",
       "      <th>...</th>\n",
       "      <td>...</td>\n",
       "      <td>...</td>\n",
       "      <td>...</td>\n",
       "      <td>...</td>\n",
       "      <td>...</td>\n",
       "      <td>...</td>\n",
       "      <td>...</td>\n",
       "      <td>...</td>\n",
       "      <td>...</td>\n",
       "      <td>...</td>\n",
       "      <td>...</td>\n",
       "      <td>...</td>\n",
       "      <td>...</td>\n",
       "      <td>...</td>\n",
       "      <td>...</td>\n",
       "      <td>...</td>\n",
       "      <td>...</td>\n",
       "      <td>...</td>\n",
       "    </tr>\n",
       "    <tr>\n",
       "      <th>7765</th>\n",
       "      <td>0.043887</td>\n",
       "      <td>1.0</td>\n",
       "      <td>0.000000</td>\n",
       "      <td>0.338006</td>\n",
       "      <td>0.952986</td>\n",
       "      <td>0.561773</td>\n",
       "      <td>0.962501</td>\n",
       "      <td>0.701974</td>\n",
       "      <td>0.513838</td>\n",
       "      <td>0.843597</td>\n",
       "      <td>1.000000</td>\n",
       "      <td>0.306995</td>\n",
       "      <td>0.161205</td>\n",
       "      <td>0.0</td>\n",
       "      <td>0.105481</td>\n",
       "      <td>0.191053</td>\n",
       "      <td>1.0</td>\n",
       "      <td>0.464777</td>\n",
       "    </tr>\n",
       "    <tr>\n",
       "      <th>7766</th>\n",
       "      <td>0.365510</td>\n",
       "      <td>0.0</td>\n",
       "      <td>0.817225</td>\n",
       "      <td>0.562731</td>\n",
       "      <td>0.282377</td>\n",
       "      <td>0.697418</td>\n",
       "      <td>0.447404</td>\n",
       "      <td>0.601187</td>\n",
       "      <td>0.747974</td>\n",
       "      <td>0.413667</td>\n",
       "      <td>0.464727</td>\n",
       "      <td>0.696480</td>\n",
       "      <td>0.841683</td>\n",
       "      <td>1.0</td>\n",
       "      <td>0.699253</td>\n",
       "      <td>0.635643</td>\n",
       "      <td>0.0</td>\n",
       "      <td>0.464777</td>\n",
       "    </tr>\n",
       "    <tr>\n",
       "      <th>7767</th>\n",
       "      <td>0.864700</td>\n",
       "      <td>1.0</td>\n",
       "      <td>0.073504</td>\n",
       "      <td>0.878013</td>\n",
       "      <td>0.209455</td>\n",
       "      <td>0.079430</td>\n",
       "      <td>0.074804</td>\n",
       "      <td>0.139126</td>\n",
       "      <td>0.981549</td>\n",
       "      <td>0.191344</td>\n",
       "      <td>0.324403</td>\n",
       "      <td>0.947543</td>\n",
       "      <td>0.355994</td>\n",
       "      <td>1.0</td>\n",
       "      <td>1.000000</td>\n",
       "      <td>0.763077</td>\n",
       "      <td>0.0</td>\n",
       "      <td>0.464777</td>\n",
       "    </tr>\n",
       "    <tr>\n",
       "      <th>7768</th>\n",
       "      <td>0.949944</td>\n",
       "      <td>0.0</td>\n",
       "      <td>0.726602</td>\n",
       "      <td>0.338006</td>\n",
       "      <td>0.285143</td>\n",
       "      <td>0.625724</td>\n",
       "      <td>0.370294</td>\n",
       "      <td>0.669713</td>\n",
       "      <td>1.000000</td>\n",
       "      <td>0.305486</td>\n",
       "      <td>0.412862</td>\n",
       "      <td>0.397221</td>\n",
       "      <td>0.728892</td>\n",
       "      <td>0.0</td>\n",
       "      <td>0.195868</td>\n",
       "      <td>0.500096</td>\n",
       "      <td>1.0</td>\n",
       "      <td>0.464777</td>\n",
       "    </tr>\n",
       "    <tr>\n",
       "      <th>7769</th>\n",
       "      <td>0.475835</td>\n",
       "      <td>1.0</td>\n",
       "      <td>0.423765</td>\n",
       "      <td>0.338006</td>\n",
       "      <td>0.220120</td>\n",
       "      <td>0.442809</td>\n",
       "      <td>0.094841</td>\n",
       "      <td>0.520191</td>\n",
       "      <td>0.592623</td>\n",
       "      <td>0.000000</td>\n",
       "      <td>0.848834</td>\n",
       "      <td>0.689135</td>\n",
       "      <td>0.779649</td>\n",
       "      <td>1.0</td>\n",
       "      <td>0.327915</td>\n",
       "      <td>0.191053</td>\n",
       "      <td>1.0</td>\n",
       "      <td>0.464777</td>\n",
       "    </tr>\n",
       "  </tbody>\n",
       "</table>\n",
       "<p>7770 rows × 18 columns</p>\n",
       "</div>"
      ],
      "text/plain": [
       "      hematokrit  smoker  leukocyty  relationship       alt    weight  \\\n",
       "0       0.313210     0.0   0.655287      0.000000  0.940312  0.419410   \n",
       "1       0.354152     0.0   0.000000      0.338006  0.460835  0.259175   \n",
       "2       0.223244     1.0   0.608200      1.000000  0.486901  0.582011   \n",
       "3       0.449720     0.0   0.466229      0.878013  0.454121  0.403625   \n",
       "4       0.239374     0.0   0.477827      0.735635  0.910421  0.460037   \n",
       "...          ...     ...        ...           ...       ...       ...   \n",
       "7765    0.043887     1.0   0.000000      0.338006  0.952986  0.561773   \n",
       "7766    0.365510     0.0   0.817225      0.562731  0.282377  0.697418   \n",
       "7767    0.864700     1.0   0.073504      0.878013  0.209455  0.079430   \n",
       "7768    0.949944     0.0   0.726602      0.338006  0.285143  0.625724   \n",
       "7769    0.475835     1.0   0.423765      0.338006  0.220120  0.442809   \n",
       "\n",
       "      erytrocyty       alp       ast     er-cv     etytr  hemoglobin  \\\n",
       "0       0.913069  0.782739  0.079786  0.423983  0.777542    0.354910   \n",
       "1       0.406501  0.736415  0.636477  0.670545  1.000000    0.256413   \n",
       "2       0.532411  0.886216  0.916013  0.594668  0.243676    0.300327   \n",
       "3       0.040134  0.601835  0.483539  0.322120  0.597815    0.700984   \n",
       "4       0.900431  0.788914  0.818387  0.285671  0.482133    0.342149   \n",
       "...          ...       ...       ...       ...       ...         ...   \n",
       "7765    0.962501  0.701974  0.513838  0.843597  1.000000    0.306995   \n",
       "7766    0.447404  0.601187  0.747974  0.413667  0.464727    0.696480   \n",
       "7767    0.074804  0.139126  0.981549  0.191344  0.324403    0.947543   \n",
       "7768    0.370294  0.669713  1.000000  0.305486  0.412862    0.397221   \n",
       "7769    0.094841  0.520191  0.592623  0.000000  0.848834    0.689135   \n",
       "\n",
       "      trombocyty  indicator     hbver  blood_group  sex      race  \n",
       "0       0.253735        0.0  0.430084     0.635643  0.0  0.000000  \n",
       "1       0.000000        0.0  0.153933     0.763077  1.0  0.000000  \n",
       "2       1.000000        1.0  0.739051     1.000000  0.0  0.000000  \n",
       "3       0.793336        1.0  0.824064     0.635643  1.0  0.464777  \n",
       "4       0.070356        0.0  0.751040     1.000000  0.0  0.464777  \n",
       "...          ...        ...       ...          ...  ...       ...  \n",
       "7765    0.161205        0.0  0.105481     0.191053  1.0  0.464777  \n",
       "7766    0.841683        1.0  0.699253     0.635643  0.0  0.464777  \n",
       "7767    0.355994        1.0  1.000000     0.763077  0.0  0.464777  \n",
       "7768    0.728892        0.0  0.195868     0.500096  1.0  0.464777  \n",
       "7769    0.779649        1.0  0.327915     0.191053  1.0  0.464777  \n",
       "\n",
       "[7770 rows x 18 columns]"
      ]
     },
     "execution_count": 627,
     "metadata": {},
     "output_type": "execute_result"
    }
   ],
   "source": [
    "scaled_train.columns = train.columns.copy()\n",
    "scaled_train"
   ]
  },
  {
   "cell_type": "markdown",
   "metadata": {},
   "source": [
    "Dataset sme rozdelili na input a output. Output pre nás bude stĺpec **indicator** a tým pádom input budú všetky ostatné\n",
    " stĺpce."
   ]
  },
  {
   "cell_type": "code",
   "execution_count": 628,
   "metadata": {
    "pycharm": {
     "name": "#%%\n"
    }
   },
   "outputs": [
    {
     "data": {
      "text/plain": [
       "0       0\n",
       "1       0\n",
       "2       0\n",
       "3       0\n",
       "4       0\n",
       "       ..\n",
       "7765    0\n",
       "7766    0\n",
       "7767    0\n",
       "7768    0\n",
       "7769    0\n",
       "Name: indicator, Length: 7770, dtype: int64"
      ]
     },
     "execution_count": 628,
     "metadata": {},
     "output_type": "execute_result"
    }
   ],
   "source": [
    "train_trans_output = scaled_train[\"indicator\"]\n",
    "train_trans_input = scaled_train.copy()\n",
    "train_trans_input.drop('indicator', axis='columns', inplace=True)\n",
    "train_trans_output = train_trans_output.astype(np.int64)\n",
    "train_trans_output\n",
    "\n"
   ]
  },
  {
   "cell_type": "markdown",
   "metadata": {},
   "source": [
    "Pomocou funkcie **SelectFromModel()** sme dostali koeficienty atribútov, ktoré nám ukazujú ako daný atribút vplýva na indicator."
   ]
  },
  {
   "cell_type": "code",
   "execution_count": 629,
   "metadata": {
    "pycharm": {
     "name": "#%%\n"
    }
   },
   "outputs": [
    {
     "ename": "ValueError",
     "evalue": "This solver needs samples of at least 2 classes in the data, but the data contains only one class: 0",
     "output_type": "error",
     "traceback": [
      "\u001b[0;31m---------------------------------------------------------------------------\u001b[0m",
      "\u001b[0;31mValueError\u001b[0m                                Traceback (most recent call last)",
      "\u001b[0;32m/var/folders/v6/r_9ghkcj35gcws4jzhv5g__00000gn/T/ipykernel_13802/1782889685.py\u001b[0m in \u001b[0;36m<module>\u001b[0;34m\u001b[0m\n\u001b[1;32m      3\u001b[0m \u001b[0;34m\u001b[0m\u001b[0m\n\u001b[1;32m      4\u001b[0m \u001b[0;34m\u001b[0m\u001b[0m\n\u001b[0;32m----> 5\u001b[0;31m \u001b[0mselector\u001b[0m \u001b[0;34m=\u001b[0m \u001b[0mSelectFromModel\u001b[0m\u001b[0;34m(\u001b[0m\u001b[0mestimator\u001b[0m\u001b[0;34m=\u001b[0m\u001b[0mLogisticRegression\u001b[0m\u001b[0;34m(\u001b[0m\u001b[0;34m)\u001b[0m\u001b[0;34m)\u001b[0m\u001b[0;34m.\u001b[0m\u001b[0mfit\u001b[0m\u001b[0;34m(\u001b[0m\u001b[0mtrain_trans_input\u001b[0m\u001b[0;34m,\u001b[0m \u001b[0mtrain_trans_output\u001b[0m\u001b[0;34m)\u001b[0m\u001b[0;34m\u001b[0m\u001b[0;34m\u001b[0m\u001b[0m\n\u001b[0m\u001b[1;32m      6\u001b[0m \u001b[0mselector_coef\u001b[0m \u001b[0;34m=\u001b[0m \u001b[0mselector\u001b[0m\u001b[0;34m.\u001b[0m\u001b[0mestimator_\u001b[0m\u001b[0;34m.\u001b[0m\u001b[0mcoef_\u001b[0m\u001b[0;34m\u001b[0m\u001b[0;34m\u001b[0m\u001b[0m\n\u001b[1;32m      7\u001b[0m \u001b[0mprint\u001b[0m\u001b[0;34m(\u001b[0m\u001b[0;34m\"Koeficient:\"\u001b[0m\u001b[0;34m,\u001b[0m\u001b[0mselector_coef\u001b[0m\u001b[0;34m)\u001b[0m\u001b[0;34m\u001b[0m\u001b[0;34m\u001b[0m\u001b[0m\n",
      "\u001b[0;32m~/.virtualenvs/IAU_semestralny_projekt/lib/python3.9/site-packages/sklearn/feature_selection/_from_model.py\u001b[0m in \u001b[0;36mfit\u001b[0;34m(self, X, y, **fit_params)\u001b[0m\n\u001b[1;32m    265\u001b[0m             \u001b[0;32mraise\u001b[0m \u001b[0mNotFittedError\u001b[0m\u001b[0;34m(\u001b[0m\u001b[0;34m\"Since 'prefit=True', call transform directly\"\u001b[0m\u001b[0;34m)\u001b[0m\u001b[0;34m\u001b[0m\u001b[0;34m\u001b[0m\u001b[0m\n\u001b[1;32m    266\u001b[0m         \u001b[0mself\u001b[0m\u001b[0;34m.\u001b[0m\u001b[0mestimator_\u001b[0m \u001b[0;34m=\u001b[0m \u001b[0mclone\u001b[0m\u001b[0;34m(\u001b[0m\u001b[0mself\u001b[0m\u001b[0;34m.\u001b[0m\u001b[0mestimator\u001b[0m\u001b[0;34m)\u001b[0m\u001b[0;34m\u001b[0m\u001b[0;34m\u001b[0m\u001b[0m\n\u001b[0;32m--> 267\u001b[0;31m         \u001b[0mself\u001b[0m\u001b[0;34m.\u001b[0m\u001b[0mestimator_\u001b[0m\u001b[0;34m.\u001b[0m\u001b[0mfit\u001b[0m\u001b[0;34m(\u001b[0m\u001b[0mX\u001b[0m\u001b[0;34m,\u001b[0m \u001b[0my\u001b[0m\u001b[0;34m,\u001b[0m \u001b[0;34m**\u001b[0m\u001b[0mfit_params\u001b[0m\u001b[0;34m)\u001b[0m\u001b[0;34m\u001b[0m\u001b[0;34m\u001b[0m\u001b[0m\n\u001b[0m\u001b[1;32m    268\u001b[0m         \u001b[0;32mif\u001b[0m \u001b[0mhasattr\u001b[0m\u001b[0;34m(\u001b[0m\u001b[0mself\u001b[0m\u001b[0;34m.\u001b[0m\u001b[0mestimator_\u001b[0m\u001b[0;34m,\u001b[0m \u001b[0;34m\"feature_names_in_\"\u001b[0m\u001b[0;34m)\u001b[0m\u001b[0;34m:\u001b[0m\u001b[0;34m\u001b[0m\u001b[0;34m\u001b[0m\u001b[0m\n\u001b[1;32m    269\u001b[0m             \u001b[0mself\u001b[0m\u001b[0;34m.\u001b[0m\u001b[0mfeature_names_in_\u001b[0m \u001b[0;34m=\u001b[0m \u001b[0mself\u001b[0m\u001b[0;34m.\u001b[0m\u001b[0mestimator_\u001b[0m\u001b[0;34m.\u001b[0m\u001b[0mfeature_names_in_\u001b[0m\u001b[0;34m\u001b[0m\u001b[0;34m\u001b[0m\u001b[0m\n",
      "\u001b[0;32m~/.virtualenvs/IAU_semestralny_projekt/lib/python3.9/site-packages/sklearn/linear_model/_logistic.py\u001b[0m in \u001b[0;36mfit\u001b[0;34m(self, X, y, sample_weight)\u001b[0m\n\u001b[1;32m   1552\u001b[0m         \u001b[0mclasses_\u001b[0m \u001b[0;34m=\u001b[0m \u001b[0mself\u001b[0m\u001b[0;34m.\u001b[0m\u001b[0mclasses_\u001b[0m\u001b[0;34m\u001b[0m\u001b[0;34m\u001b[0m\u001b[0m\n\u001b[1;32m   1553\u001b[0m         \u001b[0;32mif\u001b[0m \u001b[0mn_classes\u001b[0m \u001b[0;34m<\u001b[0m \u001b[0;36m2\u001b[0m\u001b[0;34m:\u001b[0m\u001b[0;34m\u001b[0m\u001b[0;34m\u001b[0m\u001b[0m\n\u001b[0;32m-> 1554\u001b[0;31m             raise ValueError(\n\u001b[0m\u001b[1;32m   1555\u001b[0m                 \u001b[0;34m\"This solver needs samples of at least 2 classes\"\u001b[0m\u001b[0;34m\u001b[0m\u001b[0;34m\u001b[0m\u001b[0m\n\u001b[1;32m   1556\u001b[0m                 \u001b[0;34m\" in the data, but the data contains only one\"\u001b[0m\u001b[0;34m\u001b[0m\u001b[0;34m\u001b[0m\u001b[0m\n",
      "\u001b[0;31mValueError\u001b[0m: This solver needs samples of at least 2 classes in the data, but the data contains only one class: 0"
     ]
    }
   ],
   "source": [
    "from sklearn.feature_selection import SelectFromModel\n",
    "from sklearn.linear_model import LogisticRegression\n",
    "\n",
    "\n",
    "selector = SelectFromModel(estimator=LogisticRegression()).fit(train_trans_input, train_trans_output)\n",
    "selector_coef = selector.estimator_.coef_\n",
    "print(\"Koeficient:\",selector_coef)\n",
    "print(\"Threshold:\",selector.threshold_)\n",
    "print(\"Boolean hodnoty:\",selector.get_support())\n",
    "\n",
    "#alt, erytrocyty, trombocyty"
   ]
  },
  {
   "cell_type": "markdown",
   "metadata": {},
   "source": [
    "Dané atributý sme zoradili podľa dôležitosti od najvyššej po najnižšiu. Vyšlo nám, že najvyššiu dôležitosť má atribút\n",
    "trombocyty a najnižšiu atribút hbver.\n",
    "\n",
    "Taktiež sme zistili, že vplyv na indikátor majú len 3 atribúty: **trombocyty**, **erytrocyty** a **alt**"
   ]
  },
  {
   "cell_type": "code",
   "execution_count": null,
   "metadata": {
    "pycharm": {
     "name": "#%%\n"
    }
   },
   "outputs": [],
   "source": [
    "data = [train_trans_input.columns ,selector.estimator_.coef_]\n",
    "new_selector_coef = []\n",
    "temp_selector_coef = []\n",
    "for i in range(len(selector_coef[0])):\n",
    "    new_selector_coef.append(selector_coef[0][i])\n",
    "    temp_selector_coef.append(np.abs(selector_coef[0][i]))\n",
    "d = {'name': train_trans_input.columns, 'values': new_selector_coef, 'col3': temp_selector_coef, 'impact': selector.get_support()}\n",
    "selector_dataset = pd.DataFrame(data=d)\n",
    "selector_dataset.sort_values(by=['col3'], axis = 0, inplace = True, ascending=False)\n",
    "selector_dataset.drop('col3', axis='columns', inplace=True)\n",
    "selector_dataset.reset_index(inplace=True, drop=True)\n",
    "#print(selector_dataset)\n",
    "selector_dataset.style"
   ]
  },
  {
   "cell_type": "markdown",
   "metadata": {
    "pycharm": {
     "name": "#%% md\n"
    }
   },
   "source": [
    "Druhý spôsob výberu atribútov"
   ]
  },
  {
   "cell_type": "code",
   "execution_count": null,
   "metadata": {
    "pycharm": {
     "name": "#%%\n"
    }
   },
   "outputs": [],
   "source": [
    "from sklearn.feature_selection import RFE\n",
    "from sklearn.svm import SVR\n",
    "\n",
    "estimator = SVR(kernel=\"linear\")\n",
    "selector = RFE(estimator, n_features_to_select=5, step=1)\n",
    "selector = selector.fit(train_trans_input, train_trans_output)\n",
    "\n",
    "print(selector.support_)\n",
    "print(selector.ranking_)"
   ]
  },
  {
   "cell_type": "markdown",
   "metadata": {
    "pycharm": {
     "name": "#%% md\n"
    }
   },
   "source": [
    "Pomocou **Recursive Feature Elimination** sme zistili ďalšie dva atribúty, ktoré majú taktiež vplyv\n",
    "na indikátor. Dokopy sme vybrali 5 atribútov pre strojové učenie:\n",
    "\n",
    "**Trombocyty, Erytrocyty, Alt, Hematokrit, Leukocyty**"
   ]
  },
  {
   "cell_type": "code",
   "execution_count": null,
   "metadata": {
    "pycharm": {
     "name": "#%%\n"
    }
   },
   "outputs": [],
   "source": [
    "train_trans_input.head()"
   ]
  },
  {
   "cell_type": "markdown",
   "metadata": {},
   "source": [
    "## 4. Replikovateľnosť predspracovania"
   ]
  },
  {
   "cell_type": "markdown",
   "metadata": {},
   "source": [
    "Na transformáciu dát sme si vytvorili funkciu transform(). V nej sme použili funkciu Pipeline z knižnice sklearn.pipeline, pomocou ktorej vieme zjednodušiť transformácie. Najprv sa vykoná transformácia Power Transformer a následne sa vykoná Scaling Normalization."
   ]
  },
  {
   "cell_type": "code",
   "execution_count": null,
   "metadata": {
    "pycharm": {
     "name": "#%%\n"
    }
   },
   "outputs": [],
   "source": [
    "from sklearn.pipeline import Pipeline\n",
    "\n",
    "def transform(dataset):\n",
    "    pipeline = Pipeline([\n",
    "    ('power', PowerTransformer(method='yeo-johnson', standardize=False,)),\n",
    "    ('scaler', MinMaxScaler())\n",
    "    ])\n",
    "    new = pipeline.fit_transform(dataset)\n",
    "    new = pd.DataFrame(new)\n",
    "    new.columns = dataset.columns.copy()\n",
    "    return new"
   ]
  },
  {
   "cell_type": "code",
   "execution_count": null,
   "metadata": {
    "pycharm": {
     "name": "#%%\n"
    }
   },
   "outputs": [],
   "source": [
    "scaled_test = transform(test)\n",
    "scaled_test.describe()"
   ]
  },
  {
   "cell_type": "markdown",
   "metadata": {},
   "source": [
    "#### Uloženie dát"
   ]
  },
  {
   "cell_type": "code",
   "execution_count": null,
   "metadata": {
    "pycharm": {
     "name": "#%%\n"
    }
   },
   "outputs": [],
   "source": [
    "dataset_identifiers.to_csv(\"faza2/dataset_identifiers.csv\")\n",
    "scaled_train.to_csv(\"faza2/train_dataset.csv\")\n",
    "scaled_test.to_csv(\"faza2/test_dataset.csv\")"
   ]
  }
 ],
 "metadata": {
  "kernelspec": {
   "display_name": "Python 3 (ipykernel)",
   "language": "python",
   "name": "python3"
  },
  "language_info": {
   "codemirror_mode": {
    "name": "ipython",
    "version": 3
   },
   "file_extension": ".py",
   "mimetype": "text/x-python",
   "name": "python",
   "nbconvert_exporter": "python",
   "pygments_lexer": "ipython3",
   "version": "3.9.7"
  }
 },
 "nbformat": 4,
 "nbformat_minor": 1
}
