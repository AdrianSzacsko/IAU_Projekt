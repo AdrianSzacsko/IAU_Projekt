{
 "cells": [
  {
   "cell_type": "code",
   "execution_count": 1,
   "outputs": [],
   "source": [
    "import numpy as np\n",
    "import math as math\n",
    "import scipy as sc\n",
    "import pandas as pd\n",
    "import matplotlib as mt\n",
    "import matplotlib.pyplot as plt\n",
    "import seaborn as sns\n",
    "#import sklearn as sk"
   ],
   "metadata": {
    "collapsed": false,
    "pycharm": {
     "name": "#%%\n"
    }
   }
  },
  {
   "cell_type": "markdown",
   "metadata": {
    "collapsed": true,
    "pycharm": {
     "name": "#%% md\n"
    }
   },
   "source": [
    "# Fáza 3\n",
    "Autori: Jakub Smorada, Adrian Szacsko\n",
    "Podiel práce: 50 % / 50 %"
   ]
  },
  {
   "cell_type": "markdown",
   "source": [
    "Na začiatku je potrebné načítať dáta, ktoré sme uložili na konci fázy 2."
   ],
   "metadata": {
    "collapsed": false,
    "pycharm": {
     "name": "#%% md\n"
    }
   }
  },
  {
   "cell_type": "code",
   "execution_count": 2,
   "outputs": [],
   "source": [
    "test_dataset = pd.read_csv(\"faza2/test_dataset.csv\", delimiter=\",\")\n",
    "train_dataset = pd.read_csv(\"faza2/train_dataset.csv\", delimiter=\",\")\n",
    "\n",
    "test_dataset.drop(test_dataset.columns[0], axis=1, inplace=True)\n",
    "train_dataset.drop(train_dataset.columns[0], axis=1, inplace=True)"
   ],
   "metadata": {
    "collapsed": false,
    "pycharm": {
     "name": "#%%\n"
    }
   }
  },
  {
   "cell_type": "markdown",
   "source": [
    "Vyberieme len tie atribúty, ktoré majú najväčší vplyv na indikator."
   ],
   "metadata": {
    "collapsed": false,
    "pycharm": {
     "name": "#%% md\n"
    }
   }
  },
  {
   "cell_type": "code",
   "execution_count": 3,
   "outputs": [
    {
     "data": {
      "text/plain": "      trombocyty  erytrocyty       alt  hematokrit  leukocyty  indicator\n0       0.000000    0.657410  0.590051    0.124012   0.235670        0.0\n1       0.472369    0.783140  0.756626    0.916138   0.979337        0.0\n2       0.000000    0.758214  0.765718    0.618083   0.534911        0.0\n3       0.520432    0.496035  0.358712    0.899930   0.451250        0.0\n4       0.057209    0.578113  0.505168    0.612411   0.582834        0.0\n...          ...         ...       ...         ...        ...        ...\n7765    0.000000    0.928649  0.926709    0.605019   0.800762        0.0\n7766    0.770651    0.490583  0.483083    0.462006   0.570330        1.0\n7767    0.606216    0.793698  0.777088    0.000000   0.286733        1.0\n7768    0.655724    0.680117  0.607614    0.065900   0.921863        1.0\n7769    0.905998    0.419847  0.093355    0.186051   0.767784        1.0\n\n[7770 rows x 6 columns]",
      "text/html": "<div>\n<style scoped>\n    .dataframe tbody tr th:only-of-type {\n        vertical-align: middle;\n    }\n\n    .dataframe tbody tr th {\n        vertical-align: top;\n    }\n\n    .dataframe thead th {\n        text-align: right;\n    }\n</style>\n<table border=\"1\" class=\"dataframe\">\n  <thead>\n    <tr style=\"text-align: right;\">\n      <th></th>\n      <th>trombocyty</th>\n      <th>erytrocyty</th>\n      <th>alt</th>\n      <th>hematokrit</th>\n      <th>leukocyty</th>\n      <th>indicator</th>\n    </tr>\n  </thead>\n  <tbody>\n    <tr>\n      <th>0</th>\n      <td>0.000000</td>\n      <td>0.657410</td>\n      <td>0.590051</td>\n      <td>0.124012</td>\n      <td>0.235670</td>\n      <td>0.0</td>\n    </tr>\n    <tr>\n      <th>1</th>\n      <td>0.472369</td>\n      <td>0.783140</td>\n      <td>0.756626</td>\n      <td>0.916138</td>\n      <td>0.979337</td>\n      <td>0.0</td>\n    </tr>\n    <tr>\n      <th>2</th>\n      <td>0.000000</td>\n      <td>0.758214</td>\n      <td>0.765718</td>\n      <td>0.618083</td>\n      <td>0.534911</td>\n      <td>0.0</td>\n    </tr>\n    <tr>\n      <th>3</th>\n      <td>0.520432</td>\n      <td>0.496035</td>\n      <td>0.358712</td>\n      <td>0.899930</td>\n      <td>0.451250</td>\n      <td>0.0</td>\n    </tr>\n    <tr>\n      <th>4</th>\n      <td>0.057209</td>\n      <td>0.578113</td>\n      <td>0.505168</td>\n      <td>0.612411</td>\n      <td>0.582834</td>\n      <td>0.0</td>\n    </tr>\n    <tr>\n      <th>...</th>\n      <td>...</td>\n      <td>...</td>\n      <td>...</td>\n      <td>...</td>\n      <td>...</td>\n      <td>...</td>\n    </tr>\n    <tr>\n      <th>7765</th>\n      <td>0.000000</td>\n      <td>0.928649</td>\n      <td>0.926709</td>\n      <td>0.605019</td>\n      <td>0.800762</td>\n      <td>0.0</td>\n    </tr>\n    <tr>\n      <th>7766</th>\n      <td>0.770651</td>\n      <td>0.490583</td>\n      <td>0.483083</td>\n      <td>0.462006</td>\n      <td>0.570330</td>\n      <td>1.0</td>\n    </tr>\n    <tr>\n      <th>7767</th>\n      <td>0.606216</td>\n      <td>0.793698</td>\n      <td>0.777088</td>\n      <td>0.000000</td>\n      <td>0.286733</td>\n      <td>1.0</td>\n    </tr>\n    <tr>\n      <th>7768</th>\n      <td>0.655724</td>\n      <td>0.680117</td>\n      <td>0.607614</td>\n      <td>0.065900</td>\n      <td>0.921863</td>\n      <td>1.0</td>\n    </tr>\n    <tr>\n      <th>7769</th>\n      <td>0.905998</td>\n      <td>0.419847</td>\n      <td>0.093355</td>\n      <td>0.186051</td>\n      <td>0.767784</td>\n      <td>1.0</td>\n    </tr>\n  </tbody>\n</table>\n<p>7770 rows × 6 columns</p>\n</div>"
     },
     "execution_count": 3,
     "metadata": {},
     "output_type": "execute_result"
    }
   ],
   "source": [
    "train_attributes_dataset = train_dataset[['trombocyty','erytrocyty','alt','hematokrit','leukocyty', 'indicator']].copy()\n",
    "test_attributes_dataset = test_dataset[['trombocyty','erytrocyty','alt','hematokrit','leukocyty', 'indicator']].copy()\n",
    "train_attributes_dataset"
   ],
   "metadata": {
    "collapsed": false,
    "pycharm": {
     "name": "#%%\n"
    }
   }
  },
  {
   "cell_type": "markdown",
   "source": [
    "## 1. Manuálne vytvorenie a vyhodnotenie rozhodovacích pravidiel pre klasifikáciu"
   ],
   "metadata": {
    "collapsed": false,
    "pycharm": {
     "name": "#%% md\n"
    }
   }
  },
  {
   "cell_type": "code",
   "execution_count": 4,
   "outputs": [
    {
     "data": {
      "text/plain": "<AxesSubplot:xlabel='indicator', ylabel='trombocyty'>"
     },
     "execution_count": 4,
     "metadata": {},
     "output_type": "execute_result"
    },
    {
     "data": {
      "text/plain": "<Figure size 432x288 with 1 Axes>",
      "image/png": "[encoded data removed]"
     },
     "metadata": {
      "needs_background": "light"
     },
     "output_type": "display_data"
    }
   ],
   "source": [
    "sns.boxplot(data=train_attributes_dataset, x=\"indicator\", y=\"trombocyty\")"
   ],
   "metadata": {
    "collapsed": false,
    "pycharm": {
     "name": "#%%\n"
    }
   }
  },
  {
   "cell_type": "code",
   "execution_count": 5,
   "outputs": [],
   "source": [
    "from quick_sort import quickSort\n",
    "from math import ceil\n",
    "\n",
    "def oneR_model(dataset:pd.DataFrame, attribute):\n",
    "    rows = len(dataset)\n",
    "    percent = ceil(rows*0.3)\n",
    "    min = 0\n",
    "    max = 0\n",
    "    zero_array = []\n",
    "    one_array = []\n",
    "    for i in range(rows):\n",
    "        if dataset[\"indicator\"][i] == 0:\n",
    "            zero_array.append(dataset[attribute][i])\n",
    "        else:\n",
    "            one_array.append(dataset[attribute][i])\n",
    "\n",
    "    quickSort(one_array, 0, len(one_array)-1)\n",
    "    quickSort(zero_array, 0, len(zero_array)-1)\n",
    "    zero_array = zero_array[::-1]\n",
    "\n",
    "    if percent > len(one_array):\n",
    "        percent = len(one_array)\n",
    "    if percent > len(zero_array):\n",
    "        percent = len(zero_array)\n",
    "\n",
    "    for i in range(percent):\n",
    "        min += one_array[i]\n",
    "        max += zero_array[i]\n",
    "\n",
    "    min = min/percent\n",
    "    max = max/percent\n",
    "\n",
    "    threshold = (min+max)/2\n",
    "    return threshold\n",
    "\n",
    "\n",
    "def oneR(model, dataset_attr):\n",
    "    predict = []\n",
    "    for i in dataset_attr:\n",
    "        if i > model:\n",
    "            predict.append(1)\n",
    "        else:\n",
    "            predict.append(0)\n",
    "    return predict\n"
   ],
   "metadata": {
    "collapsed": false,
    "pycharm": {
     "name": "#%%\n"
    }
   }
  },
  {
   "cell_type": "markdown",
   "source": [
    "Trombocyty, Erytrocyty, Alt, Hematokrit a Leukocyty"
   ],
   "metadata": {
    "collapsed": false,
    "pycharm": {
     "name": "#%% md\n"
    }
   }
  },
  {
   "cell_type": "code",
   "execution_count": 6,
   "outputs": [],
   "source": [
    "model = oneR_model(train_attributes_dataset, \"trombocyty\")\n",
    "oneR_prediction = oneR(model, train_attributes_dataset[\"trombocyty\"])"
   ],
   "metadata": {
    "collapsed": false,
    "pycharm": {
     "name": "#%%\n"
    }
   }
  },
  {
   "cell_type": "code",
   "execution_count": 7,
   "outputs": [],
   "source": [
    "from sklearn.metrics import accuracy_score\n",
    "from sklearn.metrics import precision_score\n",
    "from sklearn.metrics import recall_score\n",
    "\n",
    "def evaluation(output, prediction):\n",
    "    print(\"Accuracy:\",accuracy_score(output, prediction))\n",
    "    print(\"Precision:\",precision_score(output, prediction, average='macro'))\n",
    "    print(\"Recall:\",recall_score(output, prediction, average='macro'))"
   ],
   "metadata": {
    "collapsed": false,
    "pycharm": {
     "name": "#%%\n"
    }
   }
  },
  {
   "cell_type": "code",
   "execution_count": 8,
   "outputs": [
    {
     "name": "stdout",
     "output_type": "stream",
     "text": [
      "\n",
      "Trenovaci dataset:\n",
      "Accuracy: 0.8223938223938224\n",
      "Precision: 0.8083146067415731\n",
      "Recall: 0.8023544689740839\n",
      "\n",
      "Testovaci dataset:\n",
      "Accuracy: 0.8111168296448791\n",
      "Precision: 0.7943753597467383\n",
      "Recall: 0.7856402326214595\n"
     ]
    }
   ],
   "source": [
    "print(\"\\nTrenovaci dataset:\")\n",
    "evaluation(train_attributes_dataset[\"indicator\"], oneR_prediction)\n",
    "oneR_prediction_test = oneR(model, test_attributes_dataset[\"trombocyty\"])\n",
    "print(\"\\nTestovaci dataset:\")\n",
    "evaluation(test_attributes_dataset[\"indicator\"], oneR_prediction_test)"
   ],
   "metadata": {
    "collapsed": false,
    "pycharm": {
     "name": "#%%\n"
    }
   }
  },
  {
   "cell_type": "markdown",
   "source": [
    "## 2. Natrénovanie a vyhodnotenie klasifikátora strojového učenia\n"
   ],
   "metadata": {
    "collapsed": false,
    "pycharm": {
     "name": "#%% md\n"
    }
   }
  },
  {
   "cell_type": "markdown",
   "source": [
    "Rozdelíme datasety z trénovacej a testovacej na trénovací vstup, trénovací výstup, testovací vstup a testovací výstup\n",
    "pre vyhodnotenie UI algoritmov"
   ],
   "metadata": {
    "collapsed": false,
    "pycharm": {
     "name": "#%% md\n"
    }
   }
  },
  {
   "cell_type": "code",
   "execution_count": 9,
   "outputs": [],
   "source": [
    "train_attributes_dataset_input = train_attributes_dataset.drop(columns=[\"indicator\"])\n",
    "train_attributes_dataset_output = train_attributes_dataset[\"indicator\"].copy()\n",
    "\n",
    "test_attributes_dataset_input = test_attributes_dataset.drop(columns=[\"indicator\"])\n",
    "test_attributes_dataset_output = test_attributes_dataset[\"indicator\"].copy()\n"
   ],
   "metadata": {
    "collapsed": false,
    "pycharm": {
     "name": "#%%\n"
    }
   }
  },
  {
   "cell_type": "markdown",
   "source": [
    "Vytvoríme model pre náš dataset podľa trénovacej množiny a vyzualizujeme natrénované pravidlá"
   ],
   "metadata": {
    "collapsed": false,
    "pycharm": {
     "name": "#%% md\n"
    }
   }
  },
  {
   "cell_type": "code",
   "execution_count": 10,
   "outputs": [
    {
     "data": {
      "text/plain": "<Figure size 864x864 with 1 Axes>",
      "image/png": "[encoded data removed]"
     },
     "metadata": {
      "needs_background": "light"
     },
     "output_type": "display_data"
    },
    {
     "name": "stdout",
     "output_type": "stream",
     "text": [
      "Tree model:\n"
     ]
    }
   ],
   "source": [
    "from sklearn import tree\n",
    "tree_model = tree.DecisionTreeClassifier(max_depth=4)\n",
    "\n",
    "tree_model = tree_model.fit(train_attributes_dataset_input, train_attributes_dataset_output)\n",
    "\n",
    "plt.figure(figsize=(12,12))  # set plot size (denoted in inches)\n",
    "tree.plot_tree(tree_model, fontsize=10)\n",
    "plt.show()\n",
    "#tree.plot_tree(tree_model)\n",
    "print(\"Tree model:\")"
   ],
   "metadata": {
    "collapsed": false,
    "pycharm": {
     "name": "#%%\n"
    }
   }
  },
  {
   "cell_type": "markdown",
   "source": [
    "Pomocou vytvorenej tree_model predikujeme indikátor na trénovacej a na testovacej množine"
   ],
   "metadata": {
    "collapsed": false
   }
  },
  {
   "cell_type": "code",
   "execution_count": 11,
   "outputs": [
    {
     "name": "stdout",
     "output_type": "stream",
     "text": [
      "Trenovaci dataset:\n",
      "Accuracy: 0.918018018018018\n",
      "Precision: 0.9196141201558561\n",
      "Recall: 0.9008747590278842\n",
      "\n",
      "Testovaci dataset:\n",
      "Accuracy: 0.9140504374678332\n",
      "Precision: 0.9175938519625112\n",
      "Recall: 0.8922589833632372\n"
     ]
    }
   ],
   "source": [
    "tree_train_output = tree_model.predict(train_attributes_dataset_input)\n",
    "print(\"Trenovaci dataset:\")\n",
    "evaluation(train_attributes_dataset_output, tree_train_output)\n",
    "print(\"\\nTestovaci dataset:\")\n",
    "tree_test_output = tree_model.predict(test_attributes_dataset_input)\n",
    "evaluation(test_attributes_dataset_output, tree_test_output)"
   ],
   "metadata": {
    "collapsed": false,
    "pycharm": {
     "name": "#%%\n"
    }
   }
  },
  {
   "cell_type": "markdown",
   "source": [
    "Vidíme, že náš tree_model vedel odhadnúť priemerne 92% hodnôt indikátoru podľa zadaných atribútov"
   ],
   "metadata": {
    "collapsed": false
   }
  },
  {
   "cell_type": "markdown",
   "source": [
    "Pri porovnaní nášho OneR predikciu s tree_model predikciou vidíme, že stromový algoritmus vyhodnotil priemerne o 10%\n",
    "lepšie indikátor ako náš algoritmus. To je možné z dôvodu, že náš OneR algoritmus pracuje len s jedným atribútom, kým\n",
    "stromový algoritmus s piatimi."
   ],
   "metadata": {
    "collapsed": false,
    "pycharm": {
     "name": "#%% md\n"
    }
   }
  },
  {
   "cell_type": "code",
   "execution_count": 12,
   "outputs": [
    {
     "name": "stdout",
     "output_type": "stream",
     "text": [
      "Accuracy: 0.8111168296448791\n",
      "Precision: 0.7943753597467383\n",
      "Recall: 0.7856402326214595\n"
     ]
    }
   ],
   "source": [
    "evaluation(test_attributes_dataset[\"indicator\"], oneR_prediction_test)"
   ],
   "metadata": {
    "collapsed": false,
    "pycharm": {
     "name": "#%%\n"
    }
   }
  },
  {
   "cell_type": "code",
   "execution_count": 13,
   "outputs": [
    {
     "data": {
      "text/plain": "   Accuracy  Precision    Recall  Name\n0  0.811117   0.794375  0.785640  OneR\n1  0.914050   0.917594  0.892259  Tree",
      "text/html": "<div>\n<style scoped>\n    .dataframe tbody tr th:only-of-type {\n        vertical-align: middle;\n    }\n\n    .dataframe tbody tr th {\n        vertical-align: top;\n    }\n\n    .dataframe thead th {\n        text-align: right;\n    }\n</style>\n<table border=\"1\" class=\"dataframe\">\n  <thead>\n    <tr style=\"text-align: right;\">\n      <th></th>\n      <th>Accuracy</th>\n      <th>Precision</th>\n      <th>Recall</th>\n      <th>Name</th>\n    </tr>\n  </thead>\n  <tbody>\n    <tr>\n      <th>0</th>\n      <td>0.811117</td>\n      <td>0.794375</td>\n      <td>0.785640</td>\n      <td>OneR</td>\n    </tr>\n    <tr>\n      <th>1</th>\n      <td>0.914050</td>\n      <td>0.917594</td>\n      <td>0.892259</td>\n      <td>Tree</td>\n    </tr>\n  </tbody>\n</table>\n</div>"
     },
     "execution_count": 13,
     "metadata": {},
     "output_type": "execute_result"
    }
   ],
   "source": [
    "def compare_accuracies(output, prediction1, prediction2):\n",
    "    acc_1 = accuracy_score(output, prediction1)\n",
    "    prec1 = precision_score(output, prediction1, average='macro')\n",
    "    rec1 = recall_score(output, prediction1, average='macro')\n",
    "    acc_2 = accuracy_score(output, prediction2)\n",
    "    prec2 = precision_score(output, prediction2, average='macro')\n",
    "    rec2 = recall_score(output, prediction2, average='macro')\n",
    "    dataset = pd.DataFrame([[acc_1, prec1, rec1], [acc_2, prec2, rec2]], columns=[\"Accuracy\", \"Precision\", \"Recall\"])\n",
    "    return dataset\n",
    "\n",
    "comparison = compare_accuracies(test_attributes_dataset[\"indicator\"], oneR_prediction_test, tree_test_output)\n",
    "comparison['Name'] = [\"OneR\", \"Tree\"]\n",
    "comparison"
   ],
   "metadata": {
    "collapsed": false,
    "pycharm": {
     "name": "#%%\n"
    }
   }
  },
  {
   "cell_type": "code",
   "execution_count": 14,
   "outputs": [
    {
     "data": {
      "text/plain": "<seaborn.axisgrid.FacetGrid at 0x27e458abd00>"
     },
     "execution_count": 14,
     "metadata": {},
     "output_type": "execute_result"
    },
    {
     "data": {
      "text/plain": "<Figure size 864x432 with 2 Axes>",
      "image/png": "[encoded data removed]"
     },
     "metadata": {
      "needs_background": "light"
     },
     "output_type": "display_data"
    }
   ],
   "source": [
    "#sns.catplot(data=comparison,col=\"Name\", kind=\"bar\",ci=\"sd\", palette=\"dark\")\n",
    "g=sns.catplot(data=comparison, col=\"Name\", kind=\"bar\", palette=\"dark\", alpha=.6, height=6)\n",
    "(g.set_axis_labels(\"\", \"Percent\")\n",
    "  .set_titles(\"{col_name}\")\n",
    "  .set(ylim=(0, 1))\n",
    "  .despine(left=True))"
   ],
   "metadata": {
    "collapsed": false,
    "pycharm": {
     "name": "#%%\n"
    }
   }
  },
  {
   "cell_type": "markdown",
   "source": [
    "## 3. Optimalizácia - hyperparameter tuning"
   ],
   "metadata": {
    "collapsed": false
   }
  },
  {
   "cell_type": "markdown",
   "source": [
    "Zvolme parametre pre tree_model, ktoré vyskúšame pomocou Grid Search Cross Validation"
   ],
   "metadata": {
    "collapsed": false,
    "pycharm": {
     "name": "#%% md\n"
    }
   }
  },
  {
   "cell_type": "code",
   "execution_count": 15,
   "outputs": [],
   "source": [
    "# Create the parameter grid based on the results of random search\n",
    "params = {\n",
    "    'max_depth': [2, 3, 5, 10, 15, 20],\n",
    "    'min_samples_leaf': [2, 5, 10, 20, 50, 100],\n",
    "    'criterion': [\"gini\", \"entropy\"]\n",
    "}"
   ],
   "metadata": {
    "collapsed": false,
    "pycharm": {
     "name": "#%%\n"
    }
   }
  },
  {
   "cell_type": "markdown",
   "source": [
    "Aplikujme vybrané parametre na tree_model aj s použitím cross_validation s k=5"
   ],
   "metadata": {
    "collapsed": false,
    "pycharm": {
     "name": "#%% md\n"
    }
   }
  },
  {
   "cell_type": "code",
   "execution_count": 16,
   "outputs": [],
   "source": [
    "tree_model = tree.DecisionTreeClassifier()\n",
    "\n",
    "from sklearn.model_selection import GridSearchCV\n",
    "\n",
    "grid_search = GridSearchCV(estimator=tree_model,\n",
    "                           param_grid=params,\n",
    "                           cv=5,\n",
    "                           scoring = \"accuracy\")"
   ],
   "metadata": {
    "collapsed": false,
    "pycharm": {
     "name": "#%%\n"
    }
   }
  },
  {
   "cell_type": "markdown",
   "source": [
    "Nájdime najlepšie hyperparametre"
   ],
   "metadata": {
    "collapsed": false,
    "pycharm": {
     "name": "#%% md\n"
    }
   }
  },
  {
   "cell_type": "code",
   "execution_count": 17,
   "outputs": [
    {
     "data": {
      "text/plain": "GridSearchCV(cv=5, estimator=DecisionTreeClassifier(),\n             param_grid={'criterion': ['gini', 'entropy'],\n                         'max_depth': [2, 3, 5, 10, 15, 20],\n                         'min_samples_leaf': [2, 5, 10, 20, 50, 100]},\n             scoring='accuracy')"
     },
     "execution_count": 17,
     "metadata": {},
     "output_type": "execute_result"
    }
   ],
   "source": [
    "grid_search.fit(train_attributes_dataset_input, train_attributes_dataset_output)"
   ],
   "metadata": {
    "collapsed": false,
    "pycharm": {
     "name": "#%%\n"
    }
   }
  },
  {
   "cell_type": "markdown",
   "source": [
    "Vypíšme jednotlivé výsledky pomocou Dataframe"
   ],
   "metadata": {
    "collapsed": false,
    "pycharm": {
     "name": "#%% md\n"
    }
   }
  },
  {
   "cell_type": "code",
   "execution_count": 18,
   "outputs": [
    {
     "data": {
      "text/plain": "   mean_fit_time  std_fit_time  mean_score_time  std_score_time  \\\n0       0.008299      0.000246         0.001800    2.448045e-04   \n1       0.008199      0.000245         0.001501    6.397442e-07   \n2       0.008400      0.000200         0.001500    1.617033e-06   \n3       0.008300      0.000244         0.001500    8.120244e-07   \n4       0.008301      0.000399         0.001799    2.439630e-04   \n\n  param_criterion param_max_depth param_min_samples_leaf  \\\n0            gini               2                      2   \n1            gini               2                      5   \n2            gini               2                     10   \n3            gini               2                     20   \n4            gini               2                     50   \n\n                                              params  split0_test_score  \\\n0  {'criterion': 'gini', 'max_depth': 2, 'min_sam...           0.848134   \n1  {'criterion': 'gini', 'max_depth': 2, 'min_sam...           0.848134   \n2  {'criterion': 'gini', 'max_depth': 2, 'min_sam...           0.848134   \n3  {'criterion': 'gini', 'max_depth': 2, 'min_sam...           0.848134   \n4  {'criterion': 'gini', 'max_depth': 2, 'min_sam...           0.848134   \n\n   split1_test_score  split2_test_score  split3_test_score  split4_test_score  \\\n0           0.851995           0.835907           0.843629           0.841055   \n1           0.851995           0.835907           0.843629           0.841055   \n2           0.851995           0.835907           0.843629           0.841055   \n3           0.851995           0.835907           0.843629           0.841055   \n4           0.851995           0.835907           0.843629           0.841055   \n\n   mean_test_score  std_test_score  rank_test_score  \n0         0.844144        0.005571               61  \n1         0.844144        0.005571               61  \n2         0.844144        0.005571               61  \n3         0.844144        0.005571               61  \n4         0.844144        0.005571               61  ",
      "text/html": "<div>\n<style scoped>\n    .dataframe tbody tr th:only-of-type {\n        vertical-align: middle;\n    }\n\n    .dataframe tbody tr th {\n        vertical-align: top;\n    }\n\n    .dataframe thead th {\n        text-align: right;\n    }\n</style>\n<table border=\"1\" class=\"dataframe\">\n  <thead>\n    <tr style=\"text-align: right;\">\n      <th></th>\n      <th>mean_fit_time</th>\n      <th>std_fit_time</th>\n      <th>mean_score_time</th>\n      <th>std_score_time</th>\n      <th>param_criterion</th>\n      <th>param_max_depth</th>\n      <th>param_min_samples_leaf</th>\n      <th>params</th>\n      <th>split0_test_score</th>\n      <th>split1_test_score</th>\n      <th>split2_test_score</th>\n      <th>split3_test_score</th>\n      <th>split4_test_score</th>\n      <th>mean_test_score</th>\n      <th>std_test_score</th>\n      <th>rank_test_score</th>\n    </tr>\n  </thead>\n  <tbody>\n    <tr>\n      <th>0</th>\n      <td>0.008299</td>\n      <td>0.000246</td>\n      <td>0.001800</td>\n      <td>2.448045e-04</td>\n      <td>gini</td>\n      <td>2</td>\n      <td>2</td>\n      <td>{'criterion': 'gini', 'max_depth': 2, 'min_sam...</td>\n      <td>0.848134</td>\n      <td>0.851995</td>\n      <td>0.835907</td>\n      <td>0.843629</td>\n      <td>0.841055</td>\n      <td>0.844144</td>\n      <td>0.005571</td>\n      <td>61</td>\n    </tr>\n    <tr>\n      <th>1</th>\n      <td>0.008199</td>\n      <td>0.000245</td>\n      <td>0.001501</td>\n      <td>6.397442e-07</td>\n      <td>gini</td>\n      <td>2</td>\n      <td>5</td>\n      <td>{'criterion': 'gini', 'max_depth': 2, 'min_sam...</td>\n      <td>0.848134</td>\n      <td>0.851995</td>\n      <td>0.835907</td>\n      <td>0.843629</td>\n      <td>0.841055</td>\n      <td>0.844144</td>\n      <td>0.005571</td>\n      <td>61</td>\n    </tr>\n    <tr>\n      <th>2</th>\n      <td>0.008400</td>\n      <td>0.000200</td>\n      <td>0.001500</td>\n      <td>1.617033e-06</td>\n      <td>gini</td>\n      <td>2</td>\n      <td>10</td>\n      <td>{'criterion': 'gini', 'max_depth': 2, 'min_sam...</td>\n      <td>0.848134</td>\n      <td>0.851995</td>\n      <td>0.835907</td>\n      <td>0.843629</td>\n      <td>0.841055</td>\n      <td>0.844144</td>\n      <td>0.005571</td>\n      <td>61</td>\n    </tr>\n    <tr>\n      <th>3</th>\n      <td>0.008300</td>\n      <td>0.000244</td>\n      <td>0.001500</td>\n      <td>8.120244e-07</td>\n      <td>gini</td>\n      <td>2</td>\n      <td>20</td>\n      <td>{'criterion': 'gini', 'max_depth': 2, 'min_sam...</td>\n      <td>0.848134</td>\n      <td>0.851995</td>\n      <td>0.835907</td>\n      <td>0.843629</td>\n      <td>0.841055</td>\n      <td>0.844144</td>\n      <td>0.005571</td>\n      <td>61</td>\n    </tr>\n    <tr>\n      <th>4</th>\n      <td>0.008301</td>\n      <td>0.000399</td>\n      <td>0.001799</td>\n      <td>2.439630e-04</td>\n      <td>gini</td>\n      <td>2</td>\n      <td>50</td>\n      <td>{'criterion': 'gini', 'max_depth': 2, 'min_sam...</td>\n      <td>0.848134</td>\n      <td>0.851995</td>\n      <td>0.835907</td>\n      <td>0.843629</td>\n      <td>0.841055</td>\n      <td>0.844144</td>\n      <td>0.005571</td>\n      <td>61</td>\n    </tr>\n  </tbody>\n</table>\n</div>"
     },
     "execution_count": 18,
     "metadata": {},
     "output_type": "execute_result"
    }
   ],
   "source": [
    "score_df = pd.DataFrame(grid_search.cv_results_)\n",
    "score_df.head()"
   ],
   "metadata": {
    "collapsed": false,
    "pycharm": {
     "name": "#%%\n"
    }
   }
  },
  {
   "cell_type": "markdown",
   "source": [
    "Nájdime najlepšie ohodnotenie pomocou sám vytvorenej funkcie, ktorá vyberie najlepšie ohodnotené výsledky a vypíše ich"
   ],
   "metadata": {
    "collapsed": false,
    "pycharm": {
     "name": "#%% md\n"
    }
   }
  },
  {
   "cell_type": "code",
   "execution_count": 19,
   "outputs": [],
   "source": [
    "def get_best_criterion(dataset):\n",
    "    row : pd.DataFrame = score_df.loc[score_df['rank_test_score'] == 1]\n",
    "    for column in row.columns:\n",
    "        if \"param_\" in column:\n",
    "            parameter = row[column].to_string().split(\" \")\n",
    "            name = column.split(\"param_\")[1]\n",
    "            param = str(parameter[len(parameter)-1])\n",
    "            print(name + \": \" + param)\n",
    "    score = row[\"mean_test_score\"].to_string().split(\" \")\n",
    "    print(\"Mean test score:\", score[len(score)-1])\n",
    "\n"
   ],
   "metadata": {
    "collapsed": false,
    "pycharm": {
     "name": "#%%\n"
    }
   }
  },
  {
   "cell_type": "code",
   "execution_count": 20,
   "outputs": [
    {
     "data": {
      "text/plain": "    mean_fit_time  std_fit_time  mean_score_time  std_score_time  \\\n55       0.040102      0.000489         0.001599        0.000201   \n56       0.044899      0.005257         0.001700        0.000245   \n68       0.047300      0.004106         0.001600        0.000199   \n19       0.031900      0.002973         0.001701        0.000399   \n62       0.068902      0.007971         0.002600        0.000199   \n\n   param_criterion param_max_depth param_min_samples_leaf  \\\n55         entropy              10                      5   \n56         entropy              10                     10   \n68         entropy              20                     10   \n19            gini              10                      5   \n62         entropy              15                     10   \n\n                                               params  split0_test_score  \\\n55  {'criterion': 'entropy', 'max_depth': 10, 'min...           0.936937   \n56  {'criterion': 'entropy', 'max_depth': 10, 'min...           0.938224   \n68  {'criterion': 'entropy', 'max_depth': 20, 'min...           0.938224   \n19  {'criterion': 'gini', 'max_depth': 10, 'min_sa...           0.932432   \n62  {'criterion': 'entropy', 'max_depth': 15, 'min...           0.938224   \n\n    split1_test_score  split2_test_score  split3_test_score  \\\n55           0.935006           0.939511           0.945946   \n56           0.933719           0.938224           0.945302   \n68           0.929858           0.936937           0.944659   \n19           0.938224           0.938867           0.939511   \n62           0.929858           0.933719           0.945302   \n\n    split4_test_score  mean_test_score  std_test_score  rank_test_score  \n55           0.936937         0.938867        0.003818                1  \n56           0.937580         0.938610        0.003743                2  \n68           0.939511         0.937838        0.004774                3  \n19           0.937580         0.937323        0.002529                4  \n62           0.939511         0.937323        0.005253                4  ",
      "text/html": "<div>\n<style scoped>\n    .dataframe tbody tr th:only-of-type {\n        vertical-align: middle;\n    }\n\n    .dataframe tbody tr th {\n        vertical-align: top;\n    }\n\n    .dataframe thead th {\n        text-align: right;\n    }\n</style>\n<table border=\"1\" class=\"dataframe\">\n  <thead>\n    <tr style=\"text-align: right;\">\n      <th></th>\n      <th>mean_fit_time</th>\n      <th>std_fit_time</th>\n      <th>mean_score_time</th>\n      <th>std_score_time</th>\n      <th>param_criterion</th>\n      <th>param_max_depth</th>\n      <th>param_min_samples_leaf</th>\n      <th>params</th>\n      <th>split0_test_score</th>\n      <th>split1_test_score</th>\n      <th>split2_test_score</th>\n      <th>split3_test_score</th>\n      <th>split4_test_score</th>\n      <th>mean_test_score</th>\n      <th>std_test_score</th>\n      <th>rank_test_score</th>\n    </tr>\n  </thead>\n  <tbody>\n    <tr>\n      <th>55</th>\n      <td>0.040102</td>\n      <td>0.000489</td>\n      <td>0.001599</td>\n      <td>0.000201</td>\n      <td>entropy</td>\n      <td>10</td>\n      <td>5</td>\n      <td>{'criterion': 'entropy', 'max_depth': 10, 'min...</td>\n      <td>0.936937</td>\n      <td>0.935006</td>\n      <td>0.939511</td>\n      <td>0.945946</td>\n      <td>0.936937</td>\n      <td>0.938867</td>\n      <td>0.003818</td>\n      <td>1</td>\n    </tr>\n    <tr>\n      <th>56</th>\n      <td>0.044899</td>\n      <td>0.005257</td>\n      <td>0.001700</td>\n      <td>0.000245</td>\n      <td>entropy</td>\n      <td>10</td>\n      <td>10</td>\n      <td>{'criterion': 'entropy', 'max_depth': 10, 'min...</td>\n      <td>0.938224</td>\n      <td>0.933719</td>\n      <td>0.938224</td>\n      <td>0.945302</td>\n      <td>0.937580</td>\n      <td>0.938610</td>\n      <td>0.003743</td>\n      <td>2</td>\n    </tr>\n    <tr>\n      <th>68</th>\n      <td>0.047300</td>\n      <td>0.004106</td>\n      <td>0.001600</td>\n      <td>0.000199</td>\n      <td>entropy</td>\n      <td>20</td>\n      <td>10</td>\n      <td>{'criterion': 'entropy', 'max_depth': 20, 'min...</td>\n      <td>0.938224</td>\n      <td>0.929858</td>\n      <td>0.936937</td>\n      <td>0.944659</td>\n      <td>0.939511</td>\n      <td>0.937838</td>\n      <td>0.004774</td>\n      <td>3</td>\n    </tr>\n    <tr>\n      <th>19</th>\n      <td>0.031900</td>\n      <td>0.002973</td>\n      <td>0.001701</td>\n      <td>0.000399</td>\n      <td>gini</td>\n      <td>10</td>\n      <td>5</td>\n      <td>{'criterion': 'gini', 'max_depth': 10, 'min_sa...</td>\n      <td>0.932432</td>\n      <td>0.938224</td>\n      <td>0.938867</td>\n      <td>0.939511</td>\n      <td>0.937580</td>\n      <td>0.937323</td>\n      <td>0.002529</td>\n      <td>4</td>\n    </tr>\n    <tr>\n      <th>62</th>\n      <td>0.068902</td>\n      <td>0.007971</td>\n      <td>0.002600</td>\n      <td>0.000199</td>\n      <td>entropy</td>\n      <td>15</td>\n      <td>10</td>\n      <td>{'criterion': 'entropy', 'max_depth': 15, 'min...</td>\n      <td>0.938224</td>\n      <td>0.929858</td>\n      <td>0.933719</td>\n      <td>0.945302</td>\n      <td>0.939511</td>\n      <td>0.937323</td>\n      <td>0.005253</td>\n      <td>4</td>\n    </tr>\n  </tbody>\n</table>\n</div>"
     },
     "execution_count": 20,
     "metadata": {},
     "output_type": "execute_result"
    }
   ],
   "source": [
    "score_df.nlargest(5,\"mean_test_score\")\n"
   ],
   "metadata": {
    "collapsed": false,
    "pycharm": {
     "name": "#%%\n"
    }
   }
  },
  {
   "cell_type": "markdown",
   "source": [
    "Zavolajme sám vvytvorenú funkciu get_best_criterion, aby sme dostali najlepšie ohodnotenie"
   ],
   "metadata": {
    "collapsed": false,
    "pycharm": {
     "name": "#%% md\n"
    }
   }
  },
  {
   "cell_type": "code",
   "execution_count": 21,
   "outputs": [
    {
     "name": "stdout",
     "output_type": "stream",
     "text": [
      "criterion: entropy\n",
      "max_depth: 10\n",
      "min_samples_leaf: 5\n",
      "Mean test score: 0.938867\n"
     ]
    }
   ],
   "source": [
    "get_best_criterion(score_df)"
   ],
   "metadata": {
    "collapsed": false,
    "pycharm": {
     "name": "#%%\n"
    }
   }
  },
  {
   "cell_type": "markdown",
   "source": [
    "Môžeme vidieť, že najlepšie hodnotenie sme dostali použitím entropy s maximálnou hĺbkou 10 a s minimálnou hodnotou\n",
    "listov 10\n",
    "\n",
    "S týmto parametrami sme dostali správne výsledky so šancou 93%"
   ],
   "metadata": {
    "collapsed": false
   }
  },
  {
   "cell_type": "code",
   "execution_count": 22,
   "outputs": [
    {
     "name": "stdout",
     "output_type": "stream",
     "text": [
      "Tree model:\n"
     ]
    },
    {
     "data": {
      "text/plain": "<Figure size 432x288 with 1 Axes>",
      "image/png": "[encoded data removed]"
     },
     "metadata": {
      "needs_background": "light"
     },
     "output_type": "display_data"
    }
   ],
   "source": [
    "tree_model = grid_search.best_estimator_\n",
    "tree_model = tree_model.fit(train_attributes_dataset_input, train_attributes_dataset_output)\n",
    "\n",
    "tree.plot_tree(tree_model)\n",
    "print(\"Tree model:\")"
   ],
   "metadata": {
    "collapsed": false,
    "pycharm": {
     "name": "#%%\n"
    }
   }
  },
  {
   "cell_type": "markdown",
   "source": [
    "Môžeme vidieť, že pri použití hyperparametre nám accuracy zvíšil na hodnotu 94.8%, kým sme použili aj menší strom ako\n",
    "vyššie keď sme vytovrili model bez hyperparametrov"
   ],
   "metadata": {
    "collapsed": false,
    "pycharm": {
     "name": "#%% md\n"
    }
   }
  },
  {
   "cell_type": "code",
   "execution_count": 23,
   "outputs": [
    {
     "name": "stdout",
     "output_type": "stream",
     "text": [
      "Accuracy: 0.9475038600102934\n",
      "Precision: 0.945825077938033\n",
      "Recall: 0.9382928293667139\n"
     ]
    }
   ],
   "source": [
    "best_tree_model = grid_search.best_estimator_\n",
    "predict_with_hyperparam = best_tree_model.predict(test_attributes_dataset_input)\n",
    "evaluation(test_attributes_dataset_output, predict_with_hyperparam)"
   ],
   "metadata": {
    "collapsed": false,
    "pycharm": {
     "name": "#%%\n"
    }
   }
  },
  {
   "cell_type": "markdown",
   "source": [
    "Vysvetlenie parametrov:\n",
    "\n",
    " - max_depth určuje maximálnu hĺbku vytvorenej stromy\n",
    " - min_samples_leaf zaručuje minimálny počet vzoriek v liste\n",
    " - entropy je formula použitá na rozdelenie listov s strome"
   ],
   "metadata": {
    "collapsed": false,
    "pycharm": {
     "name": "#%% md\n"
    }
   }
  },
  {
   "cell_type": "markdown",
   "source": [
    "## 4. Vyhodnotenie vplyvu zvolenej stratégie riešenia na klasifikáciu\n"
   ],
   "metadata": {
    "collapsed": false,
    "pycharm": {
     "name": "#%% md\n"
    }
   }
  },
  {
   "cell_type": "code",
   "execution_count": 24,
   "outputs": [],
   "source": [
    "def create_dicts(column_name, dataset_final):\n",
    "    dictionary = {}\n",
    "    counter = 0\n",
    "    for column_name in dataset_final[column_name].unique():\n",
    "        dictionary[column_name] = counter\n",
    "        counter += 1\n",
    "\n",
    "    return dictionary\n",
    "\n",
    "def change_values(dictionary, column_name, dataset_final):\n",
    "     dataset_final[column_name].replace(dictionary, inplace=True)\n",
    "     return dataset_final"
   ],
   "metadata": {
    "collapsed": false,
    "pycharm": {
     "name": "#%%\n"
    }
   }
  },
  {
   "cell_type": "code",
   "execution_count": 25,
   "outputs": [],
   "source": [
    "def del_outliers(data, column):\n",
    "    data_mean, data_std = np.mean(data), np.std(data)\n",
    "\n",
    "    # define outliers\n",
    "    cut_off = data_std * 3\n",
    "    lower, upper = data_mean - cut_off, data_mean + cut_off\n",
    "\n",
    "    # identify outliers\n",
    "    outliers = [x for x in data if x < lower or x > upper]\n",
    "    #print('Počet vychýlených hodnôt v stĺpci ' + column + ': %d' % len(outliers))\n",
    "\n",
    "    outliers_removed = []\n",
    "    for x in data:\n",
    "        if x >= lower and x <= upper:\n",
    "            outliers_removed.append(x)\n",
    "        else:\n",
    "            outliers_removed.append(np.nan)\n",
    "    # remove outliers\n",
    "    #outliers_removed = [x for x in data if x >= lower and x <= upper else np.nan]\n",
    "    return outliers_removed\n"
   ],
   "metadata": {
    "collapsed": false,
    "pycharm": {
     "name": "#%%\n"
    }
   }
  },
  {
   "cell_type": "code",
   "execution_count": 26,
   "outputs": [],
   "source": [
    "def load_datasets():\n",
    "    dataset = pd.read_csv(\"faza1/labor.csv\", delimiter=\",\")\n",
    "    dataprofiles = pd.read_csv(\"faza1/profiles.csv\", delimiter=\",\")\n",
    "    dataset.drop(dataset.columns[0], axis=1, inplace=True)\n",
    "    dataprofiles.drop(dataprofiles.columns[0], axis=1, inplace=True)\n",
    "    return dataset, dataprofiles\n",
    "\n",
    "\n",
    "def to_numeric(dataset):\n",
    "    relationship_dict = create_dicts(\"relationship\", dataset)\n",
    "    dataset = change_values(relationship_dict,\"relationship\", dataset)\n",
    "\n",
    "    blood_group_dict = create_dicts(\"blood_group\", dataset)\n",
    "    dataset = change_values(blood_group_dict,\"blood_group\", dataset)\n",
    "\n",
    "    sex_dict = create_dicts(\"sex\", dataset)\n",
    "    dataset = change_values(sex_dict, \"sex\", dataset)\n",
    "\n",
    "    race_dict = create_dicts(\"race\", dataset)\n",
    "    dataset = change_values(race_dict,\"race\", dataset)\n",
    "    return dataset\n",
    "\n",
    "\n",
    "from sklearn.pipeline import Pipeline\n",
    "from sklearn.preprocessing import PowerTransformer, MinMaxScaler\n",
    "\n",
    "def transform(dataset):\n",
    "    pipeline = Pipeline([\n",
    "    ('power', PowerTransformer(method='yeo-johnson', standardize=False,)),\n",
    "    ('scaler', MinMaxScaler())\n",
    "    ])\n",
    "    new = pipeline.fit_transform(dataset)\n",
    "    new = pd.DataFrame(new)\n",
    "    new.columns = dataset.columns.copy()\n",
    "    return new\n",
    "\n",
    "dict_for_strategies = {\n",
    "    1 : \"del missing, del outliers, trans off\",\n",
    "    2 : \"del missing, del outliers, trans on\",\n",
    "    3 : \"del missing, outliers, trans off\",\n",
    "    4 : \"del missing, outliers, trans on\",\n",
    "    5 : \"missing, del outliers, trans off\",\n",
    "    6 : \"missing, del outliers, trans on\",\n",
    "    7 : \"missing, outliers, trans off\",\n",
    "    8 : \"missing, outliers, trans on\"\n",
    "}\n",
    "\"\"\"\n",
    "1 -> del missing, del outliers, trans off\n",
    "2 -> del missing, del outliers, trans on\n",
    "3 -> del missing, outliers, trans off\n",
    "4 -> del missing, outliers, trans on\n",
    "5 -> missing, del outliers, trans off\n",
    "6 -> missing, del outliers, trans on\n",
    "7 -> missing, outliers, trans off\n",
    "8 -> missing, outliers, trans on\n",
    "\"\"\"\n",
    "\n",
    "from sklearn.impute import SimpleImputer\n",
    "from copy import deepcopy\n",
    "\n",
    "def compare_strategies():\n",
    "    dataset, dataprofiles = load_datasets()\n",
    "\n",
    "    dataset_final = dataset.merge(dataprofiles, on=\"ssn\", how = 'left')\n",
    "    dataset_final.drop(columns=[\"name_y\"], inplace=True)\n",
    "    dataset_final.rename(columns={'name_x': 'name'}, inplace=True)\n",
    "\n",
    "    strat_dataset = []\n",
    "    for i in range(8):\n",
    "        strat_dataset.append(deepcopy(to_numeric(dataset_final)))\n",
    "        strat_dataset[i].drop(columns=['name','ssn','job','company','address','birthdate'], inplace=True)\n",
    "        # run strategies -> missing\n",
    "        if i+1 <= 4:  # delete missing\n",
    "            strat_dataset[i].dropna(inplace=True)\n",
    "        else:\n",
    "            imp=SimpleImputer(missing_values=np.NaN, strategy='median')\n",
    "            dataset_median=pd.DataFrame(imp.fit_transform(strat_dataset[i]))\n",
    "            dataset_median.columns=strat_dataset[i].columns\n",
    "            dataset_median.index=strat_dataset[i].index\n",
    "            strat_dataset[i] = dataset_median.copy()\n",
    "\n",
    "        # run strategies -> outliers\n",
    "        if (i+1) % 4 <= 1 or (i+1) % 4 <= 2: # delete outliers\n",
    "            for col in dataset.describe().columns:\n",
    "                if col != 'smoker' and col != 'weight':\n",
    "                    strat_dataset[i][col] = del_outliers(strat_dataset[i][col], col)\n",
    "            strat_dataset[i].dropna(inplace=True)\n",
    "        else:\n",
    "            for col in dataset.describe().columns:\n",
    "                if col != 'smoker' and col != 'weight':\n",
    "                    strat_dataset[i][col] = sc.stats.mstats.winsorize(strat_dataset[i][col], limits=[0.05,0.05])\n",
    "\n",
    "        # run strategies -> transform\n",
    "        if (i+1) % 2 == 1: # do transform\n",
    "            strat_dataset[i] = transform(strat_dataset[i])\n",
    "\n",
    "        strat_dataset[i] = strat_dataset[i][['trombocyty','erytrocyty','alt','hematokrit','leukocyty', 'indicator']].copy()\n",
    "\n",
    "    return strat_dataset"
   ],
   "metadata": {
    "collapsed": false,
    "pycharm": {
     "name": "#%%\n"
    }
   }
  },
  {
   "cell_type": "code",
   "execution_count": 27,
   "outputs": [],
   "source": [
    "strategy_datasets = compare_strategies()"
   ],
   "metadata": {
    "collapsed": false,
    "pycharm": {
     "name": "#%%\n"
    }
   }
  },
  {
   "cell_type": "code",
   "execution_count": 28,
   "outputs": [],
   "source": [
    "from sklearn.model_selection import train_test_split\n",
    "\n",
    "def create_train_test(dataset):\n",
    "    train, test = train_test_split(dataset, test_size=0.2, shuffle=True)\n",
    "    return train, test"
   ],
   "metadata": {
    "collapsed": false,
    "pycharm": {
     "name": "#%%\n"
    }
   }
  },
  {
   "cell_type": "code",
   "execution_count": 29,
   "outputs": [],
   "source": [
    "train_input = []\n",
    "train_output = []\n",
    "test_input = []\n",
    "test_output = []\n",
    "\n",
    "\n",
    "\n",
    "for i in range(len(strategy_datasets)):\n",
    "    train_input.append([])\n",
    "    train_output.append([])\n",
    "    test_input.append([])\n",
    "    test_output.append([])\n",
    "    train, test = train_test_split(strategy_datasets[i], test_size=0.2, shuffle=True)\n",
    "    train_input[i] = train[['trombocyty','erytrocyty','alt','hematokrit','leukocyty']].copy()\n",
    "    train_output[i] = train['indicator'].copy()\n",
    "    test_input[i] = test[['trombocyty','erytrocyty','alt','hematokrit','leukocyty']].copy()\n",
    "    test_output[i] = test['indicator'].copy()\n",
    "\n"
   ],
   "metadata": {
    "collapsed": false,
    "pycharm": {
     "name": "#%%\n"
    }
   }
  },
  {
   "cell_type": "code",
   "execution_count": 30,
   "outputs": [
    {
     "name": "stdout",
     "output_type": "stream",
     "text": [
      "\n",
      "Method:  del missing, del outliers, trans off\n",
      "-----------Train evaluation-----------\n",
      "criterion: entropy\n",
      "max_depth: 10\n",
      "min_samples_leaf: 10\n",
      "Mean test score: 0.940655\n",
      "-----------Test evaluation-----------\n",
      "Accuracy: 0.9483315392895587\n",
      "Precision: 0.9484861209137772\n",
      "Recall: 0.9394999856166757\n",
      "\n",
      "Method:  del missing, del outliers, trans on\n",
      "-----------Train evaluation-----------\n",
      "criterion: gini\n",
      "max_depth: 10\n",
      "min_samples_leaf: 5\n",
      "Mean test score: 0.944826\n",
      "-----------Test evaluation-----------\n",
      "Accuracy: 0.9440258342303552\n",
      "Precision: 0.946639412462247\n",
      "Recall: 0.9308154400120321\n",
      "\n",
      "Method:  del missing, outliers, trans off\n",
      "-----------Train evaluation-----------\n",
      "criterion: entropy\n",
      "max_depth: 10\n",
      "min_samples_leaf: 5\n",
      "Mean test score: 0.943629\n",
      "-----------Test evaluation-----------\n",
      "Accuracy: 0.9377251672671127\n",
      "Precision: 0.9383336976614884\n",
      "Recall: 0.9253821942446043\n",
      "\n",
      "Method:  del missing, outliers, trans on\n",
      "-----------Train evaluation-----------\n",
      "criterion: entropy\n",
      "max_depth: 10\n",
      "min_samples_leaf: 10\n",
      "Mean test score: 0.942673\n",
      "-----------Test evaluation-----------\n",
      "Accuracy: 0.9494079655543596\n",
      "Precision: 0.950425705439887\n",
      "Recall: 0.938654069914504\n",
      "\n",
      "Method:  missing, del outliers, trans off\n",
      "-----------Train evaluation-----------\n",
      "criterion: entropy\n",
      "max_depth: 10\n",
      "min_samples_leaf: 10\n",
      "Mean test score: 0.944625\n",
      "-----------Test evaluation-----------\n",
      "Accuracy: 0.9416362688900469\n",
      "Precision: 0.9406585559249494\n",
      "Recall: 0.9327153544876756\n",
      "\n",
      "Method:  missing, del outliers, trans on\n",
      "-----------Train evaluation-----------\n",
      "criterion: entropy\n",
      "max_depth: 10\n",
      "min_samples_leaf: 5\n",
      "Mean test score: 0.941368\n",
      "-----------Test evaluation-----------\n",
      "Accuracy: 0.9499739447628973\n",
      "Precision: 0.954248546811838\n",
      "Recall: 0.9368194618827719\n",
      "\n",
      "Method:  missing, outliers, trans off\n",
      "-----------Train evaluation-----------\n",
      "criterion: entropy\n",
      "max_depth: 10\n",
      "min_samples_leaf: 5\n",
      "Mean test score: 0.936122\n",
      "-----------Test evaluation-----------\n",
      "Accuracy: 0.9452191235059761\n",
      "Precision: 0.9458242556281772\n",
      "Recall: 0.9320292054276352\n",
      "\n",
      "Method:  missing, outliers, trans on\n",
      "-----------Train evaluation-----------\n",
      "criterion: entropy\n",
      "max_depth: 10\n",
      "min_samples_leaf: 5\n",
      "Mean test score: 0.940586\n",
      "-----------Test evaluation-----------\n",
      "Accuracy: 0.938509640437728\n",
      "Precision: 0.94123190500277\n",
      "Recall: 0.926566094764393\n"
     ]
    }
   ],
   "source": [
    "for i in range(len(strategy_datasets)):\n",
    "    grid_search.fit(train_input[i], train_output[i])\n",
    "    score_df = pd.DataFrame(grid_search.cv_results_)\n",
    "    print(\"\\nMethod: \",dict_for_strategies[i+1])\n",
    "    print(\"-----------Train evaluation-----------\")\n",
    "    get_best_criterion(score_df)\n",
    "    prediction = grid_search.best_estimator_.predict(test_input[i])\n",
    "    print(\"-----------Test evaluation-----------\")\n",
    "    evaluation(test_output[i], prediction)"
   ],
   "metadata": {
    "collapsed": false,
    "pycharm": {
     "name": "#%%\n"
    }
   }
  },
  {
   "cell_type": "code",
   "execution_count": 30,
   "outputs": [],
   "source": [],
   "metadata": {
    "collapsed": false,
    "pycharm": {
     "name": "#%%\n"
    }
   }
  }
 ],
 "metadata": {
  "kernelspec": {
   "display_name": "Python 3",
   "language": "python",
   "name": "python3"
  },
  "language_info": {
   "codemirror_mode": {
    "name": "ipython",
    "version": 2
   },
   "file_extension": ".py",
   "mimetype": "text/x-python",
   "name": "python",
   "nbconvert_exporter": "python",
   "pygments_lexer": "ipython2",
   "version": "2.7.6"
  }
 },
 "nbformat": 4,
 "nbformat_minor": 0
}