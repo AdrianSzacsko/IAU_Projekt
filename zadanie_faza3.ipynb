{
 "cells": [
  {
   "cell_type": "code",
   "execution_count": 415,
   "outputs": [],
   "source": [
    "import numpy as np\n",
    "import math as math\n",
    "import scipy as sc\n",
    "import pandas as pd\n",
    "import matplotlib as mt\n",
    "import matplotlib.pyplot as plt\n",
    "import seaborn as sns\n",
    "#import sklearn as sk"
   ],
   "metadata": {
    "collapsed": false,
    "pycharm": {
     "name": "#%%\n"
    }
   }
  },
  {
   "cell_type": "markdown",
   "metadata": {
    "collapsed": true,
    "pycharm": {
     "name": "#%% md\n"
    }
   },
   "source": [
    "# Fáza 3\n",
    "Autori: Jakub Smorada, Adrian Szacsko\n",
    "Podiel práce: 50 % / 50 %"
   ]
  },
  {
   "cell_type": "markdown",
   "source": [
    "Na začiatku je potrebné načítať dáta, ktoré sme uložili na konci fázy 2."
   ],
   "metadata": {
    "collapsed": false,
    "pycharm": {
     "name": "#%% md\n"
    }
   }
  },
  {
   "cell_type": "code",
   "execution_count": 416,
   "outputs": [],
   "source": [
    "test_dataset = pd.read_csv(\"faza2/test_dataset.csv\", delimiter=\",\")\n",
    "train_dataset = pd.read_csv(\"faza2/train_dataset.csv\", delimiter=\",\")\n",
    "\n",
    "test_dataset.drop(test_dataset.columns[0], axis=1, inplace=True)\n",
    "train_dataset.drop(train_dataset.columns[0], axis=1, inplace=True)"
   ],
   "metadata": {
    "collapsed": false,
    "pycharm": {
     "name": "#%%\n"
    }
   }
  },
  {
   "cell_type": "markdown",
   "source": [
    "Vyberieme len tie atribúty, ktoré majú najväčší vplyv na indikator."
   ],
   "metadata": {
    "collapsed": false,
    "pycharm": {
     "name": "#%% md\n"
    }
   }
  },
  {
   "cell_type": "code",
   "execution_count": 417,
   "outputs": [
    {
     "data": {
      "text/plain": "      trombocyty  erytrocyty       alt  hematokrit  leukocyty  indicator\n0       0.000000    0.657410  0.590051    0.124012   0.235670        0.0\n1       0.472369    0.783140  0.756626    0.916138   0.979337        0.0\n2       0.000000    0.758214  0.765718    0.618083   0.534911        0.0\n3       0.520432    0.496035  0.358712    0.899930   0.451250        0.0\n4       0.057209    0.578113  0.505168    0.612411   0.582834        0.0\n...          ...         ...       ...         ...        ...        ...\n7765    0.000000    0.928649  0.926709    0.605019   0.800762        0.0\n7766    0.770651    0.490583  0.483083    0.462006   0.570330        1.0\n7767    0.606216    0.793698  0.777088    0.000000   0.286733        1.0\n7768    0.655724    0.680117  0.607614    0.065900   0.921863        1.0\n7769    0.905998    0.419847  0.093355    0.186051   0.767784        1.0\n\n[7770 rows x 6 columns]",
      "text/html": "<div>\n<style scoped>\n    .dataframe tbody tr th:only-of-type {\n        vertical-align: middle;\n    }\n\n    .dataframe tbody tr th {\n        vertical-align: top;\n    }\n\n    .dataframe thead th {\n        text-align: right;\n    }\n</style>\n<table border=\"1\" class=\"dataframe\">\n  <thead>\n    <tr style=\"text-align: right;\">\n      <th></th>\n      <th>trombocyty</th>\n      <th>erytrocyty</th>\n      <th>alt</th>\n      <th>hematokrit</th>\n      <th>leukocyty</th>\n      <th>indicator</th>\n    </tr>\n  </thead>\n  <tbody>\n    <tr>\n      <th>0</th>\n      <td>0.000000</td>\n      <td>0.657410</td>\n      <td>0.590051</td>\n      <td>0.124012</td>\n      <td>0.235670</td>\n      <td>0.0</td>\n    </tr>\n    <tr>\n      <th>1</th>\n      <td>0.472369</td>\n      <td>0.783140</td>\n      <td>0.756626</td>\n      <td>0.916138</td>\n      <td>0.979337</td>\n      <td>0.0</td>\n    </tr>\n    <tr>\n      <th>2</th>\n      <td>0.000000</td>\n      <td>0.758214</td>\n      <td>0.765718</td>\n      <td>0.618083</td>\n      <td>0.534911</td>\n      <td>0.0</td>\n    </tr>\n    <tr>\n      <th>3</th>\n      <td>0.520432</td>\n      <td>0.496035</td>\n      <td>0.358712</td>\n      <td>0.899930</td>\n      <td>0.451250</td>\n      <td>0.0</td>\n    </tr>\n    <tr>\n      <th>4</th>\n      <td>0.057209</td>\n      <td>0.578113</td>\n      <td>0.505168</td>\n      <td>0.612411</td>\n      <td>0.582834</td>\n      <td>0.0</td>\n    </tr>\n    <tr>\n      <th>...</th>\n      <td>...</td>\n      <td>...</td>\n      <td>...</td>\n      <td>...</td>\n      <td>...</td>\n      <td>...</td>\n    </tr>\n    <tr>\n      <th>7765</th>\n      <td>0.000000</td>\n      <td>0.928649</td>\n      <td>0.926709</td>\n      <td>0.605019</td>\n      <td>0.800762</td>\n      <td>0.0</td>\n    </tr>\n    <tr>\n      <th>7766</th>\n      <td>0.770651</td>\n      <td>0.490583</td>\n      <td>0.483083</td>\n      <td>0.462006</td>\n      <td>0.570330</td>\n      <td>1.0</td>\n    </tr>\n    <tr>\n      <th>7767</th>\n      <td>0.606216</td>\n      <td>0.793698</td>\n      <td>0.777088</td>\n      <td>0.000000</td>\n      <td>0.286733</td>\n      <td>1.0</td>\n    </tr>\n    <tr>\n      <th>7768</th>\n      <td>0.655724</td>\n      <td>0.680117</td>\n      <td>0.607614</td>\n      <td>0.065900</td>\n      <td>0.921863</td>\n      <td>1.0</td>\n    </tr>\n    <tr>\n      <th>7769</th>\n      <td>0.905998</td>\n      <td>0.419847</td>\n      <td>0.093355</td>\n      <td>0.186051</td>\n      <td>0.767784</td>\n      <td>1.0</td>\n    </tr>\n  </tbody>\n</table>\n<p>7770 rows × 6 columns</p>\n</div>"
     },
     "execution_count": 417,
     "metadata": {},
     "output_type": "execute_result"
    }
   ],
   "source": [
    "train_attributes_dataset = train_dataset[['trombocyty','erytrocyty','alt','hematokrit','leukocyty', 'indicator']].copy()\n",
    "test_attributes_dataset = test_dataset[['trombocyty','erytrocyty','alt','hematokrit','leukocyty', 'indicator']].copy()\n",
    "train_attributes_dataset"
   ],
   "metadata": {
    "collapsed": false,
    "pycharm": {
     "name": "#%%\n"
    }
   }
  },
  {
   "cell_type": "markdown",
   "source": [
    "## 1. Manuálne vytvorenie a vyhodnotenie rozhodovacích pravidiel pre klasifikáciu"
   ],
   "metadata": {
    "collapsed": false,
    "pycharm": {
     "name": "#%% md\n"
    }
   }
  },
  {
   "cell_type": "code",
   "execution_count": 418,
   "outputs": [
    {
     "data": {
      "text/plain": "<AxesSubplot:xlabel='indicator', ylabel='trombocyty'>"
     },
     "execution_count": 418,
     "metadata": {},
     "output_type": "execute_result"
    },
    {
     "data": {
      "text/plain": "<Figure size 432x288 with 1 Axes>",
      "image/png": "[encoded data removed]"
     },
     "metadata": {
      "needs_background": "light"
     },
     "output_type": "display_data"
    }
   ],
   "source": [
    "sns.boxplot(data=train_attributes_dataset, x=\"indicator\", y=\"trombocyty\")"
   ],
   "metadata": {
    "collapsed": false,
    "pycharm": {
     "name": "#%%\n"
    }
   }
  },
  {
   "cell_type": "code",
   "execution_count": 419,
   "outputs": [],
   "source": [
    "from quick_sort import quickSort\n",
    "from math import ceil\n",
    "\n",
    "def oneR_model(dataset:pd.DataFrame, attribute):\n",
    "    rows = len(dataset)\n",
    "    percent = ceil(rows*0.3)\n",
    "    min = 0\n",
    "    max = 0\n",
    "    zero_array = []\n",
    "    one_array = []\n",
    "    for i in range(rows):\n",
    "        if dataset[\"indicator\"][i] == 0:\n",
    "            zero_array.append(dataset[attribute][i])\n",
    "        else:\n",
    "            one_array.append(dataset[attribute][i])\n",
    "\n",
    "    quickSort(one_array, 0, len(one_array)-1)\n",
    "    quickSort(zero_array, 0, len(zero_array)-1)\n",
    "    zero_array = zero_array[::-1]\n",
    "\n",
    "    if percent > len(one_array):\n",
    "        percent = len(one_array)\n",
    "    if percent > len(zero_array):\n",
    "        percent = len(zero_array)\n",
    "\n",
    "    for i in range(percent):\n",
    "        min += one_array[i]\n",
    "        max += zero_array[i]\n",
    "\n",
    "    min = min/percent\n",
    "    max = max/percent\n",
    "\n",
    "    threshold = (min+max)/2\n",
    "    return threshold\n",
    "\n",
    "\n",
    "def oneR(model, dataset_attr):\n",
    "    predict = []\n",
    "    for i in dataset_attr:\n",
    "        if i > model:\n",
    "            predict.append(1)\n",
    "        else:\n",
    "            predict.append(0)\n",
    "    return predict\n"
   ],
   "metadata": {
    "collapsed": false,
    "pycharm": {
     "name": "#%%\n"
    }
   }
  },
  {
   "cell_type": "markdown",
   "source": [
    "Trombocyty, Erytrocyty, Alt, Hematokrit a Leukocyty"
   ],
   "metadata": {
    "collapsed": false,
    "pycharm": {
     "name": "#%% md\n"
    }
   }
  },
  {
   "cell_type": "code",
   "execution_count": 420,
   "outputs": [],
   "source": [
    "model = oneR_model(train_attributes_dataset, \"trombocyty\")\n",
    "oneR_prediction = oneR(model, train_attributes_dataset[\"trombocyty\"])"
   ],
   "metadata": {
    "collapsed": false,
    "pycharm": {
     "name": "#%%\n"
    }
   }
  },
  {
   "cell_type": "code",
   "execution_count": 421,
   "outputs": [],
   "source": [
    "from sklearn.metrics import accuracy_score\n",
    "from sklearn.metrics import precision_score\n",
    "from sklearn.metrics import recall_score\n",
    "\n",
    "def evaluation(output, prediction):\n",
    "    print(\"Accuracy:\",accuracy_score(output, prediction))\n",
    "    print(\"Precision:\",precision_score(output, prediction, average='macro'))\n",
    "    print(\"Recall:\",recall_score(output, prediction, average='macro'))"
   ],
   "metadata": {
    "collapsed": false,
    "pycharm": {
     "name": "#%%\n"
    }
   }
  },
  {
   "cell_type": "code",
   "execution_count": 422,
   "outputs": [
    {
     "name": "stdout",
     "output_type": "stream",
     "text": [
      "\n",
      "Trenovaci dataset:\n",
      "Accuracy: 0.8223938223938224\n",
      "Precision: 0.8083146067415731\n",
      "Recall: 0.8023544689740839\n",
      "\n",
      "Testovaci dataset:\n",
      "Accuracy: 0.8111168296448791\n",
      "Precision: 0.7943753597467383\n",
      "Recall: 0.7856402326214595\n"
     ]
    }
   ],
   "source": [
    "print(\"\\nTrenovaci dataset:\")\n",
    "evaluation(train_attributes_dataset[\"indicator\"], oneR_prediction)\n",
    "oneR_prediction_test = oneR(model, test_attributes_dataset[\"trombocyty\"])\n",
    "print(\"\\nTestovaci dataset:\")\n",
    "evaluation(test_attributes_dataset[\"indicator\"], oneR_prediction_test)"
   ],
   "metadata": {
    "collapsed": false,
    "pycharm": {
     "name": "#%%\n"
    }
   }
  },
  {
   "cell_type": "markdown",
   "source": [
    "## 2. Natrénovanie a vyhodnotenie klasifikátora strojového učenia\n"
   ],
   "metadata": {
    "collapsed": false,
    "pycharm": {
     "name": "#%% md\n"
    }
   }
  },
  {
   "cell_type": "markdown",
   "source": [
    "Rozdelíme datasety z trénovacej a testovacej na trénovací vstup, trénovací výstup, testovací vstup a testovací výstup\n",
    "pre vyhodnotenie UI algoritmov"
   ],
   "metadata": {
    "collapsed": false,
    "pycharm": {
     "name": "#%% md\n"
    }
   }
  },
  {
   "cell_type": "code",
   "execution_count": 423,
   "outputs": [],
   "source": [
    "train_attributes_dataset_input = train_attributes_dataset.drop(columns=[\"indicator\"])\n",
    "train_attributes_dataset_output = train_attributes_dataset[\"indicator\"].copy()\n",
    "\n",
    "test_attributes_dataset_input = test_attributes_dataset.drop(columns=[\"indicator\"])\n",
    "test_attributes_dataset_output = test_attributes_dataset[\"indicator\"].copy()\n"
   ],
   "metadata": {
    "collapsed": false,
    "pycharm": {
     "name": "#%%\n"
    }
   }
  },
  {
   "cell_type": "markdown",
   "source": [
    "Vytvoríme model pre náš dataset podľa trénovacej množiny a vyzualizujeme natrénované pravidlá"
   ],
   "metadata": {
    "collapsed": false,
    "pycharm": {
     "name": "#%% md\n"
    }
   }
  },
  {
   "cell_type": "code",
   "execution_count": 424,
   "outputs": [
    {
     "data": {
      "text/plain": "<Figure size 864x864 with 1 Axes>",
      "image/png": "[encoded data removed]"
     },
     "metadata": {
      "needs_background": "light"
     },
     "output_type": "display_data"
    },
    {
     "name": "stdout",
     "output_type": "stream",
     "text": [
      "Tree model:\n"
     ]
    }
   ],
   "source": [
    "from sklearn import tree\n",
    "tree_model = tree.DecisionTreeClassifier(max_depth=4)\n",
    "\n",
    "tree_model = tree_model.fit(train_attributes_dataset_input, train_attributes_dataset_output)\n",
    "\n",
    "plt.figure(figsize=(12,12))  # set plot size (denoted in inches)\n",
    "tree.plot_tree(tree_model, fontsize=10)\n",
    "plt.show()\n",
    "#tree.plot_tree(tree_model)\n",
    "print(\"Tree model:\")"
   ],
   "metadata": {
    "collapsed": false,
    "pycharm": {
     "name": "#%%\n"
    }
   }
  },
  {
   "cell_type": "markdown",
   "source": [
    "Pomocou vytvorenej tree_model predikujeme indikátor na trénovacej a na testovacej množine"
   ],
   "metadata": {
    "collapsed": false
   }
  },
  {
   "cell_type": "code",
   "execution_count": 425,
   "outputs": [
    {
     "name": "stdout",
     "output_type": "stream",
     "text": [
      "Trenovaci dataset:\n",
      "Accuracy: 0.918018018018018\n",
      "Precision: 0.9196141201558561\n",
      "Recall: 0.9008747590278842\n",
      "\n",
      "Testovaci dataset:\n",
      "Accuracy: 0.9140504374678332\n",
      "Precision: 0.9175938519625112\n",
      "Recall: 0.8922589833632372\n"
     ]
    }
   ],
   "source": [
    "tree_train_output = tree_model.predict(train_attributes_dataset_input)\n",
    "print(\"Trenovaci dataset:\")\n",
    "evaluation(train_attributes_dataset_output, tree_train_output)\n",
    "print(\"\\nTestovaci dataset:\")\n",
    "tree_test_output = tree_model.predict(test_attributes_dataset_input)\n",
    "evaluation(test_attributes_dataset_output, tree_test_output)"
   ],
   "metadata": {
    "collapsed": false,
    "pycharm": {
     "name": "#%%\n"
    }
   }
  },
  {
   "cell_type": "markdown",
   "source": [
    "Vidíme, že náš tree_model vedel odhadnúť priemerne 92% hodnôt indikátoru podľa zadaných atribútov"
   ],
   "metadata": {
    "collapsed": false
   }
  },
  {
   "cell_type": "markdown",
   "source": [
    "Pri porovnaní nášho OneR predikciu s tree_model predikciou vidíme, že stromový algoritmus vyhodnotil priemerne o 10%\n",
    "lepšie indikátor ako náš algoritmus. To je možné z dôvodu, že náš OneR algoritmus pracuje len s jedným atribútom, kým\n",
    "stromový algoritmus s piatimi."
   ],
   "metadata": {
    "collapsed": false,
    "pycharm": {
     "name": "#%% md\n"
    }
   }
  },
  {
   "cell_type": "code",
   "execution_count": 439,
   "outputs": [
    {
     "name": "stdout",
     "output_type": "stream",
     "text": [
      "Accuracy: 0.8111168296448791\n",
      "Precision: 0.7943753597467383\n",
      "Recall: 0.7856402326214595\n"
     ]
    }
   ],
   "source": [
    "evaluation(test_attributes_dataset[\"indicator\"], oneR_prediction_test)"
   ],
   "metadata": {
    "collapsed": false,
    "pycharm": {
     "name": "#%%\n"
    }
   }
  },
  {
   "cell_type": "code",
   "execution_count": 510,
   "outputs": [
    {
     "data": {
      "text/plain": "   Accuracy  Precision    Recall  Name\n0  0.811117   0.794375  0.785640  OneR\n1  0.914050   0.917594  0.892259  Tree",
      "text/html": "<div>\n<style scoped>\n    .dataframe tbody tr th:only-of-type {\n        vertical-align: middle;\n    }\n\n    .dataframe tbody tr th {\n        vertical-align: top;\n    }\n\n    .dataframe thead th {\n        text-align: right;\n    }\n</style>\n<table border=\"1\" class=\"dataframe\">\n  <thead>\n    <tr style=\"text-align: right;\">\n      <th></th>\n      <th>Accuracy</th>\n      <th>Precision</th>\n      <th>Recall</th>\n      <th>Name</th>\n    </tr>\n  </thead>\n  <tbody>\n    <tr>\n      <th>0</th>\n      <td>0.811117</td>\n      <td>0.794375</td>\n      <td>0.785640</td>\n      <td>OneR</td>\n    </tr>\n    <tr>\n      <th>1</th>\n      <td>0.914050</td>\n      <td>0.917594</td>\n      <td>0.892259</td>\n      <td>Tree</td>\n    </tr>\n  </tbody>\n</table>\n</div>"
     },
     "execution_count": 510,
     "metadata": {},
     "output_type": "execute_result"
    }
   ],
   "source": [
    "def compare_accuracies(output, prediction1, prediction2):\n",
    "    acc_1 = accuracy_score(output, prediction1)\n",
    "    prec1 = precision_score(output, prediction1, average='macro')\n",
    "    rec1 = recall_score(output, prediction1, average='macro')\n",
    "    acc_2 = accuracy_score(output, prediction2)\n",
    "    prec2 = precision_score(output, prediction2, average='macro')\n",
    "    rec2 = recall_score(output, prediction2, average='macro')\n",
    "    dataset = pd.DataFrame([[acc_1, prec1, rec1], [acc_2, prec2, rec2]], columns=[\"Accuracy\", \"Precision\", \"Recall\"])\n",
    "    return dataset\n",
    "\n",
    "comparison = compare_accuracies(test_attributes_dataset[\"indicator\"], oneR_prediction_test, tree_test_output)\n",
    "comparison['Name'] = [\"OneR\", \"Tree\"]\n",
    "comparison"
   ],
   "metadata": {
    "collapsed": false,
    "pycharm": {
     "name": "#%%\n"
    }
   }
  },
  {
   "cell_type": "code",
   "execution_count": 518,
   "outputs": [
    {
     "data": {
      "text/plain": "<seaborn.axisgrid.FacetGrid at 0x2ab368a5e80>"
     },
     "execution_count": 518,
     "metadata": {},
     "output_type": "execute_result"
    },
    {
     "data": {
      "text/plain": "<Figure size 864x432 with 2 Axes>",
      "image/png": "[encoded data removed]"
     },
     "metadata": {
      "needs_background": "light"
     },
     "output_type": "display_data"
    }
   ],
   "source": [
    "#sns.catplot(data=comparison,col=\"Name\", kind=\"bar\",ci=\"sd\", palette=\"dark\")\n",
    "g=sns.catplot(data=comparison, col=\"Name\", kind=\"bar\", palette=\"dark\", alpha=.6, height=6)\n",
    "(g.set_axis_labels(\"\", \"Percent\")\n",
    "  .set_titles(\"{col_name}\")\n",
    "  .set(ylim=(0, 1))\n",
    "  .despine(left=True))"
   ],
   "metadata": {
    "collapsed": false,
    "pycharm": {
     "name": "#%%\n"
    }
   }
  },
  {
   "cell_type": "markdown",
   "source": [
    "## 3. Optimalizácia - hyperparameter tuning"
   ],
   "metadata": {
    "collapsed": false
   }
  },
  {
   "cell_type": "markdown",
   "source": [
    "Zvolme parametre pre tree_model, ktoré vyskúšame pomocou Grid Search Cross Validation"
   ],
   "metadata": {
    "collapsed": false,
    "pycharm": {
     "name": "#%% md\n"
    }
   }
  },
  {
   "cell_type": "code",
   "execution_count": 427,
   "outputs": [],
   "source": [
    "# Create the parameter grid based on the results of random search\n",
    "params = {\n",
    "    'max_depth': [2, 3, 5, 10, 15, 20],\n",
    "    'min_samples_leaf': [2, 5, 10, 20, 50, 100],\n",
    "    'criterion': [\"gini\", \"entropy\"]\n",
    "}"
   ],
   "metadata": {
    "collapsed": false,
    "pycharm": {
     "name": "#%%\n"
    }
   }
  },
  {
   "cell_type": "markdown",
   "source": [
    "Aplikujme vybrané parametre na tree_model aj s použitím cross_validation s k=5"
   ],
   "metadata": {
    "collapsed": false,
    "pycharm": {
     "name": "#%% md\n"
    }
   }
  },
  {
   "cell_type": "code",
   "execution_count": 428,
   "outputs": [],
   "source": [
    "tree_model = tree.DecisionTreeClassifier()\n",
    "\n",
    "from sklearn.model_selection import GridSearchCV\n",
    "\n",
    "grid_search = GridSearchCV(estimator=tree_model,\n",
    "                           param_grid=params,\n",
    "                           cv=5,\n",
    "                           scoring = \"accuracy\")"
   ],
   "metadata": {
    "collapsed": false,
    "pycharm": {
     "name": "#%%\n"
    }
   }
  },
  {
   "cell_type": "markdown",
   "source": [
    "Nájdime najlepšie hyperparametre"
   ],
   "metadata": {
    "collapsed": false,
    "pycharm": {
     "name": "#%% md\n"
    }
   }
  },
  {
   "cell_type": "code",
   "execution_count": 429,
   "outputs": [
    {
     "data": {
      "text/plain": "GridSearchCV(cv=4, estimator=DecisionTreeClassifier(),\n             param_grid={'criterion': ['gini', 'entropy'],\n                         'max_depth': [2, 3, 5, 10, 15, 20],\n                         'min_samples_leaf': [2, 5, 10, 20, 50, 100]},\n             scoring='accuracy')"
     },
     "execution_count": 429,
     "metadata": {},
     "output_type": "execute_result"
    }
   ],
   "source": [
    "grid_search.fit(train_attributes_dataset_input, train_attributes_dataset_output)"
   ],
   "metadata": {
    "collapsed": false,
    "pycharm": {
     "name": "#%%\n"
    }
   }
  },
  {
   "cell_type": "markdown",
   "source": [
    "Vypíšme jednotlivé výsledky pomocou Dataframe"
   ],
   "metadata": {
    "collapsed": false,
    "pycharm": {
     "name": "#%% md\n"
    }
   }
  },
  {
   "cell_type": "code",
   "execution_count": 430,
   "outputs": [
    {
     "data": {
      "text/plain": "   mean_fit_time  std_fit_time  mean_score_time  std_score_time  \\\n0       0.007876  2.169392e-04         0.001375    2.166988e-04   \n1       0.007625  2.167679e-04         0.001250    2.505782e-04   \n2       0.007500  2.920019e-07         0.001375    2.166284e-04   \n3       0.007625  2.165615e-04         0.001375    2.155963e-04   \n4       0.007500  1.184619e-06         0.001500    3.097148e-07   \n\n  param_criterion param_max_depth param_min_samples_leaf  \\\n0            gini               2                      2   \n1            gini               2                      5   \n2            gini               2                     10   \n3            gini               2                     20   \n4            gini               2                     50   \n\n                                              params  split0_test_score  \\\n0  {'criterion': 'gini', 'max_depth': 2, 'min_sam...           0.850232   \n1  {'criterion': 'gini', 'max_depth': 2, 'min_sam...           0.850232   \n2  {'criterion': 'gini', 'max_depth': 2, 'min_sam...           0.850232   \n3  {'criterion': 'gini', 'max_depth': 2, 'min_sam...           0.850232   \n4  {'criterion': 'gini', 'max_depth': 2, 'min_sam...           0.850232   \n\n   split1_test_score  split2_test_score  split3_test_score  mean_test_score  \\\n0           0.841997           0.836251           0.846035         0.843629   \n1           0.841997           0.836251           0.846035         0.843629   \n2           0.841997           0.836251           0.846035         0.843629   \n3           0.841997           0.836251           0.846035         0.843629   \n4           0.841997           0.836251           0.846035         0.843629   \n\n   std_test_score  rank_test_score  \n0        0.005159               61  \n1        0.005159               61  \n2        0.005159               61  \n3        0.005159               61  \n4        0.005159               61  ",
      "text/html": "<div>\n<style scoped>\n    .dataframe tbody tr th:only-of-type {\n        vertical-align: middle;\n    }\n\n    .dataframe tbody tr th {\n        vertical-align: top;\n    }\n\n    .dataframe thead th {\n        text-align: right;\n    }\n</style>\n<table border=\"1\" class=\"dataframe\">\n  <thead>\n    <tr style=\"text-align: right;\">\n      <th></th>\n      <th>mean_fit_time</th>\n      <th>std_fit_time</th>\n      <th>mean_score_time</th>\n      <th>std_score_time</th>\n      <th>param_criterion</th>\n      <th>param_max_depth</th>\n      <th>param_min_samples_leaf</th>\n      <th>params</th>\n      <th>split0_test_score</th>\n      <th>split1_test_score</th>\n      <th>split2_test_score</th>\n      <th>split3_test_score</th>\n      <th>mean_test_score</th>\n      <th>std_test_score</th>\n      <th>rank_test_score</th>\n    </tr>\n  </thead>\n  <tbody>\n    <tr>\n      <th>0</th>\n      <td>0.007876</td>\n      <td>2.169392e-04</td>\n      <td>0.001375</td>\n      <td>2.166988e-04</td>\n      <td>gini</td>\n      <td>2</td>\n      <td>2</td>\n      <td>{'criterion': 'gini', 'max_depth': 2, 'min_sam...</td>\n      <td>0.850232</td>\n      <td>0.841997</td>\n      <td>0.836251</td>\n      <td>0.846035</td>\n      <td>0.843629</td>\n      <td>0.005159</td>\n      <td>61</td>\n    </tr>\n    <tr>\n      <th>1</th>\n      <td>0.007625</td>\n      <td>2.167679e-04</td>\n      <td>0.001250</td>\n      <td>2.505782e-04</td>\n      <td>gini</td>\n      <td>2</td>\n      <td>5</td>\n      <td>{'criterion': 'gini', 'max_depth': 2, 'min_sam...</td>\n      <td>0.850232</td>\n      <td>0.841997</td>\n      <td>0.836251</td>\n      <td>0.846035</td>\n      <td>0.843629</td>\n      <td>0.005159</td>\n      <td>61</td>\n    </tr>\n    <tr>\n      <th>2</th>\n      <td>0.007500</td>\n      <td>2.920019e-07</td>\n      <td>0.001375</td>\n      <td>2.166284e-04</td>\n      <td>gini</td>\n      <td>2</td>\n      <td>10</td>\n      <td>{'criterion': 'gini', 'max_depth': 2, 'min_sam...</td>\n      <td>0.850232</td>\n      <td>0.841997</td>\n      <td>0.836251</td>\n      <td>0.846035</td>\n      <td>0.843629</td>\n      <td>0.005159</td>\n      <td>61</td>\n    </tr>\n    <tr>\n      <th>3</th>\n      <td>0.007625</td>\n      <td>2.165615e-04</td>\n      <td>0.001375</td>\n      <td>2.155963e-04</td>\n      <td>gini</td>\n      <td>2</td>\n      <td>20</td>\n      <td>{'criterion': 'gini', 'max_depth': 2, 'min_sam...</td>\n      <td>0.850232</td>\n      <td>0.841997</td>\n      <td>0.836251</td>\n      <td>0.846035</td>\n      <td>0.843629</td>\n      <td>0.005159</td>\n      <td>61</td>\n    </tr>\n    <tr>\n      <th>4</th>\n      <td>0.007500</td>\n      <td>1.184619e-06</td>\n      <td>0.001500</td>\n      <td>3.097148e-07</td>\n      <td>gini</td>\n      <td>2</td>\n      <td>50</td>\n      <td>{'criterion': 'gini', 'max_depth': 2, 'min_sam...</td>\n      <td>0.850232</td>\n      <td>0.841997</td>\n      <td>0.836251</td>\n      <td>0.846035</td>\n      <td>0.843629</td>\n      <td>0.005159</td>\n      <td>61</td>\n    </tr>\n  </tbody>\n</table>\n</div>"
     },
     "execution_count": 430,
     "metadata": {},
     "output_type": "execute_result"
    }
   ],
   "source": [
    "score_df = pd.DataFrame(grid_search.cv_results_)\n",
    "score_df.head()"
   ],
   "metadata": {
    "collapsed": false,
    "pycharm": {
     "name": "#%%\n"
    }
   }
  },
  {
   "cell_type": "markdown",
   "source": [
    "Nájdime najlepšie ohodnotenie pomocou sám vytvorenej funkcie, ktorá vyberie najlepšie ohodnotené výsledky a vypíše ich"
   ],
   "metadata": {
    "collapsed": false,
    "pycharm": {
     "name": "#%% md\n"
    }
   }
  },
  {
   "cell_type": "code",
   "execution_count": 431,
   "outputs": [],
   "source": [
    "def get_best_criterion(dataset):\n",
    "    row : pd.DataFrame = score_df.loc[score_df['rank_test_score'] == 1]\n",
    "    for column in row.columns:\n",
    "        if \"param_\" in column:\n",
    "            parameter = row[column].to_string().split(\" \")\n",
    "            print(column.split(\"param_\")[1] + \": \" + str(parameter[len(parameter)-1]))\n",
    "    score = row[\"mean_test_score\"].to_string().split(\" \")\n",
    "    print(\"Mean test score:\", score[len(score)-1])\n",
    "\n"
   ],
   "metadata": {
    "collapsed": false,
    "pycharm": {
     "name": "#%%\n"
    }
   }
  },
  {
   "cell_type": "code",
   "execution_count": 432,
   "outputs": [
    {
     "data": {
      "text/plain": "    mean_fit_time  std_fit_time  mean_score_time  std_score_time  \\\n55       0.037749      0.000250         0.001751        0.000251   \n54       0.038124      0.000545         0.001750        0.000250   \n19       0.025499      0.000354         0.001752        0.000253   \n20       0.025499      0.000003         0.001500        0.000002   \n56       0.037000      0.000613         0.001625        0.000216   \n\n   param_criterion param_max_depth param_min_samples_leaf  \\\n55         entropy              10                      5   \n54         entropy              10                      2   \n19            gini              10                      5   \n20            gini              10                     10   \n56         entropy              10                     10   \n\n                                               params  split0_test_score  \\\n55  {'criterion': 'entropy', 'max_depth': 10, 'min...           0.932064   \n54  {'criterion': 'entropy', 'max_depth': 10, 'min...           0.933608   \n19  {'criterion': 'gini', 'max_depth': 10, 'min_sa...           0.932578   \n20  {'criterion': 'gini', 'max_depth': 10, 'min_sa...           0.927946   \n56  {'criterion': 'entropy', 'max_depth': 10, 'min...           0.930005   \n\n    split1_test_score  split2_test_score  split3_test_score  mean_test_score  \\\n55           0.941843           0.946962           0.938723         0.939898   \n54           0.940813           0.943357           0.939238         0.939254   \n19           0.939269           0.943872           0.934089         0.937452   \n20           0.938755           0.942327           0.940268         0.937324   \n56           0.939269           0.941813           0.934089         0.936294   \n\n    std_test_score  rank_test_score  \n55        0.005395                1  \n54        0.003576                2  \n19        0.004461                3  \n20        0.005561                4  \n56        0.004575                5  ",
      "text/html": "<div>\n<style scoped>\n    .dataframe tbody tr th:only-of-type {\n        vertical-align: middle;\n    }\n\n    .dataframe tbody tr th {\n        vertical-align: top;\n    }\n\n    .dataframe thead th {\n        text-align: right;\n    }\n</style>\n<table border=\"1\" class=\"dataframe\">\n  <thead>\n    <tr style=\"text-align: right;\">\n      <th></th>\n      <th>mean_fit_time</th>\n      <th>std_fit_time</th>\n      <th>mean_score_time</th>\n      <th>std_score_time</th>\n      <th>param_criterion</th>\n      <th>param_max_depth</th>\n      <th>param_min_samples_leaf</th>\n      <th>params</th>\n      <th>split0_test_score</th>\n      <th>split1_test_score</th>\n      <th>split2_test_score</th>\n      <th>split3_test_score</th>\n      <th>mean_test_score</th>\n      <th>std_test_score</th>\n      <th>rank_test_score</th>\n    </tr>\n  </thead>\n  <tbody>\n    <tr>\n      <th>55</th>\n      <td>0.037749</td>\n      <td>0.000250</td>\n      <td>0.001751</td>\n      <td>0.000251</td>\n      <td>entropy</td>\n      <td>10</td>\n      <td>5</td>\n      <td>{'criterion': 'entropy', 'max_depth': 10, 'min...</td>\n      <td>0.932064</td>\n      <td>0.941843</td>\n      <td>0.946962</td>\n      <td>0.938723</td>\n      <td>0.939898</td>\n      <td>0.005395</td>\n      <td>1</td>\n    </tr>\n    <tr>\n      <th>54</th>\n      <td>0.038124</td>\n      <td>0.000545</td>\n      <td>0.001750</td>\n      <td>0.000250</td>\n      <td>entropy</td>\n      <td>10</td>\n      <td>2</td>\n      <td>{'criterion': 'entropy', 'max_depth': 10, 'min...</td>\n      <td>0.933608</td>\n      <td>0.940813</td>\n      <td>0.943357</td>\n      <td>0.939238</td>\n      <td>0.939254</td>\n      <td>0.003576</td>\n      <td>2</td>\n    </tr>\n    <tr>\n      <th>19</th>\n      <td>0.025499</td>\n      <td>0.000354</td>\n      <td>0.001752</td>\n      <td>0.000253</td>\n      <td>gini</td>\n      <td>10</td>\n      <td>5</td>\n      <td>{'criterion': 'gini', 'max_depth': 10, 'min_sa...</td>\n      <td>0.932578</td>\n      <td>0.939269</td>\n      <td>0.943872</td>\n      <td>0.934089</td>\n      <td>0.937452</td>\n      <td>0.004461</td>\n      <td>3</td>\n    </tr>\n    <tr>\n      <th>20</th>\n      <td>0.025499</td>\n      <td>0.000003</td>\n      <td>0.001500</td>\n      <td>0.000002</td>\n      <td>gini</td>\n      <td>10</td>\n      <td>10</td>\n      <td>{'criterion': 'gini', 'max_depth': 10, 'min_sa...</td>\n      <td>0.927946</td>\n      <td>0.938755</td>\n      <td>0.942327</td>\n      <td>0.940268</td>\n      <td>0.937324</td>\n      <td>0.005561</td>\n      <td>4</td>\n    </tr>\n    <tr>\n      <th>56</th>\n      <td>0.037000</td>\n      <td>0.000613</td>\n      <td>0.001625</td>\n      <td>0.000216</td>\n      <td>entropy</td>\n      <td>10</td>\n      <td>10</td>\n      <td>{'criterion': 'entropy', 'max_depth': 10, 'min...</td>\n      <td>0.930005</td>\n      <td>0.939269</td>\n      <td>0.941813</td>\n      <td>0.934089</td>\n      <td>0.936294</td>\n      <td>0.004575</td>\n      <td>5</td>\n    </tr>\n  </tbody>\n</table>\n</div>"
     },
     "execution_count": 432,
     "metadata": {},
     "output_type": "execute_result"
    }
   ],
   "source": [
    "score_df.nlargest(5,\"mean_test_score\")\n"
   ],
   "metadata": {
    "collapsed": false,
    "pycharm": {
     "name": "#%%\n"
    }
   }
  },
  {
   "cell_type": "markdown",
   "source": [
    "Zavolajme sám vvytvorenú funkciu get_best_criterion, aby sme dostali najlepšie ohodnotenie"
   ],
   "metadata": {
    "collapsed": false,
    "pycharm": {
     "name": "#%% md\n"
    }
   }
  },
  {
   "cell_type": "code",
   "execution_count": 433,
   "outputs": [
    {
     "name": "stdout",
     "output_type": "stream",
     "text": [
      "criterion: entropy\n",
      "max_depth: 10\n",
      "min_samples_leaf: 5\n",
      "Mean test score: 0.939898\n"
     ]
    }
   ],
   "source": [
    "get_best_criterion(score_df)"
   ],
   "metadata": {
    "collapsed": false,
    "pycharm": {
     "name": "#%%\n"
    }
   }
  },
  {
   "cell_type": "markdown",
   "source": [
    "Môžeme vidieť, že najlepšie hodnotenie sme dostali použitím entropy s maximálnou hĺbkou 10 a s minimálnou hodnotou\n",
    "listov 10\n",
    "\n",
    "S týmto parametrami sme dostali správne výsledky so šancou 93%"
   ],
   "metadata": {
    "collapsed": false
   }
  },
  {
   "cell_type": "code",
   "execution_count": 434,
   "outputs": [
    {
     "name": "stdout",
     "output_type": "stream",
     "text": [
      "Tree model:\n"
     ]
    },
    {
     "data": {
      "text/plain": "<Figure size 432x288 with 1 Axes>",
      "image/png": "[encoded data removed]"
     },
     "metadata": {
      "needs_background": "light"
     },
     "output_type": "display_data"
    }
   ],
   "source": [
    "tree_model = tree.DecisionTreeClassifier(criterion=\"entropy\", max_depth=10, min_samples_leaf=5)\n",
    "tree_model = tree_model.fit(train_attributes_dataset_input, train_attributes_dataset_output)\n",
    "\n",
    "tree.plot_tree(tree_model)\n",
    "print(\"Tree model:\")"
   ],
   "metadata": {
    "collapsed": false,
    "pycharm": {
     "name": "#%%\n"
    }
   }
  },
  {
   "cell_type": "markdown",
   "source": [
    "Môžeme vidieť, že pri použití hyperparametre nám accuracy zvíšil na hodnotu 94.8%, kým sme použili aj menší strom ako\n",
    "vyššie keď sme vytovrili model bez hyperparametrov"
   ],
   "metadata": {
    "collapsed": false,
    "pycharm": {
     "name": "#%% md\n"
    }
   }
  },
  {
   "cell_type": "code",
   "execution_count": 437,
   "outputs": [
    {
     "name": "stdout",
     "output_type": "stream",
     "text": [
      "Accuracy: 0.9480185280494081\n",
      "Precision: 0.9465610608903292\n",
      "Recall: 0.9386890258801845\n"
     ]
    }
   ],
   "source": [
    "best_tree_model = grid_search.best_estimator_\n",
    "predict_with_hyperparam = best_tree_model.predict(test_attributes_dataset_input)\n",
    "evaluation(test_attributes_dataset_output, predict_with_hyperparam)"
   ],
   "metadata": {
    "collapsed": false,
    "pycharm": {
     "name": "#%%\n"
    }
   }
  },
  {
   "cell_type": "markdown",
   "source": [
    "Vysvetlenie parametrov:\n",
    "\n",
    " - max_depth určuje maximálnu hĺbku vytvorenej stromy\n",
    " - min_samples_leaf zaručuje minimálny počet vzoriek v liste\n",
    " - entropy je formula použitá na rozdelenie listov s strome"
   ],
   "metadata": {
    "collapsed": false,
    "pycharm": {
     "name": "#%% md\n"
    }
   }
  },
  {
   "cell_type": "markdown",
   "source": [
    "## 4. Vyhodnotenie vplyvu zvolenej stratégie riešenia na klasifikáciu\n"
   ],
   "metadata": {
    "collapsed": false,
    "pycharm": {
     "name": "#%% md\n"
    }
   }
  },
  {
   "cell_type": "code",
   "execution_count": 435,
   "outputs": [],
   "source": [],
   "metadata": {
    "collapsed": false,
    "pycharm": {
     "name": "#%%\n"
    }
   }
  }
 ],
 "metadata": {
  "kernelspec": {
   "display_name": "Python 3",
   "language": "python",
   "name": "python3"
  },
  "language_info": {
   "codemirror_mode": {
    "name": "ipython",
    "version": 2
   },
   "file_extension": ".py",
   "mimetype": "text/x-python",
   "name": "python",
   "nbconvert_exporter": "python",
   "pygments_lexer": "ipython2",
   "version": "2.7.6"
  }
 },
 "nbformat": 4,
 "nbformat_minor": 0
}