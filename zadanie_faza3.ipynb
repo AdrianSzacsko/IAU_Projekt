{
 "cells": [
  {
   "cell_type": "code",
   "execution_count": 221,
   "outputs": [],
   "source": [
    "import numpy as np\n",
    "import math as math\n",
    "import scipy as sc\n",
    "import pandas as pd\n",
    "import matplotlib as mt\n",
    "import matplotlib.pyplot as plt\n",
    "import seaborn as sns\n",
    "#import sklearn as sk"
   ],
   "metadata": {
    "collapsed": false,
    "pycharm": {
     "name": "#%%\n"
    }
   }
  },
  {
   "cell_type": "markdown",
   "metadata": {
    "collapsed": true,
    "pycharm": {
     "name": "#%% md\n"
    }
   },
   "source": [
    "# Fáza 3\n",
    "Autori: Jakub Smorada, Adrian Szacsko\n",
    "Podiel práce: 50 % / 50 %"
   ]
  },
  {
   "cell_type": "markdown",
   "source": [
    "Na začiatku je potrebné načítať dáta, ktoré sme uložili na konci fázy 2."
   ],
   "metadata": {
    "collapsed": false,
    "pycharm": {
     "name": "#%% md\n"
    }
   }
  },
  {
   "cell_type": "code",
   "execution_count": 222,
   "outputs": [],
   "source": [
    "test_dataset = pd.read_csv(\"faza2/test_dataset.csv\", delimiter=\",\")\n",
    "train_dataset = pd.read_csv(\"faza2/train_dataset.csv\", delimiter=\",\")\n",
    "\n",
    "test_dataset.drop(test_dataset.columns[0], axis=1, inplace=True)\n",
    "train_dataset.drop(train_dataset.columns[0], axis=1, inplace=True)"
   ],
   "metadata": {
    "collapsed": false,
    "pycharm": {
     "name": "#%%\n"
    }
   }
  },
  {
   "cell_type": "markdown",
   "source": [
    "Vyberieme len tie atribúty, ktoré majú najväčší vplyv na indikator."
   ],
   "metadata": {
    "collapsed": false,
    "pycharm": {
     "name": "#%% md\n"
    }
   }
  },
  {
   "cell_type": "code",
   "execution_count": 223,
   "outputs": [
    {
     "data": {
      "text/plain": "      trombocyty  erytrocyty       alt  hematokrit  leukocyty  indicator\n0       0.000000    0.657410  0.590051    0.124012   0.235670        0.0\n1       0.472369    0.783140  0.756626    0.916138   0.979337        0.0\n2       0.000000    0.758214  0.765718    0.618083   0.534911        0.0\n3       0.520432    0.496035  0.358712    0.899930   0.451250        0.0\n4       0.057209    0.578113  0.505168    0.612411   0.582834        0.0\n...          ...         ...       ...         ...        ...        ...\n7765    0.000000    0.928649  0.926709    0.605019   0.800762        0.0\n7766    0.770651    0.490583  0.483083    0.462006   0.570330        1.0\n7767    0.606216    0.793698  0.777088    0.000000   0.286733        1.0\n7768    0.655724    0.680117  0.607614    0.065900   0.921863        1.0\n7769    0.905998    0.419847  0.093355    0.186051   0.767784        1.0\n\n[7770 rows x 6 columns]",
      "text/html": "<div>\n<style scoped>\n    .dataframe tbody tr th:only-of-type {\n        vertical-align: middle;\n    }\n\n    .dataframe tbody tr th {\n        vertical-align: top;\n    }\n\n    .dataframe thead th {\n        text-align: right;\n    }\n</style>\n<table border=\"1\" class=\"dataframe\">\n  <thead>\n    <tr style=\"text-align: right;\">\n      <th></th>\n      <th>trombocyty</th>\n      <th>erytrocyty</th>\n      <th>alt</th>\n      <th>hematokrit</th>\n      <th>leukocyty</th>\n      <th>indicator</th>\n    </tr>\n  </thead>\n  <tbody>\n    <tr>\n      <th>0</th>\n      <td>0.000000</td>\n      <td>0.657410</td>\n      <td>0.590051</td>\n      <td>0.124012</td>\n      <td>0.235670</td>\n      <td>0.0</td>\n    </tr>\n    <tr>\n      <th>1</th>\n      <td>0.472369</td>\n      <td>0.783140</td>\n      <td>0.756626</td>\n      <td>0.916138</td>\n      <td>0.979337</td>\n      <td>0.0</td>\n    </tr>\n    <tr>\n      <th>2</th>\n      <td>0.000000</td>\n      <td>0.758214</td>\n      <td>0.765718</td>\n      <td>0.618083</td>\n      <td>0.534911</td>\n      <td>0.0</td>\n    </tr>\n    <tr>\n      <th>3</th>\n      <td>0.520432</td>\n      <td>0.496035</td>\n      <td>0.358712</td>\n      <td>0.899930</td>\n      <td>0.451250</td>\n      <td>0.0</td>\n    </tr>\n    <tr>\n      <th>4</th>\n      <td>0.057209</td>\n      <td>0.578113</td>\n      <td>0.505168</td>\n      <td>0.612411</td>\n      <td>0.582834</td>\n      <td>0.0</td>\n    </tr>\n    <tr>\n      <th>...</th>\n      <td>...</td>\n      <td>...</td>\n      <td>...</td>\n      <td>...</td>\n      <td>...</td>\n      <td>...</td>\n    </tr>\n    <tr>\n      <th>7765</th>\n      <td>0.000000</td>\n      <td>0.928649</td>\n      <td>0.926709</td>\n      <td>0.605019</td>\n      <td>0.800762</td>\n      <td>0.0</td>\n    </tr>\n    <tr>\n      <th>7766</th>\n      <td>0.770651</td>\n      <td>0.490583</td>\n      <td>0.483083</td>\n      <td>0.462006</td>\n      <td>0.570330</td>\n      <td>1.0</td>\n    </tr>\n    <tr>\n      <th>7767</th>\n      <td>0.606216</td>\n      <td>0.793698</td>\n      <td>0.777088</td>\n      <td>0.000000</td>\n      <td>0.286733</td>\n      <td>1.0</td>\n    </tr>\n    <tr>\n      <th>7768</th>\n      <td>0.655724</td>\n      <td>0.680117</td>\n      <td>0.607614</td>\n      <td>0.065900</td>\n      <td>0.921863</td>\n      <td>1.0</td>\n    </tr>\n    <tr>\n      <th>7769</th>\n      <td>0.905998</td>\n      <td>0.419847</td>\n      <td>0.093355</td>\n      <td>0.186051</td>\n      <td>0.767784</td>\n      <td>1.0</td>\n    </tr>\n  </tbody>\n</table>\n<p>7770 rows × 6 columns</p>\n</div>"
     },
     "execution_count": 223,
     "metadata": {},
     "output_type": "execute_result"
    }
   ],
   "source": [
    "train_attributes_dataset = train_dataset[['trombocyty','erytrocyty','alt','hematokrit','leukocyty', 'indicator']].copy()\n",
    "test_attributes_dataset = test_dataset[['trombocyty','erytrocyty','alt','hematokrit','leukocyty', 'indicator']].copy()\n",
    "train_attributes_dataset"
   ],
   "metadata": {
    "collapsed": false,
    "pycharm": {
     "name": "#%%\n"
    }
   }
  },
  {
   "cell_type": "markdown",
   "source": [
    "## 1. Manuálne vytvorenie a vyhodnotenie rozhodovacích pravidiel pre klasifikáciu"
   ],
   "metadata": {
    "collapsed": false,
    "pycharm": {
     "name": "#%% md\n"
    }
   }
  },
  {
   "cell_type": "code",
   "execution_count": 224,
   "outputs": [
    {
     "data": {
      "text/plain": "<AxesSubplot:xlabel='indicator', ylabel='trombocyty'>"
     },
     "execution_count": 224,
     "metadata": {},
     "output_type": "execute_result"
    },
    {
     "data": {
      "text/plain": "<Figure size 432x288 with 1 Axes>",
      "image/png": "[encoded data removed]"
     },
     "metadata": {
      "needs_background": "light"
     },
     "output_type": "display_data"
    }
   ],
   "source": [
    "sns.boxplot(data=train_attributes_dataset, x=\"indicator\", y=\"trombocyty\")"
   ],
   "metadata": {
    "collapsed": false,
    "pycharm": {
     "name": "#%%\n"
    }
   }
  },
  {
   "cell_type": "code",
   "execution_count": 225,
   "outputs": [],
   "source": [
    "from quick_sort import quickSort\n",
    "from math import ceil\n",
    "\n",
    "def oneR_model(dataset:pd.DataFrame, attribute):\n",
    "    rows = len(dataset)\n",
    "    percent = ceil(rows*0.3)\n",
    "    min = 0\n",
    "    max = 0\n",
    "    zero_array = []\n",
    "    one_array = []\n",
    "    for i in range(rows):\n",
    "        if dataset[\"indicator\"][i] == 0:\n",
    "            zero_array.append(dataset[attribute][i])\n",
    "        else:\n",
    "            one_array.append(dataset[attribute][i])\n",
    "\n",
    "    quickSort(one_array, 0, len(one_array)-1)\n",
    "    quickSort(zero_array, 0, len(zero_array)-1)\n",
    "    zero_array = zero_array[::-1]\n",
    "\n",
    "    if percent > len(one_array):\n",
    "        percent = len(one_array)\n",
    "    if percent > len(zero_array):\n",
    "        percent = len(zero_array)\n",
    "\n",
    "    for i in range(percent):\n",
    "        min += one_array[i]\n",
    "        max += zero_array[i]\n",
    "\n",
    "    min = min/percent\n",
    "    max = max/percent\n",
    "\n",
    "    threshold = (min+max)/2\n",
    "    return threshold\n",
    "\n",
    "\n",
    "def oneR(model, dataset_attr):\n",
    "    predict = []\n",
    "    for i in dataset_attr:\n",
    "        if i > model:\n",
    "            predict.append(1)\n",
    "        else:\n",
    "            predict.append(0)\n",
    "    return predict\n"
   ],
   "metadata": {
    "collapsed": false,
    "pycharm": {
     "name": "#%%\n"
    }
   }
  },
  {
   "cell_type": "markdown",
   "source": [
    "Trombocyty, Erytrocyty, Alt, Hematokrit a Leukocyty"
   ],
   "metadata": {
    "collapsed": false,
    "pycharm": {
     "name": "#%% md\n"
    }
   }
  },
  {
   "cell_type": "code",
   "execution_count": 226,
   "outputs": [],
   "source": [
    "model = oneR_model(train_attributes_dataset, \"trombocyty\")\n",
    "oneR_prediction = oneR(model, train_attributes_dataset[\"trombocyty\"])"
   ],
   "metadata": {
    "collapsed": false,
    "pycharm": {
     "name": "#%%\n"
    }
   }
  },
  {
   "cell_type": "code",
   "execution_count": 227,
   "outputs": [],
   "source": [
    "from sklearn.metrics import accuracy_score\n",
    "from sklearn.metrics import precision_score\n",
    "from sklearn.metrics import recall_score\n",
    "\n",
    "def evaluation(output, prediction):\n",
    "    print(\"Accuracy:\",accuracy_score(output, prediction))\n",
    "    print(\"Precision:\",precision_score(output, prediction, average='macro'))\n",
    "    print(\"Recall:\",recall_score(output, prediction, average='macro'))"
   ],
   "metadata": {
    "collapsed": false,
    "pycharm": {
     "name": "#%%\n"
    }
   }
  },
  {
   "cell_type": "code",
   "execution_count": 228,
   "outputs": [
    {
     "name": "stdout",
     "output_type": "stream",
     "text": [
      "\n",
      "Trenovaci dataset:\n",
      "Accuracy: 0.8223938223938224\n",
      "Precision: 0.8083146067415731\n",
      "Recall: 0.8023544689740839\n",
      "\n",
      "Testovaci dataset:\n",
      "Accuracy: 0.8111168296448791\n",
      "Precision: 0.7943753597467383\n",
      "Recall: 0.7856402326214595\n"
     ]
    }
   ],
   "source": [
    "print(\"\\nTrenovaci dataset:\")\n",
    "evaluation(train_attributes_dataset[\"indicator\"], oneR_prediction)\n",
    "oneR_prediction_test = oneR(model, test_attributes_dataset[\"trombocyty\"])\n",
    "print(\"\\nTestovaci dataset:\")\n",
    "evaluation(test_attributes_dataset[\"indicator\"], oneR_prediction_test)"
   ],
   "metadata": {
    "collapsed": false,
    "pycharm": {
     "name": "#%%\n"
    }
   }
  },
  {
   "cell_type": "markdown",
   "source": [
    "## 2. Natrénovanie a vyhodnotenie klasifikátora strojového učenia\n"
   ],
   "metadata": {
    "collapsed": false,
    "pycharm": {
     "name": "#%% md\n"
    }
   }
  },
  {
   "cell_type": "markdown",
   "source": [
    "Rozdelíme datasety z trénovacej a testovacej na trénovací vstup, trénovací výstup, testovací vstup a testovací výstup\n",
    "pre vyhodnotenie UI algoritmov"
   ],
   "metadata": {
    "collapsed": false,
    "pycharm": {
     "name": "#%% md\n"
    }
   }
  },
  {
   "cell_type": "code",
   "execution_count": 229,
   "outputs": [],
   "source": [
    "train_attributes_dataset_input = train_attributes_dataset.drop(columns=[\"indicator\"])\n",
    "train_attributes_dataset_output = train_attributes_dataset[\"indicator\"].copy()\n",
    "\n",
    "test_attributes_dataset_input = test_attributes_dataset.drop(columns=[\"indicator\"])\n",
    "test_attributes_dataset_output = test_attributes_dataset[\"indicator\"].copy()\n"
   ],
   "metadata": {
    "collapsed": false,
    "pycharm": {
     "name": "#%%\n"
    }
   }
  },
  {
   "cell_type": "markdown",
   "source": [
    "Vytvoríme model pre náš dataset podľa trénovacej množiny a vyzualizujeme natrénované pravidlá"
   ],
   "metadata": {
    "collapsed": false,
    "pycharm": {
     "name": "#%% md\n"
    }
   }
  },
  {
   "cell_type": "code",
   "execution_count": 230,
   "outputs": [
    {
     "name": "stdout",
     "output_type": "stream",
     "text": [
      "Tree model:\n"
     ]
    },
    {
     "data": {
      "text/plain": "<Figure size 432x288 with 1 Axes>",
      "image/png": "[encoded data removed]"
     },
     "metadata": {
      "needs_background": "light"
     },
     "output_type": "display_data"
    }
   ],
   "source": [
    "from sklearn import tree\n",
    "import graphviz\n",
    "tree_model = tree.DecisionTreeClassifier()\n",
    "\n",
    "tree_model = tree_model.fit(train_attributes_dataset_input, train_attributes_dataset_output)\n",
    "\n",
    "tree.plot_tree(tree_model)\n",
    "print(\"Tree model:\")"
   ],
   "metadata": {
    "collapsed": false,
    "pycharm": {
     "name": "#%%\n"
    }
   }
  },
  {
   "cell_type": "markdown",
   "source": [
    "Pomocou vytvorenej tree_model predikujeme indikátor na trénovacej a na testovacej množine"
   ],
   "metadata": {
    "collapsed": false
   }
  },
  {
   "cell_type": "code",
   "execution_count": 231,
   "outputs": [
    {
     "name": "stdout",
     "output_type": "stream",
     "text": [
      "Trenovaci dataset:\n",
      "Accuracy: 1.0\n",
      "Precision: 1.0\n",
      "Recall: 1.0\n",
      "\n",
      "Testovaci dataset:\n",
      "Accuracy: 0.9269171384457026\n",
      "Precision: 0.9209454582946696\n",
      "Recall: 0.9180507364251789\n"
     ]
    }
   ],
   "source": [
    "tree_train_output = tree_model.predict(train_attributes_dataset_input)\n",
    "print(\"Trenovaci dataset:\")\n",
    "evaluation(train_attributes_dataset_output, tree_train_output)\n",
    "print(\"\\nTestovaci dataset:\")\n",
    "tree_test_output = tree_model.predict(test_attributes_dataset_input)\n",
    "evaluation(test_attributes_dataset_output, tree_test_output)"
   ],
   "metadata": {
    "collapsed": false,
    "pycharm": {
     "name": "#%%\n"
    }
   }
  },
  {
   "cell_type": "markdown",
   "source": [
    "Vidíme, že náš tree_model vedel odhadnúť priemerne 92% hodnôt indikátoru podľa zadaných atribútov"
   ],
   "metadata": {
    "collapsed": false
   }
  },
  {
   "cell_type": "markdown",
   "source": [
    "Pri porovnaní nášho OneR predikciu s tree_model predikciou vidíme, že stromový algoritmus vyhodnotil priemerne o 10%\n",
    "lepšie indikátor ako náš algoritmus. To je možné z dôvodu, že náš OneR algoritmus pracuje len s jedným atribútom, kým\n",
    "stromový algoritmus s piatimi."
   ],
   "metadata": {
    "collapsed": false,
    "pycharm": {
     "name": "#%% md\n"
    }
   }
  },
  {
   "cell_type": "code",
   "execution_count": 232,
   "outputs": [
    {
     "name": "stdout",
     "output_type": "stream",
     "text": [
      "Accuracy: 0.8111168296448791\n",
      "Precision: 0.7943753597467383\n",
      "Recall: 0.7856402326214595\n"
     ]
    }
   ],
   "source": [
    "evaluation(test_attributes_dataset[\"indicator\"], oneR_prediction_test)"
   ],
   "metadata": {
    "collapsed": false,
    "pycharm": {
     "name": "#%%\n"
    }
   }
  },
  {
   "cell_type": "markdown",
   "source": [
    "## Optimalizácia - hyperparameter tuning"
   ],
   "metadata": {
    "collapsed": false
   }
  },
  {
   "cell_type": "code",
   "execution_count": 233,
   "outputs": [],
   "source": [
    "# Create the parameter grid based on the results of random search\n",
    "params = {\n",
    "    'max_depth': [2, 3, 5, 10, 20],\n",
    "    'min_samples_leaf': [5, 10, 20, 50, 100],\n",
    "    'criterion': [\"gini\", \"entropy\"]\n",
    "}"
   ],
   "metadata": {
    "collapsed": false,
    "pycharm": {
     "name": "#%%\n"
    }
   }
  },
  {
   "cell_type": "code",
   "execution_count": 237,
   "outputs": [],
   "source": [
    "tree_model = tree.DecisionTreeClassifier()\n",
    "\n",
    "from sklearn.model_selection import GridSearchCV\n",
    "\n",
    "grid_search = GridSearchCV(estimator=tree_model,\n",
    "                           param_grid=params,\n",
    "                           scoring = \"accuracy\")"
   ],
   "metadata": {
    "collapsed": false,
    "pycharm": {
     "name": "#%%\n"
    }
   }
  },
  {
   "cell_type": "code",
   "execution_count": 238,
   "outputs": [
    {
     "data": {
      "text/plain": "GridSearchCV(estimator=DecisionTreeClassifier(),\n             param_grid={'criterion': ['gini', 'entropy'],\n                         'max_depth': [2, 3, 5, 10, 20],\n                         'min_samples_leaf': [5, 10, 20, 50, 100]},\n             scoring='accuracy')"
     },
     "execution_count": 238,
     "metadata": {},
     "output_type": "execute_result"
    }
   ],
   "source": [
    "grid_search.fit(train_attributes_dataset_input, train_attributes_dataset_output)"
   ],
   "metadata": {
    "collapsed": false,
    "pycharm": {
     "name": "#%%\n"
    }
   }
  },
  {
   "cell_type": "code",
   "execution_count": 241,
   "outputs": [
    {
     "data": {
      "text/plain": "   mean_fit_time  std_fit_time  mean_score_time  std_score_time  \\\n0       0.008399      0.000489         0.001601        0.000200   \n1       0.008502      0.000314         0.001597        0.000201   \n2       0.008800      0.000245         0.001501        0.000001   \n3       0.008598      0.000491         0.001800        0.000244   \n4       0.008500      0.000317         0.001400        0.000200   \n\n  param_criterion param_max_depth param_min_samples_leaf  \\\n0            gini               2                      5   \n1            gini               2                     10   \n2            gini               2                     20   \n3            gini               2                     50   \n4            gini               2                    100   \n\n                                              params  split0_test_score  \\\n0  {'criterion': 'gini', 'max_depth': 2, 'min_sam...           0.848134   \n1  {'criterion': 'gini', 'max_depth': 2, 'min_sam...           0.848134   \n2  {'criterion': 'gini', 'max_depth': 2, 'min_sam...           0.848134   \n3  {'criterion': 'gini', 'max_depth': 2, 'min_sam...           0.848134   \n4  {'criterion': 'gini', 'max_depth': 2, 'min_sam...           0.848134   \n\n   split1_test_score  split2_test_score  split3_test_score  split4_test_score  \\\n0           0.851995           0.835907           0.843629           0.841055   \n1           0.851995           0.835907           0.843629           0.841055   \n2           0.851995           0.835907           0.843629           0.841055   \n3           0.851995           0.835907           0.843629           0.841055   \n4           0.851995           0.835907           0.843629           0.841055   \n\n   mean_test_score  std_test_score  rank_test_score  \n0         0.844144        0.005571               41  \n1         0.844144        0.005571               41  \n2         0.844144        0.005571               41  \n3         0.844144        0.005571               41  \n4         0.844144        0.005571               41  ",
      "text/html": "<div>\n<style scoped>\n    .dataframe tbody tr th:only-of-type {\n        vertical-align: middle;\n    }\n\n    .dataframe tbody tr th {\n        vertical-align: top;\n    }\n\n    .dataframe thead th {\n        text-align: right;\n    }\n</style>\n<table border=\"1\" class=\"dataframe\">\n  <thead>\n    <tr style=\"text-align: right;\">\n      <th></th>\n      <th>mean_fit_time</th>\n      <th>std_fit_time</th>\n      <th>mean_score_time</th>\n      <th>std_score_time</th>\n      <th>param_criterion</th>\n      <th>param_max_depth</th>\n      <th>param_min_samples_leaf</th>\n      <th>params</th>\n      <th>split0_test_score</th>\n      <th>split1_test_score</th>\n      <th>split2_test_score</th>\n      <th>split3_test_score</th>\n      <th>split4_test_score</th>\n      <th>mean_test_score</th>\n      <th>std_test_score</th>\n      <th>rank_test_score</th>\n    </tr>\n  </thead>\n  <tbody>\n    <tr>\n      <th>0</th>\n      <td>0.008399</td>\n      <td>0.000489</td>\n      <td>0.001601</td>\n      <td>0.000200</td>\n      <td>gini</td>\n      <td>2</td>\n      <td>5</td>\n      <td>{'criterion': 'gini', 'max_depth': 2, 'min_sam...</td>\n      <td>0.848134</td>\n      <td>0.851995</td>\n      <td>0.835907</td>\n      <td>0.843629</td>\n      <td>0.841055</td>\n      <td>0.844144</td>\n      <td>0.005571</td>\n      <td>41</td>\n    </tr>\n    <tr>\n      <th>1</th>\n      <td>0.008502</td>\n      <td>0.000314</td>\n      <td>0.001597</td>\n      <td>0.000201</td>\n      <td>gini</td>\n      <td>2</td>\n      <td>10</td>\n      <td>{'criterion': 'gini', 'max_depth': 2, 'min_sam...</td>\n      <td>0.848134</td>\n      <td>0.851995</td>\n      <td>0.835907</td>\n      <td>0.843629</td>\n      <td>0.841055</td>\n      <td>0.844144</td>\n      <td>0.005571</td>\n      <td>41</td>\n    </tr>\n    <tr>\n      <th>2</th>\n      <td>0.008800</td>\n      <td>0.000245</td>\n      <td>0.001501</td>\n      <td>0.000001</td>\n      <td>gini</td>\n      <td>2</td>\n      <td>20</td>\n      <td>{'criterion': 'gini', 'max_depth': 2, 'min_sam...</td>\n      <td>0.848134</td>\n      <td>0.851995</td>\n      <td>0.835907</td>\n      <td>0.843629</td>\n      <td>0.841055</td>\n      <td>0.844144</td>\n      <td>0.005571</td>\n      <td>41</td>\n    </tr>\n    <tr>\n      <th>3</th>\n      <td>0.008598</td>\n      <td>0.000491</td>\n      <td>0.001800</td>\n      <td>0.000244</td>\n      <td>gini</td>\n      <td>2</td>\n      <td>50</td>\n      <td>{'criterion': 'gini', 'max_depth': 2, 'min_sam...</td>\n      <td>0.848134</td>\n      <td>0.851995</td>\n      <td>0.835907</td>\n      <td>0.843629</td>\n      <td>0.841055</td>\n      <td>0.844144</td>\n      <td>0.005571</td>\n      <td>41</td>\n    </tr>\n    <tr>\n      <th>4</th>\n      <td>0.008500</td>\n      <td>0.000317</td>\n      <td>0.001400</td>\n      <td>0.000200</td>\n      <td>gini</td>\n      <td>2</td>\n      <td>100</td>\n      <td>{'criterion': 'gini', 'max_depth': 2, 'min_sam...</td>\n      <td>0.848134</td>\n      <td>0.851995</td>\n      <td>0.835907</td>\n      <td>0.843629</td>\n      <td>0.841055</td>\n      <td>0.844144</td>\n      <td>0.005571</td>\n      <td>41</td>\n    </tr>\n  </tbody>\n</table>\n</div>"
     },
     "execution_count": 241,
     "metadata": {},
     "output_type": "execute_result"
    }
   ],
   "source": [
    "score_df = pd.DataFrame(grid_search.cv_results_)\n",
    "score_df.head()"
   ],
   "metadata": {
    "collapsed": false,
    "pycharm": {
     "name": "#%%\n"
    }
   }
  },
  {
   "cell_type": "markdown",
   "source": [
    "Najdime najlepsie ohodnotenie"
   ],
   "metadata": {
    "collapsed": false,
    "pycharm": {
     "name": "#%% md\n"
    }
   }
  },
  {
   "cell_type": "code",
   "execution_count": 273,
   "outputs": [
    {
     "data": {
      "text/plain": "    mean_fit_time  std_fit_time  mean_score_time  std_score_time  \\\n40       0.041999      0.003016         0.001701        0.000245   \n\n   param_criterion param_max_depth param_min_samples_leaf  \\\n40         entropy              10                      5   \n\n                                               params  split0_test_score  \\\n40  {'criterion': 'entropy', 'max_depth': 10, 'min...           0.936937   \n\n    split1_test_score  split2_test_score  split3_test_score  \\\n40           0.935006           0.939511           0.945946   \n\n    split4_test_score  mean_test_score  std_test_score  rank_test_score  \n40            0.93565          0.93861        0.003979                1  ",
      "text/html": "<div>\n<style scoped>\n    .dataframe tbody tr th:only-of-type {\n        vertical-align: middle;\n    }\n\n    .dataframe tbody tr th {\n        vertical-align: top;\n    }\n\n    .dataframe thead th {\n        text-align: right;\n    }\n</style>\n<table border=\"1\" class=\"dataframe\">\n  <thead>\n    <tr style=\"text-align: right;\">\n      <th></th>\n      <th>mean_fit_time</th>\n      <th>std_fit_time</th>\n      <th>mean_score_time</th>\n      <th>std_score_time</th>\n      <th>param_criterion</th>\n      <th>param_max_depth</th>\n      <th>param_min_samples_leaf</th>\n      <th>params</th>\n      <th>split0_test_score</th>\n      <th>split1_test_score</th>\n      <th>split2_test_score</th>\n      <th>split3_test_score</th>\n      <th>split4_test_score</th>\n      <th>mean_test_score</th>\n      <th>std_test_score</th>\n      <th>rank_test_score</th>\n    </tr>\n  </thead>\n  <tbody>\n    <tr>\n      <th>40</th>\n      <td>0.041999</td>\n      <td>0.003016</td>\n      <td>0.001701</td>\n      <td>0.000245</td>\n      <td>entropy</td>\n      <td>10</td>\n      <td>5</td>\n      <td>{'criterion': 'entropy', 'max_depth': 10, 'min...</td>\n      <td>0.936937</td>\n      <td>0.935006</td>\n      <td>0.939511</td>\n      <td>0.945946</td>\n      <td>0.93565</td>\n      <td>0.93861</td>\n      <td>0.003979</td>\n      <td>1</td>\n    </tr>\n  </tbody>\n</table>\n</div>"
     },
     "execution_count": 273,
     "metadata": {},
     "output_type": "execute_result"
    }
   ],
   "source": [
    "def get_best_criterion(dataset):\n",
    "    row : pd.DataFrame = score_df.loc[score_df['rank_test_score'] == 1]\n",
    "    for column in row.columns:\n",
    "        if \"param_\" in column:\n",
    "            parameter = row[column].to_string().split(\" \")\n",
    "            print(column.split(\"param_\")[1] + \": \" + str(parameter[len(parameter)-1]))\n",
    "\n",
    "\n",
    "score_df.loc[score_df['rank_test_score'] == 1]\n",
    "#score_df['params'].where(score_df['rank_test_score'] == 1)\n",
    "\n"
   ],
   "metadata": {
    "collapsed": false,
    "pycharm": {
     "name": "#%%\n"
    }
   }
  },
  {
   "cell_type": "code",
   "execution_count": 274,
   "outputs": [
    {
     "name": "stdout",
     "output_type": "stream",
     "text": [
      "criterion: entropy\n",
      "max_depth: 10\n",
      "min_samples_leaf: 5\n"
     ]
    }
   ],
   "source": [
    "get_best_criterion(score_df)"
   ],
   "metadata": {
    "collapsed": false,
    "pycharm": {
     "name": "#%%\n"
    }
   }
  }
 ],
 "metadata": {
  "kernelspec": {
   "display_name": "Python 3",
   "language": "python",
   "name": "python3"
  },
  "language_info": {
   "codemirror_mode": {
    "name": "ipython",
    "version": 2
   },
   "file_extension": ".py",
   "mimetype": "text/x-python",
   "name": "python",
   "nbconvert_exporter": "python",
   "pygments_lexer": "ipython2",
   "version": "2.7.6"
  }
 },
 "nbformat": 4,
 "nbformat_minor": 0
}