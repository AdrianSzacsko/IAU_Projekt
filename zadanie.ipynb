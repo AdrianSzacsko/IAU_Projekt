{
 "cells": [
  {
   "cell_type": "code",
   "execution_count": 144,
   "metadata": {
    "collapsed": true
   },
   "outputs": [],
   "source": [
    "import ax as ax\n",
    "import numpy as np\n",
    "import scipy as sc\n",
    "import pandas as pd\n",
    "import matplotlib as mt\n",
    "import seaborn as sns"
   ]
  },
  {
   "cell_type": "markdown",
   "source": [
    "sdfasvasvsavasv asdfaccvvv\n",
    "#sdad"
   ],
   "metadata": {
    "collapsed": false,
    "pycharm": {
     "name": "#%% md\n"
    }
   }
  },
  {
   "cell_type": "code",
   "execution_count": 145,
   "outputs": [
    {
     "data": {
      "text/plain": "                     name  hematokrit smoker  leukocyty relationship  \\\n0         Courtney Sparks     5.10789     no    3.67594      married   \n1              David Cook     6.06717     no    6.61722      divoced   \n2              Diane Dunn         NaN     no    8.84155      married   \n3           Debra Cameron     8.52161      Y    8.76540      married   \n4      Vincent Mccullough     4.35962     no    6.61320      divoced   \n...                   ...         ...    ...        ...          ...   \n10034     Kenneth Sanchez     4.67432      N    5.22478      married   \n10035   Jennifer Franklin     5.38144      Y    6.77403      widowed   \n10036      Valerie Carter     3.16568      Y    6.30583      married   \n10037        Julie Newman     4.80303      Y    6.78358      widowed   \n10038   Jennifer Mcintyre     7.04535      Y    5.89654       single   \n\n               ssn      alt     weight  erytrocyty       alp       ast  \\\n0      211-15-5030  1.36076   65.50748     7.92270  80.65839  40.27331   \n1      134-25-6459  1.10335   80.56053     7.13748  95.49950  51.14865   \n2      410-38-6674  2.32670  165.53795     8.77005  88.36972  56.40210   \n3      327-02-6401  3.08378   56.12232     9.11128  57.21363  57.61393   \n4      469-50-8029  5.08135   93.52107     9.68805  82.12788  75.41991   \n...            ...      ...        ...         ...       ...       ...   \n10034  035-07-2574  0.75385    4.79395     7.40597  80.98445  42.89142   \n10035  369-05-1763  0.68170   72.43763     7.38835  88.27656  55.07674   \n10036  546-10-0083  0.49297   26.26844     6.22727  49.46443  56.32268   \n10037  556-01-2815  1.92676   57.92751     8.64693  44.97615  53.85140   \n10038  078-25-7938  0.33727   67.46315     4.40982  59.33639  60.44024   \n\n          er-cv    etytr  hemoglobin  trombocyty  indicator    hbver  \n0      46.67907  6.93084     7.07385     2.43339        0.0  6.73439  \n1      21.09764  6.17378     6.30636     3.16922        0.0  6.69188  \n2      28.48174  7.23321     6.44218     6.13313        0.0  6.33770  \n3      67.05110  7.25101     7.74219     5.54453        0.0  6.08754  \n4      53.04260  6.18335     5.69975     5.34519        0.0  6.34100  \n...         ...      ...         ...         ...        ...      ...  \n10034  47.93544  5.69357     6.46889     4.59180        0.0  6.23398  \n10035  43.86325  5.33810     6.04664     8.02259        1.0  7.56910  \n10036  59.28561  8.32349     4.43833     9.62061        1.0  7.53199  \n10037  56.17723  7.25014     8.14832     6.77935        1.0  4.97849  \n10038  72.19421  6.32660     7.43364     7.86389        1.0  6.90337  \n\n[10039 rows x 17 columns]",
      "text/html": "<div>\n<style scoped>\n    .dataframe tbody tr th:only-of-type {\n        vertical-align: middle;\n    }\n\n    .dataframe tbody tr th {\n        vertical-align: top;\n    }\n\n    .dataframe thead th {\n        text-align: right;\n    }\n</style>\n<table border=\"1\" class=\"dataframe\">\n  <thead>\n    <tr style=\"text-align: right;\">\n      <th></th>\n      <th>name</th>\n      <th>hematokrit</th>\n      <th>smoker</th>\n      <th>leukocyty</th>\n      <th>relationship</th>\n      <th>ssn</th>\n      <th>alt</th>\n      <th>weight</th>\n      <th>erytrocyty</th>\n      <th>alp</th>\n      <th>ast</th>\n      <th>er-cv</th>\n      <th>etytr</th>\n      <th>hemoglobin</th>\n      <th>trombocyty</th>\n      <th>indicator</th>\n      <th>hbver</th>\n    </tr>\n  </thead>\n  <tbody>\n    <tr>\n      <th>0</th>\n      <td>Courtney Sparks</td>\n      <td>5.10789</td>\n      <td>no</td>\n      <td>3.67594</td>\n      <td>married</td>\n      <td>211-15-5030</td>\n      <td>1.36076</td>\n      <td>65.50748</td>\n      <td>7.92270</td>\n      <td>80.65839</td>\n      <td>40.27331</td>\n      <td>46.67907</td>\n      <td>6.93084</td>\n      <td>7.07385</td>\n      <td>2.43339</td>\n      <td>0.0</td>\n      <td>6.73439</td>\n    </tr>\n    <tr>\n      <th>1</th>\n      <td>David Cook</td>\n      <td>6.06717</td>\n      <td>no</td>\n      <td>6.61722</td>\n      <td>divoced</td>\n      <td>134-25-6459</td>\n      <td>1.10335</td>\n      <td>80.56053</td>\n      <td>7.13748</td>\n      <td>95.49950</td>\n      <td>51.14865</td>\n      <td>21.09764</td>\n      <td>6.17378</td>\n      <td>6.30636</td>\n      <td>3.16922</td>\n      <td>0.0</td>\n      <td>6.69188</td>\n    </tr>\n    <tr>\n      <th>2</th>\n      <td>Diane Dunn</td>\n      <td>NaN</td>\n      <td>no</td>\n      <td>8.84155</td>\n      <td>married</td>\n      <td>410-38-6674</td>\n      <td>2.32670</td>\n      <td>165.53795</td>\n      <td>8.77005</td>\n      <td>88.36972</td>\n      <td>56.40210</td>\n      <td>28.48174</td>\n      <td>7.23321</td>\n      <td>6.44218</td>\n      <td>6.13313</td>\n      <td>0.0</td>\n      <td>6.33770</td>\n    </tr>\n    <tr>\n      <th>3</th>\n      <td>Debra Cameron</td>\n      <td>8.52161</td>\n      <td>Y</td>\n      <td>8.76540</td>\n      <td>married</td>\n      <td>327-02-6401</td>\n      <td>3.08378</td>\n      <td>56.12232</td>\n      <td>9.11128</td>\n      <td>57.21363</td>\n      <td>57.61393</td>\n      <td>67.05110</td>\n      <td>7.25101</td>\n      <td>7.74219</td>\n      <td>5.54453</td>\n      <td>0.0</td>\n      <td>6.08754</td>\n    </tr>\n    <tr>\n      <th>4</th>\n      <td>Vincent Mccullough</td>\n      <td>4.35962</td>\n      <td>no</td>\n      <td>6.61320</td>\n      <td>divoced</td>\n      <td>469-50-8029</td>\n      <td>5.08135</td>\n      <td>93.52107</td>\n      <td>9.68805</td>\n      <td>82.12788</td>\n      <td>75.41991</td>\n      <td>53.04260</td>\n      <td>6.18335</td>\n      <td>5.69975</td>\n      <td>5.34519</td>\n      <td>0.0</td>\n      <td>6.34100</td>\n    </tr>\n    <tr>\n      <th>...</th>\n      <td>...</td>\n      <td>...</td>\n      <td>...</td>\n      <td>...</td>\n      <td>...</td>\n      <td>...</td>\n      <td>...</td>\n      <td>...</td>\n      <td>...</td>\n      <td>...</td>\n      <td>...</td>\n      <td>...</td>\n      <td>...</td>\n      <td>...</td>\n      <td>...</td>\n      <td>...</td>\n      <td>...</td>\n    </tr>\n    <tr>\n      <th>10034</th>\n      <td>Kenneth Sanchez</td>\n      <td>4.67432</td>\n      <td>N</td>\n      <td>5.22478</td>\n      <td>married</td>\n      <td>035-07-2574</td>\n      <td>0.75385</td>\n      <td>4.79395</td>\n      <td>7.40597</td>\n      <td>80.98445</td>\n      <td>42.89142</td>\n      <td>47.93544</td>\n      <td>5.69357</td>\n      <td>6.46889</td>\n      <td>4.59180</td>\n      <td>0.0</td>\n      <td>6.23398</td>\n    </tr>\n    <tr>\n      <th>10035</th>\n      <td>Jennifer Franklin</td>\n      <td>5.38144</td>\n      <td>Y</td>\n      <td>6.77403</td>\n      <td>widowed</td>\n      <td>369-05-1763</td>\n      <td>0.68170</td>\n      <td>72.43763</td>\n      <td>7.38835</td>\n      <td>88.27656</td>\n      <td>55.07674</td>\n      <td>43.86325</td>\n      <td>5.33810</td>\n      <td>6.04664</td>\n      <td>8.02259</td>\n      <td>1.0</td>\n      <td>7.56910</td>\n    </tr>\n    <tr>\n      <th>10036</th>\n      <td>Valerie Carter</td>\n      <td>3.16568</td>\n      <td>Y</td>\n      <td>6.30583</td>\n      <td>married</td>\n      <td>546-10-0083</td>\n      <td>0.49297</td>\n      <td>26.26844</td>\n      <td>6.22727</td>\n      <td>49.46443</td>\n      <td>56.32268</td>\n      <td>59.28561</td>\n      <td>8.32349</td>\n      <td>4.43833</td>\n      <td>9.62061</td>\n      <td>1.0</td>\n      <td>7.53199</td>\n    </tr>\n    <tr>\n      <th>10037</th>\n      <td>Julie Newman</td>\n      <td>4.80303</td>\n      <td>Y</td>\n      <td>6.78358</td>\n      <td>widowed</td>\n      <td>556-01-2815</td>\n      <td>1.92676</td>\n      <td>57.92751</td>\n      <td>8.64693</td>\n      <td>44.97615</td>\n      <td>53.85140</td>\n      <td>56.17723</td>\n      <td>7.25014</td>\n      <td>8.14832</td>\n      <td>6.77935</td>\n      <td>1.0</td>\n      <td>4.97849</td>\n    </tr>\n    <tr>\n      <th>10038</th>\n      <td>Jennifer Mcintyre</td>\n      <td>7.04535</td>\n      <td>Y</td>\n      <td>5.89654</td>\n      <td>single</td>\n      <td>078-25-7938</td>\n      <td>0.33727</td>\n      <td>67.46315</td>\n      <td>4.40982</td>\n      <td>59.33639</td>\n      <td>60.44024</td>\n      <td>72.19421</td>\n      <td>6.32660</td>\n      <td>7.43364</td>\n      <td>7.86389</td>\n      <td>1.0</td>\n      <td>6.90337</td>\n    </tr>\n  </tbody>\n</table>\n<p>10039 rows × 17 columns</p>\n</div>"
     },
     "execution_count": 145,
     "metadata": {},
     "output_type": "execute_result"
    }
   ],
   "source": [
    "dataset = pd.read_csv(\"042/labor.csv\", delimiter=\"\\t\")\n",
    "dataset.drop(dataset.columns[0], axis=1, inplace=True)\n",
    "dataset"
   ],
   "metadata": {
    "collapsed": false,
    "pycharm": {
     "name": "#%%\n"
    }
   }
  },
  {
   "cell_type": "code",
   "execution_count": 146,
   "outputs": [
    {
     "data": {
      "text/plain": "<pandas.io.formats.style.Styler at 0x7fb83f747a90>",
      "text/html": "<style type=\"text/css\">\n</style>\n<table id=\"T_59676_\">\n  <thead>\n    <tr>\n      <th class=\"blank level0\" >&nbsp;</th>\n      <th class=\"col_heading level0 col0\" >Number</th>\n    </tr>\n  </thead>\n  <tbody>\n    <tr>\n      <th id=\"T_59676_level0_row0\" class=\"row_heading level0 row0\" >Profiles</th>\n      <td id=\"T_59676_row0_col0\" class=\"data row0 col0\" >10039</td>\n    </tr>\n    <tr>\n      <th id=\"T_59676_level0_row1\" class=\"row_heading level0 row1\" >Attributes</th>\n      <td id=\"T_59676_row1_col0\" class=\"data row1 col0\" >17</td>\n    </tr>\n  </tbody>\n</table>\n"
     },
     "execution_count": 146,
     "metadata": {},
     "output_type": "execute_result"
    }
   ],
   "source": [
    "profiles = len(dataset.index)\n",
    "attributes = len(dataset.columns)\n",
    "data = [[profiles], [attributes]]\n",
    "sum_of_dataset = pd.DataFrame(data, columns = ['Number'], index = ['Profiles','Attributes'])\n",
    "sum_of_dataset.style"
   ],
   "metadata": {
    "collapsed": false,
    "pycharm": {
     "name": "#%%\n"
    }
   }
  },
  {
   "cell_type": "code",
   "execution_count": 147,
   "outputs": [
    {
     "data": {
      "text/plain": "<pandas.io.formats.style.Styler at 0x7fb83f7f0e50>",
      "text/html": "<style type=\"text/css\">\n</style>\n<table id=\"T_fafbd_\">\n  <thead>\n    <tr>\n      <th class=\"blank level0\" >&nbsp;</th>\n      <th class=\"col_heading level0 col0\" >Dtype</th>\n    </tr>\n  </thead>\n  <tbody>\n    <tr>\n      <th id=\"T_fafbd_level0_row0\" class=\"row_heading level0 row0\" >name</th>\n      <td id=\"T_fafbd_row0_col0\" class=\"data row0 col0\" >object</td>\n    </tr>\n    <tr>\n      <th id=\"T_fafbd_level0_row1\" class=\"row_heading level0 row1\" >hematokrit</th>\n      <td id=\"T_fafbd_row1_col0\" class=\"data row1 col0\" >float64</td>\n    </tr>\n    <tr>\n      <th id=\"T_fafbd_level0_row2\" class=\"row_heading level0 row2\" >smoker</th>\n      <td id=\"T_fafbd_row2_col0\" class=\"data row2 col0\" >object</td>\n    </tr>\n    <tr>\n      <th id=\"T_fafbd_level0_row3\" class=\"row_heading level0 row3\" >leukocyty</th>\n      <td id=\"T_fafbd_row3_col0\" class=\"data row3 col0\" >float64</td>\n    </tr>\n    <tr>\n      <th id=\"T_fafbd_level0_row4\" class=\"row_heading level0 row4\" >relationship</th>\n      <td id=\"T_fafbd_row4_col0\" class=\"data row4 col0\" >object</td>\n    </tr>\n    <tr>\n      <th id=\"T_fafbd_level0_row5\" class=\"row_heading level0 row5\" >ssn</th>\n      <td id=\"T_fafbd_row5_col0\" class=\"data row5 col0\" >object</td>\n    </tr>\n    <tr>\n      <th id=\"T_fafbd_level0_row6\" class=\"row_heading level0 row6\" >alt</th>\n      <td id=\"T_fafbd_row6_col0\" class=\"data row6 col0\" >float64</td>\n    </tr>\n    <tr>\n      <th id=\"T_fafbd_level0_row7\" class=\"row_heading level0 row7\" >weight</th>\n      <td id=\"T_fafbd_row7_col0\" class=\"data row7 col0\" >float64</td>\n    </tr>\n    <tr>\n      <th id=\"T_fafbd_level0_row8\" class=\"row_heading level0 row8\" >erytrocyty</th>\n      <td id=\"T_fafbd_row8_col0\" class=\"data row8 col0\" >float64</td>\n    </tr>\n    <tr>\n      <th id=\"T_fafbd_level0_row9\" class=\"row_heading level0 row9\" >alp</th>\n      <td id=\"T_fafbd_row9_col0\" class=\"data row9 col0\" >float64</td>\n    </tr>\n    <tr>\n      <th id=\"T_fafbd_level0_row10\" class=\"row_heading level0 row10\" >ast</th>\n      <td id=\"T_fafbd_row10_col0\" class=\"data row10 col0\" >float64</td>\n    </tr>\n    <tr>\n      <th id=\"T_fafbd_level0_row11\" class=\"row_heading level0 row11\" >er-cv</th>\n      <td id=\"T_fafbd_row11_col0\" class=\"data row11 col0\" >float64</td>\n    </tr>\n    <tr>\n      <th id=\"T_fafbd_level0_row12\" class=\"row_heading level0 row12\" >etytr</th>\n      <td id=\"T_fafbd_row12_col0\" class=\"data row12 col0\" >float64</td>\n    </tr>\n    <tr>\n      <th id=\"T_fafbd_level0_row13\" class=\"row_heading level0 row13\" >hemoglobin</th>\n      <td id=\"T_fafbd_row13_col0\" class=\"data row13 col0\" >float64</td>\n    </tr>\n    <tr>\n      <th id=\"T_fafbd_level0_row14\" class=\"row_heading level0 row14\" >trombocyty</th>\n      <td id=\"T_fafbd_row14_col0\" class=\"data row14 col0\" >float64</td>\n    </tr>\n    <tr>\n      <th id=\"T_fafbd_level0_row15\" class=\"row_heading level0 row15\" >indicator</th>\n      <td id=\"T_fafbd_row15_col0\" class=\"data row15 col0\" >float64</td>\n    </tr>\n    <tr>\n      <th id=\"T_fafbd_level0_row16\" class=\"row_heading level0 row16\" >hbver</th>\n      <td id=\"T_fafbd_row16_col0\" class=\"data row16 col0\" >float64</td>\n    </tr>\n  </tbody>\n</table>\n"
     },
     "execution_count": 147,
     "metadata": {},
     "output_type": "execute_result"
    }
   ],
   "source": [
    "info = pd.DataFrame(dataset.dtypes)\n",
    "info = info.set_axis(['Dtype'], axis=1, inplace=False)\n",
    "info.style\n"
   ],
   "metadata": {
    "collapsed": false,
    "pycharm": {
     "name": "#%%\n"
    }
   }
  },
  {
   "cell_type": "code",
   "execution_count": 148,
   "outputs": [
    {
     "data": {
      "text/plain": "array([[<AxesSubplot:title={'center':'hematokrit'}>,\n        <AxesSubplot:title={'center':'leukocyty'}>,\n        <AxesSubplot:title={'center':'alt'}>,\n        <AxesSubplot:title={'center':'weight'}>],\n       [<AxesSubplot:title={'center':'erytrocyty'}>,\n        <AxesSubplot:title={'center':'alp'}>,\n        <AxesSubplot:title={'center':'ast'}>,\n        <AxesSubplot:title={'center':'er-cv'}>],\n       [<AxesSubplot:title={'center':'etytr'}>,\n        <AxesSubplot:title={'center':'hemoglobin'}>,\n        <AxesSubplot:title={'center':'trombocyty'}>,\n        <AxesSubplot:title={'center':'indicator'}>],\n       [<AxesSubplot:title={'center':'hbver'}>, <AxesSubplot:>,\n        <AxesSubplot:>, <AxesSubplot:>]], dtype=object)"
     },
     "execution_count": 148,
     "metadata": {},
     "output_type": "execute_result"
    },
    {
     "data": {
      "text/plain": "<Figure size 432x288 with 16 Axes>",
      "image/png": "[encoded data removed]"
     },
     "metadata": {
      "needs_background": "light"
     },
     "output_type": "display_data"
    }
   ],
   "source": [
    "# dataset.head()\n",
    "dataset.hist()"
   ],
   "metadata": {
    "collapsed": false,
    "pycharm": {
     "name": "#%%\n"
    }
   }
  },
  {
   "cell_type": "code",
   "execution_count": 149,
   "outputs": [
    {
     "data": {
      "text/plain": "          hematokrit     leukocyty           alt        weight    erytrocyty  \\\ncount   10008.000000  10009.000000  10009.000000  10039.000000  10009.000000   \nmean        6.453032      6.450274      1.306090     69.805192      6.898802   \nstd         1.665991      1.700428      2.080683     35.581044      1.605785   \nmin         0.683890      0.979140      0.000000    -59.892790      1.811270   \n25%         5.197180      5.177990      0.521560     46.183730      5.748830   \n50%         6.227605      6.352150      0.773820     70.018130      7.036180   \n75%         7.669982      7.693890      1.344220     93.175640      8.052080   \nmax        13.633550     12.694630    100.000000    188.436090     12.733320   \nmedian      6.227605      6.352150      0.773820     70.018130      7.036180   \n\n                 alp           ast         er-cv         etytr    hemoglobin  \\\ncount   10008.000000  10009.000000  10009.000000  10008.000000  10009.000000   \nmean       71.949719     52.343359     49.060376      6.476717      6.464414   \nstd        18.109229     11.880597     13.084279      0.994156      1.006072   \nmin         0.000000      0.000000      0.000000      2.678710      3.054200   \n25%        63.818647     44.490180     40.393810      5.802672      5.786020   \n50%        78.203065     52.376590     48.923340      6.480035      6.476210   \n75%        84.986902     60.275100     57.766910      7.147997      7.140870   \nmax       100.000000    100.000000    100.000000     11.426920     10.112330   \nmedian     78.203065     52.376590     48.923340      6.480035      6.476210   \n\n         trombocyty     indicator         hbver  \ncount   10009.00000  10039.000000  10009.000000  \nmean        6.82846      0.642295      6.475601  \nstd         1.73433      0.479349      1.004527  \nmin         0.00000      0.000000      2.738210  \n25%         5.66519      0.000000      5.806840  \n50%         7.00289      1.000000      6.478430  \n75%         8.07872      1.000000      7.147590  \nmax        12.59522      1.000000     10.361820  \nmedian      7.00289      1.000000      6.478430  ",
      "text/html": "<div>\n<style scoped>\n    .dataframe tbody tr th:only-of-type {\n        vertical-align: middle;\n    }\n\n    .dataframe tbody tr th {\n        vertical-align: top;\n    }\n\n    .dataframe thead th {\n        text-align: right;\n    }\n</style>\n<table border=\"1\" class=\"dataframe\">\n  <thead>\n    <tr style=\"text-align: right;\">\n      <th></th>\n      <th>hematokrit</th>\n      <th>leukocyty</th>\n      <th>alt</th>\n      <th>weight</th>\n      <th>erytrocyty</th>\n      <th>alp</th>\n      <th>ast</th>\n      <th>er-cv</th>\n      <th>etytr</th>\n      <th>hemoglobin</th>\n      <th>trombocyty</th>\n      <th>indicator</th>\n      <th>hbver</th>\n    </tr>\n  </thead>\n  <tbody>\n    <tr>\n      <th>count</th>\n      <td>10008.000000</td>\n      <td>10009.000000</td>\n      <td>10009.000000</td>\n      <td>10039.000000</td>\n      <td>10009.000000</td>\n      <td>10008.000000</td>\n      <td>10009.000000</td>\n      <td>10009.000000</td>\n      <td>10008.000000</td>\n      <td>10009.000000</td>\n      <td>10009.00000</td>\n      <td>10039.000000</td>\n      <td>10009.000000</td>\n    </tr>\n    <tr>\n      <th>mean</th>\n      <td>6.453032</td>\n      <td>6.450274</td>\n      <td>1.306090</td>\n      <td>69.805192</td>\n      <td>6.898802</td>\n      <td>71.949719</td>\n      <td>52.343359</td>\n      <td>49.060376</td>\n      <td>6.476717</td>\n      <td>6.464414</td>\n      <td>6.82846</td>\n      <td>0.642295</td>\n      <td>6.475601</td>\n    </tr>\n    <tr>\n      <th>std</th>\n      <td>1.665991</td>\n      <td>1.700428</td>\n      <td>2.080683</td>\n      <td>35.581044</td>\n      <td>1.605785</td>\n      <td>18.109229</td>\n      <td>11.880597</td>\n      <td>13.084279</td>\n      <td>0.994156</td>\n      <td>1.006072</td>\n      <td>1.73433</td>\n      <td>0.479349</td>\n      <td>1.004527</td>\n    </tr>\n    <tr>\n      <th>min</th>\n      <td>0.683890</td>\n      <td>0.979140</td>\n      <td>0.000000</td>\n      <td>-59.892790</td>\n      <td>1.811270</td>\n      <td>0.000000</td>\n      <td>0.000000</td>\n      <td>0.000000</td>\n      <td>2.678710</td>\n      <td>3.054200</td>\n      <td>0.00000</td>\n      <td>0.000000</td>\n      <td>2.738210</td>\n    </tr>\n    <tr>\n      <th>25%</th>\n      <td>5.197180</td>\n      <td>5.177990</td>\n      <td>0.521560</td>\n      <td>46.183730</td>\n      <td>5.748830</td>\n      <td>63.818647</td>\n      <td>44.490180</td>\n      <td>40.393810</td>\n      <td>5.802672</td>\n      <td>5.786020</td>\n      <td>5.66519</td>\n      <td>0.000000</td>\n      <td>5.806840</td>\n    </tr>\n    <tr>\n      <th>50%</th>\n      <td>6.227605</td>\n      <td>6.352150</td>\n      <td>0.773820</td>\n      <td>70.018130</td>\n      <td>7.036180</td>\n      <td>78.203065</td>\n      <td>52.376590</td>\n      <td>48.923340</td>\n      <td>6.480035</td>\n      <td>6.476210</td>\n      <td>7.00289</td>\n      <td>1.000000</td>\n      <td>6.478430</td>\n    </tr>\n    <tr>\n      <th>75%</th>\n      <td>7.669982</td>\n      <td>7.693890</td>\n      <td>1.344220</td>\n      <td>93.175640</td>\n      <td>8.052080</td>\n      <td>84.986902</td>\n      <td>60.275100</td>\n      <td>57.766910</td>\n      <td>7.147997</td>\n      <td>7.140870</td>\n      <td>8.07872</td>\n      <td>1.000000</td>\n      <td>7.147590</td>\n    </tr>\n    <tr>\n      <th>max</th>\n      <td>13.633550</td>\n      <td>12.694630</td>\n      <td>100.000000</td>\n      <td>188.436090</td>\n      <td>12.733320</td>\n      <td>100.000000</td>\n      <td>100.000000</td>\n      <td>100.000000</td>\n      <td>11.426920</td>\n      <td>10.112330</td>\n      <td>12.59522</td>\n      <td>1.000000</td>\n      <td>10.361820</td>\n    </tr>\n    <tr>\n      <th>median</th>\n      <td>6.227605</td>\n      <td>6.352150</td>\n      <td>0.773820</td>\n      <td>70.018130</td>\n      <td>7.036180</td>\n      <td>78.203065</td>\n      <td>52.376590</td>\n      <td>48.923340</td>\n      <td>6.480035</td>\n      <td>6.476210</td>\n      <td>7.00289</td>\n      <td>1.000000</td>\n      <td>6.478430</td>\n    </tr>\n  </tbody>\n</table>\n</div>"
     },
     "execution_count": 149,
     "metadata": {},
     "output_type": "execute_result"
    }
   ],
   "source": [
    "# dataset.head()\n",
    "desc_stat_table = dataset.select_dtypes(include=[np.float64])\n",
    "# desc_stat = pd.DataFrame(columns= desc_stat_table.columns)\n",
    "desc_stat = dataset.describe()\n",
    "# desc_stat.loc['Mean'] = desc_stat_table.mean()\n",
    "desc_stat.loc['median'] = desc_stat_table.median()\n",
    "# modus nie je mozne urobit, nie su jednoznacne\n",
    "desc_stat\n",
    "\n",
    "# desc_stat"
   ],
   "metadata": {
    "collapsed": false,
    "pycharm": {
     "name": "#%%\n"
    }
   }
  },
  {
   "cell_type": "markdown",
   "source": [
    "# Párová analýza dát\n",
    "V tejto sekcii sme preskúmali koreláciu medzi jednotlivými atribútmi pomocou funkcie matshow() z knižnice matplotlib.\n",
    "Ako je možné vidieť najvyššia pozitívna korelácia je medzi atribútom 'indicator' a atribútom 'trombocyty'.\n",
    "Druhá najvyššia pozitívna korelácia je medzi atribútom 'etrocyty' a atribútom 'alt'.\n",
    "Najvyššia negatívna korelácia je medzi atribútom 'erytrocyty' a atribútom 'hematokrit'."
   ],
   "metadata": {
    "collapsed": false
   }
  },
  {
   "cell_type": "code",
   "execution_count": 149,
   "outputs": [],
   "source": [
    "\"\"\"Parova analyza dat\"\"\"\n",
    "\n",
    "correllation = dataset.corr()\n",
    "mt.pyplot.matshow(correllation)\n",
    "correllation.style.background_gradient(cmap='coolwarm')"
   ],
   "metadata": {
    "collapsed": false,
    "pycharm": {
     "name": "#%%\n"
    }
   }
  },
  {
   "cell_type": "code",
   "execution_count": 150,
   "outputs": [
    {
     "ename": "SyntaxError",
     "evalue": "invalid syntax (4971716.py, line 2)",
     "output_type": "error",
     "traceback": [
      "\u001B[0;36m  File \u001B[0;32m\"/var/folders/v6/r_9ghkcj35gcws4jzhv5g__00000gn/T/ipykernel_24238/4971716.py\"\u001B[0;36m, line \u001B[0;32m2\u001B[0m\n\u001B[0;31m    V tejto sekcii sme preskúmali koreláciu medzi jednotlivými atribútmi pomocou funkcie matshow() z knižnice matplotlib.\u001B[0m\n\u001B[0m      ^\u001B[0m\n\u001B[0;31mSyntaxError\u001B[0m\u001B[0;31m:\u001B[0m invalid syntax\n"
     ]
    }
   ],
   "source": [
    "dataset.head()\n",
    "#a_e = sns.load_dataset(dataset)\n",
    "#sns.regplot(data=dataset, x=\"alt\", y=\"erytrocyty\", color=\".3\")\n",
    "#sns.regplot(data=dataset, x=\"indicator\", y=\"trombocyty\", color=\".3\")\n",
    "# sns.regplot(data=a_e, x=\"size\", y=\"tip\", color=\".3\")\n",
    "sns.scatterplot(data=dataset, x='alt', y='erytrocyty')"
   ],
   "metadata": {
    "collapsed": false,
    "pycharm": {
     "name": "#%%\n"
    }
   }
  },
  {
   "cell_type": "markdown",
   "source": [
    "Pomocou boxplotu môžeme vidieť, že čím vyššie sú trombocyty, tým vyšší je indicator.\n",
    "Z tejto korelácie môžeme vyčítať, že vyššie trombocyty znamenajú horší stav pacienta s leukémiou."
   ],
   "metadata": {
    "collapsed": false
   }
  },
  {
   "cell_type": "code",
   "execution_count": null,
   "outputs": [],
   "source": [
    "sns.boxplot(data=dataset, x='indicator', y='trombocyty')\n",
    "#dataset.head()"
   ],
   "metadata": {
    "collapsed": false,
    "pycharm": {
     "name": "#%%\n"
    }
   }
  },
  {
   "cell_type": "code",
   "execution_count": null,
   "outputs": [],
   "source": [
    "\"\"\"Identifikacia problemov\"\"\"\n",
    "dataset = dataset.dropna()\n",
    "# dataset.head()\n",
    "smoker_series = dataset['smoker']\n",
    "replacement_dict = {\n",
    "    \"Y\": True,\n",
    "    \"yes\": True,\n",
    "    \"N\": False,\n",
    "    \"no\": False\n",
    "}\n",
    "dataset[\"smoker\"].replace(replacement_dict, inplace=True)\n",
    "dataset[\"relationship\"].replace(\"divoced\",\"divorced\",inplace=True)\n",
    "# dataset.drop_duplicates(subset='name', inplace=True)\n",
    "dataset.reset_index(drop=True, inplace=True)\n",
    "dataset\n",
    "# print(smoker_series.unique())"
   ],
   "metadata": {
    "collapsed": false,
    "pycharm": {
     "name": "#%%\n"
    }
   }
  },
  {
   "cell_type": "code",
   "execution_count": null,
   "outputs": [],
   "source": [
    "dataset.info()"
   ],
   "metadata": {
    "collapsed": false,
    "pycharm": {
     "name": "#%%\n"
    }
   }
  },
  {
   "cell_type": "code",
   "execution_count": null,
   "outputs": [],
   "source": [
    "# Second dataset\n",
    "\n",
    "dataprofiles = pd.read_csv(\"042/profiles.csv\", delimiter=\"\\t\")\n",
    "dataprofiles.drop(dataprofiles.columns[0], axis=1, inplace=True)\n",
    "dataprofiles.drop_duplicates(subset=\"name\", inplace=True)\n",
    "dataprofiles['birthdate'] = pd.to_datetime(dataprofiles['birthdate'])\n",
    "dataprofiles.dropna(inplace=True)\n",
    "dataprofiles\n"
   ],
   "metadata": {
    "collapsed": false,
    "pycharm": {
     "name": "#%%\n"
    }
   }
  }
 ],
 "metadata": {
  "kernelspec": {
   "display_name": "Python 3",
   "language": "python",
   "name": "python3"
  },
  "language_info": {
   "codemirror_mode": {
    "name": "ipython",
    "version": 2
   },
   "file_extension": ".py",
   "mimetype": "text/x-python",
   "name": "python",
   "nbconvert_exporter": "python",
   "pygments_lexer": "ipython2",
   "version": "2.7.6"
  }
 },
 "nbformat": 4,
 "nbformat_minor": 0
}