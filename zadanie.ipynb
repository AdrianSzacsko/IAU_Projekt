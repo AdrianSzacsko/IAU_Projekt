{
 "cells": [
  {
   "cell_type": "code",
   "execution_count": 1,
   "metadata": {
    "pycharm": {
     "name": "#%%\n"
    }
   },
   "outputs": [],
   "source": [
    "#import ax as ax\n",
    "from copy import deepcopy\n",
    "\n",
    "import numpy as np\n",
    "import math as math\n",
    "import scipy as sc\n",
    "import pandas as pd\n",
    "import matplotlib as mt\n",
    "import matplotlib.pyplot as plt\n",
    "import seaborn as sns\n",
    "#import sklearn as sk\n",
    "from sklearn.impute import SimpleImputer, KNNImputer\n"
   ]
  },
  {
   "cell_type": "markdown",
   "metadata": {},
   "source": [
    "# Fáza 1 - prieskumná analýza\n",
    "\n",
    "Pomer práce 50% - 50%\n",
    "\n",
    "Autori: Jakub Smorada, Adrian Szacsko"
   ]
  },
  {
   "cell_type": "markdown",
   "metadata": {},
   "source": [
    "## 1. Základný opis dát spolu s ich charakteristikami (5 bodov)\n",
    "\n",
    "Z načítaného datasetu sme odstránili indexy, pretože nám ich knižnica pandas pridá sama."
   ]
  },
  {
   "cell_type": "code",
   "execution_count": 2,
   "metadata": {
    "pycharm": {
     "name": "#%%\n"
    }
   },
   "outputs": [
    {
     "data": {
      "text/plain": "                     name  hematokrit smoker  leukocyty relationship  \\\n0         Courtney Sparks     5.10789     no    3.67594      married   \n1              David Cook     6.06717     no    6.61722      divoced   \n2              Diane Dunn         NaN     no    8.84155      married   \n3           Debra Cameron     8.52161      Y    8.76540      married   \n4      Vincent Mccullough     4.35962     no    6.61320      divoced   \n...                   ...         ...    ...        ...          ...   \n10034     Kenneth Sanchez     4.67432      N    5.22478      married   \n10035   Jennifer Franklin     5.38144      Y    6.77403      widowed   \n10036      Valerie Carter     3.16568      Y    6.30583      married   \n10037        Julie Newman     4.80303      Y    6.78358      widowed   \n10038   Jennifer Mcintyre     7.04535      Y    5.89654       single   \n\n               ssn      alt     weight  erytrocyty       alp       ast  \\\n0      211-15-5030  1.36076   65.50748     7.92270  80.65839  40.27331   \n1      134-25-6459  1.10335   80.56053     7.13748  95.49950  51.14865   \n2      410-38-6674  2.32670  165.53795     8.77005  88.36972  56.40210   \n3      327-02-6401  3.08378   56.12232     9.11128  57.21363  57.61393   \n4      469-50-8029  5.08135   93.52107     9.68805  82.12788  75.41991   \n...            ...      ...        ...         ...       ...       ...   \n10034  035-07-2574  0.75385    4.79395     7.40597  80.98445  42.89142   \n10035  369-05-1763  0.68170   72.43763     7.38835  88.27656  55.07674   \n10036  546-10-0083  0.49297   26.26844     6.22727  49.46443  56.32268   \n10037  556-01-2815  1.92676   57.92751     8.64693  44.97615  53.85140   \n10038  078-25-7938  0.33727   67.46315     4.40982  59.33639  60.44024   \n\n          er-cv    etytr  hemoglobin  trombocyty  indicator    hbver  \n0      46.67907  6.93084     7.07385     2.43339        0.0  6.73439  \n1      21.09764  6.17378     6.30636     3.16922        0.0  6.69188  \n2      28.48174  7.23321     6.44218     6.13313        0.0  6.33770  \n3      67.05110  7.25101     7.74219     5.54453        0.0  6.08754  \n4      53.04260  6.18335     5.69975     5.34519        0.0  6.34100  \n...         ...      ...         ...         ...        ...      ...  \n10034  47.93544  5.69357     6.46889     4.59180        0.0  6.23398  \n10035  43.86325  5.33810     6.04664     8.02259        1.0  7.56910  \n10036  59.28561  8.32349     4.43833     9.62061        1.0  7.53199  \n10037  56.17723  7.25014     8.14832     6.77935        1.0  4.97849  \n10038  72.19421  6.32660     7.43364     7.86389        1.0  6.90337  \n\n[10039 rows x 17 columns]",
      "text/html": "<div>\n<style scoped>\n    .dataframe tbody tr th:only-of-type {\n        vertical-align: middle;\n    }\n\n    .dataframe tbody tr th {\n        vertical-align: top;\n    }\n\n    .dataframe thead th {\n        text-align: right;\n    }\n</style>\n<table border=\"1\" class=\"dataframe\">\n  <thead>\n    <tr style=\"text-align: right;\">\n      <th></th>\n      <th>name</th>\n      <th>hematokrit</th>\n      <th>smoker</th>\n      <th>leukocyty</th>\n      <th>relationship</th>\n      <th>ssn</th>\n      <th>alt</th>\n      <th>weight</th>\n      <th>erytrocyty</th>\n      <th>alp</th>\n      <th>ast</th>\n      <th>er-cv</th>\n      <th>etytr</th>\n      <th>hemoglobin</th>\n      <th>trombocyty</th>\n      <th>indicator</th>\n      <th>hbver</th>\n    </tr>\n  </thead>\n  <tbody>\n    <tr>\n      <th>0</th>\n      <td>Courtney Sparks</td>\n      <td>5.10789</td>\n      <td>no</td>\n      <td>3.67594</td>\n      <td>married</td>\n      <td>211-15-5030</td>\n      <td>1.36076</td>\n      <td>65.50748</td>\n      <td>7.92270</td>\n      <td>80.65839</td>\n      <td>40.27331</td>\n      <td>46.67907</td>\n      <td>6.93084</td>\n      <td>7.07385</td>\n      <td>2.43339</td>\n      <td>0.0</td>\n      <td>6.73439</td>\n    </tr>\n    <tr>\n      <th>1</th>\n      <td>David Cook</td>\n      <td>6.06717</td>\n      <td>no</td>\n      <td>6.61722</td>\n      <td>divoced</td>\n      <td>134-25-6459</td>\n      <td>1.10335</td>\n      <td>80.56053</td>\n      <td>7.13748</td>\n      <td>95.49950</td>\n      <td>51.14865</td>\n      <td>21.09764</td>\n      <td>6.17378</td>\n      <td>6.30636</td>\n      <td>3.16922</td>\n      <td>0.0</td>\n      <td>6.69188</td>\n    </tr>\n    <tr>\n      <th>2</th>\n      <td>Diane Dunn</td>\n      <td>NaN</td>\n      <td>no</td>\n      <td>8.84155</td>\n      <td>married</td>\n      <td>410-38-6674</td>\n      <td>2.32670</td>\n      <td>165.53795</td>\n      <td>8.77005</td>\n      <td>88.36972</td>\n      <td>56.40210</td>\n      <td>28.48174</td>\n      <td>7.23321</td>\n      <td>6.44218</td>\n      <td>6.13313</td>\n      <td>0.0</td>\n      <td>6.33770</td>\n    </tr>\n    <tr>\n      <th>3</th>\n      <td>Debra Cameron</td>\n      <td>8.52161</td>\n      <td>Y</td>\n      <td>8.76540</td>\n      <td>married</td>\n      <td>327-02-6401</td>\n      <td>3.08378</td>\n      <td>56.12232</td>\n      <td>9.11128</td>\n      <td>57.21363</td>\n      <td>57.61393</td>\n      <td>67.05110</td>\n      <td>7.25101</td>\n      <td>7.74219</td>\n      <td>5.54453</td>\n      <td>0.0</td>\n      <td>6.08754</td>\n    </tr>\n    <tr>\n      <th>4</th>\n      <td>Vincent Mccullough</td>\n      <td>4.35962</td>\n      <td>no</td>\n      <td>6.61320</td>\n      <td>divoced</td>\n      <td>469-50-8029</td>\n      <td>5.08135</td>\n      <td>93.52107</td>\n      <td>9.68805</td>\n      <td>82.12788</td>\n      <td>75.41991</td>\n      <td>53.04260</td>\n      <td>6.18335</td>\n      <td>5.69975</td>\n      <td>5.34519</td>\n      <td>0.0</td>\n      <td>6.34100</td>\n    </tr>\n    <tr>\n      <th>...</th>\n      <td>...</td>\n      <td>...</td>\n      <td>...</td>\n      <td>...</td>\n      <td>...</td>\n      <td>...</td>\n      <td>...</td>\n      <td>...</td>\n      <td>...</td>\n      <td>...</td>\n      <td>...</td>\n      <td>...</td>\n      <td>...</td>\n      <td>...</td>\n      <td>...</td>\n      <td>...</td>\n      <td>...</td>\n    </tr>\n    <tr>\n      <th>10034</th>\n      <td>Kenneth Sanchez</td>\n      <td>4.67432</td>\n      <td>N</td>\n      <td>5.22478</td>\n      <td>married</td>\n      <td>035-07-2574</td>\n      <td>0.75385</td>\n      <td>4.79395</td>\n      <td>7.40597</td>\n      <td>80.98445</td>\n      <td>42.89142</td>\n      <td>47.93544</td>\n      <td>5.69357</td>\n      <td>6.46889</td>\n      <td>4.59180</td>\n      <td>0.0</td>\n      <td>6.23398</td>\n    </tr>\n    <tr>\n      <th>10035</th>\n      <td>Jennifer Franklin</td>\n      <td>5.38144</td>\n      <td>Y</td>\n      <td>6.77403</td>\n      <td>widowed</td>\n      <td>369-05-1763</td>\n      <td>0.68170</td>\n      <td>72.43763</td>\n      <td>7.38835</td>\n      <td>88.27656</td>\n      <td>55.07674</td>\n      <td>43.86325</td>\n      <td>5.33810</td>\n      <td>6.04664</td>\n      <td>8.02259</td>\n      <td>1.0</td>\n      <td>7.56910</td>\n    </tr>\n    <tr>\n      <th>10036</th>\n      <td>Valerie Carter</td>\n      <td>3.16568</td>\n      <td>Y</td>\n      <td>6.30583</td>\n      <td>married</td>\n      <td>546-10-0083</td>\n      <td>0.49297</td>\n      <td>26.26844</td>\n      <td>6.22727</td>\n      <td>49.46443</td>\n      <td>56.32268</td>\n      <td>59.28561</td>\n      <td>8.32349</td>\n      <td>4.43833</td>\n      <td>9.62061</td>\n      <td>1.0</td>\n      <td>7.53199</td>\n    </tr>\n    <tr>\n      <th>10037</th>\n      <td>Julie Newman</td>\n      <td>4.80303</td>\n      <td>Y</td>\n      <td>6.78358</td>\n      <td>widowed</td>\n      <td>556-01-2815</td>\n      <td>1.92676</td>\n      <td>57.92751</td>\n      <td>8.64693</td>\n      <td>44.97615</td>\n      <td>53.85140</td>\n      <td>56.17723</td>\n      <td>7.25014</td>\n      <td>8.14832</td>\n      <td>6.77935</td>\n      <td>1.0</td>\n      <td>4.97849</td>\n    </tr>\n    <tr>\n      <th>10038</th>\n      <td>Jennifer Mcintyre</td>\n      <td>7.04535</td>\n      <td>Y</td>\n      <td>5.89654</td>\n      <td>single</td>\n      <td>078-25-7938</td>\n      <td>0.33727</td>\n      <td>67.46315</td>\n      <td>4.40982</td>\n      <td>59.33639</td>\n      <td>60.44024</td>\n      <td>72.19421</td>\n      <td>6.32660</td>\n      <td>7.43364</td>\n      <td>7.86389</td>\n      <td>1.0</td>\n      <td>6.90337</td>\n    </tr>\n  </tbody>\n</table>\n<p>10039 rows × 17 columns</p>\n</div>"
     },
     "execution_count": 2,
     "metadata": {},
     "output_type": "execute_result"
    }
   ],
   "source": [
    "from matplotlib import pyplot\n",
    "sns.set_theme(style=\"dark\", palette=\"rocket\")\n",
    "dataset = pd.read_csv(\"042/labor.csv\", delimiter=\"\\t\")\n",
    "dataset.drop(dataset.columns[0], axis=1, inplace=True)\n",
    "dataset"
   ]
  },
  {
   "cell_type": "markdown",
   "metadata": {},
   "source": [
    "### Počet záznamov a počet atribútov:\n",
    "\n",
    "Pomocou funkcie len() sme sa dozvedeli koľko máme záznamov a atribútov. Záznamov je 10039 a atribútov je 17. "
   ]
  },
  {
   "cell_type": "code",
   "execution_count": 3,
   "metadata": {
    "pycharm": {
     "name": "#%%\n"
    }
   },
   "outputs": [
    {
     "data": {
      "text/plain": "<pandas.io.formats.style.Styler at 0x7f9929db1c70>",
      "text/html": "<style type=\"text/css\">\n</style>\n<table id=\"T_8063b_\">\n  <thead>\n    <tr>\n      <th class=\"blank level0\" >&nbsp;</th>\n      <th class=\"col_heading level0 col0\" >Number</th>\n    </tr>\n  </thead>\n  <tbody>\n    <tr>\n      <th id=\"T_8063b_level0_row0\" class=\"row_heading level0 row0\" >Profiles</th>\n      <td id=\"T_8063b_row0_col0\" class=\"data row0 col0\" >10039</td>\n    </tr>\n    <tr>\n      <th id=\"T_8063b_level0_row1\" class=\"row_heading level0 row1\" >Attributes</th>\n      <td id=\"T_8063b_row1_col0\" class=\"data row1 col0\" >17</td>\n    </tr>\n  </tbody>\n</table>\n"
     },
     "execution_count": 3,
     "metadata": {},
     "output_type": "execute_result"
    }
   ],
   "source": [
    "profiles = len(dataset.index)\n",
    "attributes = len(dataset.columns)\n",
    "data = [[profiles], [attributes]]\n",
    "sum_of_dataset = pd.DataFrame(data, columns = ['Number'], index = ['Profiles','Attributes'])\n",
    "sum_of_dataset.style"
   ]
  },
  {
   "cell_type": "markdown",
   "metadata": {},
   "source": [
    "### Typy dát:\n",
    "Jednotlivé typy dát sú viditeľné v nasledujúcej tabuľke."
   ]
  },
  {
   "cell_type": "code",
   "execution_count": 4,
   "metadata": {
    "pycharm": {
     "name": "#%%\n"
    }
   },
   "outputs": [
    {
     "data": {
      "text/plain": "<pandas.io.formats.style.Styler at 0x7f9929facf10>",
      "text/html": "<style type=\"text/css\">\n</style>\n<table id=\"T_5fc68_\">\n  <thead>\n    <tr>\n      <th class=\"blank level0\" >&nbsp;</th>\n      <th class=\"col_heading level0 col0\" >Dtype</th>\n    </tr>\n  </thead>\n  <tbody>\n    <tr>\n      <th id=\"T_5fc68_level0_row0\" class=\"row_heading level0 row0\" >name</th>\n      <td id=\"T_5fc68_row0_col0\" class=\"data row0 col0\" >object</td>\n    </tr>\n    <tr>\n      <th id=\"T_5fc68_level0_row1\" class=\"row_heading level0 row1\" >hematokrit</th>\n      <td id=\"T_5fc68_row1_col0\" class=\"data row1 col0\" >float64</td>\n    </tr>\n    <tr>\n      <th id=\"T_5fc68_level0_row2\" class=\"row_heading level0 row2\" >smoker</th>\n      <td id=\"T_5fc68_row2_col0\" class=\"data row2 col0\" >object</td>\n    </tr>\n    <tr>\n      <th id=\"T_5fc68_level0_row3\" class=\"row_heading level0 row3\" >leukocyty</th>\n      <td id=\"T_5fc68_row3_col0\" class=\"data row3 col0\" >float64</td>\n    </tr>\n    <tr>\n      <th id=\"T_5fc68_level0_row4\" class=\"row_heading level0 row4\" >relationship</th>\n      <td id=\"T_5fc68_row4_col0\" class=\"data row4 col0\" >object</td>\n    </tr>\n    <tr>\n      <th id=\"T_5fc68_level0_row5\" class=\"row_heading level0 row5\" >ssn</th>\n      <td id=\"T_5fc68_row5_col0\" class=\"data row5 col0\" >object</td>\n    </tr>\n    <tr>\n      <th id=\"T_5fc68_level0_row6\" class=\"row_heading level0 row6\" >alt</th>\n      <td id=\"T_5fc68_row6_col0\" class=\"data row6 col0\" >float64</td>\n    </tr>\n    <tr>\n      <th id=\"T_5fc68_level0_row7\" class=\"row_heading level0 row7\" >weight</th>\n      <td id=\"T_5fc68_row7_col0\" class=\"data row7 col0\" >float64</td>\n    </tr>\n    <tr>\n      <th id=\"T_5fc68_level0_row8\" class=\"row_heading level0 row8\" >erytrocyty</th>\n      <td id=\"T_5fc68_row8_col0\" class=\"data row8 col0\" >float64</td>\n    </tr>\n    <tr>\n      <th id=\"T_5fc68_level0_row9\" class=\"row_heading level0 row9\" >alp</th>\n      <td id=\"T_5fc68_row9_col0\" class=\"data row9 col0\" >float64</td>\n    </tr>\n    <tr>\n      <th id=\"T_5fc68_level0_row10\" class=\"row_heading level0 row10\" >ast</th>\n      <td id=\"T_5fc68_row10_col0\" class=\"data row10 col0\" >float64</td>\n    </tr>\n    <tr>\n      <th id=\"T_5fc68_level0_row11\" class=\"row_heading level0 row11\" >er-cv</th>\n      <td id=\"T_5fc68_row11_col0\" class=\"data row11 col0\" >float64</td>\n    </tr>\n    <tr>\n      <th id=\"T_5fc68_level0_row12\" class=\"row_heading level0 row12\" >etytr</th>\n      <td id=\"T_5fc68_row12_col0\" class=\"data row12 col0\" >float64</td>\n    </tr>\n    <tr>\n      <th id=\"T_5fc68_level0_row13\" class=\"row_heading level0 row13\" >hemoglobin</th>\n      <td id=\"T_5fc68_row13_col0\" class=\"data row13 col0\" >float64</td>\n    </tr>\n    <tr>\n      <th id=\"T_5fc68_level0_row14\" class=\"row_heading level0 row14\" >trombocyty</th>\n      <td id=\"T_5fc68_row14_col0\" class=\"data row14 col0\" >float64</td>\n    </tr>\n    <tr>\n      <th id=\"T_5fc68_level0_row15\" class=\"row_heading level0 row15\" >indicator</th>\n      <td id=\"T_5fc68_row15_col0\" class=\"data row15 col0\" >float64</td>\n    </tr>\n    <tr>\n      <th id=\"T_5fc68_level0_row16\" class=\"row_heading level0 row16\" >hbver</th>\n      <td id=\"T_5fc68_row16_col0\" class=\"data row16 col0\" >float64</td>\n    </tr>\n  </tbody>\n</table>\n"
     },
     "execution_count": 4,
     "metadata": {},
     "output_type": "execute_result"
    }
   ],
   "source": [
    "info = pd.DataFrame(dataset.dtypes)\n",
    "info = info.set_axis(['Dtype'], axis=1, inplace=False)\n",
    "info.style\n"
   ]
  },
  {
   "cell_type": "markdown",
   "metadata": {},
   "source": [
    "### Distribúcia významných atribútov:\n",
    "\n",
    "Pomocou knižnice pandas sme vytvorili rôzne histogramy pre niekoľko významných atribútov, napr. **hematokrit, leukocyty, alt, weight, erytrocyty, alp,\n",
    "ast, er-cv, etytr, hemoglobin, trombocyty, indicator, hbver**\n"
   ]
  },
  {
   "cell_type": "code",
   "execution_count": 5,
   "metadata": {
    "pycharm": {
     "name": "#%%\n"
    }
   },
   "outputs": [
    {
     "data": {
      "text/plain": "array([[<AxesSubplot:title={'center':'hematokrit'}>,\n        <AxesSubplot:title={'center':'leukocyty'}>,\n        <AxesSubplot:title={'center':'alt'}>,\n        <AxesSubplot:title={'center':'weight'}>],\n       [<AxesSubplot:title={'center':'erytrocyty'}>,\n        <AxesSubplot:title={'center':'alp'}>,\n        <AxesSubplot:title={'center':'ast'}>,\n        <AxesSubplot:title={'center':'er-cv'}>],\n       [<AxesSubplot:title={'center':'etytr'}>,\n        <AxesSubplot:title={'center':'hemoglobin'}>,\n        <AxesSubplot:title={'center':'trombocyty'}>,\n        <AxesSubplot:title={'center':'indicator'}>],\n       [<AxesSubplot:title={'center':'hbver'}>, <AxesSubplot:>,\n        <AxesSubplot:>, <AxesSubplot:>]], dtype=object)"
     },
     "execution_count": 5,
     "metadata": {},
     "output_type": "execute_result"
    },
    {
     "data": {
      "text/plain": "<Figure size 1800x1800 with 16 Axes>",
      "image/png": "[encoded data removed]"
     },
     "metadata": {},
     "output_type": "display_data"
    }
   ],
   "source": [
    "# dataset.head()\n",
    "fig = dataset.hist(bins=8, figsize=[25, 25], xlabelsize=14, ylabelsize=14)\n",
    "[x.title.set_size(28) for x in fig.ravel()]\n",
    "fig"
   ]
  },
  {
   "cell_type": "markdown",
   "metadata": {},
   "source": [
    "### Základné deskriptívne štatistiky\n",
    "\n",
    "K základný deskriptívnym štatistikám patria: **medián, modus, priemer, smerodajná odchýlka, minimálna\n",
    "a maximálna hodnota, variancia, atď.**\n",
    "\n",
    "*Vypočítanie modusu nemá význam, pretože jednotlivé záznamy sú unikátne (nevyskytujú sa viackrát).*"
   ]
  },
  {
   "cell_type": "code",
   "execution_count": 6,
   "metadata": {
    "pycharm": {
     "name": "#%%\n"
    }
   },
   "outputs": [
    {
     "data": {
      "text/plain": "<pandas.io.formats.style.Styler at 0x7f9938bedf10>",
      "text/html": "<style type=\"text/css\">\n</style>\n<table id=\"T_78450_\">\n  <thead>\n    <tr>\n      <th class=\"blank level0\" >&nbsp;</th>\n      <th class=\"col_heading level0 col0\" >hematokrit</th>\n      <th class=\"col_heading level0 col1\" >leukocyty</th>\n      <th class=\"col_heading level0 col2\" >alt</th>\n      <th class=\"col_heading level0 col3\" >weight</th>\n      <th class=\"col_heading level0 col4\" >erytrocyty</th>\n      <th class=\"col_heading level0 col5\" >alp</th>\n      <th class=\"col_heading level0 col6\" >ast</th>\n      <th class=\"col_heading level0 col7\" >er-cv</th>\n      <th class=\"col_heading level0 col8\" >etytr</th>\n      <th class=\"col_heading level0 col9\" >hemoglobin</th>\n      <th class=\"col_heading level0 col10\" >trombocyty</th>\n      <th class=\"col_heading level0 col11\" >indicator</th>\n      <th class=\"col_heading level0 col12\" >hbver</th>\n    </tr>\n  </thead>\n  <tbody>\n    <tr>\n      <th id=\"T_78450_level0_row0\" class=\"row_heading level0 row0\" >count</th>\n      <td id=\"T_78450_row0_col0\" class=\"data row0 col0\" >10008.000000</td>\n      <td id=\"T_78450_row0_col1\" class=\"data row0 col1\" >10009.000000</td>\n      <td id=\"T_78450_row0_col2\" class=\"data row0 col2\" >10009.000000</td>\n      <td id=\"T_78450_row0_col3\" class=\"data row0 col3\" >10039.000000</td>\n      <td id=\"T_78450_row0_col4\" class=\"data row0 col4\" >10009.000000</td>\n      <td id=\"T_78450_row0_col5\" class=\"data row0 col5\" >10008.000000</td>\n      <td id=\"T_78450_row0_col6\" class=\"data row0 col6\" >10009.000000</td>\n      <td id=\"T_78450_row0_col7\" class=\"data row0 col7\" >10009.000000</td>\n      <td id=\"T_78450_row0_col8\" class=\"data row0 col8\" >10008.000000</td>\n      <td id=\"T_78450_row0_col9\" class=\"data row0 col9\" >10009.000000</td>\n      <td id=\"T_78450_row0_col10\" class=\"data row0 col10\" >10009.000000</td>\n      <td id=\"T_78450_row0_col11\" class=\"data row0 col11\" >10039.000000</td>\n      <td id=\"T_78450_row0_col12\" class=\"data row0 col12\" >10009.000000</td>\n    </tr>\n    <tr>\n      <th id=\"T_78450_level0_row1\" class=\"row_heading level0 row1\" >mean</th>\n      <td id=\"T_78450_row1_col0\" class=\"data row1 col0\" >6.453032</td>\n      <td id=\"T_78450_row1_col1\" class=\"data row1 col1\" >6.450274</td>\n      <td id=\"T_78450_row1_col2\" class=\"data row1 col2\" >1.306090</td>\n      <td id=\"T_78450_row1_col3\" class=\"data row1 col3\" >69.805192</td>\n      <td id=\"T_78450_row1_col4\" class=\"data row1 col4\" >6.898802</td>\n      <td id=\"T_78450_row1_col5\" class=\"data row1 col5\" >71.949719</td>\n      <td id=\"T_78450_row1_col6\" class=\"data row1 col6\" >52.343359</td>\n      <td id=\"T_78450_row1_col7\" class=\"data row1 col7\" >49.060376</td>\n      <td id=\"T_78450_row1_col8\" class=\"data row1 col8\" >6.476717</td>\n      <td id=\"T_78450_row1_col9\" class=\"data row1 col9\" >6.464414</td>\n      <td id=\"T_78450_row1_col10\" class=\"data row1 col10\" >6.828460</td>\n      <td id=\"T_78450_row1_col11\" class=\"data row1 col11\" >0.642295</td>\n      <td id=\"T_78450_row1_col12\" class=\"data row1 col12\" >6.475601</td>\n    </tr>\n    <tr>\n      <th id=\"T_78450_level0_row2\" class=\"row_heading level0 row2\" >std</th>\n      <td id=\"T_78450_row2_col0\" class=\"data row2 col0\" >1.665991</td>\n      <td id=\"T_78450_row2_col1\" class=\"data row2 col1\" >1.700428</td>\n      <td id=\"T_78450_row2_col2\" class=\"data row2 col2\" >2.080683</td>\n      <td id=\"T_78450_row2_col3\" class=\"data row2 col3\" >35.581044</td>\n      <td id=\"T_78450_row2_col4\" class=\"data row2 col4\" >1.605785</td>\n      <td id=\"T_78450_row2_col5\" class=\"data row2 col5\" >18.109229</td>\n      <td id=\"T_78450_row2_col6\" class=\"data row2 col6\" >11.880597</td>\n      <td id=\"T_78450_row2_col7\" class=\"data row2 col7\" >13.084279</td>\n      <td id=\"T_78450_row2_col8\" class=\"data row2 col8\" >0.994156</td>\n      <td id=\"T_78450_row2_col9\" class=\"data row2 col9\" >1.006072</td>\n      <td id=\"T_78450_row2_col10\" class=\"data row2 col10\" >1.734330</td>\n      <td id=\"T_78450_row2_col11\" class=\"data row2 col11\" >0.479349</td>\n      <td id=\"T_78450_row2_col12\" class=\"data row2 col12\" >1.004527</td>\n    </tr>\n    <tr>\n      <th id=\"T_78450_level0_row3\" class=\"row_heading level0 row3\" >min</th>\n      <td id=\"T_78450_row3_col0\" class=\"data row3 col0\" >0.683890</td>\n      <td id=\"T_78450_row3_col1\" class=\"data row3 col1\" >0.979140</td>\n      <td id=\"T_78450_row3_col2\" class=\"data row3 col2\" >0.000000</td>\n      <td id=\"T_78450_row3_col3\" class=\"data row3 col3\" >-59.892790</td>\n      <td id=\"T_78450_row3_col4\" class=\"data row3 col4\" >1.811270</td>\n      <td id=\"T_78450_row3_col5\" class=\"data row3 col5\" >0.000000</td>\n      <td id=\"T_78450_row3_col6\" class=\"data row3 col6\" >0.000000</td>\n      <td id=\"T_78450_row3_col7\" class=\"data row3 col7\" >0.000000</td>\n      <td id=\"T_78450_row3_col8\" class=\"data row3 col8\" >2.678710</td>\n      <td id=\"T_78450_row3_col9\" class=\"data row3 col9\" >3.054200</td>\n      <td id=\"T_78450_row3_col10\" class=\"data row3 col10\" >0.000000</td>\n      <td id=\"T_78450_row3_col11\" class=\"data row3 col11\" >0.000000</td>\n      <td id=\"T_78450_row3_col12\" class=\"data row3 col12\" >2.738210</td>\n    </tr>\n    <tr>\n      <th id=\"T_78450_level0_row4\" class=\"row_heading level0 row4\" >25%</th>\n      <td id=\"T_78450_row4_col0\" class=\"data row4 col0\" >5.197180</td>\n      <td id=\"T_78450_row4_col1\" class=\"data row4 col1\" >5.177990</td>\n      <td id=\"T_78450_row4_col2\" class=\"data row4 col2\" >0.521560</td>\n      <td id=\"T_78450_row4_col3\" class=\"data row4 col3\" >46.183730</td>\n      <td id=\"T_78450_row4_col4\" class=\"data row4 col4\" >5.748830</td>\n      <td id=\"T_78450_row4_col5\" class=\"data row4 col5\" >63.818647</td>\n      <td id=\"T_78450_row4_col6\" class=\"data row4 col6\" >44.490180</td>\n      <td id=\"T_78450_row4_col7\" class=\"data row4 col7\" >40.393810</td>\n      <td id=\"T_78450_row4_col8\" class=\"data row4 col8\" >5.802672</td>\n      <td id=\"T_78450_row4_col9\" class=\"data row4 col9\" >5.786020</td>\n      <td id=\"T_78450_row4_col10\" class=\"data row4 col10\" >5.665190</td>\n      <td id=\"T_78450_row4_col11\" class=\"data row4 col11\" >0.000000</td>\n      <td id=\"T_78450_row4_col12\" class=\"data row4 col12\" >5.806840</td>\n    </tr>\n    <tr>\n      <th id=\"T_78450_level0_row5\" class=\"row_heading level0 row5\" >50%</th>\n      <td id=\"T_78450_row5_col0\" class=\"data row5 col0\" >6.227605</td>\n      <td id=\"T_78450_row5_col1\" class=\"data row5 col1\" >6.352150</td>\n      <td id=\"T_78450_row5_col2\" class=\"data row5 col2\" >0.773820</td>\n      <td id=\"T_78450_row5_col3\" class=\"data row5 col3\" >70.018130</td>\n      <td id=\"T_78450_row5_col4\" class=\"data row5 col4\" >7.036180</td>\n      <td id=\"T_78450_row5_col5\" class=\"data row5 col5\" >78.203065</td>\n      <td id=\"T_78450_row5_col6\" class=\"data row5 col6\" >52.376590</td>\n      <td id=\"T_78450_row5_col7\" class=\"data row5 col7\" >48.923340</td>\n      <td id=\"T_78450_row5_col8\" class=\"data row5 col8\" >6.480035</td>\n      <td id=\"T_78450_row5_col9\" class=\"data row5 col9\" >6.476210</td>\n      <td id=\"T_78450_row5_col10\" class=\"data row5 col10\" >7.002890</td>\n      <td id=\"T_78450_row5_col11\" class=\"data row5 col11\" >1.000000</td>\n      <td id=\"T_78450_row5_col12\" class=\"data row5 col12\" >6.478430</td>\n    </tr>\n    <tr>\n      <th id=\"T_78450_level0_row6\" class=\"row_heading level0 row6\" >75%</th>\n      <td id=\"T_78450_row6_col0\" class=\"data row6 col0\" >7.669982</td>\n      <td id=\"T_78450_row6_col1\" class=\"data row6 col1\" >7.693890</td>\n      <td id=\"T_78450_row6_col2\" class=\"data row6 col2\" >1.344220</td>\n      <td id=\"T_78450_row6_col3\" class=\"data row6 col3\" >93.175640</td>\n      <td id=\"T_78450_row6_col4\" class=\"data row6 col4\" >8.052080</td>\n      <td id=\"T_78450_row6_col5\" class=\"data row6 col5\" >84.986902</td>\n      <td id=\"T_78450_row6_col6\" class=\"data row6 col6\" >60.275100</td>\n      <td id=\"T_78450_row6_col7\" class=\"data row6 col7\" >57.766910</td>\n      <td id=\"T_78450_row6_col8\" class=\"data row6 col8\" >7.147997</td>\n      <td id=\"T_78450_row6_col9\" class=\"data row6 col9\" >7.140870</td>\n      <td id=\"T_78450_row6_col10\" class=\"data row6 col10\" >8.078720</td>\n      <td id=\"T_78450_row6_col11\" class=\"data row6 col11\" >1.000000</td>\n      <td id=\"T_78450_row6_col12\" class=\"data row6 col12\" >7.147590</td>\n    </tr>\n    <tr>\n      <th id=\"T_78450_level0_row7\" class=\"row_heading level0 row7\" >max</th>\n      <td id=\"T_78450_row7_col0\" class=\"data row7 col0\" >13.633550</td>\n      <td id=\"T_78450_row7_col1\" class=\"data row7 col1\" >12.694630</td>\n      <td id=\"T_78450_row7_col2\" class=\"data row7 col2\" >100.000000</td>\n      <td id=\"T_78450_row7_col3\" class=\"data row7 col3\" >188.436090</td>\n      <td id=\"T_78450_row7_col4\" class=\"data row7 col4\" >12.733320</td>\n      <td id=\"T_78450_row7_col5\" class=\"data row7 col5\" >100.000000</td>\n      <td id=\"T_78450_row7_col6\" class=\"data row7 col6\" >100.000000</td>\n      <td id=\"T_78450_row7_col7\" class=\"data row7 col7\" >100.000000</td>\n      <td id=\"T_78450_row7_col8\" class=\"data row7 col8\" >11.426920</td>\n      <td id=\"T_78450_row7_col9\" class=\"data row7 col9\" >10.112330</td>\n      <td id=\"T_78450_row7_col10\" class=\"data row7 col10\" >12.595220</td>\n      <td id=\"T_78450_row7_col11\" class=\"data row7 col11\" >1.000000</td>\n      <td id=\"T_78450_row7_col12\" class=\"data row7 col12\" >10.361820</td>\n    </tr>\n    <tr>\n      <th id=\"T_78450_level0_row8\" class=\"row_heading level0 row8\" >median</th>\n      <td id=\"T_78450_row8_col0\" class=\"data row8 col0\" >6.227605</td>\n      <td id=\"T_78450_row8_col1\" class=\"data row8 col1\" >6.352150</td>\n      <td id=\"T_78450_row8_col2\" class=\"data row8 col2\" >0.773820</td>\n      <td id=\"T_78450_row8_col3\" class=\"data row8 col3\" >70.018130</td>\n      <td id=\"T_78450_row8_col4\" class=\"data row8 col4\" >7.036180</td>\n      <td id=\"T_78450_row8_col5\" class=\"data row8 col5\" >78.203065</td>\n      <td id=\"T_78450_row8_col6\" class=\"data row8 col6\" >52.376590</td>\n      <td id=\"T_78450_row8_col7\" class=\"data row8 col7\" >48.923340</td>\n      <td id=\"T_78450_row8_col8\" class=\"data row8 col8\" >6.480035</td>\n      <td id=\"T_78450_row8_col9\" class=\"data row8 col9\" >6.476210</td>\n      <td id=\"T_78450_row8_col10\" class=\"data row8 col10\" >7.002890</td>\n      <td id=\"T_78450_row8_col11\" class=\"data row8 col11\" >1.000000</td>\n      <td id=\"T_78450_row8_col12\" class=\"data row8 col12\" >6.478430</td>\n    </tr>\n    <tr>\n      <th id=\"T_78450_level0_row9\" class=\"row_heading level0 row9\" >variance</th>\n      <td id=\"T_78450_row9_col0\" class=\"data row9 col0\" >2.775527</td>\n      <td id=\"T_78450_row9_col1\" class=\"data row9 col1\" >2.891457</td>\n      <td id=\"T_78450_row9_col2\" class=\"data row9 col2\" >4.329243</td>\n      <td id=\"T_78450_row9_col3\" class=\"data row9 col3\" >1266.010690</td>\n      <td id=\"T_78450_row9_col4\" class=\"data row9 col4\" >2.578547</td>\n      <td id=\"T_78450_row9_col5\" class=\"data row9 col5\" >327.944181</td>\n      <td id=\"T_78450_row9_col6\" class=\"data row9 col6\" >141.148595</td>\n      <td id=\"T_78450_row9_col7\" class=\"data row9 col7\" >171.198357</td>\n      <td id=\"T_78450_row9_col8\" class=\"data row9 col8\" >0.988347</td>\n      <td id=\"T_78450_row9_col9\" class=\"data row9 col9\" >1.012181</td>\n      <td id=\"T_78450_row9_col10\" class=\"data row9 col10\" >3.007899</td>\n      <td id=\"T_78450_row9_col11\" class=\"data row9 col11\" >0.229775</td>\n      <td id=\"T_78450_row9_col12\" class=\"data row9 col12\" >1.009075</td>\n    </tr>\n  </tbody>\n</table>\n"
     },
     "execution_count": 6,
     "metadata": {},
     "output_type": "execute_result"
    }
   ],
   "source": [
    "desc_stat_table = dataset.select_dtypes(include=[np.float64])\n",
    "desc_stat = dataset.describe()\n",
    "desc_stat.loc['median'] = desc_stat_table.median()\n",
    "desc_stat.loc['variance'] = desc_stat_table.var()\n",
    "# modus nie je mozne urobit, su unikátne\n",
    "desc_stat.style\n"
   ]
  },
  {
   "cell_type": "markdown",
   "metadata": {},
   "source": [
    "Pre nami zvolené atribúty sme vykreslili ich distribúcie ako aj opísali ich základné deskriptívne štatistiky."
   ]
  },
  {
   "cell_type": "markdown",
   "metadata": {},
   "source": [
    "#### Hematokrit"
   ]
  },
  {
   "cell_type": "code",
   "execution_count": 7,
   "metadata": {
    "pycharm": {
     "name": "#%%\n"
    }
   },
   "outputs": [
    {
     "data": {
      "text/plain": "count       10008.000000\nmean            6.453032\nstd             1.665991\nmin             0.683890\n25%             5.197180\n50%             6.227605\n75%             7.669982\nmax            13.633550\nmedian          6.227605\nvariance        2.775527\nName: hematokrit, dtype: float64"
     },
     "execution_count": 7,
     "metadata": {},
     "output_type": "execute_result"
    },
    {
     "data": {
      "text/plain": "<Figure size 432x288 with 1 Axes>",
      "image/png": "[encoded data removed]"
     },
     "metadata": {},
     "output_type": "display_data"
    }
   ],
   "source": [
    "sns.histplot(data=dataset[\"hematokrit\"], kde=True)\n",
    "desc_stat[\"hematokrit\"]"
   ]
  },
  {
   "cell_type": "markdown",
   "metadata": {},
   "source": [
    "### Leukocyty"
   ]
  },
  {
   "cell_type": "code",
   "execution_count": 8,
   "metadata": {
    "pycharm": {
     "name": "#%%\n"
    }
   },
   "outputs": [
    {
     "data": {
      "text/plain": "count       10009.000000\nmean            6.450274\nstd             1.700428\nmin             0.979140\n25%             5.177990\n50%             6.352150\n75%             7.693890\nmax            12.694630\nmedian          6.352150\nvariance        2.891457\nName: leukocyty, dtype: float64"
     },
     "execution_count": 8,
     "metadata": {},
     "output_type": "execute_result"
    },
    {
     "data": {
      "text/plain": "<Figure size 432x288 with 1 Axes>",
      "image/png": "[encoded data removed]"
     },
     "metadata": {},
     "output_type": "display_data"
    }
   ],
   "source": [
    "sns.histplot(data=dataset[\"leukocyty\"], kde=True)\n",
    "desc_stat[\"leukocyty\"]"
   ]
  },
  {
   "cell_type": "markdown",
   "metadata": {},
   "source": [
    "### Alt"
   ]
  },
  {
   "cell_type": "code",
   "execution_count": 9,
   "metadata": {
    "pycharm": {
     "name": "#%%\n"
    }
   },
   "outputs": [
    {
     "data": {
      "text/plain": "count       10009.000000\nmean            1.306090\nstd             2.080683\nmin             0.000000\n25%             0.521560\n50%             0.773820\n75%             1.344220\nmax           100.000000\nmedian          0.773820\nvariance        4.329243\nName: alt, dtype: float64"
     },
     "execution_count": 9,
     "metadata": {},
     "output_type": "execute_result"
    },
    {
     "data": {
      "text/plain": "<Figure size 432x288 with 1 Axes>",
      "image/png": "[encoded data removed]"
     },
     "metadata": {},
     "output_type": "display_data"
    }
   ],
   "source": [
    "sns.histplot(data=dataset[\"alt\"], kde=True)\n",
    "desc_stat[\"alt\"]"
   ]
  },
  {
   "cell_type": "markdown",
   "metadata": {},
   "source": [
    "### Alp"
   ]
  },
  {
   "cell_type": "code",
   "execution_count": 10,
   "metadata": {
    "pycharm": {
     "name": "#%%\n"
    }
   },
   "outputs": [
    {
     "data": {
      "text/plain": "count       10008.000000\nmean           71.949719\nstd            18.109229\nmin             0.000000\n25%            63.818647\n50%            78.203065\n75%            84.986902\nmax           100.000000\nmedian         78.203065\nvariance      327.944181\nName: alp, dtype: float64"
     },
     "execution_count": 10,
     "metadata": {},
     "output_type": "execute_result"
    },
    {
     "data": {
      "text/plain": "<Figure size 432x288 with 1 Axes>",
      "image/png": "[encoded data removed]"
     },
     "metadata": {},
     "output_type": "display_data"
    }
   ],
   "source": [
    "sns.histplot(data=dataset[\"alp\"], kde=True)\n",
    "desc_stat[\"alp\"]"
   ]
  },
  {
   "cell_type": "markdown",
   "metadata": {},
   "source": [
    "### Trombocyty"
   ]
  },
  {
   "cell_type": "code",
   "execution_count": 11,
   "metadata": {
    "pycharm": {
     "name": "#%%\n"
    }
   },
   "outputs": [
    {
     "data": {
      "text/plain": "count       10009.000000\nmean            6.828460\nstd             1.734330\nmin             0.000000\n25%             5.665190\n50%             7.002890\n75%             8.078720\nmax            12.595220\nmedian          7.002890\nvariance        3.007899\nName: trombocyty, dtype: float64"
     },
     "execution_count": 11,
     "metadata": {},
     "output_type": "execute_result"
    },
    {
     "data": {
      "text/plain": "<Figure size 432x288 with 1 Axes>",
      "image/png": "[encoded data removed]"
     },
     "metadata": {},
     "output_type": "display_data"
    }
   ],
   "source": [
    "sns.histplot(data=dataset[\"trombocyty\"], kde=True)\n",
    "desc_stat[\"trombocyty\"]"
   ]
  },
  {
   "cell_type": "markdown",
   "metadata": {},
   "source": [
    "##  2. Párová analýza dát\n",
    "\n",
    "V tejto sekcii sme preskúmali koreláciu medzi jednotlivými atribútami pomocou funkcie matshow() z knižnice matplotlib.\n",
    "Ako je možné vidieť, najvyššia pozitívna korelácia je medzi atribútom **'indicator'** a atribútom **'trombocyty'**.\n",
    "Druhá najvyššia pozitívna korelácia je medzi atribútom **'etrocyty'** a atribútom **'alt'**.\n",
    "Najvyššia negatívna korelácia je medzi atribútom **'erytrocyty'** a atribútom **'hematokrit'**."
   ]
  },
  {
   "cell_type": "code",
   "execution_count": 12,
   "metadata": {
    "pycharm": {
     "name": "#%%\n"
    }
   },
   "outputs": [
    {
     "data": {
      "text/plain": "<pandas.io.formats.style.Styler at 0x7f993892c1f0>",
      "text/html": "<style type=\"text/css\">\n#T_282d9_row0_col0, #T_282d9_row1_col1, #T_282d9_row2_col2, #T_282d9_row3_col3, #T_282d9_row4_col4, #T_282d9_row5_col5, #T_282d9_row6_col6, #T_282d9_row7_col7, #T_282d9_row8_col8, #T_282d9_row9_col9, #T_282d9_row10_col10, #T_282d9_row11_col11, #T_282d9_row12_col12 {\n  background-color: #b40426;\n  color: #f1f1f1;\n}\n#T_282d9_row0_col1, #T_282d9_row0_col4, #T_282d9_row1_col3, #T_282d9_row1_col12, #T_282d9_row4_col0, #T_282d9_row4_col10, #T_282d9_row4_col11, #T_282d9_row5_col7, #T_282d9_row5_col9, #T_282d9_row6_col7, #T_282d9_row6_col8, #T_282d9_row7_col6, #T_282d9_row8_col6, #T_282d9_row9_col5, #T_282d9_row10_col2, #T_282d9_row10_col8, #T_282d9_row11_col8 {\n  background-color: #3b4cc0;\n  color: #f1f1f1;\n}\n#T_282d9_row0_col2 {\n  background-color: #4961d2;\n  color: #f1f1f1;\n}\n#T_282d9_row0_col3, #T_282d9_row2_col6, #T_282d9_row2_col12, #T_282d9_row7_col8, #T_282d9_row8_col7, #T_282d9_row10_col7 {\n  background-color: #3d50c3;\n  color: #f1f1f1;\n}\n#T_282d9_row0_col5, #T_282d9_row2_col1, #T_282d9_row6_col2, #T_282d9_row7_col2 {\n  background-color: #7a9df8;\n  color: #f1f1f1;\n}\n#T_282d9_row0_col6, #T_282d9_row1_col7, #T_282d9_row2_col3, #T_282d9_row2_col7, #T_282d9_row11_col6, #T_282d9_row12_col1 {\n  background-color: #3c4ec2;\n  color: #f1f1f1;\n}\n#T_282d9_row0_col7, #T_282d9_row2_col8, #T_282d9_row3_col7, #T_282d9_row3_col8, #T_282d9_row4_col3, #T_282d9_row4_col6, #T_282d9_row4_col7, #T_282d9_row4_col8, #T_282d9_row4_col12, #T_282d9_row7_col3, #T_282d9_row9_col6, #T_282d9_row9_col7, #T_282d9_row12_col3 {\n  background-color: #3f53c6;\n  color: #f1f1f1;\n}\n#T_282d9_row0_col8, #T_282d9_row1_col8, #T_282d9_row5_col6, #T_282d9_row5_col8, #T_282d9_row9_col3, #T_282d9_row9_col8, #T_282d9_row10_col3, #T_282d9_row11_col3, #T_282d9_row11_col7, #T_282d9_row12_col7, #T_282d9_row12_col8 {\n  background-color: #3e51c5;\n  color: #f1f1f1;\n}\n#T_282d9_row0_col9 {\n  background-color: #7093f3;\n  color: #f1f1f1;\n}\n#T_282d9_row0_col10 {\n  background-color: #85a8fc;\n  color: #f1f1f1;\n}\n#T_282d9_row0_col11, #T_282d9_row3_col11, #T_282d9_row12_col11 {\n  background-color: #8badfd;\n  color: #000000;\n}\n#T_282d9_row0_col12, #T_282d9_row6_col12, #T_282d9_row8_col1, #T_282d9_row9_col1, #T_282d9_row11_col1 {\n  background-color: #455cce;\n  color: #f1f1f1;\n}\n#T_282d9_row1_col0, #T_282d9_row10_col0 {\n  background-color: #9dbdff;\n  color: #000000;\n}\n#T_282d9_row1_col2 {\n  background-color: #aac7fd;\n  color: #000000;\n}\n#T_282d9_row1_col4 {\n  background-color: #e7d7ce;\n  color: #000000;\n}\n#T_282d9_row1_col5, #T_282d9_row1_col9, #T_282d9_row2_col5, #T_282d9_row4_col5, #T_282d9_row10_col5, #T_282d9_row12_col2, #T_282d9_row12_col9 {\n  background-color: #7699f6;\n  color: #f1f1f1;\n}\n#T_282d9_row1_col6, #T_282d9_row3_col1, #T_282d9_row5_col3, #T_282d9_row5_col12, #T_282d9_row8_col3, #T_282d9_row10_col6, #T_282d9_row10_col12, #T_282d9_row12_col6 {\n  background-color: #4055c8;\n  color: #f1f1f1;\n}\n#T_282d9_row1_col10 {\n  background-color: #b6cefa;\n  color: #000000;\n}\n#T_282d9_row1_col11, #T_282d9_row7_col11, #T_282d9_row8_col10, #T_282d9_row12_col10 {\n  background-color: #8caffe;\n  color: #000000;\n}\n#T_282d9_row2_col0, #T_282d9_row3_col5, #T_282d9_row6_col9, #T_282d9_row7_col9, #T_282d9_row11_col5, #T_282d9_row11_col9 {\n  background-color: #779af7;\n  color: #f1f1f1;\n}\n#T_282d9_row2_col4 {\n  background-color: #f7ac8e;\n  color: #000000;\n}\n#T_282d9_row2_col9, #T_282d9_row3_col9, #T_282d9_row6_col5, #T_282d9_row8_col5, #T_282d9_row8_col9, #T_282d9_row10_col1, #T_282d9_row10_col9 {\n  background-color: #7597f6;\n  color: #f1f1f1;\n}\n#T_282d9_row2_col10 {\n  background-color: #4f69d9;\n  color: #f1f1f1;\n}\n#T_282d9_row2_col11, #T_282d9_row12_col5 {\n  background-color: #7396f5;\n  color: #f1f1f1;\n}\n#T_282d9_row3_col0, #T_282d9_row6_col0 {\n  background-color: #a3c2fe;\n  color: #000000;\n}\n#T_282d9_row3_col2, #T_282d9_row4_col9 {\n  background-color: #799cf8;\n  color: #f1f1f1;\n}\n#T_282d9_row3_col4, #T_282d9_row5_col4, #T_282d9_row6_col4, #T_282d9_row7_col0, #T_282d9_row7_col4, #T_282d9_row8_col4 {\n  background-color: #a6c4fe;\n  color: #000000;\n}\n#T_282d9_row3_col6, #T_282d9_row3_col12, #T_282d9_row7_col1, #T_282d9_row7_col12, #T_282d9_row8_col12, #T_282d9_row9_col12 {\n  background-color: #4358cb;\n  color: #f1f1f1;\n}\n#T_282d9_row3_col10 {\n  background-color: #8fb1fe;\n  color: #000000;\n}\n#T_282d9_row4_col1 {\n  background-color: #afcafc;\n  color: #000000;\n}\n#T_282d9_row4_col2 {\n  background-color: #f6bda2;\n  color: #000000;\n}\n#T_282d9_row5_col0 {\n  background-color: #a9c6fd;\n  color: #000000;\n}\n#T_282d9_row5_col1, #T_282d9_row6_col1 {\n  background-color: #465ecf;\n  color: #f1f1f1;\n}\n#T_282d9_row5_col2, #T_282d9_row9_col2 {\n  background-color: #7b9ff9;\n  color: #f1f1f1;\n}\n#T_282d9_row5_col10, #T_282d9_row6_col10 {\n  background-color: #90b2fe;\n  color: #000000;\n}\n#T_282d9_row5_col11, #T_282d9_row7_col10, #T_282d9_row9_col10, #T_282d9_row9_col11 {\n  background-color: #8db0fe;\n  color: #000000;\n}\n#T_282d9_row6_col3 {\n  background-color: #445acc;\n  color: #f1f1f1;\n}\n#T_282d9_row6_col11 {\n  background-color: #89acfd;\n  color: #000000;\n}\n#T_282d9_row7_col5 {\n  background-color: #7295f4;\n  color: #f1f1f1;\n}\n#T_282d9_row8_col0, #T_282d9_row11_col0 {\n  background-color: #a5c3fe;\n  color: #000000;\n}\n#T_282d9_row8_col2 {\n  background-color: #7da0f9;\n  color: #f1f1f1;\n}\n#T_282d9_row8_col11 {\n  background-color: #88abfd;\n  color: #000000;\n}\n#T_282d9_row9_col0 {\n  background-color: #a1c0ff;\n  color: #000000;\n}\n#T_282d9_row9_col4, #T_282d9_row12_col0 {\n  background-color: #a7c5fe;\n  color: #000000;\n}\n#T_282d9_row10_col4 {\n  background-color: #5470de;\n  color: #f1f1f1;\n}\n#T_282d9_row10_col11 {\n  background-color: #f6a586;\n  color: #000000;\n}\n#T_282d9_row11_col2 {\n  background-color: #6282ea;\n  color: #f1f1f1;\n}\n#T_282d9_row11_col4 {\n  background-color: #5875e1;\n  color: #f1f1f1;\n}\n#T_282d9_row11_col10 {\n  background-color: #f6a385;\n  color: #000000;\n}\n#T_282d9_row11_col12 {\n  background-color: #4257c9;\n  color: #f1f1f1;\n}\n#T_282d9_row12_col4 {\n  background-color: #a2c1ff;\n  color: #000000;\n}\n</style>\n<table id=\"T_282d9_\">\n  <thead>\n    <tr>\n      <th class=\"blank level0\" >&nbsp;</th>\n      <th class=\"col_heading level0 col0\" >hematokrit</th>\n      <th class=\"col_heading level0 col1\" >leukocyty</th>\n      <th class=\"col_heading level0 col2\" >alt</th>\n      <th class=\"col_heading level0 col3\" >weight</th>\n      <th class=\"col_heading level0 col4\" >erytrocyty</th>\n      <th class=\"col_heading level0 col5\" >alp</th>\n      <th class=\"col_heading level0 col6\" >ast</th>\n      <th class=\"col_heading level0 col7\" >er-cv</th>\n      <th class=\"col_heading level0 col8\" >etytr</th>\n      <th class=\"col_heading level0 col9\" >hemoglobin</th>\n      <th class=\"col_heading level0 col10\" >trombocyty</th>\n      <th class=\"col_heading level0 col11\" >indicator</th>\n      <th class=\"col_heading level0 col12\" >hbver</th>\n    </tr>\n  </thead>\n  <tbody>\n    <tr>\n      <th id=\"T_282d9_level0_row0\" class=\"row_heading level0 row0\" >hematokrit</th>\n      <td id=\"T_282d9_row0_col0\" class=\"data row0 col0\" >1.000000</td>\n      <td id=\"T_282d9_row0_col1\" class=\"data row0 col1\" >-0.035522</td>\n      <td id=\"T_282d9_row0_col2\" class=\"data row0 col2\" >-0.189589</td>\n      <td id=\"T_282d9_row0_col3\" class=\"data row0 col3\" >-0.001973</td>\n      <td id=\"T_282d9_row0_col4\" class=\"data row0 col4\" >-0.465486</td>\n      <td id=\"T_282d9_row0_col5\" class=\"data row0 col5\" >0.016232</td>\n      <td id=\"T_282d9_row0_col6\" class=\"data row0 col6\" >-0.005173</td>\n      <td id=\"T_282d9_row0_col7\" class=\"data row0 col7\" >0.005333</td>\n      <td id=\"T_282d9_row0_col8\" class=\"data row0 col8\" >0.002552</td>\n      <td id=\"T_282d9_row0_col9\" class=\"data row0 col9\" >-0.015807</td>\n      <td id=\"T_282d9_row0_col10\" class=\"data row0 col10\" >-0.035439</td>\n      <td id=\"T_282d9_row0_col11\" class=\"data row0 col11\" >-0.000303</td>\n      <td id=\"T_282d9_row0_col12\" class=\"data row0 col12\" >0.010663</td>\n    </tr>\n    <tr>\n      <th id=\"T_282d9_level0_row1\" class=\"row_heading level0 row1\" >leukocyty</th>\n      <td id=\"T_282d9_row1_col0\" class=\"data row1 col0\" >-0.035522</td>\n      <td id=\"T_282d9_row1_col1\" class=\"data row1 col1\" >1.000000</td>\n      <td id=\"T_282d9_row1_col2\" class=\"data row1 col2\" >0.168388</td>\n      <td id=\"T_282d9_row1_col3\" class=\"data row1 col3\" >-0.013297</td>\n      <td id=\"T_282d9_row1_col4\" class=\"data row1 col4\" >0.325243</td>\n      <td id=\"T_282d9_row1_col5\" class=\"data row1 col5\" >0.006254</td>\n      <td id=\"T_282d9_row1_col6\" class=\"data row1 col6\" >0.008797</td>\n      <td id=\"T_282d9_row1_col7\" class=\"data row1 col7\" >-0.003789</td>\n      <td id=\"T_282d9_row1_col8\" class=\"data row1 col8\" >0.001818</td>\n      <td id=\"T_282d9_row1_col9\" class=\"data row1 col9\" >0.002873</td>\n      <td id=\"T_282d9_row1_col10\" class=\"data row1 col10\" >0.152565</td>\n      <td id=\"T_282d9_row1_col11\" class=\"data row1 col11\" >0.003806</td>\n      <td id=\"T_282d9_row1_col12\" class=\"data row1 col12\" >-0.027663</td>\n    </tr>\n    <tr>\n      <th id=\"T_282d9_level0_row2\" class=\"row_heading level0 row2\" >alt</th>\n      <td id=\"T_282d9_row2_col0\" class=\"data row2 col0\" >-0.189589</td>\n      <td id=\"T_282d9_row2_col1\" class=\"data row2 col1\" >0.168388</td>\n      <td id=\"T_282d9_row2_col2\" class=\"data row2 col2\" >1.000000</td>\n      <td id=\"T_282d9_row2_col3\" class=\"data row2 col3\" >-0.008129</td>\n      <td id=\"T_282d9_row2_col4\" class=\"data row2 col4\" >0.562912</td>\n      <td id=\"T_282d9_row2_col5\" class=\"data row2 col5\" >0.003450</td>\n      <td id=\"T_282d9_row2_col6\" class=\"data row2 col6\" >-0.000498</td>\n      <td id=\"T_282d9_row2_col7\" class=\"data row2 col7\" >-0.004342</td>\n      <td id=\"T_282d9_row2_col8\" class=\"data row2 col8\" >0.004709</td>\n      <td id=\"T_282d9_row2_col9\" class=\"data row2 col9\" >0.000778</td>\n      <td id=\"T_282d9_row2_col10\" class=\"data row2 col10\" >-0.249282</td>\n      <td id=\"T_282d9_row2_col11\" class=\"data row2 col11\" >-0.088956</td>\n      <td id=\"T_282d9_row2_col12\" class=\"data row2 col12\" >-0.016101</td>\n    </tr>\n    <tr>\n      <th id=\"T_282d9_level0_row3\" class=\"row_heading level0 row3\" >weight</th>\n      <td id=\"T_282d9_row3_col0\" class=\"data row3 col0\" >-0.001973</td>\n      <td id=\"T_282d9_row3_col1\" class=\"data row3 col1\" >-0.013297</td>\n      <td id=\"T_282d9_row3_col2\" class=\"data row3 col2\" >-0.008129</td>\n      <td id=\"T_282d9_row3_col3\" class=\"data row3 col3\" >1.000000</td>\n      <td id=\"T_282d9_row3_col4\" class=\"data row3 col4\" >0.005316</td>\n      <td id=\"T_282d9_row3_col5\" class=\"data row3 col5\" >0.008733</td>\n      <td id=\"T_282d9_row3_col6\" class=\"data row3 col6\" >0.018511</td>\n      <td id=\"T_282d9_row3_col7\" class=\"data row3 col7\" >0.005936</td>\n      <td id=\"T_282d9_row3_col8\" class=\"data row3 col8\" >0.006945</td>\n      <td id=\"T_282d9_row3_col9\" class=\"data row3 col9\" >-0.000762</td>\n      <td id=\"T_282d9_row3_col10\" class=\"data row3 col10\" >0.001160</td>\n      <td id=\"T_282d9_row3_col11\" class=\"data row3 col11\" >-0.000745</td>\n      <td id=\"T_282d9_row3_col12\" class=\"data row3 col12\" >0.002998</td>\n    </tr>\n    <tr>\n      <th id=\"T_282d9_level0_row4\" class=\"row_heading level0 row4\" >erytrocyty</th>\n      <td id=\"T_282d9_row4_col0\" class=\"data row4 col0\" >-0.465486</td>\n      <td id=\"T_282d9_row4_col1\" class=\"data row4 col1\" >0.325243</td>\n      <td id=\"T_282d9_row4_col2\" class=\"data row4 col2\" >0.562912</td>\n      <td id=\"T_282d9_row4_col3\" class=\"data row4 col3\" >0.005316</td>\n      <td id=\"T_282d9_row4_col4\" class=\"data row4 col4\" >1.000000</td>\n      <td id=\"T_282d9_row4_col5\" class=\"data row4 col5\" >0.004859</td>\n      <td id=\"T_282d9_row4_col6\" class=\"data row4 col6\" >0.004136</td>\n      <td id=\"T_282d9_row4_col7\" class=\"data row4 col7\" >0.007379</td>\n      <td id=\"T_282d9_row4_col8\" class=\"data row4 col8\" >0.005965</td>\n      <td id=\"T_282d9_row4_col9\" class=\"data row4 col9\" >0.014648</td>\n      <td id=\"T_282d9_row4_col10\" class=\"data row4 col10\" >-0.339868</td>\n      <td id=\"T_282d9_row4_col11\" class=\"data row4 col11\" >-0.324942</td>\n      <td id=\"T_282d9_row4_col12\" class=\"data row4 col12\" >-0.009878</td>\n    </tr>\n    <tr>\n      <th id=\"T_282d9_level0_row5\" class=\"row_heading level0 row5\" >alp</th>\n      <td id=\"T_282d9_row5_col0\" class=\"data row5 col0\" >0.016232</td>\n      <td id=\"T_282d9_row5_col1\" class=\"data row5 col1\" >0.006254</td>\n      <td id=\"T_282d9_row5_col2\" class=\"data row5 col2\" >0.003450</td>\n      <td id=\"T_282d9_row5_col3\" class=\"data row5 col3\" >0.008733</td>\n      <td id=\"T_282d9_row5_col4\" class=\"data row5 col4\" >0.004859</td>\n      <td id=\"T_282d9_row5_col5\" class=\"data row5 col5\" >1.000000</td>\n      <td id=\"T_282d9_row5_col6\" class=\"data row5 col6\" >0.000184</td>\n      <td id=\"T_282d9_row5_col7\" class=\"data row5 col7\" >-0.010546</td>\n      <td id=\"T_282d9_row5_col8\" class=\"data row5 col8\" >0.000059</td>\n      <td id=\"T_282d9_row5_col9\" class=\"data row5 col9\" >-0.222828</td>\n      <td id=\"T_282d9_row5_col10\" class=\"data row5 col10\" >0.006122</td>\n      <td id=\"T_282d9_row5_col11\" class=\"data row5 col11\" >0.009448</td>\n      <td id=\"T_282d9_row5_col12\" class=\"data row5 col12\" >-0.004786</td>\n    </tr>\n    <tr>\n      <th id=\"T_282d9_level0_row6\" class=\"row_heading level0 row6\" >ast</th>\n      <td id=\"T_282d9_row6_col0\" class=\"data row6 col0\" >-0.005173</td>\n      <td id=\"T_282d9_row6_col1\" class=\"data row6 col1\" >0.008797</td>\n      <td id=\"T_282d9_row6_col2\" class=\"data row6 col2\" >-0.000498</td>\n      <td id=\"T_282d9_row6_col3\" class=\"data row6 col3\" >0.018511</td>\n      <td id=\"T_282d9_row6_col4\" class=\"data row6 col4\" >0.004136</td>\n      <td id=\"T_282d9_row6_col5\" class=\"data row6 col5\" >0.000184</td>\n      <td id=\"T_282d9_row6_col6\" class=\"data row6 col6\" >1.000000</td>\n      <td id=\"T_282d9_row6_col7\" class=\"data row6 col7\" >-0.010656</td>\n      <td id=\"T_282d9_row6_col8\" class=\"data row6 col8\" >-0.011953</td>\n      <td id=\"T_282d9_row6_col9\" class=\"data row6 col9\" >0.007756</td>\n      <td id=\"T_282d9_row6_col10\" class=\"data row6 col10\" >0.009759</td>\n      <td id=\"T_282d9_row6_col11\" class=\"data row6 col11\" >-0.005213</td>\n      <td id=\"T_282d9_row6_col12\" class=\"data row6 col12\" >0.011179</td>\n    </tr>\n    <tr>\n      <th id=\"T_282d9_level0_row7\" class=\"row_heading level0 row7\" >er-cv</th>\n      <td id=\"T_282d9_row7_col0\" class=\"data row7 col0\" >0.005333</td>\n      <td id=\"T_282d9_row7_col1\" class=\"data row7 col1\" >-0.003789</td>\n      <td id=\"T_282d9_row7_col2\" class=\"data row7 col2\" >-0.004342</td>\n      <td id=\"T_282d9_row7_col3\" class=\"data row7 col3\" >0.005936</td>\n      <td id=\"T_282d9_row7_col4\" class=\"data row7 col4\" >0.007379</td>\n      <td id=\"T_282d9_row7_col5\" class=\"data row7 col5\" >-0.010546</td>\n      <td id=\"T_282d9_row7_col6\" class=\"data row7 col6\" >-0.010656</td>\n      <td id=\"T_282d9_row7_col7\" class=\"data row7 col7\" >1.000000</td>\n      <td id=\"T_282d9_row7_col8\" class=\"data row7 col8\" >-0.002173</td>\n      <td id=\"T_282d9_row7_col9\" class=\"data row7 col9\" >0.007510</td>\n      <td id=\"T_282d9_row7_col10\" class=\"data row7 col10\" >-0.002161</td>\n      <td id=\"T_282d9_row7_col11\" class=\"data row7 col11\" >0.002313</td>\n      <td id=\"T_282d9_row7_col12\" class=\"data row7 col12\" >0.001687</td>\n    </tr>\n    <tr>\n      <th id=\"T_282d9_level0_row8\" class=\"row_heading level0 row8\" >etytr</th>\n      <td id=\"T_282d9_row8_col0\" class=\"data row8 col0\" >0.002552</td>\n      <td id=\"T_282d9_row8_col1\" class=\"data row8 col1\" >0.001818</td>\n      <td id=\"T_282d9_row8_col2\" class=\"data row8 col2\" >0.004709</td>\n      <td id=\"T_282d9_row8_col3\" class=\"data row8 col3\" >0.006945</td>\n      <td id=\"T_282d9_row8_col4\" class=\"data row8 col4\" >0.005965</td>\n      <td id=\"T_282d9_row8_col5\" class=\"data row8 col5\" >0.000059</td>\n      <td id=\"T_282d9_row8_col6\" class=\"data row8 col6\" >-0.011953</td>\n      <td id=\"T_282d9_row8_col7\" class=\"data row8 col7\" >-0.002173</td>\n      <td id=\"T_282d9_row8_col8\" class=\"data row8 col8\" >1.000000</td>\n      <td id=\"T_282d9_row8_col9\" class=\"data row8 col9\" >0.000625</td>\n      <td id=\"T_282d9_row8_col10\" class=\"data row8 col10\" >-0.008126</td>\n      <td id=\"T_282d9_row8_col11\" class=\"data row8 col11\" >-0.012031</td>\n      <td id=\"T_282d9_row8_col12\" class=\"data row8 col12\" >0.000659</td>\n    </tr>\n    <tr>\n      <th id=\"T_282d9_level0_row9\" class=\"row_heading level0 row9\" >hemoglobin</th>\n      <td id=\"T_282d9_row9_col0\" class=\"data row9 col0\" >-0.015807</td>\n      <td id=\"T_282d9_row9_col1\" class=\"data row9 col1\" >0.002873</td>\n      <td id=\"T_282d9_row9_col2\" class=\"data row9 col2\" >0.000778</td>\n      <td id=\"T_282d9_row9_col3\" class=\"data row9 col3\" >-0.000762</td>\n      <td id=\"T_282d9_row9_col4\" class=\"data row9 col4\" >0.014648</td>\n      <td id=\"T_282d9_row9_col5\" class=\"data row9 col5\" >-0.222828</td>\n      <td id=\"T_282d9_row9_col6\" class=\"data row9 col6\" >0.007756</td>\n      <td id=\"T_282d9_row9_col7\" class=\"data row9 col7\" >0.007510</td>\n      <td id=\"T_282d9_row9_col8\" class=\"data row9 col8\" >0.000625</td>\n      <td id=\"T_282d9_row9_col9\" class=\"data row9 col9\" >1.000000</td>\n      <td id=\"T_282d9_row9_col10\" class=\"data row9 col10\" >-0.000889</td>\n      <td id=\"T_282d9_row9_col11\" class=\"data row9 col11\" >0.007017</td>\n      <td id=\"T_282d9_row9_col12\" class=\"data row9 col12\" >0.003178</td>\n    </tr>\n    <tr>\n      <th id=\"T_282d9_level0_row10\" class=\"row_heading level0 row10\" >trombocyty</th>\n      <td id=\"T_282d9_row10_col0\" class=\"data row10 col0\" >-0.035439</td>\n      <td id=\"T_282d9_row10_col1\" class=\"data row10 col1\" >0.152565</td>\n      <td id=\"T_282d9_row10_col2\" class=\"data row10 col2\" >-0.249282</td>\n      <td id=\"T_282d9_row10_col3\" class=\"data row10 col3\" >0.001160</td>\n      <td id=\"T_282d9_row10_col4\" class=\"data row10 col4\" >-0.339868</td>\n      <td id=\"T_282d9_row10_col5\" class=\"data row10 col5\" >0.006122</td>\n      <td id=\"T_282d9_row10_col6\" class=\"data row10 col6\" >0.009759</td>\n      <td id=\"T_282d9_row10_col7\" class=\"data row10 col7\" >-0.002161</td>\n      <td id=\"T_282d9_row10_col8\" class=\"data row10 col8\" >-0.008126</td>\n      <td id=\"T_282d9_row10_col9\" class=\"data row10 col9\" >-0.000889</td>\n      <td id=\"T_282d9_row10_col10\" class=\"data row10 col10\" >1.000000</td>\n      <td id=\"T_282d9_row10_col11\" class=\"data row10 col11\" >0.632387</td>\n      <td id=\"T_282d9_row10_col12\" class=\"data row10 col12\" >-0.007117</td>\n    </tr>\n    <tr>\n      <th id=\"T_282d9_level0_row11\" class=\"row_heading level0 row11\" >indicator</th>\n      <td id=\"T_282d9_row11_col0\" class=\"data row11 col0\" >-0.000303</td>\n      <td id=\"T_282d9_row11_col1\" class=\"data row11 col1\" >0.003806</td>\n      <td id=\"T_282d9_row11_col2\" class=\"data row11 col2\" >-0.088956</td>\n      <td id=\"T_282d9_row11_col3\" class=\"data row11 col3\" >-0.000745</td>\n      <td id=\"T_282d9_row11_col4\" class=\"data row11 col4\" >-0.324942</td>\n      <td id=\"T_282d9_row11_col5\" class=\"data row11 col5\" >0.009448</td>\n      <td id=\"T_282d9_row11_col6\" class=\"data row11 col6\" >-0.005213</td>\n      <td id=\"T_282d9_row11_col7\" class=\"data row11 col7\" >0.002313</td>\n      <td id=\"T_282d9_row11_col8\" class=\"data row11 col8\" >-0.012031</td>\n      <td id=\"T_282d9_row11_col9\" class=\"data row11 col9\" >0.007017</td>\n      <td id=\"T_282d9_row11_col10\" class=\"data row11 col10\" >0.632387</td>\n      <td id=\"T_282d9_row11_col11\" class=\"data row11 col11\" >1.000000</td>\n      <td id=\"T_282d9_row11_col12\" class=\"data row11 col12\" >-0.002260</td>\n    </tr>\n    <tr>\n      <th id=\"T_282d9_level0_row12\" class=\"row_heading level0 row12\" >hbver</th>\n      <td id=\"T_282d9_row12_col0\" class=\"data row12 col0\" >0.010663</td>\n      <td id=\"T_282d9_row12_col1\" class=\"data row12 col1\" >-0.027663</td>\n      <td id=\"T_282d9_row12_col2\" class=\"data row12 col2\" >-0.016101</td>\n      <td id=\"T_282d9_row12_col3\" class=\"data row12 col3\" >0.002998</td>\n      <td id=\"T_282d9_row12_col4\" class=\"data row12 col4\" >-0.009878</td>\n      <td id=\"T_282d9_row12_col5\" class=\"data row12 col5\" >-0.004786</td>\n      <td id=\"T_282d9_row12_col6\" class=\"data row12 col6\" >0.011179</td>\n      <td id=\"T_282d9_row12_col7\" class=\"data row12 col7\" >0.001687</td>\n      <td id=\"T_282d9_row12_col8\" class=\"data row12 col8\" >0.000659</td>\n      <td id=\"T_282d9_row12_col9\" class=\"data row12 col9\" >0.003178</td>\n      <td id=\"T_282d9_row12_col10\" class=\"data row12 col10\" >-0.007117</td>\n      <td id=\"T_282d9_row12_col11\" class=\"data row12 col11\" >-0.002260</td>\n      <td id=\"T_282d9_row12_col12\" class=\"data row12 col12\" >1.000000</td>\n    </tr>\n  </tbody>\n</table>\n"
     },
     "execution_count": 12,
     "metadata": {},
     "output_type": "execute_result"
    },
    {
     "data": {
      "text/plain": "<Figure size 288x288 with 1 Axes>",
      "image/png": "[encoded data removed]"
     },
     "metadata": {},
     "output_type": "display_data"
    }
   ],
   "source": [
    "correllation = dataset.corr()\n",
    "mt.pyplot.matshow(correllation)\n",
    "correllation.style.background_gradient(cmap='coolwarm')"
   ]
  },
  {
   "cell_type": "markdown",
   "metadata": {},
   "source": [
    "### Závislosti medzi dvojicami atribútov:"
   ]
  },
  {
   "cell_type": "markdown",
   "metadata": {},
   "source": [
    "#### Alt a Erytrocyty"
   ]
  },
  {
   "cell_type": "markdown",
   "metadata": {},
   "source": [
    "Z korelácie vieme vyčítať, že atribút **'alt'** a atribút **'erytrocyty'** majú súvislosť **0.56**, čo znamená,\n",
    "že môžeme skúsiť vytvoriť graf, aby sme sa dozvedeli viac."
   ]
  },
  {
   "cell_type": "code",
   "execution_count": 13,
   "metadata": {
    "pycharm": {
     "name": "#%%\n"
    }
   },
   "outputs": [
    {
     "data": {
      "text/plain": "<AxesSubplot:xlabel='alt', ylabel='erytrocyty'>"
     },
     "execution_count": 13,
     "metadata": {},
     "output_type": "execute_result"
    },
    {
     "data": {
      "text/plain": "<Figure size 432x288 with 1 Axes>",
      "image/png": "[encoded data removed]"
     },
     "metadata": {},
     "output_type": "display_data"
    }
   ],
   "source": [
    "sns.scatterplot(data=dataset, x='alt', y='erytrocyty', )\n",
    "# .set(xscale=\"log\", yscale=\"log\")"
   ]
  },
  {
   "cell_type": "markdown",
   "metadata": {},
   "source": [
    "Z grafu sme sa dozvedeli, že čím väčšia je hodnota **'alt'**, tým väčšia je hodnota **'erytrocyty'**.\n",
    "Závislosť atribútu **'erytrocyty'** od atribútu **'alt'** má **logaritmickú** krivku.\n"
   ]
  },
  {
   "cell_type": "markdown",
   "metadata": {},
   "source": [
    "#### Leukocyty a Erytrocyty"
   ]
  },
  {
   "cell_type": "markdown",
   "metadata": {},
   "source": [
    "Podľa tabuľky korelácii vieme, že aj atribút **'erytrocyty'** a atribút **'leukocyty'** majú nejakú súvislosť. Tieto dva atribúty majú koreláciu **0.33**."
   ]
  },
  {
   "cell_type": "code",
   "execution_count": null,
   "metadata": {
    "pycharm": {
     "is_executing": true,
     "name": "#%%\n"
    }
   },
   "outputs": [],
   "source": [
    "sns.scatterplot(data=dataset, x='erytrocyty', y='leukocyty',s=6)\n",
    "sns.histplot(data=dataset, x='erytrocyty', y='leukocyty')\n",
    "sns.kdeplot(data=dataset, x='erytrocyty', y='leukocyty')\n",
    "#sns.jointplot(data=dataset, x='erytrocyty', y='leukocyty')\n",
    "\n"
   ]
  },
  {
   "cell_type": "markdown",
   "metadata": {},
   "source": [
    "Z grafu vieme vyčítať, že najväčší počet erytrocytov a leukocytov sa nachádza medzi hodnotou 6 a 8."
   ]
  },
  {
   "cell_type": "markdown",
   "metadata": {},
   "source": [
    "#### Erytrocyty a Hematokrit"
   ]
  },
  {
   "cell_type": "markdown",
   "metadata": {},
   "source": [
    "Atribút **'erytrocyty'** a atribút **'hematokrit'** majú **negatívnú** koreláciu. Ich korelácia je **-0.47**."
   ]
  },
  {
   "cell_type": "code",
   "execution_count": null,
   "metadata": {
    "pycharm": {
     "is_executing": true,
     "name": "#%%\n"
    }
   },
   "outputs": [],
   "source": [
    "sns.scatterplot(data=dataset, x='erytrocyty', y='hematokrit',s=6)\n",
    "sns.histplot(data=dataset, x='erytrocyty', y='hematokrit')\n",
    "sns.kdeplot(data=dataset, x='erytrocyty', y='hematokrit')"
   ]
  },
  {
   "cell_type": "markdown",
   "metadata": {},
   "source": [
    "Tuná vidíme, že erytrocyty sú najčastejšie medzi hodnotami 6 a 8, pokiaľ je hematokrit medzi hodnotou 4 a 6."
   ]
  },
  {
   "cell_type": "markdown",
   "metadata": {},
   "source": [
    "#### Trombocyty a Alt"
   ]
  },
  {
   "cell_type": "markdown",
   "metadata": {},
   "source": [
    "Korelácia medzi atribútom **'trombocyty'** a atribútom **'alt'** je **-0.25**."
   ]
  },
  {
   "cell_type": "code",
   "execution_count": null,
   "metadata": {
    "pycharm": {
     "is_executing": true,
     "name": "#%%\n"
    }
   },
   "outputs": [],
   "source": [
    "sns.scatterplot(data=dataset, x='trombocyty', y='alt')"
   ]
  },
  {
   "cell_type": "markdown",
   "metadata": {},
   "source": [
    "Z grafu môžeme vidieť, že ak je alt medzi hodnotou 20 a 40, tak sa trombocyty nachádzajú medzi hodnotami 4 a 6."
   ]
  },
  {
   "cell_type": "markdown",
   "metadata": {},
   "source": [
    "#### Trombocyty a Erytrocyty"
   ]
  },
  {
   "cell_type": "markdown",
   "metadata": {},
   "source": [
    "Medzi atribútom **'trombocyty'** a atribútom **'erytrocyty'** je taktiež negatívna korelácia **-0.34**."
   ]
  },
  {
   "cell_type": "code",
   "execution_count": null,
   "metadata": {
    "pycharm": {
     "is_executing": true,
     "name": "#%%\n"
    }
   },
   "outputs": [],
   "source": [
    "sns.scatterplot(data=dataset, x='trombocyty', y='erytrocyty',s=6)\n",
    "sns.histplot(data=dataset, x='trombocyty', y='erytrocyty')\n",
    "sns.kdeplot(data=dataset, x='trombocyty', y='erytrocyty')"
   ]
  },
  {
   "cell_type": "markdown",
   "metadata": {},
   "source": [
    "Vidíme, že počet trombocytov a erytrocytov sa najčastejšie nachádza medzi hodontami 6 a 8."
   ]
  },
  {
   "cell_type": "markdown",
   "metadata": {},
   "source": [
    "### Závislosti medzi predikovanou premennou a ostatnými premennými"
   ]
  },
  {
   "cell_type": "markdown",
   "metadata": {},
   "source": [
    "#### Indicator a Trombocyty"
   ]
  },
  {
   "cell_type": "markdown",
   "metadata": {},
   "source": [
    "Korelácia medzi atribútom **'indicator'** a atribútom **'trombocyty'** je **najvyššia pozitívna** z uvedených dvojíc. Táto korelácia dosahuje hodnotu **0.63**."
   ]
  },
  {
   "cell_type": "code",
   "execution_count": null,
   "metadata": {
    "pycharm": {
     "is_executing": true,
     "name": "#%%\n"
    }
   },
   "outputs": [],
   "source": [
    "sns.violinplot(data=dataset, x='indicator', y='trombocyty')\n",
    "#dataset.head()\n"
   ]
  },
  {
   "cell_type": "markdown",
   "metadata": {},
   "source": [
    "Pomocou grafu typu violinplot môžeme vidieť, že čím vyššie sú trombocyty, tým vyšší je indicator.\n",
    "Z tejto korelácie nám môže vyplývať, že vyššie trombocyty znamenajú horší stav pacienta s leukémiou."
   ]
  },
  {
   "cell_type": "markdown",
   "metadata": {},
   "source": [
    "#### Indicator a Erytrocyty"
   ]
  },
  {
   "cell_type": "markdown",
   "metadata": {},
   "source": [
    "Korelácia medzi atribútmu **'indicator'** a **'erytrocyty'** je **najvyššia negatívna** korelácia medzi predikovanou premennou a inou premennou.\n",
    "Táto korelácia dosahuje hodnotu **-0.32**."
   ]
  },
  {
   "cell_type": "code",
   "execution_count": null,
   "metadata": {
    "pycharm": {
     "is_executing": true,
     "name": "#%%\n"
    }
   },
   "outputs": [],
   "source": [
    "sns.violinplot(data=dataset, x='indicator', y='erytrocyty')"
   ]
  },
  {
   "cell_type": "markdown",
   "metadata": {},
   "source": [
    "Podľa grafu violinplot vidíme, že pacienti s horším stavom majú menšie množstvo erytrocytov ako pacienti v lepšom stave."
   ]
  },
  {
   "cell_type": "markdown",
   "metadata": {},
   "source": [
    "## 3. Formulácia a štatistické overenie hypotéz o dátach\n",
    "\n",
    "Hypotéza 1:\n",
    "\n",
    "H0 - Pacientov stav nesúvisi s fajčením\n",
    "\n",
    "H1 - Pacienti, ktorí fajčia majú horší stav leukémie\n",
    "\n",
    "Hypotéza 2:\n",
    "\n",
    "H0 - Počet trombocytov u pacienta nesúvisi s jeho stavom\n",
    "\n",
    "H1 - Pacienti, ktorí majú vyšší počet trombocytov majú horší stav leukémie"
   ]
  },
  {
   "cell_type": "markdown",
   "metadata": {},
   "source": [
    "### Hypotéza 1:\n",
    "\n",
    "V stĺpci \"smoker\" musíme zmeniť hodnoty tak, aby boli jednotné. Pre toto sme si spravili slovník replacement_dict.\n",
    "Hodnoty \"Y\" a \"yes\" vymeníme za hodnotu 1, zatiaľčo hodnoty \"N\" a \"no\" vymeníme za hodnotu 0."
   ]
  },
  {
   "cell_type": "code",
   "execution_count": null,
   "metadata": {
    "pycharm": {
     "is_executing": true,
     "name": "#%%\n"
    }
   },
   "outputs": [],
   "source": [
    "smoker_series = dataset['smoker']\n",
    "replacement_dict = {\n",
    "    \"Y\": 1,\n",
    "    \"yes\": 1,\n",
    "    \"N\": 0,\n",
    "    \"no\": 0\n",
    "}\n",
    "dataset[\"smoker\"].replace(replacement_dict, inplace=True)\n",
    "smokers = dataset.loc[(dataset[\"smoker\"] == 1), \"indicator\"]\n",
    "non_smokers = dataset.loc[(dataset[\"smoker\"] == 0), \"indicator\"]\n"
   ]
  },
  {
   "cell_type": "markdown",
   "metadata": {},
   "source": [
    "Kolačový graf pre podiel fajčiarov a nefajčiarov:"
   ]
  },
  {
   "cell_type": "code",
   "execution_count": null,
   "metadata": {
    "pycharm": {
     "is_executing": true,
     "name": "#%%\n"
    }
   },
   "outputs": [],
   "source": [
    "plt.pie([len(smokers), len(non_smokers)], labels = [\"smokers\",\"non smokers\"], colors = ['c','b'], startangle = 90, shadow = True, explode = (0.1, 0.1), autopct='%1.0f%%')"
   ]
  },
  {
   "cell_type": "code",
   "execution_count": null,
   "metadata": {
    "pycharm": {
     "is_executing": true,
     "name": "#%%\n"
    }
   },
   "outputs": [],
   "source": [
    "print(\"Počet fajčiarov:\",smokers.count())\n",
    "print(\"Počet nefajčiarov:\",non_smokers.count())"
   ]
  },
  {
   "cell_type": "markdown",
   "metadata": {},
   "source": [
    "Vidíme, že počet nefajčiarov je väčší ako počet fajčiarov. Aby sme mali čo najpresnejšiu štatistiku, potrebujeme zobrať (približne) rovnakú vzorku pre obe distribúcie. Preto z datasetu nefajčiari zoberieme len takú veľku vzorku ako je počet fajčiarov. Toto zabezpečíme pomocou funkcie sample() z knižnice pandas. Funkcia sample nám vyberie náhodnú vzorku z datasetu o špecifikovanej veľkosti. Táto vzorka je náhodná a tým pádom bude p hodnota pri rôznych testoch stále trochu iná. To nám ale v konečnom prípade nijak nebude vadiť, pretože výsledok testu bude stále rovnaký."
   ]
  },
  {
   "cell_type": "code",
   "execution_count": null,
   "metadata": {
    "pycharm": {
     "is_executing": true,
     "name": "#%%\n"
    }
   },
   "outputs": [],
   "source": [
    "non_smokers = non_smokers.sample(smokers.count())\n",
    "non_smokers.count()"
   ]
  },
  {
   "cell_type": "markdown",
   "metadata": {},
   "source": [
    "Teraz máme rovnaký počet subjektov v oboch vzorkách."
   ]
  },
  {
   "cell_type": "markdown",
   "metadata": {},
   "source": [
    "#### Zistenie normálovej distribúcie:"
   ]
  },
  {
   "cell_type": "code",
   "execution_count": null,
   "metadata": {
    "pycharm": {
     "is_executing": true,
     "name": "#%%\n"
    }
   },
   "outputs": [],
   "source": [
    "shapiro_test = sc.stats.shapiro(smokers)\n",
    "\n",
    "if sc.stats.shapiro(smokers).pvalue > 0.05 and sc.stats.shapiro(non_smokers).pvalue > 0.05:\n",
    "    print(\"Je to normálova distribúcia\")\n",
    "else:\n",
    "    print(\"Nie je to normálova distribúcia\")"
   ]
  },
  {
   "cell_type": "markdown",
   "metadata": {},
   "source": [
    "Shapirov test nám ukázal, že distribúcia nie je normálova.\n",
    "\n",
    "Teraz je potrebné zistiť, či distribúcia je párovaná alebo nepárovaná. To znamená, či sa 2 alebo viaceré skupiny skladajú z rovnakých testovacích subjektov. Keďže sme si pacientov rozdelili na tých, čo fajčia a tých čo nefajčia, znamená to, že testovacia distribúcia je nepárovaná.\n",
    "\n",
    "Máme nenormálovu, nepárovanú distribúciu 2 skupín a teda spravíme Man-Whitneyho U test."
   ]
  },
  {
   "cell_type": "markdown",
   "metadata": {},
   "source": [
    "#### Mann-Whitney U test:"
   ]
  },
  {
   "cell_type": "code",
   "execution_count": null,
   "metadata": {
    "pycharm": {
     "is_executing": true,
     "name": "#%%\n"
    }
   },
   "outputs": [],
   "source": [
    "whitney = sc.stats.mannwhitneyu(smokers,non_smokers)\n",
    "print(\"Pvalue hodnota po vykonaní testu Mann-Whitney U: \",whitney.pvalue)\n",
    "\n",
    "if whitney.pvalue > 0.05:\n",
    "    print('Same distribution (fail to reject H0)')\n",
    "else:\n",
    "    print('Different distribution (reject H0)')\n"
   ]
  },
  {
   "cell_type": "markdown",
   "metadata": {},
   "source": [
    "Z Mann-Whitneyho U testu sme dostali p hodnotu väčšiu ako 0.05 -> nevieme potvrdiť hypotézu (fail to reject H0)."
   ]
  },
  {
   "cell_type": "markdown",
   "metadata": {},
   "source": [
    "### Hypotéza 2:\n"
   ]
  },
  {
   "cell_type": "markdown",
   "metadata": {},
   "source": [
    "Pre druhú hypotézu si rozdelíme dataset na pacientov s indikátorom 0 a pacientov s indikátorom 1. Pri týchto pacientoch nás bude zaujímať ich hodnota atribútu trombocyty."
   ]
  },
  {
   "cell_type": "code",
   "execution_count": null,
   "metadata": {
    "pycharm": {
     "is_executing": true,
     "name": "#%%\n"
    }
   },
   "outputs": [],
   "source": [
    "trombocyty_zero = dataset.loc[(dataset[\"indicator\"] == 0), \"trombocyty\"]\n",
    "trombocyty_zero = trombocyty_zero.dropna()\n",
    "trombocyty_one = dataset.loc[(dataset[\"indicator\"] == 1), \"trombocyty\"]\n",
    "trombocyty_one = trombocyty_one.dropna()"
   ]
  },
  {
   "cell_type": "markdown",
   "metadata": {},
   "source": [
    "Kolačový graf pre rozdelenie pacientov s indikátorom 0 a pacientov s indikátorom 1:"
   ]
  },
  {
   "cell_type": "code",
   "execution_count": null,
   "metadata": {
    "pycharm": {
     "is_executing": true,
     "name": "#%%\n"
    }
   },
   "outputs": [],
   "source": [
    "plt.pie([len(trombocyty_zero), len(trombocyty_one)], labels = [\"patients with indicator 0\",\"patients with indicator 1\"], colors = ['c','b'], startangle = 90, shadow = True, explode = (0.1, 0.1), autopct='%1.0f%%')"
   ]
  },
  {
   "cell_type": "code",
   "execution_count": null,
   "metadata": {
    "pycharm": {
     "is_executing": true,
     "name": "#%%\n"
    }
   },
   "outputs": [],
   "source": [
    "print(\"Počet pacientov s indikátorom 0:\",trombocyty_zero.count())\n",
    "print(\"Počet pacientov s indikátorom 1:\",trombocyty_one.count())"
   ]
  },
  {
   "cell_type": "markdown",
   "metadata": {},
   "source": [
    "Aj tuná musíme zmenšiť vzorku pre distribúciu trombocyty_one."
   ]
  },
  {
   "cell_type": "code",
   "execution_count": null,
   "metadata": {
    "pycharm": {
     "is_executing": true,
     "name": "#%%\n"
    }
   },
   "outputs": [],
   "source": [
    "trombocyty_one = trombocyty_one.sample(trombocyty_zero.count())\n",
    "trombocyty_one.count()"
   ]
  },
  {
   "cell_type": "markdown",
   "metadata": {},
   "source": [
    "Teraz máme v oboch vzorkách rovnaký počet subjektov."
   ]
  },
  {
   "cell_type": "markdown",
   "metadata": {},
   "source": [
    "#### Zistenie normálovej distribúcie:"
   ]
  },
  {
   "cell_type": "code",
   "execution_count": null,
   "metadata": {
    "pycharm": {
     "is_executing": true,
     "name": "#%%\n"
    }
   },
   "outputs": [],
   "source": [
    "if sc.stats.shapiro(trombocyty_zero).pvalue > 0.05 and sc.stats.shapiro(trombocyty_one).pvalue > 0.05:\n",
    "    print(\"Je to normálova distribúcia\")\n",
    "else:\n",
    "    print(\"Nie je to normálova distribúcia\")"
   ]
  },
  {
   "cell_type": "markdown",
   "metadata": {},
   "source": [
    "Zo shapirovho testu sme zistili, že daná distribúcia nie je normálova.\n",
    "\n",
    "Pacientov sme si rozdelili na 2 skupiny, tých s indikátorom 0 a tých s indikátorom 1. To znamená, že táto distribúcia je nepárovaná.\n",
    "\n",
    "Máme nenormálovu, nepárovanú distribúciu 2 skupín a teda spravíme Man-Whitneyho U test."
   ]
  },
  {
   "cell_type": "markdown",
   "metadata": {},
   "source": [
    "#### Mann-Whitney U test:"
   ]
  },
  {
   "cell_type": "code",
   "execution_count": null,
   "metadata": {
    "pycharm": {
     "is_executing": true,
     "name": "#%%\n"
    }
   },
   "outputs": [],
   "source": [
    "if sc.stats.mannwhitneyu(trombocyty_zero, trombocyty_one).pvalue > 0.05:\n",
    "    print('Same distribution (fail to reject H0)')\n",
    "else:\n",
    "    print('Different distribution (reject H0)')"
   ]
  },
  {
   "cell_type": "markdown",
   "metadata": {},
   "source": [
    "Po vykonaní Man-Whitneyho U testu môžeme zamietnuť hypotézu H0. Z toho nám vyplýva, že hypotéza H1 je správna."
   ]
  },
  {
   "cell_type": "markdown",
   "metadata": {},
   "source": [
    "## 4. Identifikácia problémov v dátach s navrhnutým riešením\n",
    "\n",
    "V datasete, s ktorým sme doteraz pracovali sú nejaké chyby (chýbajúce hodnoty, vychýlené hodnoty, nejednotné formáty, atď.). Zistíme počet chybných riadkov, v ktorých chýba aspoň jedna hodnota."
   ]
  },
  {
   "cell_type": "code",
   "execution_count": null,
   "metadata": {
    "pycharm": {
     "is_executing": true,
     "name": "#%%\n"
    }
   },
   "outputs": [],
   "source": [
    "dataset.isna().sum()"
   ]
  },
  {
   "cell_type": "markdown",
   "metadata": {},
   "source": [
    "Riadky, ktoré obsahujú nekompletné údaje môžeme odstrániť."
   ]
  },
  {
   "cell_type": "markdown",
   "metadata": {},
   "source": [
    "Následne si zistíme unikátne záznamy v jednotlivých stĺpcoch. Pre číselné záznamy nepotrebujeme zisťovať unikátne záznamy."
   ]
  },
  {
   "cell_type": "code",
   "execution_count": null,
   "metadata": {
    "pycharm": {
     "is_executing": true,
     "name": "#%%\n"
    }
   },
   "outputs": [],
   "source": [
    "for column in dataset.columns:\n",
    "    if dataset[column].dtypes == 'object':\n",
    "        print(\"{}:\".format(column), \"\\n\", dataset[column].unique(),\"\\n\")\n",
    "    "
   ]
  },
  {
   "cell_type": "markdown",
   "metadata": {},
   "source": [
    "Ako môžeme vidieť, pri menách a SSN nám taktiež nezáleží na unikátnych záznamoch. Kde nám ale záleží na unikátnych záznamoch je stĺpec relationship. Vidíme, že obsahuje 6 unikátnych záznamov. Tieto záznamy majú nejaké gramatické chyby, preto ich upravíme (napr. \"divoced\" -> \"divorced\", \"nop\" -> \"not specified\")."
   ]
  },
  {
   "cell_type": "markdown",
   "metadata": {},
   "source": [
    "Teraz sa pozrime na druhý dataset."
   ]
  },
  {
   "cell_type": "code",
   "execution_count": null,
   "metadata": {
    "pycharm": {
     "is_executing": true,
     "name": "#%%\n"
    }
   },
   "outputs": [],
   "source": [
    "dataprofiles = pd.read_csv(\"042/profiles.csv\", delimiter=\"\\t\")\n",
    "dataprofiles"
   ]
  },
  {
   "cell_type": "markdown",
   "metadata": {},
   "source": [
    "Skúsme zistiť, či sa v ňom nachádzajú nejaké duplikátne záznamy. Každý človek má pridelené unikátne SSN (social security number) a preto hľadáme duplikátne SSN."
   ]
  },
  {
   "cell_type": "code",
   "execution_count": null,
   "metadata": {
    "pycharm": {
     "is_executing": true,
     "name": "#%%\n"
    }
   },
   "outputs": [],
   "source": [
    "data_test = dataprofiles.drop_duplicates(subset=\"ssn\")\n",
    "print(\"Duplikátne riadky: \",dataprofiles[\"ssn\"].count() - data_test[\"ssn\"].count())"
   ]
  },
  {
   "cell_type": "markdown",
   "metadata": {},
   "source": [
    "Zistili sme, že v danom datasete sa nenachádzajú žiadne duplikátne záznamy."
   ]
  },
  {
   "cell_type": "markdown",
   "metadata": {},
   "source": [
    "V datasete sa nachádzajú rôzne formáty dátumu narodenia. To by sme mali upraviť na jednotný formát."
   ]
  },
  {
   "cell_type": "code",
   "execution_count": null,
   "metadata": {
    "pycharm": {
     "is_executing": true,
     "name": "#%%\n"
    }
   },
   "outputs": [],
   "source": [
    "dataprofiles['birthdate']"
   ]
  },
  {
   "cell_type": "markdown",
   "metadata": {},
   "source": [
    "Takisto sa tam nachádzajú nejednotné údaje pre rasu. Môžeme si všimnúť, že pre jednu rasu sa v datasete nachádzajú viaceré hodnoty (napr. black, Black, blsck). To môžeme upraviť na jednu hodnotu."
   ]
  },
  {
   "cell_type": "code",
   "execution_count": null,
   "metadata": {
    "pycharm": {
     "is_executing": true,
     "name": "#%%\n"
    }
   },
   "outputs": [],
   "source": [
    "dataprofiles[\"race\"].unique()"
   ]
  },
  {
   "cell_type": "markdown",
   "metadata": {},
   "source": [
    "Teraz zistíme vychýlené hodnoty.\n",
    "\n",
    "Počet vychýlených hodnôt pre jednotlivé stĺpce vypíšeme. Najviac vychýlených hodnôt sme našli v stĺcoch **Alp** a **Alt**.\n",
    "Tieto vychýlené hodnoty neskôr vymeníme pomocou funkcie Winsorize."
   ]
  },
  {
   "cell_type": "code",
   "execution_count": null,
   "metadata": {
    "pycharm": {
     "is_executing": true,
     "name": "#%%\n"
    }
   },
   "outputs": [],
   "source": [
    "def check_for_outliers(data, column_name: str):\n",
    "    # calculate summary statistics\n",
    "    data_mean, data_std = np.mean(data), np.std(data)\n",
    "\n",
    "    # define outliers\n",
    "    cut_off = data_std * 3\n",
    "    lower, upper = data_mean - cut_off, data_mean + cut_off\n",
    "\n",
    "    # identify outliers\n",
    "    length = len(column_name)\n",
    "    column_name += \" outliers\"\n",
    "    column_name += ' '*(10-length)\n",
    "    outliers = [x for x in data if x < lower or x > upper]\n",
    "    print(column_name.capitalize()+': %d' % len(outliers))"
   ]
  },
  {
   "cell_type": "code",
   "execution_count": null,
   "metadata": {
    "pycharm": {
     "is_executing": true,
     "name": "#%%\n"
    }
   },
   "outputs": [],
   "source": [
    "for column in dataset.describe().columns:\n",
    "    check_for_outliers(dataset[column], column)\n"
   ]
  },
  {
   "cell_type": "code",
   "execution_count": null,
   "metadata": {
    "pycharm": {
     "is_executing": true,
     "name": "#%%\n"
    }
   },
   "outputs": [],
   "source": [
    "sns.histplot(dataset[\"weight\"])"
   ]
  },
  {
   "cell_type": "markdown",
   "metadata": {},
   "source": [
    "Z tohto grafu môžeme vidieť, že v datasete sa nachádzajú záznamy o váhe s negatívnou hodnotou. To je samozrejme hlúposť a musíme s tým niečo spraviť. Zistíme si koľko takých vychýlených hodnôt v datasete existuje.\n",
    "\n",
    "Vytvoríme si slovník weight_dict, kde sú minimálne a maximálne váhy pre mužov a ženy. Podľa tohto slovníku zistíme koľko vychýlených hodnôt máme v datasete pre mužov a pre ženy."
   ]
  },
  {
   "cell_type": "code",
   "execution_count": null,
   "metadata": {
    "pycharm": {
     "is_executing": true,
     "name": "#%%\n"
    }
   },
   "outputs": [],
   "source": [
    "weight_dict = {\n",
    "    \"Male_min\": 43,\n",
    "    \"Male_max\": 100,\n",
    "    \"Female_min\": 41,\n",
    "    \"Female_max\": 90\n",
    "}\n",
    "# zdroj pre tieto hodnoty: https://www.healthifyme.com/blog/height-weight-chart-ideal-weight-for-men-and-women/"
   ]
  },
  {
   "cell_type": "code",
   "execution_count": null,
   "metadata": {
    "pycharm": {
     "is_executing": true,
     "name": "#%%\n"
    }
   },
   "outputs": [],
   "source": [
    "counter_m = 0\n",
    "counter_n = 0\n",
    "for i in range(len(dataset[\"weight\"])):\n",
    "    index_in_profiles = pd.Index(dataprofiles[\"ssn\"]).get_loc(dataset[\"ssn\"][i])\n",
    "    get_sex = dataprofiles[\"sex\"][index_in_profiles]\n",
    "    if get_sex == 'M':\n",
    "        if not (weight_dict[\"Male_min\"] < dataset[\"weight\"][i] < weight_dict[\"Male_max\"] ):\n",
    "            counter_m += 1\n",
    "    else:\n",
    "        if not (weight_dict[\"Female_min\"] < dataset[\"weight\"][i] < weight_dict[\"Female_max\"] ):\n",
    "            counter_n += 1\n",
    "\n",
    "print(\"Počet vychýlených hodnôt pre mužov:\", counter_m)\n",
    "print(\"Počet vychýlených hodnôt pre žien:\", counter_n)"
   ]
  },
  {
   "cell_type": "markdown",
   "metadata": {},
   "source": [
    "Neskôr možeme tieto hodnoty vymeniť za iné hodnoty (náhodne vygenerované hodnoty z rozsahu Male_mix po Male_max resp. Female_min po Female_max)."
   ]
  },
  {
   "cell_type": "markdown",
   "metadata": {},
   "source": [
    "V časti **\"Formulácia a štatistické overenie hypotéz o dátach\"** sme našli nevhodnú štruktúru dát. V stĺpci \"smoker\" sme vymenili typ údajov na číselné hodnoty, kde 1 reprezentuje, že daný pacient fajčí a 0, že daný pacient nefajčí.\n",
    "\n",
    "smoker_series = dataset['smoker']\n",
    "\n",
    "replacement_dict = {\n",
    "    \"Y\": 1,\n",
    "    \"yes\": 1,\n",
    "    \"N\": 0,\n",
    "    \"no\": 0\n",
    "}\n",
    "\n",
    "dataset[\"smoker\"].replace(replacement_dict, inplace=True)\n"
   ]
  },
  {
   "cell_type": "markdown",
   "metadata": {},
   "source": [
    "# Fáza 2\n",
    "\n",
    "Z fázy 1 sme presunuli odstránenie a výmenu vychýlených hodnôt do fázy 2.\n"
   ]
  },
  {
   "cell_type": "markdown",
   "metadata": {},
   "source": [
    "## 1. Integrácia a čistenie dát"
   ]
  },
  {
   "cell_type": "markdown",
   "metadata": {},
   "source": [
    "### Skúšanie rôznych stratégií pre vyriešenie problému chýbajúcich hodnôt\n",
    "\n",
    "#### Odstránenie pozorovaní s chýbajúcimi údajmi"
   ]
  },
  {
   "cell_type": "markdown",
   "metadata": {},
   "source": [
    "Teraz pristúpime k odstráneniu chýbajúcich hodnôt."
   ]
  },
  {
   "cell_type": "code",
   "execution_count": null,
   "metadata": {
    "pycharm": {
     "is_executing": true,
     "name": "#%%\n"
    }
   },
   "outputs": [],
   "source": [
    "dataset.info()"
   ]
  },
  {
   "cell_type": "code",
   "execution_count": null,
   "metadata": {
    "pycharm": {
     "is_executing": true,
     "name": "#%%\n"
    }
   },
   "outputs": [],
   "source": [
    "dataset_dropped = dataset.dropna()\n",
    "dataset_dropped.info()"
   ]
  },
  {
   "cell_type": "markdown",
   "metadata": {},
   "source": [
    "Po použití funkcie **dropna()** vidíme, že počet záznamov v každom stĺpci je jednotný."
   ]
  },
  {
   "cell_type": "markdown",
   "metadata": {},
   "source": [
    "#### Nahradenie chýbajúcich hodnôt"
   ]
  },
  {
   "cell_type": "markdown",
   "metadata": {},
   "source": [
    "Pozrime sa najprv na hodnoty datasetu pred vykonanými zmenami."
   ]
  },
  {
   "cell_type": "code",
   "execution_count": null,
   "metadata": {
    "pycharm": {
     "is_executing": true,
     "name": "#%%\n"
    }
   },
   "outputs": [],
   "source": [
    "desc_stat_table = dataset.select_dtypes(include=[np.float64])\n",
    "desc_stat = dataset.describe()\n",
    "# modus nie je mozne urobit, su unikátne\n",
    "desc_stat.style"
   ]
  },
  {
   "cell_type": "markdown",
   "metadata": {},
   "source": [
    "#### Nahradenie chýbajúcej hodnoty mediánom"
   ]
  },
  {
   "cell_type": "code",
   "execution_count": null,
   "metadata": {
    "pycharm": {
     "is_executing": true,
     "name": "#%%\n"
    }
   },
   "outputs": [],
   "source": [
    "dataset.info()"
   ]
  },
  {
   "cell_type": "code",
   "execution_count": null,
   "metadata": {
    "pycharm": {
     "is_executing": true,
     "name": "#%%\n"
    }
   },
   "outputs": [],
   "source": [
    "temp_dataset = dataset[dataset.describe().columns]\n",
    "imp=SimpleImputer(missing_values=np.NaN, strategy='median')\n",
    "dataset_median=pd.DataFrame(imp.fit_transform(temp_dataset))\n",
    "dataset_median.columns=temp_dataset.columns\n",
    "dataset_median.index=temp_dataset.index"
   ]
  },
  {
   "cell_type": "code",
   "execution_count": null,
   "metadata": {
    "pycharm": {
     "is_executing": true,
     "name": "#%%\n"
    }
   },
   "outputs": [],
   "source": [
    "dataset_median.info()"
   ]
  },
  {
   "cell_type": "code",
   "execution_count": null,
   "metadata": {
    "pycharm": {
     "is_executing": true,
     "name": "#%%\n"
    },
    "scrolled": true
   },
   "outputs": [],
   "source": [
    "desc_stat_table = dataset_median.select_dtypes(include=[np.float64])\n",
    "desc_stat = dataset_median.describe()\n",
    "desc_stat.style"
   ]
  },
  {
   "cell_type": "markdown",
   "metadata": {},
   "source": [
    "Pri náhrade chýbajúcich hodnôt mediánom sa nám zmenila iba smerodajná odchýlka (std = standard deviation). Medián sa nám v tomto prípade nezmení, pretože stredná hodnota bude stále rovnaká."
   ]
  },
  {
   "cell_type": "markdown",
   "metadata": {},
   "source": [
    "#### Nahradenie chýbajúcej hodnoty priemerom"
   ]
  },
  {
   "cell_type": "code",
   "execution_count": null,
   "metadata": {
    "pycharm": {
     "is_executing": true,
     "name": "#%%\n"
    }
   },
   "outputs": [],
   "source": [
    "dataset.info()"
   ]
  },
  {
   "cell_type": "code",
   "execution_count": null,
   "metadata": {
    "pycharm": {
     "is_executing": true,
     "name": "#%%\n"
    }
   },
   "outputs": [],
   "source": [
    "temp_dataset = dataset[dataset.describe().columns]\n",
    "imp=SimpleImputer(missing_values=np.NaN, strategy='mean')\n",
    "dataset_mean=pd.DataFrame(imp.fit_transform(temp_dataset))\n",
    "dataset_mean.columns=temp_dataset.columns\n",
    "dataset_mean.index=temp_dataset.index"
   ]
  },
  {
   "cell_type": "code",
   "execution_count": null,
   "metadata": {
    "pycharm": {
     "is_executing": true,
     "name": "#%%\n"
    }
   },
   "outputs": [],
   "source": [
    "dataset_mean.info()"
   ]
  },
  {
   "cell_type": "code",
   "execution_count": null,
   "metadata": {
    "pycharm": {
     "is_executing": true,
     "name": "#%%\n"
    }
   },
   "outputs": [],
   "source": [
    "desc_stat_table = dataset_mean.select_dtypes(include=[np.float64])\n",
    "desc_stat = dataset_mean.describe()\n",
    "desc_stat.style"
   ]
  },
  {
   "cell_type": "markdown",
   "metadata": {},
   "source": [
    "#### Nahradenie chýbajúcej hodnoty pomocou lineárnej regresie"
   ]
  },
  {
   "cell_type": "code",
   "execution_count": null,
   "metadata": {
    "pycharm": {
     "is_executing": true,
     "name": "#%%\n"
    }
   },
   "outputs": [],
   "source": [
    "dataset.info()"
   ]
  },
  {
   "cell_type": "code",
   "execution_count": null,
   "metadata": {
    "pycharm": {
     "is_executing": true,
     "name": "#%%\n"
    }
   },
   "outputs": [],
   "source": [
    "temp_dataset = dataset[dataset.describe().columns]\n",
    "imp=KNNImputer()\n",
    "dataset_knn=pd.DataFrame(imp.fit_transform(temp_dataset))\n",
    "dataset_knn.columns=temp_dataset.columns\n",
    "dataset_knn.index=temp_dataset.index"
   ]
  },
  {
   "cell_type": "code",
   "execution_count": null,
   "metadata": {
    "pycharm": {
     "is_executing": true,
     "name": "#%%\n"
    }
   },
   "outputs": [],
   "source": [
    "dataset_knn.info()"
   ]
  },
  {
   "cell_type": "code",
   "execution_count": null,
   "metadata": {
    "pycharm": {
     "is_executing": true,
     "name": "#%%\n"
    }
   },
   "outputs": [],
   "source": [
    "desc_stat_table = dataset_knn.select_dtypes(include=[np.float64])\n",
    "desc_stat = dataset_knn.describe()\n",
    "desc_stat.style"
   ]
  },
  {
   "cell_type": "markdown",
   "metadata": {},
   "source": [
    "Nahradením chýbajúcich hodnotu lineárnou regresiou sa nám zmenil priemer, medián ako aj smerodajná odchylka."
   ]
  },
  {
   "cell_type": "markdown",
   "metadata": {},
   "source": [
    "### Nahradenie a odstránenie vychýlených hodnôt"
   ]
  },
  {
   "cell_type": "markdown",
   "metadata": {},
   "source": [
    "#### Odstránenie vychýlených hodnôt pomocou smerodajnej odchýlky"
   ]
  },
  {
   "cell_type": "markdown",
   "metadata": {},
   "source": [
    "Vo funkcii del_outliers() si v premennej outliers uchovávame všetky vychýlené hodnoty. Naopak v premennej outliers_removed si uchovávame dobré hodnoty (tie, ktoré nie sú vychýlené). Funkcia nám vypíše počet vychýlených hodnôt pre každý stĺpec a následne vráti premennú outliers_removed."
   ]
  },
  {
   "cell_type": "code",
   "execution_count": null,
   "metadata": {
    "pycharm": {
     "is_executing": true,
     "name": "#%%\n"
    }
   },
   "outputs": [],
   "source": [
    "def del_outliers(data, column):\n",
    "    data_mean, data_std = np.mean(data), np.std(data)\n",
    "\n",
    "    # define outliers\n",
    "    cut_off = data_std * 3\n",
    "    lower, upper = data_mean - cut_off, data_mean + cut_off\n",
    "\n",
    "    # identify outliers\n",
    "    outliers = [x for x in data if x < lower or x > upper]\n",
    "    print('Počet vychýlených hodnôt v stĺpci ' + column + ': %d' % len(outliers))\n",
    "\n",
    "    outliers_removed = []\n",
    "    for x in data:\n",
    "        if x >= lower and x <= upper:\n",
    "            outliers_removed.append(x)\n",
    "        else:\n",
    "            outliers_removed.append(np.nan)\n",
    "    # remove outliers\n",
    "    #outliers_removed = [x for x in data if x >= lower and x <= upper else np.nan]\n",
    "    return outliers_removed\n",
    "    #print('Non-outlier observations: %d' % len(outliers_removed))"
   ]
  },
  {
   "cell_type": "markdown",
   "metadata": {
    "pycharm": {
     "name": "#%% md\n"
    }
   },
   "source": [
    "Dataset s odstránenými vychýlenými hodnotami si uložíme do premennej deleted_outliers."
   ]
  },
  {
   "cell_type": "code",
   "execution_count": null,
   "metadata": {
    "pycharm": {
     "is_executing": true,
     "name": "#%%\n"
    }
   },
   "outputs": [],
   "source": [
    "temp_data = dataset.describe()\n",
    "deleted_outliers = dataset.copy()\n",
    "for col in temp_data.columns:\n",
    "    if col != 'smoker' and col != 'weight':\n",
    "        deleted_outliers[col] = del_outliers(deleted_outliers[col], col)\n",
    "# deleted_outliers.dropna(inplace=True)"
   ]
  },
  {
   "cell_type": "markdown",
   "metadata": {},
   "source": [
    "#### Úprava vychýlených hodnôt pomocou funkcie Winsorize"
   ]
  },
  {
   "cell_type": "markdown",
   "metadata": {},
   "source": [
    "Teraz vyskúšame vychýlené hodnoty nie odstrániť, ale upraviť. To spravíme pomocou funkcie winsorize."
   ]
  },
  {
   "cell_type": "markdown",
   "metadata": {},
   "source": [
    "#### Ako funguje Winsorize:\n",
    "\n",
    "Funkcia winsorize nám nahradí vychýlené hodnoty maximálnými a minimálnymi hodnotami z distribúcie.\n",
    "Najprv sa rozhodnime, koľko údajov chceme zmeniť. Toto je uvedené ako percento nedotknutých údajov.\n",
    "\n",
    "Napríklad, ak chceme chceme zmeniť horných 5% a dolných 5% údajov,\n",
    "rovná sa to 100% – 5% – 5% = 90%. 80% winsorizácia znamená, že 10% údajov je\n",
    "upravených z hornej aj dolnej časti distribúcie.\n",
    "\n",
    "\n",
    "Napríklad:\n",
    "Nasledujúci súbor údajov má niekoľko (tučným písmom) extrémov:\n",
    "\n",
    "{**0.1, 1**, 12, 14, 16, 18, 19, 21, 24, 26, 29, 32, 33, 35, 39, 40, 41, 44, **99, 125**}\n",
    "\n",
    "Priemer = 33,405.\n",
    "\n",
    "Po úprave horných a spodných 10 % (tieto hodnoty som priradil k najbližšiemu extrému):\n",
    "\n",
    "{**12, 12**,12, 14, 16, 18, 19, 21, 24, 26, 29, 32, 33, 35, 39, 40, 41, 44, **44, 44**}\n",
    "\n",
    "80 %-ná winsorizácia:\n",
    "\n",
    "Priemer = 24,95.\n"
   ]
  },
  {
   "cell_type": "markdown",
   "metadata": {},
   "source": [
    "Pre každý stĺpec, ktoré obsahujú číselné hodnoty (okrem smoker a weight) sa vykoná funkcia winsorize."
   ]
  },
  {
   "cell_type": "code",
   "execution_count": null,
   "metadata": {
    "pycharm": {
     "is_executing": true,
     "name": "#%%\n"
    }
   },
   "outputs": [],
   "source": [
    "winsorized = dataset.copy()\n",
    "temp_data = dataset.describe()\n",
    "for col in temp_data.columns:\n",
    "    if col != 'smoker' and col != 'weight':\n",
    "        winsorized[col] = sc.stats.mstats.winsorize(winsorized[col], limits=[0.05,0.05])"
   ]
  },
  {
   "cell_type": "markdown",
   "metadata": {},
   "source": [
    "Porovnajme pôvodoný dataset, dataset s odstráneými hodnotami a dataset s upravenými hodnotami:"
   ]
  },
  {
   "cell_type": "code",
   "execution_count": null,
   "metadata": {
    "pycharm": {
     "is_executing": true,
     "name": "#%%\n"
    }
   },
   "outputs": [],
   "source": [
    "print(\"--------------------------------------Pôvodný dataset-------------------------------------------\")\n",
    "dataset.describe()"
   ]
  },
  {
   "cell_type": "code",
   "execution_count": null,
   "metadata": {
    "pycharm": {
     "is_executing": true,
     "name": "#%%\n"
    }
   },
   "outputs": [],
   "source": [
    "print(\"--------------------------------------Dataset s upravenými hodnotami-------------------------------------------\")\n",
    "winsorized.describe()"
   ]
  },
  {
   "cell_type": "markdown",
   "metadata": {},
   "source": [
    "Môžeme vidieť, že sa nám zmenili maximálne a minimálne hodnoty. Pred úpravou mali dáta väčší rozsah (v stĺpci hematokrit bolo minimum 0,68 a maximum 13,63). Po úprave majú dáta menší rozsah (v stĺpci hematokrit je teraz minimum 4,05 a maximum 9,39). Zatiaľ čo sa nám zmenil rozsah (minimum a maximum), táto zmena nijak signifikantne neovplyvnila priemer dát."
   ]
  },
  {
   "cell_type": "code",
   "execution_count": null,
   "metadata": {
    "pycharm": {
     "is_executing": true,
     "name": "#%%\n"
    }
   },
   "outputs": [],
   "source": [
    "print(\"--------------------------------------Dataset s odstránenými hodnotami-------------------------------------------\")\n",
    "deleted_outliers.describe()"
   ]
  },
  {
   "cell_type": "markdown",
   "metadata": {},
   "source": [
    "Tu môžeme vidieť, že sa nám taktiež zmenili minimálne a maximálne hodnoty. Dôvodom je, že sme odstránili vychýlené hodnoty, ktoré boli buď príliš veľké alebo príliš malé. Ostatné hodnoty sa nijak signifikantne nezmenili."
   ]
  },
  {
   "cell_type": "markdown",
   "metadata": {},
   "source": [
    "Porovnajme hodnoty v stĺpci **Hematokrit** z pôvodného datasetu, datasetu s upravenými hodnotami a datasetu s odstranenými hodnotami:"
   ]
  },
  {
   "cell_type": "code",
   "execution_count": null,
   "metadata": {
    "pycharm": {
     "is_executing": true,
     "name": "#%%\n"
    }
   },
   "outputs": [],
   "source": [
    "fig, ax=mt.pyplot.subplots(1,3, figsize=(12,6))\n",
    "ax[0].set_title('Pôvodné', fontsize=16)\n",
    "ax[1].set_title('Winsorize', fontsize=16)\n",
    "ax[2].set_title('Odstránenie', fontsize=16)\n",
    "sns.histplot(data=dataset[\"hematokrit\"],ax=ax[0], kde=True)\n",
    "sns.histplot(data=winsorized[\"hematokrit\"], ax=ax[1], kde=True)\n",
    "sns.histplot(data=deleted_outliers[\"hematokrit\"], ax=ax[2], kde=True)\n",
    "plt.axis([2,12,0,620])"
   ]
  },
  {
   "cell_type": "markdown",
   "metadata": {},
   "source": [
    "Ako bolo spomenuté vyššie, priemer dát sa nijak signifikantne nezmenil. Jediné čo sa zmenilo je rozsah dát."
   ]
  },
  {
   "cell_type": "markdown",
   "metadata": {},
   "source": [
    "Porovnajme hodnoty v stĺpci **Leukocyty** z pôvodného datasetu, datasetu s upravenými hodnotami a datasetu s odstranenými hodnotami:"
   ]
  },
  {
   "cell_type": "code",
   "execution_count": null,
   "metadata": {
    "pycharm": {
     "is_executing": true,
     "name": "#%%\n"
    }
   },
   "outputs": [],
   "source": [
    "fig, ax=mt.pyplot.subplots(1,3, figsize=(12,6))\n",
    "ax[0].set_title('Pôvodné', fontsize=16)\n",
    "ax[1].set_title('Winsorize', fontsize=16)\n",
    "ax[2].set_title('Odstránenie', fontsize=16)\n",
    "sns.histplot(data=dataset[\"leukocyty\"],ax=ax[0], kde=True)\n",
    "sns.histplot(data=winsorized[\"leukocyty\"], ax=ax[1], kde=True)\n",
    "sns.histplot(data=deleted_outliers[\"leukocyty\"], ax=ax[2], kde=True)\n",
    "plt.axis([2,12,0,620])"
   ]
  },
  {
   "cell_type": "markdown",
   "metadata": {},
   "source": [
    "Porovnajme hodnoty v stĺpci **Alt** z pôvodného datasetu, datasetu s upravenými hodnotami a datasetu s odstranenými hodnotami:"
   ]
  },
  {
   "cell_type": "code",
   "execution_count": null,
   "metadata": {
    "pycharm": {
     "is_executing": true,
     "name": "#%%\n"
    }
   },
   "outputs": [],
   "source": [
    "fig, ax=mt.pyplot.subplots(1,3, figsize=(12,6))\n",
    "ax[0].set_title('Pôvodné', fontsize=16)\n",
    "ax[1].set_title('Winsorize', fontsize=16)\n",
    "ax[2].set_title('Odstránenie', fontsize=16)\n",
    "sns.histplot(data=dataset[\"alt\"],ax=ax[0], kde=True)\n",
    "sns.histplot(data=winsorized[\"alt\"], ax=ax[1], kde=True)\n",
    "sns.histplot(data=deleted_outliers[\"alt\"], ax=ax[2], kde=True)\n",
    "#plt.axis([2,12,0,620])"
   ]
  },
  {
   "cell_type": "markdown",
   "metadata": {},
   "source": [
    "Ako môžeme vidieť funkcia winsorize znovu upravila rozsah dát. Atribút **alt** mal predtým rozsah od 0 po 100, zatiaľčo pri hodnote 0 až 4 bolo týchto záznamov najviac.\n",
    "\n",
    "Po odstranení sa v datasete taktiež zmenil rozsah dát."
   ]
  },
  {
   "cell_type": "markdown",
   "metadata": {},
   "source": [
    "Porovnajme hodnoty v stĺpci **Erytrocyty** z pôvodného datasetu, datasetu s upravenými hodnotami a datasetu s odstranenými hodnotami:"
   ]
  },
  {
   "cell_type": "code",
   "execution_count": null,
   "metadata": {
    "pycharm": {
     "is_executing": true,
     "name": "#%%\n"
    }
   },
   "outputs": [],
   "source": [
    "fig, ax=mt.pyplot.subplots(1,3, figsize=(12,6))\n",
    "ax[0].set_title('Pôvodné', fontsize=16)\n",
    "ax[1].set_title('Winsorize', fontsize=16)\n",
    "ax[2].set_title('Odstránenie', fontsize=16)\n",
    "sns.histplot(data=dataset[\"erytrocyty\"],ax=ax[0], bins=50, kde=True)\n",
    "sns.histplot(data=winsorized[\"erytrocyty\"], ax=ax[1], bins=50, kde=True)\n",
    "sns.histplot(data=deleted_outliers[\"erytrocyty\"], ax=ax[2], bins=50, kde=True)\n",
    "plt.axis([2,12,0,620])"
   ]
  },
  {
   "cell_type": "markdown",
   "metadata": {},
   "source": [
    "Porovnajme hodnoty v stĺpci **Alp** z pôvodného datasetu, datasetu s upravenými hodnotami a datasetu s odstranenými hodnotami:"
   ]
  },
  {
   "cell_type": "code",
   "execution_count": null,
   "metadata": {
    "pycharm": {
     "is_executing": true,
     "name": "#%%\n"
    }
   },
   "outputs": [],
   "source": [
    "fig, ax=mt.pyplot.subplots(1,3, figsize=(12,6))\n",
    "ax[0].set_title('Pôvodné', fontsize=16)\n",
    "ax[1].set_title('Winsorize', fontsize=16)\n",
    "ax[2].set_title('Odstránenie', fontsize=16)\n",
    "sns.histplot(data=dataset[\"alp\"],ax=ax[0], bins=50, kde=True)\n",
    "sns.histplot(data=winsorized[\"alp\"], ax=ax[1], bins=50, kde=True)\n",
    "sns.histplot(data=deleted_outliers[\"alp\"], ax=ax[2], bins=50, kde=True)\n",
    "#plt.axis([2,12,0,620])"
   ]
  },
  {
   "cell_type": "markdown",
   "metadata": {},
   "source": [
    "Porovnajme hodnoty v stĺpci **Ast** z pôvodného datasetu, datasetu s upravenými hodnotami a datasetu s odstranenými hodnotami:"
   ]
  },
  {
   "cell_type": "code",
   "execution_count": null,
   "metadata": {
    "pycharm": {
     "is_executing": true,
     "name": "#%%\n"
    }
   },
   "outputs": [],
   "source": [
    "fig, ax=mt.pyplot.subplots(1,3, figsize=(12,6))\n",
    "ax[0].set_title('Pôvodné', fontsize=16)\n",
    "ax[1].set_title('Winsorize', fontsize=16)\n",
    "ax[2].set_title('Odstránenie', fontsize=16)\n",
    "sns.histplot(data=dataset[\"ast\"],ax=ax[0], bins=50, kde=True)\n",
    "sns.histplot(data=winsorized[\"ast\"], ax=ax[1], bins=50, kde=True)\n",
    "sns.histplot(data=deleted_outliers[\"ast\"], ax=ax[2], bins=50, kde=True)\n",
    "#plt.axis([2,12,0,620])"
   ]
  },
  {
   "cell_type": "markdown",
   "metadata": {},
   "source": [
    "Porovnajme hodnoty v stĺpci **Er-cv** z pôvodného datasetu, datasetu s upravenými hodnotami a datasetu s odstranenými hodnotami:"
   ]
  },
  {
   "cell_type": "code",
   "execution_count": null,
   "metadata": {
    "pycharm": {
     "is_executing": true,
     "name": "#%%\n"
    }
   },
   "outputs": [],
   "source": [
    "fig, ax=mt.pyplot.subplots(1,3, figsize=(12,6))\n",
    "ax[0].set_title('Pôvodné', fontsize=16)\n",
    "ax[1].set_title('Winsorize', fontsize=16)\n",
    "ax[2].set_title('Odstránenie', fontsize=16)\n",
    "sns.histplot(data=dataset[\"er-cv\"],ax=ax[0], bins=50, kde=True)\n",
    "sns.histplot(data=winsorized[\"er-cv\"], ax=ax[1], bins=50, kde=True)\n",
    "sns.histplot(data=deleted_outliers[\"er-cv\"], ax=ax[2], bins=50, kde=True)\n",
    "#plt.axis([2,12,0,620])"
   ]
  },
  {
   "cell_type": "markdown",
   "metadata": {},
   "source": [
    "Porovnajme hodnoty v stĺpci **Etytr** z pôvodného datasetu, datasetu s upravenými hodnotami a datasetu s odstranenými hodnotami:"
   ]
  },
  {
   "cell_type": "code",
   "execution_count": null,
   "metadata": {
    "pycharm": {
     "is_executing": true,
     "name": "#%%\n"
    }
   },
   "outputs": [],
   "source": [
    "fig, ax=mt.pyplot.subplots(1,3, figsize=(12,6))\n",
    "ax[0].set_title('Pôvodné', fontsize=16)\n",
    "ax[1].set_title('Winsorize', fontsize=16)\n",
    "ax[2].set_title('Odstránenie', fontsize=16)\n",
    "sns.histplot(data=dataset[\"etytr\"],ax=ax[0], bins=50, kde=True)\n",
    "sns.histplot(data=winsorized[\"etytr\"], ax=ax[1], bins=50, kde=True)\n",
    "sns.histplot(data=deleted_outliers[\"etytr\"], ax=ax[2], bins=50, kde=True)\n",
    "plt.axis([2,12,0,620])"
   ]
  },
  {
   "cell_type": "markdown",
   "metadata": {},
   "source": [
    "Porovnajme hodnoty v stĺpci **Hemoglobin** z pôvodného datasetu, datasetu s upravenými hodnotami a datasetu s odstranenými hodnotami:"
   ]
  },
  {
   "cell_type": "code",
   "execution_count": null,
   "metadata": {
    "pycharm": {
     "is_executing": true,
     "name": "#%%\n"
    }
   },
   "outputs": [],
   "source": [
    "fig, ax=mt.pyplot.subplots(1,3, figsize=(12,6))\n",
    "ax[0].set_title('Pôvodné', fontsize=16)\n",
    "ax[1].set_title('Winsorize', fontsize=16)\n",
    "ax[2].set_title('Odstránenie', fontsize=16)\n",
    "sns.histplot(data=dataset[\"hemoglobin\"],ax=ax[0], bins=50, kde=True)\n",
    "sns.histplot(data=winsorized[\"hemoglobin\"], ax=ax[1], bins=50, kde=True)\n",
    "sns.histplot(data=deleted_outliers[\"hemoglobin\"], ax=ax[2], bins=50, kde=True)\n",
    "plt.axis([2,12,0,620])"
   ]
  },
  {
   "cell_type": "markdown",
   "metadata": {},
   "source": [
    "Porovnajme hodnoty v stĺpci **Trombocyty** z pôvodného datasetu, datasetu s upravenými hodnotami a datasetu s odstranenými hodnotami:"
   ]
  },
  {
   "cell_type": "code",
   "execution_count": null,
   "metadata": {
    "pycharm": {
     "is_executing": true,
     "name": "#%%\n"
    }
   },
   "outputs": [],
   "source": [
    "fig, ax=mt.pyplot.subplots(1,3, figsize=(12,6))\n",
    "ax[0].set_title('Pôvodné', fontsize=16)\n",
    "ax[1].set_title('Winsorize', fontsize=16)\n",
    "ax[2].set_title('Odstránenie', fontsize=16)\n",
    "sns.histplot(data=dataset[\"trombocyty\"],ax=ax[0], bins=50, kde=True)\n",
    "sns.histplot(data=winsorized[\"trombocyty\"], ax=ax[1], bins=50, kde=True)\n",
    "sns.histplot(data=deleted_outliers[\"trombocyty\"], ax=ax[2], bins=50, kde=True)\n",
    "plt.axis([2,12,0,620])\n"
   ]
  },
  {
   "cell_type": "markdown",
   "metadata": {},
   "source": [
    "Porovnajme hodnoty v stĺpci **Hbver** z pôvodného datasetu, datasetu s upravenými hodnotami a datasetu s odstranenými hodnotami:"
   ]
  },
  {
   "cell_type": "code",
   "execution_count": null,
   "metadata": {
    "pycharm": {
     "is_executing": true,
     "name": "#%%\n"
    }
   },
   "outputs": [],
   "source": [
    "fig, ax=mt.pyplot.subplots(1,3, figsize=(12,6))\n",
    "ax[0].set_title('Pôvodné', fontsize=16)\n",
    "ax[1].set_title('Winsorize', fontsize=16)\n",
    "ax[2].set_title('Odstránenie', fontsize=16)\n",
    "sns.histplot(data=dataset[\"hbver\"],ax=ax[0], bins=50, kde=True)\n",
    "sns.histplot(data=winsorized[\"hbver\"], ax=ax[1], bins=50, kde=True)\n",
    "sns.histplot(data=deleted_outliers[\"hbver\"], ax=ax[2], bins=50, kde=True)\n",
    "plt.axis([2,12,0,620])"
   ]
  },
  {
   "cell_type": "markdown",
   "metadata": {},
   "source": [
    "### Naša implementácia"
   ]
  },
  {
   "cell_type": "markdown",
   "metadata": {},
   "source": [
    "Z datasetu sme odstránili záznamy, ktoré nemajú všetky atribúty (nachádza sa tam NaN).\n",
    "Vymenili sme chybné dáta (tam kde boli nejaké preklepy) a resetovali sme indexy celého datasetu.\n",
    "Následne odstránime vychýlené hodnoty z jednotlivých stĺpcov."
   ]
  },
  {
   "cell_type": "code",
   "execution_count": null,
   "metadata": {
    "pycharm": {
     "is_executing": true,
     "name": "#%%\n"
    }
   },
   "outputs": [],
   "source": [
    "dataset.dropna(inplace=True)\n",
    "\n",
    "temp_data = dataset.describe()\n",
    "for col in temp_data.columns:\n",
    "    if col != 'smoker' and col != 'weight':\n",
    "        dataset[col] = sc.stats.mstats.winsorize(dataset[col], limits=[0.05,0.05])\n",
    "\n",
    "dataset[\"relationship\"].replace(\"divoced\",\"divorced\",inplace=True)\n",
    "dataset.reset_index(drop=True, inplace=True)\n",
    "dataset[\"relationship\"].replace(\"nop\",\"not specified\",inplace=True)\n",
    "dataset"
   ]
  },
  {
   "cell_type": "code",
   "execution_count": null,
   "metadata": {
    "pycharm": {
     "is_executing": true,
     "name": "#%%\n"
    }
   },
   "outputs": [],
   "source": [
    "dataset.info()"
   ]
  },
  {
   "cell_type": "markdown",
   "metadata": {},
   "source": [
    "Teraz môžeme vidieť, že v každom stĺpci je jednotný počet záznamov. "
   ]
  },
  {
   "cell_type": "markdown",
   "metadata": {},
   "source": [
    "Začíname pracovať aj s druhým datasetom, v ktorom máme profily jednotlivých pacientov. Aj tu urobíme menšie úpravy preto, aby sme s dátami vedeli pracovať lepšie.\n",
    "\n",
    "Z tohto datasetu sme odstránili duplikáty. Okrem duplikátov sme odstránili aj také záznamy, v ktorých neboli všetky informácie. Vymenili sme chybné stringy a zmazali prvý stĺpec, kde sme mali indexy záznamov, nakoľko nám to pandas sám pridá."
   ]
  },
  {
   "cell_type": "code",
   "execution_count": null,
   "metadata": {
    "pycharm": {
     "is_executing": true,
     "name": "#%%\n"
    }
   },
   "outputs": [],
   "source": [
    "# Second dataset\n",
    "\n",
    "dataprofiles = pd.read_csv(\"042/profiles.csv\", delimiter=\"\\t\")\n",
    "dataprofiles.drop(dataprofiles.columns[0], axis=1, inplace=True)\n",
    "dataprofiles.drop_duplicates(subset=\"ssn\", inplace=True)\n",
    "dataprofiles['birthdate'] = pd.to_datetime(dataprofiles['birthdate'])\n",
    "dataprofiles.dropna(inplace=True)\n",
    "dataprofiles.replace({\"black\":\"Black\",\"blsck\":\"Black\",\"white\":\"White\"}, inplace=True)"
   ]
  },
  {
   "cell_type": "markdown",
   "metadata": {},
   "source": [
    "Vypíšeme si unikátne záznamy zo stĺpca **blood_group** na overenie:"
   ]
  },
  {
   "cell_type": "code",
   "execution_count": null,
   "metadata": {
    "pycharm": {
     "is_executing": true,
     "name": "#%%\n"
    }
   },
   "outputs": [],
   "source": [
    "print(dataprofiles['blood_group'].unique())"
   ]
  },
  {
   "cell_type": "markdown",
   "metadata": {},
   "source": [
    "Ako si môžeme všimnúť tak informácie o váhe sú niekedy veľmi chybné. Preto je potrebné ich upraviť."
   ]
  },
  {
   "cell_type": "code",
   "execution_count": null,
   "metadata": {
    "pycharm": {
     "is_executing": true,
     "name": "#%%\n"
    }
   },
   "outputs": [],
   "source": [
    "dataset[\"weight\"].describe()"
   ]
  },
  {
   "cell_type": "markdown",
   "metadata": {},
   "source": [
    "Zistíme približný počet koľko je v datasete v stĺpci \"weight\" vychýlených hodnôt."
   ]
  },
  {
   "cell_type": "code",
   "execution_count": null,
   "metadata": {
    "pycharm": {
     "is_executing": true,
     "name": "#%%\n"
    }
   },
   "outputs": [],
   "source": [
    "dataset['weight'].describe()\n",
    "counter=0\n",
    "for i in dataset['weight']:\n",
    "    if i<=35:\n",
    "        counter+=1\n",
    "        #print(i, end=\" \")\n",
    "\n",
    "print(\"Počet vychýlených hodnôt:\", counter)"
   ]
  },
  {
   "cell_type": "markdown",
   "metadata": {},
   "source": [
    "Zostrojme si graf, ktorý nám povie viac o hodnotách v stĺpci \"weight\"."
   ]
  },
  {
   "cell_type": "code",
   "execution_count": null,
   "metadata": {
    "pycharm": {
     "is_executing": true,
     "name": "#%%\n"
    }
   },
   "outputs": [],
   "source": [
    "sns.kdeplot(data=dataset['weight'])"
   ]
  },
  {
   "cell_type": "markdown",
   "metadata": {},
   "source": [
    "Skúsme aplikovať funkciu winsorize na vychýlené hodnoty v stĺpci \"weight\"."
   ]
  },
  {
   "cell_type": "code",
   "execution_count": null,
   "metadata": {
    "pycharm": {
     "is_executing": true,
     "name": "#%%\n"
    }
   },
   "outputs": [],
   "source": [
    "sns.kdeplot(data=sc.stats.mstats.winsorize(dataset['weight'], limits=[0.1,0.1]))"
   ]
  },
  {
   "cell_type": "markdown",
   "metadata": {},
   "source": [
    "Ako z grafu vidíme, winsorize nám kvôli negatívnym a vychýleným hodnotám nepomôže.\n",
    "\n",
    "Čo teda môžeme spraviť je, že odstraníme všetky vychýlené hodnoty v stĺpci weight a nahradíme ich priemernými hodnotami váhy pre mužov a ženy.\n",
    "\n",
    "Pohlavie daného pacienta môžeme získať z profiles.csv.\n",
    "\n",
    "Napíšeme algoritmus, ktorý vymení všetky vychýlené hodnoty za náhodné hodnoty z intervalu, ktorý je určená podľa pohlavia daného pacienta.\n",
    "\n",
    "Pomocou funkcie random.normal z knižnice NumPy si vygenerujeme náhodnú normálovu distribúciu hodnôt od Male_min po Male_max resp. Female_min po Female_max. Následne nájdeme vychýlené hodnoty, ktoré vymeníme za náhodne vybranú hodnotu z poľa male_normal resp. female_normal."
   ]
  },
  {
   "cell_type": "code",
   "execution_count": null,
   "metadata": {
    "pycharm": {
     "is_executing": true,
     "name": "#%%\n"
    }
   },
   "outputs": [],
   "source": [
    "weight_dict = {\n",
    "    \"Male_min\": 43,\n",
    "    \"Male_max\": 100,\n",
    "    \"Female_min\": 41,\n",
    "    \"Female_max\": 90\n",
    "}\n",
    "# zdroj pre tieto hodnoty: https://www.healthifyme.com/blog/height-weight-chart-ideal-weight-for-men-and-women/"
   ]
  },
  {
   "cell_type": "code",
   "execution_count": null,
   "metadata": {
    "pycharm": {
     "is_executing": true,
     "name": "#%%\n"
    }
   },
   "outputs": [],
   "source": [
    "male_array = [weight_dict[\"Male_min\"], weight_dict[\"Male_max\"]]\n",
    "female_array = [weight_dict[\"Female_min\"], weight_dict[\"Female_max\"]]\n",
    "\n",
    "male_normal = np.random.normal(np.mean(male_array), np.std(male_array)/3.4, 1000)\n",
    "female_normal = np.random.normal(np.mean(female_array), np.std(female_array)/3.4, 1000)\n",
    "\n",
    "for i in range(len(dataset[\"weight\"])):\n",
    "    index_in_profiles = pd.Index(dataprofiles[\"ssn\"]).get_loc(dataset[\"ssn\"][i])\n",
    "    \n",
    "    get_sex = dataprofiles[\"sex\"][index_in_profiles]\n",
    "\n",
    "    if get_sex == 'M':\n",
    "        if not (weight_dict[\"Male_min\"] < dataset[\"weight\"][i] < weight_dict[\"Male_max\"] ):\n",
    "            weight = male_normal[np.random.randint(1000)]\n",
    "            dataset[\"weight\"][i] = weight\n",
    "    else:\n",
    "        if not (weight_dict[\"Female_min\"] < dataset[\"weight\"][i] < weight_dict[\"Female_max\"] ):\n",
    "            weight = female_normal[np.random.randint(1000)]\n",
    "            dataset[\"weight\"][i] = weight\n"
   ]
  },
  {
   "cell_type": "markdown",
   "metadata": {},
   "source": [
    "Vykreslíme graf, kde už sú jednotlivé hodnoty vymenené.\n",
    "\n",
    "Podľa grafu môžeme vidieť, že váhy pacientov sú už reálne hodnoty. Všetky negatívne a\n",
    "príliš malé alebo prílíš veľké hodnoty boli odstránené."
   ]
  },
  {
   "cell_type": "code",
   "execution_count": null,
   "metadata": {
    "pycharm": {
     "is_executing": true,
     "name": "#%%\n"
    }
   },
   "outputs": [],
   "source": [
    "# sns.kdeplot(data=dataset['weight'])\n",
    "sns.histplot(data=dataset[\"weight\"], kde=True)"
   ]
  },
  {
   "cell_type": "markdown",
   "metadata": {},
   "source": [
    "### Spojenie datasetu labor.csv a datasetu profiles.csv"
   ]
  },
  {
   "cell_type": "markdown",
   "metadata": {},
   "source": [
    "V tejto sekcii sme spojili dáta z labor.csv a dáta z profiles.csv na základe SSN. Odstránili sme nadbytočné záznamy t.j. name_y a index z druhého datasetu (stĺpec Unnamed)."
   ]
  },
  {
   "cell_type": "code",
   "execution_count": null,
   "metadata": {
    "pycharm": {
     "is_executing": true
    }
   },
   "outputs": [],
   "source": [
    "dataset_final = dataset.merge(dataprofiles, on=\"ssn\", how = 'left')\n",
    "dataset_final"
   ]
  },
  {
   "cell_type": "code",
   "execution_count": null,
   "metadata": {
    "pycharm": {
     "is_executing": true
    }
   },
   "outputs": [],
   "source": [
    "dataset_final.drop(columns=[\"name_y\"], inplace=True)\n",
    "dataset_final.rename(columns={'name_x': 'name'}, inplace=True)\n",
    "dataset_final"
   ]
  },
  {
   "cell_type": "markdown",
   "metadata": {},
   "source": [
    "#### Prepísanie dát do numerického formátu"
   ]
  },
  {
   "cell_type": "markdown",
   "metadata": {
    "pycharm": {
     "name": "#%% md\n"
    }
   },
   "source": [
    "Stĺpec smoker bol už predošle prerobený na numerický formát, lebo sme s tým stĺpcom pracovali. Ostatné stĺpce,\n",
    "ktoré nemajú numerický fomrát uložíme do iného tabuľky, a z pôvodného tabuľky odstránime tie stĺpce."
   ]
  },
  {
   "cell_type": "code",
   "execution_count": null,
   "metadata": {
    "pycharm": {
     "is_executing": true
    }
   },
   "outputs": [],
   "source": [
    "def create_dicts(column_name):\n",
    "    dictionary = {}\n",
    "    counter = 0\n",
    "    for column_name in dataset_final[column_name].unique():\n",
    "        dictionary[column_name] = counter\n",
    "        counter += 1\n",
    "        \n",
    "    return dictionary\n",
    "\n",
    "def change_values(dictionary, column_name):\n",
    "     dataset_final[column_name].replace(dictionary, inplace=True)\n",
    "\n",
    "relationship_dict = create_dicts(\"relationship\")\n",
    "change_values(relationship_dict,\"relationship\")\n",
    "\n",
    "blood_group_dict = create_dicts(\"blood_group\")\n",
    "change_values(blood_group_dict,\"blood_group\")\n",
    "\n",
    "sex_dict = create_dicts(\"sex\")\n",
    "change_values(sex_dict, \"sex\")\n",
    "\n",
    "race_dict = create_dicts(\"race\")\n",
    "change_values(race_dict,\"race\")\n",
    "\n",
    "dataset_final\n",
    "#dataset = dataset_final.copy()"
   ]
  },
  {
   "cell_type": "code",
   "execution_count": null,
   "metadata": {
    "pycharm": {
     "is_executing": true,
     "name": "#%%\n"
    }
   },
   "outputs": [],
   "source": [
    "dataset_identifiers = dataset_final[['name','ssn','job','company','address','birthdate']].copy()"
   ]
  },
  {
   "cell_type": "code",
   "execution_count": null,
   "metadata": {
    "pycharm": {
     "is_executing": true,
     "name": "#%%\n"
    }
   },
   "outputs": [],
   "source": [
    "dataset_identifiers"
   ]
  },
  {
   "cell_type": "code",
   "execution_count": null,
   "metadata": {
    "pycharm": {
     "is_executing": true,
     "name": "#%%\n"
    }
   },
   "outputs": [],
   "source": [
    "dataset_final.drop(columns=['name','ssn','job','company','address','birthdate'], inplace=True)\n",
    "\n",
    "dataset_final.head()"
   ]
  },
  {
   "cell_type": "markdown",
   "metadata": {},
   "source": [
    "## 2. Realizácia predspracovania dát\n",
    "\n",
    "Dataset sme rozdelili na trénovaciu a testovaciu sadu s pomerom 4:1. Jednotlivé záznamy sa vybrali náhodne."
   ]
  },
  {
   "cell_type": "code",
   "execution_count": null,
   "metadata": {
    "pycharm": {
     "is_executing": true,
     "name": "#%%\n"
    }
   },
   "outputs": [],
   "source": [
    "from sklearn.model_selection import train_test_split\n",
    "\n",
    "\n",
    "train, test =train_test_split(dataset_final, test_size=0.2, shuffle=True)"
   ]
  },
  {
   "cell_type": "code",
   "execution_count": null,
   "metadata": {
    "pycharm": {
     "is_executing": true,
     "name": "#%%\n"
    }
   },
   "outputs": [],
   "source": [
    "train"
   ]
  },
  {
   "cell_type": "code",
   "execution_count": null,
   "metadata": {
    "pycharm": {
     "is_executing": true,
     "name": "#%%\n"
    }
   },
   "outputs": [],
   "source": [
    "test"
   ]
  },
  {
   "cell_type": "markdown",
   "metadata": {},
   "source": [
    "### Transformovanie atribútov dát pre strojové učenie\n",
    "\n",
    "Pozrime sa na stĺpec **alp** pred tranformáciou. Vidíme, že táto distribúcia je neparametrická."
   ]
  },
  {
   "cell_type": "code",
   "execution_count": null,
   "metadata": {
    "pycharm": {
     "is_executing": true,
     "name": "#%%\n"
    }
   },
   "outputs": [],
   "source": [
    "sc.stats.probplot(train[\"alp\"], plot=sns.mpl.pyplot, fit=True)"
   ]
  },
  {
   "cell_type": "markdown",
   "metadata": {
    "pycharm": {
     "name": "#%% md\n"
    }
   },
   "source": [
    "### Transformovanie atribútov pomocou techniky Power Transformer\n",
    "\n",
    "Technika power transformer nám z neparametrickej distribúcie spraví parametrickú distribúciu. Dozvedeli sme sa, že\n",
    "väčšina ML algoritmov pracuje lepšie s Gaussovou distribúciou.\n",
    "\n",
    "Zdroj: https://machinelearningmastery.com/power-transforms-with-scikit-learn/"
   ]
  },
  {
   "cell_type": "code",
   "execution_count": null,
   "metadata": {
    "pycharm": {
     "is_executing": true,
     "name": "#%%\n"
    }
   },
   "outputs": [],
   "source": [
    "from sklearn.preprocessing import PowerTransformer\n",
    "\n",
    "power = PowerTransformer(method='yeo-johnson', standardize=False,)\n",
    "trans = power.fit_transform(train)\n",
    "trans_train = pd.DataFrame(trans)\n",
    "trans_train.columns = train.columns.copy()\n",
    "trans_train.describe()\n",
    "sc.stats.probplot(trans_train[\"alp\"], plot=sns.mpl.pyplot)"
   ]
  },
  {
   "cell_type": "markdown",
   "metadata": {
    "pycharm": {
     "name": "#%% md\n"
    }
   },
   "source": [
    "### Transformovanie atribútov pomocou techniky Scaling Normalization.\n",
    "\n",
    "Scaling Normalalization nám zmení rozsah hodnôt od 0 po 1. Z daného zdroju https://towardsdatascience.com/beginner-explanation-for-data-transformation-9add3102f3bf\n",
    "sme sa dozvedeli, že umelá inteligencia pracuje lepšie pri rozsahu dát od 0 po 1."
   ]
  },
  {
   "cell_type": "code",
   "execution_count": null,
   "metadata": {
    "pycharm": {
     "is_executing": true,
     "name": "#%%\n"
    }
   },
   "outputs": [],
   "source": [
    "from sklearn.preprocessing import MinMaxScaler\n",
    "\n",
    "scaler = MinMaxScaler()\n",
    "# transform data\n",
    "scaled = scaler.fit_transform(trans_train)\n",
    "scaled_train = pd.DataFrame(scaled)\n",
    "scaled_train.columns = train.columns.copy()\n",
    "scaled_train.describe()\n",
    "sc.stats.probplot(scaled_train[\"alp\"], plot=sns.mpl.pyplot)"
   ]
  },
  {
   "cell_type": "markdown",
   "metadata": {
    "pycharm": {
     "name": "#%% md\n"
    }
   },
   "source": [
    "## 3. Výber atribútov pre strojové učenie\n",
    "\n",
    "Najprv sme vypísali náš dataset po transformovaní"
   ]
  },
  {
   "cell_type": "code",
   "execution_count": null,
   "metadata": {
    "pycharm": {
     "is_executing": true,
     "name": "#%%\n"
    }
   },
   "outputs": [],
   "source": [
    "scaled_train.columns = train.columns.copy()\n",
    "scaled_train"
   ]
  },
  {
   "cell_type": "markdown",
   "metadata": {
    "pycharm": {
     "name": "#%% md\n"
    }
   },
   "source": [
    "Dataset sme rozdelili na input a output. Output pre nás bude stĺpec **indicator** a tým pádom input budú všetky ostatné\n",
    " stĺpce."
   ]
  },
  {
   "cell_type": "code",
   "execution_count": null,
   "metadata": {
    "pycharm": {
     "is_executing": true,
     "name": "#%%\n"
    }
   },
   "outputs": [],
   "source": [
    "train_trans_output = scaled_train[\"indicator\"]\n",
    "train_trans_input = scaled_train.copy()\n",
    "train_trans_input.drop('indicator', axis='columns', inplace=True)\n",
    "train_trans_output = train_trans_output.astype(np.int64)\n",
    "train_trans_output\n",
    "\n"
   ]
  },
  {
   "cell_type": "markdown",
   "metadata": {
    "pycharm": {
     "name": "#%% md\n"
    }
   },
   "source": [
    "Pomocou funkcie **SelectFromModel()** sme dostali koeficienty atribútov, ktoré nám ukazujú ako daný atribút vplýva na indicator."
   ]
  },
  {
   "cell_type": "code",
   "execution_count": null,
   "metadata": {
    "pycharm": {
     "is_executing": true,
     "name": "#%%\n"
    }
   },
   "outputs": [],
   "source": [
    "from sklearn.feature_selection import SelectFromModel\n",
    "from sklearn.linear_model import LogisticRegression\n",
    "\n",
    "\n",
    "selector = SelectFromModel(estimator=LogisticRegression()).fit(train_trans_input, train_trans_output)\n",
    "selector_coef = selector.estimator_.coef_\n",
    "print(\"Koeficient:\",selector_coef)\n",
    "print(\"Threshold:\",selector.threshold_)\n",
    "print(\"Boolean hodnoty:\",selector.get_support())\n",
    "\n",
    "#alt, erytrocyty, trombocyty"
   ]
  },
  {
   "cell_type": "markdown",
   "metadata": {
    "pycharm": {
     "name": "#%% md\n"
    }
   },
   "source": [
    "Dané atributý sme zoradili podľa dôležitosti od najvyššej po najnižšiu. Vyšlo nám, že najvyššiu dôležitosť má atribút\n",
    "trombocyty a najnižšiu atribút hbver.\n",
    "\n",
    "Taktiež sme zistili, že vplyv na indikátor majú len 3 atribúty: **trombocyty**, **erytrocyty** a **alt**"
   ]
  },
  {
   "cell_type": "code",
   "execution_count": null,
   "metadata": {
    "pycharm": {
     "is_executing": true,
     "name": "#%%\n"
    }
   },
   "outputs": [],
   "source": [
    "data = [train_trans_input.columns ,selector.estimator_.coef_]\n",
    "new_selector_coef = []\n",
    "temp_selector_coef = []\n",
    "for i in range(len(selector_coef[0])):\n",
    "    new_selector_coef.append(selector_coef[0][i])\n",
    "    temp_selector_coef.append(np.abs(selector_coef[0][i]))\n",
    "d = {'name': train_trans_input.columns, 'values': new_selector_coef, 'col3': temp_selector_coef, 'impact': selector.get_support()}\n",
    "selector_dataset = pd.DataFrame(data=d)\n",
    "selector_dataset.sort_values(by=['col3'], axis = 0, inplace = True, ascending=False)\n",
    "selector_dataset.drop('col3', axis='columns', inplace=True)\n",
    "selector_dataset.reset_index(inplace=True, drop=True)\n",
    "#print(selector_dataset)\n",
    "selector_dataset.style"
   ]
  },
  {
   "cell_type": "markdown",
   "metadata": {},
   "source": [
    "## 4. Replikovateľnosť predspracovania "
   ]
  },
  {
   "cell_type": "markdown",
   "metadata": {},
   "source": [
    "Na transformáciu dát sme si vytvorili funkciu transform(). V nej sme použili funkciu Pipeline z knižnice sklearn.pipeline, pomocou ktorej vieme zjednodušiť transformácie. Najprv sa vykoná transformácia Power Transformer a následne sa vykoná Scaling Normalization."
   ]
  },
  {
   "cell_type": "code",
   "execution_count": null,
   "metadata": {
    "pycharm": {
     "is_executing": true,
     "name": "#%%\n"
    }
   },
   "outputs": [],
   "source": [
    "from sklearn.pipeline import Pipeline\n",
    "\n",
    "def transform(dataset):\n",
    "    pipeline = Pipeline([\n",
    "    ('power', PowerTransformer(method='yeo-johnson', standardize=False,)),\n",
    "    ('scaler', MinMaxScaler())\n",
    "    ])\n",
    "    new = pipeline.fit_transform(dataset)\n",
    "    new = pd.DataFrame(new)\n",
    "    new.columns = dataset.columns.copy()\n",
    "    return new"
   ]
  },
  {
   "cell_type": "code",
   "execution_count": null,
   "metadata": {
    "pycharm": {
     "is_executing": true,
     "name": "#%%\n"
    }
   },
   "outputs": [],
   "source": [
    "scaled_test = transform(test)\n",
    "scaled_test.describe()"
   ]
  },
  {
   "cell_type": "markdown",
   "metadata": {
    "pycharm": {
     "name": "#%% md\n"
    }
   },
   "source": [
    "#### Uloženie dát"
   ]
  },
  {
   "cell_type": "code",
   "execution_count": null,
   "metadata": {
    "pycharm": {
     "is_executing": true,
     "name": "#%%\n"
    }
   },
   "outputs": [],
   "source": [
    "dataset_identifiers.to_csv(\"dataset_identifiers.csv\")\n",
    "scaled_train.to_csv(\"train_dataset.csv\")\n",
    "scaled_test.to_csv(\"test_dataset.csv\")\n"
   ]
  }
 ],
 "metadata": {
  "kernelspec": {
   "display_name": "Python 3 (ipykernel)",
   "language": "python",
   "name": "python3"
  },
  "language_info": {
   "codemirror_mode": {
    "name": "ipython",
    "version": 3
   },
   "file_extension": ".py",
   "mimetype": "text/x-python",
   "name": "python",
   "nbconvert_exporter": "python",
   "pygments_lexer": "ipython3",
   "version": "3.9.7"
  }
 },
 "nbformat": 4,
 "nbformat_minor": 1
}